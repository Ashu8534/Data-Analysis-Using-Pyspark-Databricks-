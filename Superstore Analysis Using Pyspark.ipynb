{
 "cells": [
  {
   "cell_type": "markdown",
   "metadata": {},
   "source": [
    "## Loading Data"
   ]
  },
  {
   "cell_type": "code",
   "execution_count": null,
   "metadata": {
    "application/vnd.databricks.v1+cell": {
     "cellMetadata": {
      "byteLimit": 2048000,
      "rowLimit": 10000
     },
     "inputWidgets": {},
     "nuid": "25a4275e-b887-4201-a666-b92260ef9c7e",
     "showTitle": false,
     "title": ""
    }
   },
   "outputs": [
    {
     "name": "stdout",
     "output_type": "stream",
     "text": [
      "+------+--------------+----------+----------+--------------+-----------+---------------+---------+-------------+---------------+----------+-----------+------+---------------+---------------+------------+--------------------+--------+\n",
      "|Row ID|      Order ID|Order Date| Ship Date|     Ship Mode|Customer ID|  Customer Name|  Segment|      Country|           City|     State|Postal Code|Region|     Product ID|       Category|Sub-Category|        Product Name|   Sales|\n",
      "+------+--------------+----------+----------+--------------+-----------+---------------+---------+-------------+---------------+----------+-----------+------+---------------+---------------+------------+--------------------+--------+\n",
      "|     1|CA-2017-152156|2017-11-08|2017-11-11|  Second Class|   CG-12520|    Claire Gute| Consumer|United States|      Henderson|  Kentucky|      42420| South|FUR-BO-10001798|      Furniture|   Bookcases|Bush Somerset Col...|  261.96|\n",
      "|     2|CA-2017-152156|2017-11-08|2017-11-11|  Second Class|   CG-12520|    Claire Gute| Consumer|United States|      Henderson|  Kentucky|      42420| South|FUR-CH-10000454|      Furniture|      Chairs|Hon Deluxe Fabric...|  731.94|\n",
      "|     3|CA-2017-138688|2017-06-12|2017-06-16|  Second Class|   DV-13045|Darrin Van Huff|Corporate|United States|    Los Angeles|California|      90036|  West|OFF-LA-10000240|Office Supplies|      Labels|Self-Adhesive Add...|   14.62|\n",
      "|     4|US-2016-108966|2016-10-11|2016-10-18|Standard Class|   SO-20335| Sean O'Donnell| Consumer|United States|Fort Lauderdale|   Florida|      33311| South|FUR-TA-10000577|      Furniture|      Tables|Bretford CR4500 S...|957.5775|\n",
      "|     5|US-2016-108966|2016-10-11|2016-10-18|Standard Class|   SO-20335| Sean O'Donnell| Consumer|United States|Fort Lauderdale|   Florida|      33311| South|OFF-ST-10000760|Office Supplies|     Storage|Eldon Fold 'N Rol...|  22.368|\n",
      "+------+--------------+----------+----------+--------------+-----------+---------------+---------+-------------+---------------+----------+-----------+------+---------------+---------------+------------+--------------------+--------+\n",
      "only showing top 5 rows\n",
      "\n"
     ]
    }
   ],
   "source": [
    "df = spark.read.csv('/FileStore/tables/train.csv',header=True,inferSchema=True)\n",
    "df.show(5)"
   ]
  },
  {
   "cell_type": "code",
   "execution_count": null,
   "metadata": {
    "application/vnd.databricks.v1+cell": {
     "cellMetadata": {
      "byteLimit": 2048000,
      "rowLimit": 10000
     },
     "inputWidgets": {},
     "nuid": "42d0b72d-9a01-4c5e-a44c-237d4988147f",
     "showTitle": false,
     "title": ""
    }
   },
   "outputs": [
    {
     "name": "stdout",
     "output_type": "stream",
     "text": [
      "root\n",
      " |-- Row ID: integer (nullable = true)\n",
      " |-- Order ID: string (nullable = true)\n",
      " |-- Order Date: date (nullable = true)\n",
      " |-- Ship Date: date (nullable = true)\n",
      " |-- Ship Mode: string (nullable = true)\n",
      " |-- Customer ID: string (nullable = true)\n",
      " |-- Customer Name: string (nullable = true)\n",
      " |-- Segment: string (nullable = true)\n",
      " |-- Country: string (nullable = true)\n",
      " |-- City: string (nullable = true)\n",
      " |-- State: string (nullable = true)\n",
      " |-- Postal Code: integer (nullable = true)\n",
      " |-- Region: string (nullable = true)\n",
      " |-- Product ID: string (nullable = true)\n",
      " |-- Category: string (nullable = true)\n",
      " |-- Sub-Category: string (nullable = true)\n",
      " |-- Product Name: string (nullable = true)\n",
      " |-- Sales: string (nullable = true)\n",
      "\n"
     ]
    }
   ],
   "source": [
    "df.printSchema()"
   ]
  },
  {
   "cell_type": "code",
   "execution_count": null,
   "metadata": {
    "application/vnd.databricks.v1+cell": {
     "cellMetadata": {
      "byteLimit": 2048000,
      "rowLimit": 10000
     },
     "inputWidgets": {},
     "nuid": "cdd5e40e-c917-4707-b1f4-10cd61b7b09d",
     "showTitle": false,
     "title": ""
    }
   },
   "outputs": [
    {
     "name": "stdout",
     "output_type": "stream",
     "text": [
      "Out[3]: 9800"
     ]
    }
   ],
   "source": [
    "df.count()"
   ]
  },
  {
   "cell_type": "markdown",
   "metadata": {},
   "source": [
    "## Dropping irrelevant columns"
   ]
  },
  {
   "cell_type": "code",
   "execution_count": null,
   "metadata": {
    "application/vnd.databricks.v1+cell": {
     "cellMetadata": {
      "byteLimit": 2048000,
      "rowLimit": 10000
     },
     "inputWidgets": {},
     "nuid": "be9829c6-742c-4b2b-a87f-7376c974f5f0",
     "showTitle": true,
     "title": "Dropping irrelevant columns"
    }
   },
   "outputs": [
    {
     "name": "stdout",
     "output_type": "stream",
     "text": [
      "+--------------+----------+----------+--------------+---------+-------------+---------------+----------+------+---------------+------------+--------+\n",
      "|      Order ID|Order Date| Ship Date|     Ship Mode|  Segment|      Country|           City|     State|Region|       Category|Sub-Category|   Sales|\n",
      "+--------------+----------+----------+--------------+---------+-------------+---------------+----------+------+---------------+------------+--------+\n",
      "|CA-2017-152156|2017-11-08|2017-11-11|  Second Class| Consumer|United States|      Henderson|  Kentucky| South|      Furniture|   Bookcases|  261.96|\n",
      "|CA-2017-152156|2017-11-08|2017-11-11|  Second Class| Consumer|United States|      Henderson|  Kentucky| South|      Furniture|      Chairs|  731.94|\n",
      "|CA-2017-138688|2017-06-12|2017-06-16|  Second Class|Corporate|United States|    Los Angeles|California|  West|Office Supplies|      Labels|   14.62|\n",
      "|US-2016-108966|2016-10-11|2016-10-18|Standard Class| Consumer|United States|Fort Lauderdale|   Florida| South|      Furniture|      Tables|957.5775|\n",
      "|US-2016-108966|2016-10-11|2016-10-18|Standard Class| Consumer|United States|Fort Lauderdale|   Florida| South|Office Supplies|     Storage|  22.368|\n",
      "+--------------+----------+----------+--------------+---------+-------------+---------------+----------+------+---------------+------------+--------+\n",
      "only showing top 5 rows\n",
      "\n"
     ]
    }
   ],
   "source": [
    "df = df.drop('Row ID','Customer ID','Customer Name','Postal Code','Product ID','Product Name')\n",
    "df.show(5)"
   ]
  },
  {
   "cell_type": "code",
   "execution_count": null,
   "metadata": {
    "application/vnd.databricks.v1+cell": {
     "cellMetadata": {
      "byteLimit": 2048000,
      "rowLimit": 10000
     },
     "inputWidgets": {},
     "nuid": "5dce98c5-2458-4e3e-a1ad-c65459a03d93",
     "showTitle": false,
     "title": ""
    }
   },
   "outputs": [
    {
     "name": "stdout",
     "output_type": "stream",
     "text": [
      "Out[5]: ['Order ID',\n",
      " 'Order Date',\n",
      " 'Ship Date',\n",
      " 'Ship Mode',\n",
      " 'Segment',\n",
      " 'Country',\n",
      " 'City',\n",
      " 'State',\n",
      " 'Region',\n",
      " 'Category',\n",
      " 'Sub-Category',\n",
      " 'Sales']"
     ]
    }
   ],
   "source": [
    "cols = list(df.columns)\n",
    "cols"
   ]
  },
  {
   "cell_type": "markdown",
   "metadata": {},
   "source": [
    "## Lowering columns name"
   ]
  },
  {
   "cell_type": "code",
   "execution_count": null,
   "metadata": {
    "application/vnd.databricks.v1+cell": {
     "cellMetadata": {
      "byteLimit": 2048000,
      "rowLimit": 10000
     },
     "inputWidgets": {},
     "nuid": "eb4ca0f7-9ac3-48d1-a1f3-15074c5a1efa",
     "showTitle": false,
     "title": ""
    }
   },
   "outputs": [],
   "source": [
    "for col in cols:\n",
    "    df = df.withColumnRenamed(col,col.lower())"
   ]
  },
  {
   "cell_type": "markdown",
   "metadata": {},
   "source": [
    "## Segment wise count"
   ]
  },
  {
   "cell_type": "code",
   "execution_count": null,
   "metadata": {
    "application/vnd.databricks.v1+cell": {
     "cellMetadata": {
      "byteLimit": 2048000,
      "rowLimit": 10000
     },
     "inputWidgets": {},
     "nuid": "609b3db9-1883-4dd1-ba0d-bf36d8688774",
     "showTitle": true,
     "title": "Segment Count"
    }
   },
   "outputs": [
    {
     "name": "stdout",
     "output_type": "stream",
     "text": [
      "+-----------+-----+\n",
      "|    segment|count|\n",
      "+-----------+-----+\n",
      "|   Consumer| 5101|\n",
      "|  Corporate| 2953|\n",
      "|Home Office| 1746|\n",
      "+-----------+-----+\n",
      "\n"
     ]
    },
    {
     "data": {
      "text/html": [
       "<style scoped>\n",
       "  .table-result-container {\n",
       "    max-height: 300px;\n",
       "    overflow: auto;\n",
       "  }\n",
       "  table, th, td {\n",
       "    border: 1px solid black;\n",
       "    border-collapse: collapse;\n",
       "  }\n",
       "  th, td {\n",
       "    padding: 5px;\n",
       "  }\n",
       "  th {\n",
       "    text-align: left;\n",
       "  }\n",
       "</style><div class='table-result-container'><table class='table-result'><thead style='background-color: white'><tr><th>segment</th><th>count</th></tr></thead><tbody><tr><td>Consumer</td><td>5101</td></tr><tr><td>Corporate</td><td>2953</td></tr><tr><td>Home Office</td><td>1746</td></tr></tbody></table></div>"
      ]
     },
     "metadata": {
      "application/vnd.databricks.v1+output": {
       "addedWidgets": {},
       "aggData": [],
       "aggError": "",
       "aggOverflow": false,
       "aggSchema": [],
       "aggSeriesLimitReached": false,
       "aggType": "",
       "arguments": {},
       "columnCustomDisplayInfos": {},
       "data": [
        [
         "Consumer",
         5101
        ],
        [
         "Corporate",
         2953
        ],
        [
         "Home Office",
         1746
        ]
       ],
       "datasetInfos": [],
       "dbfsResultPath": null,
       "isJsonSchema": true,
       "metadata": {},
       "overflow": false,
       "plotOptions": {
        "customPlotOptions": {},
        "displayType": "table",
        "pivotAggregation": null,
        "pivotColumns": null,
        "xColumns": null,
        "yColumns": null
       },
       "removedWidgets": [],
       "schema": [
        {
         "metadata": "{}",
         "name": "segment",
         "type": "\"string\""
        },
        {
         "metadata": "{}",
         "name": "count",
         "type": "\"long\""
        }
       ],
       "type": "table"
      }
     },
     "output_type": "display_data"
    },
    {
     "data": {
      "text/plain": [
       "Databricks visualization. Run in Databricks to view."
      ]
     },
     "metadata": {
      "application/vnd.databricks.v1.subcommand+json": {
       "bindings": {},
       "collapsed": false,
       "command": "%python\n__backend_agg_display_orig = display\n__backend_agg_dfs = []\ndef __backend_agg_display_new(df):\n    __backend_agg_df_modules = [\"pandas.core.frame\", \"databricks.koalas.frame\", \"pyspark.sql.dataframe\", \"pyspark.pandas.frame\", \"pyspark.sql.connect.dataframe\"]\n    if (type(df).__module__ in __backend_agg_df_modules and type(df).__name__ == 'DataFrame') or isinstance(df, list):\n        __backend_agg_dfs.append(df)\n\ndisplay = __backend_agg_display_new\n\ndef __backend_agg_user_code_fn():\n    import base64\n    exec(base64.standard_b64decode(\"c2RmID0gZGYuZ3JvdXBCeSgnc2VnbWVudCcpLmNvdW50KCkub3JkZXJCeSgnY291bnQnLGFzY2VuZGluZz1GYWxzZSkKc2RmLnNob3coKQpkaXNwbGF5KHNkZik=\").decode())\n\ntry:\n    # run user code\n    __backend_agg_user_code_fn()\n\n    #reset display function\n    display = __backend_agg_display_orig\n\n    if len(__backend_agg_dfs) > 0:\n        # create a temp view\n        if type(__backend_agg_dfs[0]).__module__ == \"databricks.koalas.frame\":\n            # koalas dataframe\n            __backend_agg_dfs[0].to_spark().createOrReplaceTempView(\"DatabricksViewb03a189\")\n        elif type(__backend_agg_dfs[0]).__module__ == \"pandas.core.frame\" or isinstance(__backend_agg_dfs[0], list):\n            # pandas dataframe\n            spark.createDataFrame(__backend_agg_dfs[0]).createOrReplaceTempView(\"DatabricksViewb03a189\")\n        else:\n            __backend_agg_dfs[0].createOrReplaceTempView(\"DatabricksViewb03a189\")\n        #run backend agg\n        display(spark.sql(\"\"\"WITH q AS (select * from DatabricksViewb03a189) SELECT `segment`,SUM(`count`) `column_9ab169432` FROM q GROUP BY `segment`\"\"\"))\n    else:\n        displayHTML(\"dataframe no longer exists. If you're using dataframe.display(), use display(dataframe) instead.\")\n\n\nfinally:\n    spark.sql(\"drop view if exists DatabricksViewb03a189\")\n    display = __backend_agg_display_orig\n    del __backend_agg_display_new\n    del __backend_agg_display_orig\n    del __backend_agg_dfs\n    del __backend_agg_user_code_fn\n\n",
       "commandTitle": "Visualization 1",
       "commandType": "auto",
       "commandVersion": 0,
       "commentThread": [],
       "commentsVisible": false,
       "contentSha256Hex": null,
       "customPlotOptions": {
        "redashChart": [
         {
          "key": "type",
          "value": "CHART"
         },
         {
          "key": "options",
          "value": {
           "alignYAxesAtZero": true,
           "coefficient": 1,
           "columnConfigurationMap": {
            "x": {
             "column": "segment",
             "id": "column_9ab169431"
            },
            "y": [
             {
              "column": "count",
              "id": "column_9ab169432",
              "transform": "SUM"
             }
            ]
           },
           "dateTimeFormat": "DD/MM/YYYY HH:mm",
           "direction": {
            "type": "counterclockwise"
           },
           "error_y": {
            "type": "data",
            "visible": true
           },
           "globalSeriesType": "column",
           "isAggregationOn": true,
           "legend": {
            "traceorder": "normal"
           },
           "missingValuesAsZero": true,
           "numberFormat": "0,0.[00000]",
           "percentFormat": "0[.]00%",
           "series": {
            "error_y": {
             "type": "data",
             "visible": true
            },
            "stacking": null
           },
           "seriesOptions": {
            "column_9ab169432": {
             "color": "#A58AFF",
             "name": "count",
             "yAxis": 0
            }
           },
           "showDataLabels": true,
           "sizemode": "diameter",
           "sortX": true,
           "sortY": true,
           "swappedAxes": true,
           "textFormat": "",
           "useAggregationsUi": true,
           "valuesOptions": {},
           "version": 2,
           "xAxis": {
            "labels": {
             "enabled": true
            },
            "type": "-"
           },
           "yAxis": [
            {
             "type": "-"
            },
            {
             "opposite": true,
             "type": "-"
            }
           ]
          }
         }
        ]
       },
       "datasetPreviewNameToCmdIdMap": {},
       "diffDeletes": [],
       "diffInserts": [],
       "displayType": "redashChart",
       "error": null,
       "errorDetails": null,
       "errorSummary": null,
       "errorTraceType": null,
       "finishTime": 0,
       "globalVars": {},
       "guid": "",
       "height": "auto",
       "hideCommandCode": false,
       "hideCommandResult": false,
       "iPythonMetadata": null,
       "inputWidgets": {},
       "isLockedInExamMode": false,
       "latestUser": "a user",
       "latestUserId": null,
       "listResultMetadata": null,
       "metadata": {
        "byteLimit": 2048000,
        "rowLimit": 10000
       },
       "nuid": "adcdc881-5c57-49e1-a334-24abef992501",
       "origId": 0,
       "parentHierarchy": [],
       "pivotAggregation": null,
       "pivotColumns": null,
       "position": 7,
       "resultDbfsErrorMessage": null,
       "resultDbfsStatus": "INLINED_IN_TREE",
       "results": null,
       "showCommandTitle": false,
       "startTime": 0,
       "state": "input",
       "streamStates": {},
       "subcommandOptions": {
        "queryPlan": {
         "groups": [
          {
           "column": "segment",
           "type": "column"
          }
         ],
         "selects": [
          {
           "column": "segment",
           "type": "column"
          },
          {
           "alias": "column_9ab169432",
           "args": [
            {
             "column": "count",
             "type": "column"
            }
           ],
           "function": "SUM",
           "type": "function"
          }
         ]
        }
       },
       "submitTime": 0,
       "subtype": "tableResultSubCmd.visualization",
       "tableResultIndex": 0,
       "useConsistentColors": false,
       "version": "CommandV1",
       "width": "auto",
       "workflows": [],
       "xColumns": null,
       "yColumns": null
      }
     },
     "output_type": "display_data"
    }
   ],
   "source": [
    "sdf = df.groupBy('segment').count().orderBy('count',ascending=False)\n",
    "sdf.show()\n",
    "display(sdf)"
   ]
  },
  {
   "cell_type": "markdown",
   "metadata": {},
   "source": [
    "## Segment category wise total sale"
   ]
  },
  {
   "cell_type": "code",
   "execution_count": null,
   "metadata": {
    "application/vnd.databricks.v1+cell": {
     "cellMetadata": {
      "byteLimit": 2048000,
      "rowLimit": 10000
     },
     "inputWidgets": {},
     "nuid": "9d641026-db6f-4ad6-aa54-7c6ad0cce51d",
     "showTitle": true,
     "title": "Segment,category wise Total sales "
    }
   },
   "outputs": [
    {
     "name": "stdout",
     "output_type": "stream",
     "text": [
      "+-----------+---------------+----------+\n",
      "|    segment|       category|total_sale|\n",
      "+-----------+---------------+----------+\n",
      "|Home Office|Office Supplies|  119379.7|\n",
      "|  Corporate|     Technology|  243931.9|\n",
      "|   Consumer|Office Supplies|  353174.5|\n",
      "|Home Office|     Technology|  182379.6|\n",
      "|   Consumer|     Technology|  400890.4|\n",
      "|Home Office|      Furniture|  119295.3|\n",
      "|  Corporate|      Furniture|  217434.7|\n",
      "|   Consumer|      Furniture|  383061.5|\n",
      "|  Corporate|Office Supplies|  217585.6|\n",
      "+-----------+---------------+----------+\n",
      "\n"
     ]
    },
    {
     "data": {
      "text/html": [
       "<style scoped>\n",
       "  .table-result-container {\n",
       "    max-height: 300px;\n",
       "    overflow: auto;\n",
       "  }\n",
       "  table, th, td {\n",
       "    border: 1px solid black;\n",
       "    border-collapse: collapse;\n",
       "  }\n",
       "  th, td {\n",
       "    padding: 5px;\n",
       "  }\n",
       "  th {\n",
       "    text-align: left;\n",
       "  }\n",
       "</style><div class='table-result-container'><table class='table-result'><thead style='background-color: white'><tr><th>segment</th><th>category</th><th>total_sale</th></tr></thead><tbody><tr><td>Home Office</td><td>Office Supplies</td><td>119379.7</td></tr><tr><td>Corporate</td><td>Technology</td><td>243931.9</td></tr><tr><td>Consumer</td><td>Office Supplies</td><td>353174.5</td></tr><tr><td>Home Office</td><td>Technology</td><td>182379.6</td></tr><tr><td>Consumer</td><td>Technology</td><td>400890.4</td></tr><tr><td>Home Office</td><td>Furniture</td><td>119295.3</td></tr><tr><td>Corporate</td><td>Furniture</td><td>217434.7</td></tr><tr><td>Consumer</td><td>Furniture</td><td>383061.5</td></tr><tr><td>Corporate</td><td>Office Supplies</td><td>217585.6</td></tr></tbody></table></div>"
      ]
     },
     "metadata": {
      "application/vnd.databricks.v1+output": {
       "addedWidgets": {},
       "aggData": [],
       "aggError": "",
       "aggOverflow": false,
       "aggSchema": [],
       "aggSeriesLimitReached": false,
       "aggType": "",
       "arguments": {},
       "columnCustomDisplayInfos": {},
       "data": [
        [
         "Home Office",
         "Office Supplies",
         119379.7
        ],
        [
         "Corporate",
         "Technology",
         243931.9
        ],
        [
         "Consumer",
         "Office Supplies",
         353174.5
        ],
        [
         "Home Office",
         "Technology",
         182379.6
        ],
        [
         "Consumer",
         "Technology",
         400890.4
        ],
        [
         "Home Office",
         "Furniture",
         119295.3
        ],
        [
         "Corporate",
         "Furniture",
         217434.7
        ],
        [
         "Consumer",
         "Furniture",
         383061.5
        ],
        [
         "Corporate",
         "Office Supplies",
         217585.6
        ]
       ],
       "datasetInfos": [],
       "dbfsResultPath": null,
       "isJsonSchema": true,
       "metadata": {},
       "overflow": false,
       "plotOptions": {
        "customPlotOptions": {},
        "displayType": "table",
        "pivotAggregation": null,
        "pivotColumns": null,
        "xColumns": null,
        "yColumns": null
       },
       "removedWidgets": [],
       "schema": [
        {
         "metadata": "{}",
         "name": "segment",
         "type": "\"string\""
        },
        {
         "metadata": "{}",
         "name": "category",
         "type": "\"string\""
        },
        {
         "metadata": "{}",
         "name": "total_sale",
         "type": "\"double\""
        }
       ],
       "type": "table"
      }
     },
     "output_type": "display_data"
    },
    {
     "data": {
      "text/plain": [
       "Databricks visualization. Run in Databricks to view."
      ]
     },
     "metadata": {
      "application/vnd.databricks.v1.subcommand+json": {
       "bindings": {},
       "collapsed": false,
       "command": "%python\n__backend_agg_display_orig = display\n__backend_agg_dfs = []\ndef __backend_agg_display_new(df):\n    __backend_agg_df_modules = [\"pandas.core.frame\", \"databricks.koalas.frame\", \"pyspark.sql.dataframe\", \"pyspark.pandas.frame\", \"pyspark.sql.connect.dataframe\"]\n    if (type(df).__module__ in __backend_agg_df_modules and type(df).__name__ == 'DataFrame') or isinstance(df, list):\n        __backend_agg_dfs.append(df)\n\ndisplay = __backend_agg_display_new\n\ndef __backend_agg_user_code_fn():\n    import base64\n    exec(base64.standard_b64decode(\"ZnJvbSBweXNwYXJrLnNxbCBpbXBvcnQgZnVuY3Rpb25zIGFzIGYKCmNzZGYgPSBkZi5ncm91cEJ5KFsnc2VnbWVudCcsJ2NhdGVnb3J5J10pLmFnZygKICAgIHsnc2FsZXMnOidzdW0nfQopCgpjc2RmID0gY3NkZi53aXRoQ29sdW1uKCd0b3RhbF9zYWxlJyxmLnJvdW5kKGNzZGZbJ3N1bShzYWxlcyknXSwxKSkuZHJvcCgnc3VtKHNhbGVzKScpCmNzZGYgPSBjc2RmLndpdGhDb2x1bW5SZW5hbWVkKCdzdW0oc2FsZXMpJywndG90YWxfc2FsZXMnKQpjc2RmLnNob3coKQpkaXNwbGF5KGNzZGYp\").decode())\n\ntry:\n    # run user code\n    __backend_agg_user_code_fn()\n\n    #reset display function\n    display = __backend_agg_display_orig\n\n    if len(__backend_agg_dfs) > 0:\n        # create a temp view\n        if type(__backend_agg_dfs[0]).__module__ == \"databricks.koalas.frame\":\n            # koalas dataframe\n            __backend_agg_dfs[0].to_spark().createOrReplaceTempView(\"DatabricksView5ac9857\")\n        elif type(__backend_agg_dfs[0]).__module__ == \"pandas.core.frame\" or isinstance(__backend_agg_dfs[0], list):\n            # pandas dataframe\n            spark.createDataFrame(__backend_agg_dfs[0]).createOrReplaceTempView(\"DatabricksView5ac9857\")\n        else:\n            __backend_agg_dfs[0].createOrReplaceTempView(\"DatabricksView5ac9857\")\n        #run backend agg\n        display(spark.sql(\"\"\"WITH q AS (select * from DatabricksView5ac9857) SELECT `segment`,`category`,SUM(`total_sale`) `column_9ab169435` FROM q GROUP BY `category`,`segment`\"\"\"))\n    else:\n        displayHTML(\"dataframe no longer exists. If you're using dataframe.display(), use display(dataframe) instead.\")\n\n\nfinally:\n    spark.sql(\"drop view if exists DatabricksView5ac9857\")\n    display = __backend_agg_display_orig\n    del __backend_agg_display_new\n    del __backend_agg_display_orig\n    del __backend_agg_dfs\n    del __backend_agg_user_code_fn\n\n",
       "commandTitle": "Visualization 1",
       "commandType": "auto",
       "commandVersion": 0,
       "commentThread": [],
       "commentsVisible": false,
       "contentSha256Hex": null,
       "customPlotOptions": {
        "redashChart": [
         {
          "key": "type",
          "value": "CHART"
         },
         {
          "key": "options",
          "value": {
           "alignYAxesAtZero": true,
           "coefficient": 1,
           "columnConfigurationMap": {
            "series": {
             "column": "category",
             "id": "column_9ab169434"
            },
            "x": {
             "column": "segment",
             "id": "column_9ab169433"
            },
            "y": [
             {
              "column": "total_sale",
              "id": "column_9ab169435",
              "transform": "SUM"
             }
            ]
           },
           "dateTimeFormat": "DD/MM/YYYY HH:mm",
           "direction": {
            "type": "counterclockwise"
           },
           "error_y": {
            "type": "data",
            "visible": true
           },
           "globalSeriesType": "column",
           "isAggregationOn": true,
           "legend": {
            "traceorder": "normal"
           },
           "missingValuesAsZero": true,
           "numberFormat": "0,0.[00000]",
           "percentFormat": "0[.]00%",
           "series": {
            "error_y": {
             "type": "data",
             "visible": true
            },
            "stacking": "stack"
           },
           "seriesOptions": {
            "column_9ab169435": {
             "name": "total_sale",
             "yAxis": 0
            }
           },
           "showDataLabels": true,
           "sizemode": "diameter",
           "sortX": true,
           "sortY": true,
           "swappedAxes": false,
           "textFormat": "",
           "useAggregationsUi": true,
           "valuesOptions": {},
           "version": 2,
           "xAxis": {
            "labels": {
             "enabled": true
            },
            "type": "-"
           },
           "yAxis": [
            {
             "type": "-"
            },
            {
             "opposite": true,
             "type": "-"
            }
           ]
          }
         }
        ]
       },
       "datasetPreviewNameToCmdIdMap": {},
       "diffDeletes": [],
       "diffInserts": [],
       "displayType": "redashChart",
       "error": null,
       "errorDetails": null,
       "errorSummary": null,
       "errorTraceType": null,
       "finishTime": 0,
       "globalVars": {},
       "guid": "",
       "height": "auto",
       "hideCommandCode": false,
       "hideCommandResult": false,
       "iPythonMetadata": null,
       "inputWidgets": {},
       "isLockedInExamMode": false,
       "latestUser": "a user",
       "latestUserId": null,
       "listResultMetadata": null,
       "metadata": {
        "byteLimit": 2048000,
        "rowLimit": 10000
       },
       "nuid": "3ab19e41-5786-45f1-b8ac-e5bc1c3852c1",
       "origId": 0,
       "parentHierarchy": [],
       "pivotAggregation": null,
       "pivotColumns": null,
       "position": 8,
       "resultDbfsErrorMessage": null,
       "resultDbfsStatus": "INLINED_IN_TREE",
       "results": null,
       "showCommandTitle": false,
       "startTime": 0,
       "state": "input",
       "streamStates": {},
       "subcommandOptions": {
        "queryPlan": {
         "groups": [
          {
           "column": "segment",
           "type": "column"
          },
          {
           "column": "category",
           "type": "column"
          }
         ],
         "selects": [
          {
           "column": "segment",
           "type": "column"
          },
          {
           "column": "category",
           "type": "column"
          },
          {
           "alias": "column_9ab169435",
           "args": [
            {
             "column": "total_sale",
             "type": "column"
            }
           ],
           "function": "SUM",
           "type": "function"
          }
         ]
        }
       },
       "submitTime": 0,
       "subtype": "tableResultSubCmd.visualization",
       "tableResultIndex": 0,
       "useConsistentColors": false,
       "version": "CommandV1",
       "width": "auto",
       "workflows": [],
       "xColumns": null,
       "yColumns": null
      }
     },
     "output_type": "display_data"
    }
   ],
   "source": [
    "from pyspark.sql import functions as f\n",
    "\n",
    "csdf = df.groupBy(['segment','category']).agg(\n",
    "    {'sales':'sum'}\n",
    ")\n",
    "\n",
    "csdf = csdf.withColumn('total_sale',f.round(csdf['sum(sales)'],1)).drop('sum(sales)')\n",
    "csdf = csdf.withColumnRenamed('sum(sales)','total_sales')\n",
    "csdf.show()\n",
    "display(csdf)"
   ]
  },
  {
   "cell_type": "markdown",
   "metadata": {},
   "source": [
    "## Lets concatenate segment category columns"
   ]
  },
  {
   "cell_type": "code",
   "execution_count": null,
   "metadata": {
    "application/vnd.databricks.v1+cell": {
     "cellMetadata": {
      "byteLimit": 2048000,
      "rowLimit": 10000
     },
     "inputWidgets": {},
     "nuid": "f792fc77-234e-426a-9d87-c239a4eb29f2",
     "showTitle": true,
     "title": "Concatenate segment ,category columns"
    }
   },
   "outputs": [
    {
     "name": "stdout",
     "output_type": "stream",
     "text": [
      "+--------------+----------+----------+--------------+---------+-------------+---------------+----------+------+---------------+------------+--------+--------------------+\n",
      "|      order id|order date| ship date|     ship mode|  segment|      country|           city|     state|region|       category|sub-category|   sales|         segment_cat|\n",
      "+--------------+----------+----------+--------------+---------+-------------+---------------+----------+------+---------------+------------+--------+--------------------+\n",
      "|CA-2017-152156|2017-11-08|2017-11-11|  Second Class| Consumer|United States|      Henderson|  Kentucky| South|      Furniture|   Bookcases|  261.96|  Consumer_Furniture|\n",
      "|CA-2017-152156|2017-11-08|2017-11-11|  Second Class| Consumer|United States|      Henderson|  Kentucky| South|      Furniture|      Chairs|  731.94|  Consumer_Furniture|\n",
      "|CA-2017-138688|2017-06-12|2017-06-16|  Second Class|Corporate|United States|    Los Angeles|California|  West|Office Supplies|      Labels|   14.62|Corporate_Office ...|\n",
      "|US-2016-108966|2016-10-11|2016-10-18|Standard Class| Consumer|United States|Fort Lauderdale|   Florida| South|      Furniture|      Tables|957.5775|  Consumer_Furniture|\n",
      "|US-2016-108966|2016-10-11|2016-10-18|Standard Class| Consumer|United States|Fort Lauderdale|   Florida| South|Office Supplies|     Storage|  22.368|Consumer_Office S...|\n",
      "+--------------+----------+----------+--------------+---------+-------------+---------------+----------+------+---------------+------------+--------+--------------------+\n",
      "only showing top 5 rows\n",
      "\n"
     ]
    }
   ],
   "source": [
    "seg_df = df.withColumn('segment_cat',f.concat(df['segment'],f.lit('_'),f.concat(df['category'])))\n",
    "seg_df.show(5)"
   ]
  },
  {
   "cell_type": "code",
   "execution_count": null,
   "metadata": {
    "application/vnd.databricks.v1+cell": {
     "cellMetadata": {
      "byteLimit": 2048000,
      "rowLimit": 10000
     },
     "inputWidgets": {},
     "nuid": "49d0e356-d406-407b-8dc3-8bd26286c71c",
     "showTitle": true,
     "title": ""
    }
   },
   "outputs": [
    {
     "data": {
      "text/html": [
       "<style scoped>\n",
       "  .table-result-container {\n",
       "    max-height: 300px;\n",
       "    overflow: auto;\n",
       "  }\n",
       "  table, th, td {\n",
       "    border: 1px solid black;\n",
       "    border-collapse: collapse;\n",
       "  }\n",
       "  th, td {\n",
       "    padding: 5px;\n",
       "  }\n",
       "  th {\n",
       "    text-align: left;\n",
       "  }\n",
       "</style><div class='table-result-container'><table class='table-result'><thead style='background-color: white'><tr><th>segment_cat</th><th>sum(sales)</th></tr></thead><tbody><tr><td>Home Office_Office Supplies</td><td>119379.7</td></tr><tr><td>Home Office_Technology</td><td>182379.6</td></tr><tr><td>Consumer_Office Supplies</td><td>353174.5</td></tr><tr><td>Corporate_Office Supplies</td><td>217585.6</td></tr><tr><td>Consumer_Furniture</td><td>383061.5</td></tr><tr><td>Consumer_Technology</td><td>400890.4</td></tr><tr><td>Home Office_Furniture</td><td>119295.3</td></tr><tr><td>Corporate_Furniture</td><td>217434.7</td></tr><tr><td>Corporate_Technology</td><td>243931.9</td></tr></tbody></table></div>"
      ]
     },
     "metadata": {
      "application/vnd.databricks.v1+output": {
       "addedWidgets": {},
       "aggData": [],
       "aggError": "",
       "aggOverflow": false,
       "aggSchema": [],
       "aggSeriesLimitReached": false,
       "aggType": "",
       "arguments": {},
       "columnCustomDisplayInfos": {},
       "data": [
        [
         "Home Office_Office Supplies",
         119379.7
        ],
        [
         "Home Office_Technology",
         182379.6
        ],
        [
         "Consumer_Office Supplies",
         353174.5
        ],
        [
         "Corporate_Office Supplies",
         217585.6
        ],
        [
         "Consumer_Furniture",
         383061.5
        ],
        [
         "Consumer_Technology",
         400890.4
        ],
        [
         "Home Office_Furniture",
         119295.3
        ],
        [
         "Corporate_Furniture",
         217434.7
        ],
        [
         "Corporate_Technology",
         243931.9
        ]
       ],
       "datasetInfos": [],
       "dbfsResultPath": null,
       "isJsonSchema": true,
       "metadata": {},
       "overflow": false,
       "plotOptions": {
        "customPlotOptions": {},
        "displayType": "table",
        "pivotAggregation": null,
        "pivotColumns": null,
        "xColumns": null,
        "yColumns": null
       },
       "removedWidgets": [],
       "schema": [
        {
         "metadata": "{}",
         "name": "segment_cat",
         "type": "\"string\""
        },
        {
         "metadata": "{}",
         "name": "sum(sales)",
         "type": "\"double\""
        }
       ],
       "type": "table"
      }
     },
     "output_type": "display_data"
    },
    {
     "data": {
      "text/plain": [
       "Databricks visualization. Run in Databricks to view."
      ]
     },
     "metadata": {
      "application/vnd.databricks.v1.subcommand+json": {
       "bindings": {},
       "collapsed": false,
       "command": "%python\n__backend_agg_display_orig = display\n__backend_agg_dfs = []\ndef __backend_agg_display_new(df):\n    __backend_agg_df_modules = [\"pandas.core.frame\", \"databricks.koalas.frame\", \"pyspark.sql.dataframe\", \"pyspark.pandas.frame\", \"pyspark.sql.connect.dataframe\"]\n    if (type(df).__module__ in __backend_agg_df_modules and type(df).__name__ == 'DataFrame') or isinstance(df, list):\n        __backend_agg_dfs.append(df)\n\ndisplay = __backend_agg_display_new\n\ndef __backend_agg_user_code_fn():\n    import base64\n    exec(base64.standard_b64decode(\"c2VnX2RmMSA9IHNlZ19kZi5ncm91cEJ5KCdzZWdtZW50X2NhdCcpLmFnZygKICAgIGYuc3VtKCdzYWxlcycpCikKc2VnX2RmMSA9IHNlZ19kZjEud2l0aENvbHVtbignc3VtKHNhbGVzKScsZi5yb3VuZChzZWdfZGYxWydzdW0oc2FsZXMpJ10sMSkpCmRpc3BsYXkoc2VnX2RmMSk=\").decode())\n\ntry:\n    # run user code\n    __backend_agg_user_code_fn()\n\n    #reset display function\n    display = __backend_agg_display_orig\n\n    if len(__backend_agg_dfs) > 0:\n        # create a temp view\n        if type(__backend_agg_dfs[0]).__module__ == \"databricks.koalas.frame\":\n            # koalas dataframe\n            __backend_agg_dfs[0].to_spark().createOrReplaceTempView(\"DatabricksView947c40a\")\n        elif type(__backend_agg_dfs[0]).__module__ == \"pandas.core.frame\" or isinstance(__backend_agg_dfs[0], list):\n            # pandas dataframe\n            spark.createDataFrame(__backend_agg_dfs[0]).createOrReplaceTempView(\"DatabricksView947c40a\")\n        else:\n            __backend_agg_dfs[0].createOrReplaceTempView(\"DatabricksView947c40a\")\n        #run backend agg\n        display(spark.sql(\"\"\"WITH q AS (select * from DatabricksView947c40a) SELECT `segment_cat`,SUM(`sum(sales)`) `column_9ab169437` FROM q GROUP BY `segment_cat`\"\"\"))\n    else:\n        displayHTML(\"dataframe no longer exists. If you're using dataframe.display(), use display(dataframe) instead.\")\n\n\nfinally:\n    spark.sql(\"drop view if exists DatabricksView947c40a\")\n    display = __backend_agg_display_orig\n    del __backend_agg_display_new\n    del __backend_agg_display_orig\n    del __backend_agg_dfs\n    del __backend_agg_user_code_fn\n\n",
       "commandTitle": "Visualization 1",
       "commandType": "auto",
       "commandVersion": 0,
       "commentThread": [],
       "commentsVisible": false,
       "contentSha256Hex": null,
       "customPlotOptions": {
        "redashChart": [
         {
          "key": "type",
          "value": "CHART"
         },
         {
          "key": "options",
          "value": {
           "alignYAxesAtZero": true,
           "coefficient": 1,
           "columnConfigurationMap": {
            "x": {
             "column": "segment_cat",
             "id": "column_9ab169436"
            },
            "y": [
             {
              "column": "sum(sales)",
              "id": "column_9ab169437",
              "transform": "SUM"
             }
            ]
           },
           "dateTimeFormat": "DD/MM/YYYY HH:mm",
           "direction": {
            "type": "counterclockwise"
           },
           "error_y": {
            "type": "data",
            "visible": true
           },
           "globalSeriesType": "column",
           "isAggregationOn": true,
           "legend": {
            "traceorder": "normal"
           },
           "missingValuesAsZero": true,
           "numberFormat": "0,0.[00000]",
           "percentFormat": "0[.]00%",
           "series": {
            "error_y": {
             "type": "data",
             "visible": true
            },
            "stacking": null
           },
           "seriesOptions": {
            "column_9ab169437": {
             "color": "#50F5ED",
             "name": "sum(sales)",
             "yAxis": 0
            }
           },
           "showDataLabels": true,
           "sizemode": "diameter",
           "sortX": true,
           "sortY": true,
           "swappedAxes": false,
           "textFormat": "",
           "useAggregationsUi": true,
           "valuesOptions": {},
           "version": 2,
           "xAxis": {
            "labels": {
             "enabled": true
            },
            "type": "-"
           },
           "yAxis": [
            {
             "type": "-"
            },
            {
             "opposite": true,
             "type": "-"
            }
           ]
          }
         }
        ]
       },
       "datasetPreviewNameToCmdIdMap": {},
       "diffDeletes": [],
       "diffInserts": [],
       "displayType": "redashChart",
       "error": null,
       "errorDetails": null,
       "errorSummary": null,
       "errorTraceType": null,
       "finishTime": 0,
       "globalVars": {},
       "guid": "",
       "height": "auto",
       "hideCommandCode": false,
       "hideCommandResult": false,
       "iPythonMetadata": null,
       "inputWidgets": {},
       "isLockedInExamMode": false,
       "latestUser": "a user",
       "latestUserId": null,
       "listResultMetadata": null,
       "metadata": {
        "byteLimit": 2048000,
        "rowLimit": 10000
       },
       "nuid": "a6db23c8-af2b-4053-91d9-8eb06ba8f9cd",
       "origId": 0,
       "parentHierarchy": [],
       "pivotAggregation": null,
       "pivotColumns": null,
       "position": 10,
       "resultDbfsErrorMessage": null,
       "resultDbfsStatus": "INLINED_IN_TREE",
       "results": null,
       "showCommandTitle": false,
       "startTime": 0,
       "state": "input",
       "streamStates": {},
       "subcommandOptions": {
        "queryPlan": {
         "groups": [
          {
           "column": "segment_cat",
           "type": "column"
          }
         ],
         "selects": [
          {
           "column": "segment_cat",
           "type": "column"
          },
          {
           "alias": "column_9ab169437",
           "args": [
            {
             "column": "sum(sales)",
             "type": "column"
            }
           ],
           "function": "SUM",
           "type": "function"
          }
         ]
        }
       },
       "submitTime": 0,
       "subtype": "tableResultSubCmd.visualization",
       "tableResultIndex": 0,
       "useConsistentColors": false,
       "version": "CommandV1",
       "width": "auto",
       "workflows": [],
       "xColumns": null,
       "yColumns": null
      }
     },
     "output_type": "display_data"
    }
   ],
   "source": [
    "seg_df1 = seg_df.groupBy('segment_cat').agg(\n",
    "    f.sum('sales')\n",
    ")\n",
    "seg_df1 = seg_df1.withColumn('sum(sales)',f.round(seg_df1['sum(sales)'],1))\n",
    "display(seg_df1)"
   ]
  },
  {
   "cell_type": "code",
   "execution_count": null,
   "metadata": {
    "application/vnd.databricks.v1+cell": {
     "cellMetadata": {
      "byteLimit": 2048000,
      "rowLimit": 10000
     },
     "inputWidgets": {},
     "nuid": "b3fd807d-ac99-4e5e-b82a-726746531f7b",
     "showTitle": false,
     "title": ""
    }
   },
   "outputs": [
    {
     "name": "stdout",
     "output_type": "stream",
     "text": [
      "+--------------+----------+----------+--------------+---------+-------------+---------------+----------+------+---------------+------------+--------+\n",
      "|      order id|order date| ship date|     ship mode|  segment|      country|           city|     state|region|       category|sub-category|   sales|\n",
      "+--------------+----------+----------+--------------+---------+-------------+---------------+----------+------+---------------+------------+--------+\n",
      "|CA-2017-152156|2017-11-08|2017-11-11|  Second Class| Consumer|United States|      Henderson|  Kentucky| South|      Furniture|   Bookcases|  261.96|\n",
      "|CA-2017-152156|2017-11-08|2017-11-11|  Second Class| Consumer|United States|      Henderson|  Kentucky| South|      Furniture|      Chairs|  731.94|\n",
      "|CA-2017-138688|2017-06-12|2017-06-16|  Second Class|Corporate|United States|    Los Angeles|California|  West|Office Supplies|      Labels|   14.62|\n",
      "|US-2016-108966|2016-10-11|2016-10-18|Standard Class| Consumer|United States|Fort Lauderdale|   Florida| South|      Furniture|      Tables|957.5775|\n",
      "|US-2016-108966|2016-10-11|2016-10-18|Standard Class| Consumer|United States|Fort Lauderdale|   Florida| South|Office Supplies|     Storage|  22.368|\n",
      "+--------------+----------+----------+--------------+---------+-------------+---------------+----------+------+---------------+------------+--------+\n",
      "only showing top 5 rows\n",
      "\n"
     ]
    }
   ],
   "source": [
    "df.show(5)"
   ]
  },
  {
   "cell_type": "markdown",
   "metadata": {},
   "source": [
    "## Creating widgets"
   ]
  },
  {
   "cell_type": "code",
   "execution_count": null,
   "metadata": {
    "application/vnd.databricks.v1+cell": {
     "cellMetadata": {
      "byteLimit": 2048000,
      "rowLimit": 10000
     },
     "inputWidgets": {},
     "nuid": "b5949446-cb47-4e43-86d8-eacf4dd04858",
     "showTitle": true,
     "title": "Creating Widgets"
    }
   },
   "outputs": [],
   "source": [
    "dbutils.widgets.combobox('segment','',['Consumer','Corporate','Home Office'],'Choose segment')\n",
    "dbutils.widgets.combobox('category','',['Office Supplies','Furniture','Technology'],'Choose category')"
   ]
  },
  {
   "cell_type": "code",
   "execution_count": null,
   "metadata": {
    "application/vnd.databricks.v1+cell": {
     "cellMetadata": {
      "byteLimit": 2048000,
      "rowLimit": 10000
     },
     "inputWidgets": {},
     "nuid": "edf492ee-8d86-4955-b3a1-0d457d50913d",
     "showTitle": false,
     "title": ""
    }
   },
   "outputs": [],
   "source": [
    "seg = dbutils.widgets.get('segment')\n",
    "cat = dbutils.widgets.get('category')"
   ]
  },
  {
   "cell_type": "code",
   "execution_count": null,
   "metadata": {
    "application/vnd.databricks.v1+cell": {
     "cellMetadata": {
      "byteLimit": 2048000,
      "rowLimit": 10000
     },
     "inputWidgets": {},
     "nuid": "00e7bf03-70b3-4b9e-aa3c-5d3b221344e7",
     "showTitle": false,
     "title": ""
    }
   },
   "outputs": [
    {
     "name": "stdout",
     "output_type": "stream",
     "text": [
      "+--------------+----------+----------+--------------+-----------+-------------+---------------+--------------+-------+---------------+------------+---------------+\n",
      "|      order id|order date| ship date|     ship mode|    segment|      country|           city|         state| region|       category|sub-category|          sales|\n",
      "+--------------+----------+----------+--------------+-----------+-------------+---------------+--------------+-------+---------------+------------+---------------+\n",
      "|CA-2017-138688|2017-06-12|2017-06-16|  Second Class|  Corporate|United States|    Los Angeles|    California|   West|Office Supplies|      Labels|          14.62|\n",
      "|US-2016-108966|2016-10-11|2016-10-18|Standard Class|   Consumer|United States|Fort Lauderdale|       Florida|  South|Office Supplies|     Storage|         22.368|\n",
      "|CA-2015-115812|2015-06-09|2015-06-14|Standard Class|   Consumer|United States|    Los Angeles|    California|   West|Office Supplies|         Art|           7.28|\n",
      "|CA-2015-115812|2015-06-09|2015-06-14|Standard Class|   Consumer|United States|    Los Angeles|    California|   West|Office Supplies|     Binders|         18.504|\n",
      "|CA-2015-115812|2015-06-09|2015-06-14|Standard Class|   Consumer|United States|    Los Angeles|    California|   West|Office Supplies|  Appliances|          114.9|\n",
      "|CA-2018-114412|2018-04-15|2018-04-20|Standard Class|   Consumer|United States|        Concord|North Carolina|  South|Office Supplies|       Paper|         15.552|\n",
      "|CA-2017-161389|2017-12-05|2017-12-10|Standard Class|   Consumer|United States|        Seattle|    Washington|   West|Office Supplies|     Binders|        407.976|\n",
      "|US-2016-118983|2016-11-22|2016-11-26|Standard Class|Home Office|United States|     Fort Worth|         Texas|Central|Office Supplies|  Appliances|          68.81|\n",
      "|US-2016-118983|2016-11-22|2016-11-26|Standard Class|Home Office|United States|     Fort Worth|         Texas|Central|Office Supplies|     Binders|          2.544|\n",
      "|CA-2015-105893|2015-11-11|2015-11-18|Standard Class|   Consumer|United States|        Madison|     Wisconsin|Central|Office Supplies|     Storage|         665.88|\n",
      "|CA-2015-167164|2015-05-13|2015-05-15|  Second Class|   Consumer|United States|    West Jordan|          Utah|   West|Office Supplies|     Storage|           55.5|\n",
      "|CA-2015-143336|2015-08-27|2015-09-01|  Second Class|   Consumer|United States|  San Francisco|    California|   West|Office Supplies|         Art|           8.56|\n",
      "|CA-2015-143336|2015-08-27|2015-09-01|  Second Class|   Consumer|United States|  San Francisco|    California|   West|Office Supplies|     Binders|          22.72|\n",
      "|CA-2017-137330|2017-12-09|2017-12-13|Standard Class|  Corporate|United States|        Fremont|      Nebraska|Central|Office Supplies|         Art|          19.46|\n",
      "|CA-2017-137330|2017-12-09|2017-12-13|Standard Class|  Corporate|United States|        Fremont|      Nebraska|Central|Office Supplies|  Appliances|          60.34|\n",
      "|CA-2017-121755|2017-01-16|2017-01-20|  Second Class|   Consumer|United States|    Los Angeles|    California|   West|Office Supplies|     Binders|         11.648|\n",
      "|US-2016-150630|2016-09-17|2016-09-21|Standard Class|   Consumer|United States|   Philadelphia|  Pennsylvania|   East|Office Supplies|     Binders|          9.618|\n",
      "|US-2016-150630|2016-09-17|2016-09-21|Standard Class|   Consumer|United States|   Philadelphia|  Pennsylvania|   East|Office Supplies|   Envelopes|          3.264|\n",
      "|US-2016-150630|2016-09-17|2016-09-21|Standard Class|   Consumer|United States|   Philadelphia|  Pennsylvania|   East|Office Supplies|         Art|         86.304|\n",
      "|US-2016-150630|2016-09-17|2016-09-21|Standard Class|   Consumer|United States|   Philadelphia|  Pennsylvania|   East|Office Supplies|     Binders| Executive Red\"|\n",
      "+--------------+----------+----------+--------------+-----------+-------------+---------------+--------------+-------+---------------+------------+---------------+\n",
      "only showing top 20 rows\n",
      "\n"
     ]
    }
   ],
   "source": [
    "wdf = df.filter(df['category']==seg)\n",
    "wdf = df.filter(df['category']==cat)\n",
    "wdf.show()"
   ]
  },
  {
   "cell_type": "markdown",
   "metadata": {},
   "source": [
    "## Create new columns 'Order year','order month','monthname'"
   ]
  },
  {
   "cell_type": "code",
   "execution_count": null,
   "metadata": {
    "application/vnd.databricks.v1+cell": {
     "cellMetadata": {
      "byteLimit": 2048000,
      "rowLimit": 10000
     },
     "inputWidgets": {},
     "nuid": "d23ef0bb-7401-4afb-9115-31937f606fba",
     "showTitle": true,
     "title": "Creating new column Year,Month"
    }
   },
   "outputs": [
    {
     "name": "stdout",
     "output_type": "stream",
     "text": [
      "+--------------+----------+----------+--------------+-----------+-------------+---------------+--------------+-------+---------------+------------+--------+----------+-----------+---------+\n",
      "|      order id|order date| ship date|     ship mode|    segment|      country|           city|         state| region|       category|sub-category|   sales|order year|order month|monthname|\n",
      "+--------------+----------+----------+--------------+-----------+-------------+---------------+--------------+-------+---------------+------------+--------+----------+-----------+---------+\n",
      "|CA-2017-152156|2017-11-08|2017-11-11|  Second Class|   Consumer|United States|      Henderson|      Kentucky|  South|      Furniture|   Bookcases|  261.96|      2017|         11| November|\n",
      "|CA-2017-152156|2017-11-08|2017-11-11|  Second Class|   Consumer|United States|      Henderson|      Kentucky|  South|      Furniture|      Chairs|  731.94|      2017|         11| November|\n",
      "|CA-2017-138688|2017-06-12|2017-06-16|  Second Class|  Corporate|United States|    Los Angeles|    California|   West|Office Supplies|      Labels|   14.62|      2017|          6|     June|\n",
      "|US-2016-108966|2016-10-11|2016-10-18|Standard Class|   Consumer|United States|Fort Lauderdale|       Florida|  South|      Furniture|      Tables|957.5775|      2016|         10|  October|\n",
      "|US-2016-108966|2016-10-11|2016-10-18|Standard Class|   Consumer|United States|Fort Lauderdale|       Florida|  South|Office Supplies|     Storage|  22.368|      2016|         10|  October|\n",
      "|CA-2015-115812|2015-06-09|2015-06-14|Standard Class|   Consumer|United States|    Los Angeles|    California|   West|      Furniture| Furnishings|   48.86|      2015|          6|     June|\n",
      "|CA-2015-115812|2015-06-09|2015-06-14|Standard Class|   Consumer|United States|    Los Angeles|    California|   West|Office Supplies|         Art|    7.28|      2015|          6|     June|\n",
      "|CA-2015-115812|2015-06-09|2015-06-14|Standard Class|   Consumer|United States|    Los Angeles|    California|   West|     Technology|      Phones| 907.152|      2015|          6|     June|\n",
      "|CA-2015-115812|2015-06-09|2015-06-14|Standard Class|   Consumer|United States|    Los Angeles|    California|   West|Office Supplies|     Binders|  18.504|      2015|          6|     June|\n",
      "|CA-2015-115812|2015-06-09|2015-06-14|Standard Class|   Consumer|United States|    Los Angeles|    California|   West|Office Supplies|  Appliances|   114.9|      2015|          6|     June|\n",
      "|CA-2015-115812|2015-06-09|2015-06-14|Standard Class|   Consumer|United States|    Los Angeles|    California|   West|      Furniture|      Tables|1706.184|      2015|          6|     June|\n",
      "|CA-2015-115812|2015-06-09|2015-06-14|Standard Class|   Consumer|United States|    Los Angeles|    California|   West|     Technology|      Phones| 911.424|      2015|          6|     June|\n",
      "|CA-2018-114412|2018-04-15|2018-04-20|Standard Class|   Consumer|United States|        Concord|North Carolina|  South|Office Supplies|       Paper|  15.552|      2018|          4|    April|\n",
      "|CA-2017-161389|2017-12-05|2017-12-10|Standard Class|   Consumer|United States|        Seattle|    Washington|   West|Office Supplies|     Binders| 407.976|      2017|         12| December|\n",
      "|US-2016-118983|2016-11-22|2016-11-26|Standard Class|Home Office|United States|     Fort Worth|         Texas|Central|Office Supplies|  Appliances|   68.81|      2016|         11| November|\n",
      "|US-2016-118983|2016-11-22|2016-11-26|Standard Class|Home Office|United States|     Fort Worth|         Texas|Central|Office Supplies|     Binders|   2.544|      2016|         11| November|\n",
      "|CA-2015-105893|2015-11-11|2015-11-18|Standard Class|   Consumer|United States|        Madison|     Wisconsin|Central|Office Supplies|     Storage|  665.88|      2015|         11| November|\n",
      "|CA-2015-167164|2015-05-13|2015-05-15|  Second Class|   Consumer|United States|    West Jordan|          Utah|   West|Office Supplies|     Storage|    55.5|      2015|          5|      May|\n",
      "|CA-2015-143336|2015-08-27|2015-09-01|  Second Class|   Consumer|United States|  San Francisco|    California|   West|Office Supplies|         Art|    8.56|      2015|          8|   August|\n",
      "|CA-2015-143336|2015-08-27|2015-09-01|  Second Class|   Consumer|United States|  San Francisco|    California|   West|     Technology|      Phones|  213.48|      2015|          8|   August|\n",
      "+--------------+----------+----------+--------------+-----------+-------------+---------------+--------------+-------+---------------+------------+--------+----------+-----------+---------+\n",
      "only showing top 20 rows\n",
      "\n"
     ]
    }
   ],
   "source": [
    "from pyspark.sql.functions import year,month,quarter,date_format\n",
    "\n",
    "df = df.withColumn('order year',year(df['order date']))\n",
    "df = df.withColumn('order month',month(df['order date']))\n",
    "df = df.withColumn('monthname',date_format(df['order date'],'MMMM'))\n",
    "df.show()"
   ]
  },
  {
   "cell_type": "markdown",
   "metadata": {},
   "source": [
    "## Yearly total sales"
   ]
  },
  {
   "cell_type": "code",
   "execution_count": null,
   "metadata": {
    "application/vnd.databricks.v1+cell": {
     "cellMetadata": {
      "byteLimit": 2048000,
      "rowLimit": 10000
     },
     "inputWidgets": {},
     "nuid": "fe4f9f81-dffe-4a88-a16d-983f7c5ae36f",
     "showTitle": true,
     "title": "Yearly Total sales"
    }
   },
   "outputs": [
    {
     "name": "stdout",
     "output_type": "stream",
     "text": [
      "+----------+----------+\n",
      "|order year|total sale|\n",
      "+----------+----------+\n",
      "|      2018|  713928.6|\n",
      "|      2015|  477480.4|\n",
      "|      2016|  453395.7|\n",
      "|      2017|  592328.4|\n",
      "+----------+----------+\n",
      "\n"
     ]
    },
    {
     "data": {
      "text/html": [
       "<style scoped>\n",
       "  .table-result-container {\n",
       "    max-height: 300px;\n",
       "    overflow: auto;\n",
       "  }\n",
       "  table, th, td {\n",
       "    border: 1px solid black;\n",
       "    border-collapse: collapse;\n",
       "  }\n",
       "  th, td {\n",
       "    padding: 5px;\n",
       "  }\n",
       "  th {\n",
       "    text-align: left;\n",
       "  }\n",
       "</style><div class='table-result-container'><table class='table-result'><thead style='background-color: white'><tr><th>order year</th><th>total sale</th></tr></thead><tbody><tr><td>2018</td><td>713928.6</td></tr><tr><td>2015</td><td>477480.4</td></tr><tr><td>2016</td><td>453395.7</td></tr><tr><td>2017</td><td>592328.4</td></tr></tbody></table></div>"
      ]
     },
     "metadata": {
      "application/vnd.databricks.v1+output": {
       "addedWidgets": {},
       "aggData": [],
       "aggError": "",
       "aggOverflow": false,
       "aggSchema": [],
       "aggSeriesLimitReached": false,
       "aggType": "",
       "arguments": {},
       "columnCustomDisplayInfos": {},
       "data": [
        [
         2018,
         713928.6
        ],
        [
         2015,
         477480.4
        ],
        [
         2016,
         453395.7
        ],
        [
         2017,
         592328.4
        ]
       ],
       "datasetInfos": [],
       "dbfsResultPath": null,
       "isJsonSchema": true,
       "metadata": {},
       "overflow": false,
       "plotOptions": {
        "customPlotOptions": {},
        "displayType": "table",
        "pivotAggregation": null,
        "pivotColumns": null,
        "xColumns": null,
        "yColumns": null
       },
       "removedWidgets": [],
       "schema": [
        {
         "metadata": "{}",
         "name": "order year",
         "type": "\"integer\""
        },
        {
         "metadata": "{}",
         "name": "total sale",
         "type": "\"double\""
        }
       ],
       "type": "table"
      }
     },
     "output_type": "display_data"
    },
    {
     "data": {
      "text/plain": [
       "Databricks visualization. Run in Databricks to view."
      ]
     },
     "metadata": {
      "application/vnd.databricks.v1.subcommand+json": {
       "bindings": {},
       "collapsed": false,
       "command": "%python\n__backend_agg_display_orig = display\n__backend_agg_dfs = []\ndef __backend_agg_display_new(df):\n    __backend_agg_df_modules = [\"pandas.core.frame\", \"databricks.koalas.frame\", \"pyspark.sql.dataframe\", \"pyspark.pandas.frame\", \"pyspark.sql.connect.dataframe\"]\n    if (type(df).__module__ in __backend_agg_df_modules and type(df).__name__ == 'DataFrame') or isinstance(df, list):\n        __backend_agg_dfs.append(df)\n\ndisplay = __backend_agg_display_new\n\ndef __backend_agg_user_code_fn():\n    import base64\n    exec(base64.standard_b64decode(\"eWRmID0gZGYuZ3JvdXBCeSgnb3JkZXIgeWVhcicpLmFnZygKICAgIGYuc3VtKCdzYWxlcycpCikKeWRmID0geWRmLndpdGhDb2x1bW4oJ3N1bShzYWxlcyknLGYucm91bmQoeWRmWydzdW0oc2FsZXMpJ10sMSkpCnlkZiA9IHlkZi53aXRoQ29sdW1uUmVuYW1lZCgnc3VtKHNhbGVzKScsJ3RvdGFsIHNhbGUnKQp5ZGYuc2hvdygpCmRpc3BsYXkoeWRmKQ==\").decode())\n\ntry:\n    # run user code\n    __backend_agg_user_code_fn()\n\n    #reset display function\n    display = __backend_agg_display_orig\n\n    if len(__backend_agg_dfs) > 0:\n        # create a temp view\n        if type(__backend_agg_dfs[0]).__module__ == \"databricks.koalas.frame\":\n            # koalas dataframe\n            __backend_agg_dfs[0].to_spark().createOrReplaceTempView(\"DatabricksViewb045341\")\n        elif type(__backend_agg_dfs[0]).__module__ == \"pandas.core.frame\" or isinstance(__backend_agg_dfs[0], list):\n            # pandas dataframe\n            spark.createDataFrame(__backend_agg_dfs[0]).createOrReplaceTempView(\"DatabricksViewb045341\")\n        else:\n            __backend_agg_dfs[0].createOrReplaceTempView(\"DatabricksViewb045341\")\n        #run backend agg\n        display(spark.sql(\"\"\"WITH q AS (select * from DatabricksViewb045341) SELECT `order year`,SUM(`total sale`) `column_24effa9a2` FROM q GROUP BY `order year`\"\"\"))\n    else:\n        displayHTML(\"dataframe no longer exists. If you're using dataframe.display(), use display(dataframe) instead.\")\n\n\nfinally:\n    spark.sql(\"drop view if exists DatabricksViewb045341\")\n    display = __backend_agg_display_orig\n    del __backend_agg_display_new\n    del __backend_agg_display_orig\n    del __backend_agg_dfs\n    del __backend_agg_user_code_fn\n\n",
       "commandTitle": "Visualization 1",
       "commandType": "auto",
       "commandVersion": 0,
       "commentThread": [],
       "commentsVisible": false,
       "contentSha256Hex": null,
       "customPlotOptions": {
        "redashChart": [
         {
          "key": "type",
          "value": "CHART"
         },
         {
          "key": "options",
          "value": {
           "alignYAxesAtZero": true,
           "coefficient": 1,
           "columnConfigurationMap": {
            "x": {
             "column": "order year",
             "id": "column_24effa9a1"
            },
            "y": [
             {
              "column": "total sale",
              "id": "column_24effa9a2",
              "transform": "SUM"
             }
            ]
           },
           "dateTimeFormat": "DD/MM/YYYY HH:mm",
           "direction": {
            "type": "counterclockwise"
           },
           "error_y": {
            "type": "data",
            "visible": true
           },
           "globalSeriesType": "pie",
           "isAggregationOn": true,
           "legend": {
            "traceorder": "normal"
           },
           "missingValuesAsZero": true,
           "numberFormat": "0,0.[00000]",
           "percentFormat": "0[.]00%",
           "series": {
            "error_y": {
             "type": "data",
             "visible": true
            },
            "stacking": null
           },
           "seriesOptions": {
            "column_24effa9a2": {
             "name": "total sale",
             "type": "pie",
             "yAxis": 0
            }
           },
           "showDataLabels": true,
           "sizemode": "diameter",
           "sortX": true,
           "sortY": true,
           "swappedAxes": false,
           "textFormat": "",
           "useAggregationsUi": true,
           "valuesOptions": {},
           "version": 2,
           "xAxis": {
            "labels": {
             "enabled": true
            },
            "type": "-"
           },
           "yAxis": [
            {
             "type": "-"
            },
            {
             "opposite": true,
             "type": "-"
            }
           ]
          }
         }
        ]
       },
       "datasetPreviewNameToCmdIdMap": {},
       "diffDeletes": [],
       "diffInserts": [],
       "displayType": "redashChart",
       "error": null,
       "errorDetails": null,
       "errorSummary": null,
       "errorTraceType": null,
       "finishTime": 0,
       "globalVars": {},
       "guid": "",
       "height": "auto",
       "hideCommandCode": false,
       "hideCommandResult": false,
       "iPythonMetadata": null,
       "inputWidgets": {},
       "isLockedInExamMode": false,
       "latestUser": "a user",
       "latestUserId": null,
       "listResultMetadata": null,
       "metadata": {
        "byteLimit": 2048000,
        "rowLimit": 10000
       },
       "nuid": "2add5fdf-2772-4b79-b5b5-49056e5b8efa",
       "origId": 0,
       "parentHierarchy": [],
       "pivotAggregation": null,
       "pivotColumns": null,
       "position": 20,
       "resultDbfsErrorMessage": null,
       "resultDbfsStatus": "INLINED_IN_TREE",
       "results": null,
       "showCommandTitle": false,
       "startTime": 0,
       "state": "input",
       "streamStates": {},
       "subcommandOptions": {
        "queryPlan": {
         "groups": [
          {
           "column": "order year",
           "type": "column"
          }
         ],
         "selects": [
          {
           "column": "order year",
           "type": "column"
          },
          {
           "alias": "column_24effa9a2",
           "args": [
            {
             "column": "total sale",
             "type": "column"
            }
           ],
           "function": "SUM",
           "type": "function"
          }
         ]
        }
       },
       "submitTime": 0,
       "subtype": "tableResultSubCmd.visualization",
       "tableResultIndex": 0,
       "useConsistentColors": false,
       "version": "CommandV1",
       "width": "auto",
       "workflows": [],
       "xColumns": null,
       "yColumns": null
      }
     },
     "output_type": "display_data"
    }
   ],
   "source": [
    "ydf = df.groupBy('order year').agg(\n",
    "    f.sum('sales')\n",
    ")\n",
    "ydf = ydf.withColumn('sum(sales)',f.round(ydf['sum(sales)'],1))\n",
    "ydf = ydf.withColumnRenamed('sum(sales)','total sale')\n",
    "ydf.show()\n",
    "display(ydf)"
   ]
  },
  {
   "cell_type": "markdown",
   "metadata": {},
   "source": [
    "## Monthly total sales"
   ]
  },
  {
   "cell_type": "code",
   "execution_count": null,
   "metadata": {
    "application/vnd.databricks.v1+cell": {
     "cellMetadata": {
      "byteLimit": 2048000,
      "rowLimit": 10000
     },
     "inputWidgets": {},
     "nuid": "3e87a2df-a205-4086-963c-a03eea1a2647",
     "showTitle": true,
     "title": "Monthly sale"
    }
   },
   "outputs": [
    {
     "name": "stdout",
     "output_type": "stream",
     "text": [
      "+---------+------------------+\n",
      "|monthname|monthly_total sale|\n",
      "+---------+------------------+\n",
      "| November|          346581.5|\n",
      "| December|          317347.7|\n",
      "|September|          296147.3|\n",
      "|  October|          197629.7|\n",
      "|    March|          196287.4|\n",
      "|   August|          155914.1|\n",
      "|      May|          152626.8|\n",
      "|     June|          144219.8|\n",
      "|     July|          143931.8|\n",
      "|    April|          133908.2|\n",
      "|  January|           93906.1|\n",
      "| February|           58632.7|\n",
      "+---------+------------------+\n",
      "\n"
     ]
    },
    {
     "data": {
      "text/html": [
       "<style scoped>\n",
       "  .table-result-container {\n",
       "    max-height: 300px;\n",
       "    overflow: auto;\n",
       "  }\n",
       "  table, th, td {\n",
       "    border: 1px solid black;\n",
       "    border-collapse: collapse;\n",
       "  }\n",
       "  th, td {\n",
       "    padding: 5px;\n",
       "  }\n",
       "  th {\n",
       "    text-align: left;\n",
       "  }\n",
       "</style><div class='table-result-container'><table class='table-result'><thead style='background-color: white'><tr><th>monthname</th><th>monthly_total sale</th></tr></thead><tbody><tr><td>November</td><td>346581.5</td></tr><tr><td>December</td><td>317347.7</td></tr><tr><td>September</td><td>296147.3</td></tr><tr><td>October</td><td>197629.7</td></tr><tr><td>March</td><td>196287.4</td></tr><tr><td>August</td><td>155914.1</td></tr><tr><td>May</td><td>152626.8</td></tr><tr><td>June</td><td>144219.8</td></tr><tr><td>July</td><td>143931.8</td></tr><tr><td>April</td><td>133908.2</td></tr><tr><td>January</td><td>93906.1</td></tr><tr><td>February</td><td>58632.7</td></tr></tbody></table></div>"
      ]
     },
     "metadata": {
      "application/vnd.databricks.v1+output": {
       "addedWidgets": {},
       "aggData": [],
       "aggError": "",
       "aggOverflow": false,
       "aggSchema": [],
       "aggSeriesLimitReached": false,
       "aggType": "",
       "arguments": {},
       "columnCustomDisplayInfos": {},
       "data": [
        [
         "November",
         346581.5
        ],
        [
         "December",
         317347.7
        ],
        [
         "September",
         296147.3
        ],
        [
         "October",
         197629.7
        ],
        [
         "March",
         196287.4
        ],
        [
         "August",
         155914.1
        ],
        [
         "May",
         152626.8
        ],
        [
         "June",
         144219.8
        ],
        [
         "July",
         143931.8
        ],
        [
         "April",
         133908.2
        ],
        [
         "January",
         93906.1
        ],
        [
         "February",
         58632.7
        ]
       ],
       "datasetInfos": [],
       "dbfsResultPath": null,
       "isJsonSchema": true,
       "metadata": {},
       "overflow": false,
       "plotOptions": {
        "customPlotOptions": {},
        "displayType": "table",
        "pivotAggregation": null,
        "pivotColumns": null,
        "xColumns": null,
        "yColumns": null
       },
       "removedWidgets": [],
       "schema": [
        {
         "metadata": "{}",
         "name": "monthname",
         "type": "\"string\""
        },
        {
         "metadata": "{}",
         "name": "monthly_total sale",
         "type": "\"double\""
        }
       ],
       "type": "table"
      }
     },
     "output_type": "display_data"
    },
    {
     "data": {
      "text/plain": [
       "Databricks visualization. Run in Databricks to view."
      ]
     },
     "metadata": {
      "application/vnd.databricks.v1.subcommand+json": {
       "bindings": {},
       "collapsed": false,
       "command": "mdf = df.groupBy('monthname').agg(\n    f.sum('sales')\n)\nmdf = mdf.withColumn('sum(sales)',f.round(mdf['sum(sales)'],1))\nmdf = mdf.withColumnRenamed('sum(sales)','monthly_total sale')\nmdf = mdf.orderBy(mdf['monthly_total sale'].desc())\nmdf.show()\ndisplay(mdf)",
       "commandTitle": "Visualization 1",
       "commandType": "auto",
       "commandVersion": 0,
       "commentThread": [],
       "commentsVisible": false,
       "contentSha256Hex": null,
       "customPlotOptions": {
        "redashChart": [
         {
          "key": "type",
          "value": "FUNNEL"
         },
         {
          "key": "options",
          "value": {
           "autoSort": true,
           "itemsLimit": 100,
           "numberFormat": "0,0.[00]",
           "percentFormat": "0[.]00%",
           "percentValuesRange": {
            "max": 1000,
            "min": 0.01
           },
           "sortKeyCol": {
            "colName": "monthly_total sale",
            "reverse": true
           },
           "stepCol": {
            "colName": "monthname",
            "displayAs": "Steps"
           },
           "valueCol": {
            "colName": "monthly_total sale",
            "displayAs": "Value"
           }
          }
         }
        ]
       },
       "datasetPreviewNameToCmdIdMap": {},
       "diffDeletes": [],
       "diffInserts": [],
       "displayType": "redashChart",
       "error": null,
       "errorDetails": null,
       "errorSummary": null,
       "errorTraceType": null,
       "finishTime": 0,
       "globalVars": {},
       "guid": "",
       "height": "auto",
       "hideCommandCode": false,
       "hideCommandResult": false,
       "iPythonMetadata": null,
       "inputWidgets": {},
       "isLockedInExamMode": false,
       "latestUser": "a user",
       "latestUserId": null,
       "listResultMetadata": null,
       "metadata": {
        "byteLimit": 2048000,
        "rowLimit": 10000
       },
       "nuid": "1b192b59-a565-43f4-92d3-02ff1bd01a3f",
       "origId": 0,
       "parentHierarchy": [],
       "pivotAggregation": null,
       "pivotColumns": null,
       "position": 21,
       "resultDbfsErrorMessage": null,
       "resultDbfsStatus": "INLINED_IN_TREE",
       "results": null,
       "showCommandTitle": false,
       "startTime": 0,
       "state": "input",
       "streamStates": {},
       "subcommandOptions": {},
       "submitTime": 0,
       "subtype": "tableResultSubCmd.visualization",
       "tableResultIndex": 0,
       "useConsistentColors": false,
       "version": "CommandV1",
       "width": "auto",
       "workflows": [],
       "xColumns": null,
       "yColumns": null
      }
     },
     "output_type": "display_data"
    }
   ],
   "source": [
    "mdf = df.groupBy('monthname').agg(\n",
    "    f.sum('sales')\n",
    ")\n",
    "mdf = mdf.withColumn('sum(sales)',f.round(mdf['sum(sales)'],1))\n",
    "mdf = mdf.withColumnRenamed('sum(sales)','monthly_total sale')\n",
    "mdf = mdf.orderBy(mdf['monthly_total sale'].desc())\n",
    "mdf.show()\n",
    "display(mdf)"
   ]
  },
  {
   "cell_type": "markdown",
   "metadata": {},
   "source": [
    "## Region wise total sales"
   ]
  },
  {
   "cell_type": "code",
   "execution_count": null,
   "metadata": {
    "application/vnd.databricks.v1+cell": {
     "cellMetadata": {
      "byteLimit": 2048000,
      "rowLimit": 10000
     },
     "inputWidgets": {},
     "nuid": "c3200cc7-5f09-4c45-8ce4-e121bea9da8d",
     "showTitle": true,
     "title": "Regionwise total sale"
    }
   },
   "outputs": [
    {
     "name": "stdout",
     "output_type": "stream",
     "text": [
      "+-------+---------------+\n",
      "| region|regionwise_sale|\n",
      "+-------+---------------+\n",
      "|  South|       386413.1|\n",
      "|Central|       489321.4|\n",
      "|   East|       663043.9|\n",
      "|   West|       698354.8|\n",
      "+-------+---------------+\n",
      "\n"
     ]
    },
    {
     "data": {
      "text/html": [
       "<style scoped>\n",
       "  .table-result-container {\n",
       "    max-height: 300px;\n",
       "    overflow: auto;\n",
       "  }\n",
       "  table, th, td {\n",
       "    border: 1px solid black;\n",
       "    border-collapse: collapse;\n",
       "  }\n",
       "  th, td {\n",
       "    padding: 5px;\n",
       "  }\n",
       "  th {\n",
       "    text-align: left;\n",
       "  }\n",
       "</style><div class='table-result-container'><table class='table-result'><thead style='background-color: white'><tr><th>region</th><th>regionwise_sale</th></tr></thead><tbody><tr><td>South</td><td>386413.1</td></tr><tr><td>Central</td><td>489321.4</td></tr><tr><td>East</td><td>663043.9</td></tr><tr><td>West</td><td>698354.8</td></tr></tbody></table></div>"
      ]
     },
     "metadata": {
      "application/vnd.databricks.v1+output": {
       "addedWidgets": {},
       "aggData": [],
       "aggError": "",
       "aggOverflow": false,
       "aggSchema": [],
       "aggSeriesLimitReached": false,
       "aggType": "",
       "arguments": {},
       "columnCustomDisplayInfos": {},
       "data": [
        [
         "South",
         386413.1
        ],
        [
         "Central",
         489321.4
        ],
        [
         "East",
         663043.9
        ],
        [
         "West",
         698354.8
        ]
       ],
       "datasetInfos": [],
       "dbfsResultPath": null,
       "isJsonSchema": true,
       "metadata": {},
       "overflow": false,
       "plotOptions": {
        "customPlotOptions": {},
        "displayType": "table",
        "pivotAggregation": null,
        "pivotColumns": null,
        "xColumns": null,
        "yColumns": null
       },
       "removedWidgets": [],
       "schema": [
        {
         "metadata": "{}",
         "name": "region",
         "type": "\"string\""
        },
        {
         "metadata": "{}",
         "name": "regionwise_sale",
         "type": "\"double\""
        }
       ],
       "type": "table"
      }
     },
     "output_type": "display_data"
    },
    {
     "data": {
      "text/plain": [
       "Databricks visualization. Run in Databricks to view."
      ]
     },
     "metadata": {
      "application/vnd.databricks.v1.subcommand+json": {
       "bindings": {},
       "collapsed": false,
       "command": "%python\n__backend_agg_display_orig = display\n__backend_agg_dfs = []\ndef __backend_agg_display_new(df):\n    __backend_agg_df_modules = [\"pandas.core.frame\", \"databricks.koalas.frame\", \"pyspark.sql.dataframe\", \"pyspark.pandas.frame\", \"pyspark.sql.connect.dataframe\"]\n    if (type(df).__module__ in __backend_agg_df_modules and type(df).__name__ == 'DataFrame') or isinstance(df, list):\n        __backend_agg_dfs.append(df)\n\ndisplay = __backend_agg_display_new\n\ndef __backend_agg_user_code_fn():\n    import base64\n    exec(base64.standard_b64decode(\"cmVnX2RmID0gZGYuZ3JvdXBCeSgncmVnaW9uJykuYWdnKAogICAgZi5zdW0oJ3NhbGVzJykKKQpyZWdfZGYgPSByZWdfZGYud2l0aENvbHVtbignc3VtKHNhbGVzKScsZi5yb3VuZChyZWdfZGZbJ3N1bShzYWxlcyknXSwxKSkKcmVnX2RmID0gcmVnX2RmLndpdGhDb2x1bW5SZW5hbWVkKCdzdW0oc2FsZXMpJywncmVnaW9ud2lzZV9zYWxlJykKcmVnX2RmLnNob3coKQpkaXNwbGF5KHJlZ19kZik=\").decode())\n\ntry:\n    # run user code\n    __backend_agg_user_code_fn()\n\n    #reset display function\n    display = __backend_agg_display_orig\n\n    if len(__backend_agg_dfs) > 0:\n        # create a temp view\n        if type(__backend_agg_dfs[0]).__module__ == \"databricks.koalas.frame\":\n            # koalas dataframe\n            __backend_agg_dfs[0].to_spark().createOrReplaceTempView(\"DatabricksViewec19d19\")\n        elif type(__backend_agg_dfs[0]).__module__ == \"pandas.core.frame\" or isinstance(__backend_agg_dfs[0], list):\n            # pandas dataframe\n            spark.createDataFrame(__backend_agg_dfs[0]).createOrReplaceTempView(\"DatabricksViewec19d19\")\n        else:\n            __backend_agg_dfs[0].createOrReplaceTempView(\"DatabricksViewec19d19\")\n        #run backend agg\n        display(spark.sql(\"\"\"WITH q AS (select * from DatabricksViewec19d19) SELECT `region`,SUM(`regionwise_sale`) `column_24effa9a10` FROM q GROUP BY `region`\"\"\"))\n    else:\n        displayHTML(\"dataframe no longer exists. If you're using dataframe.display(), use display(dataframe) instead.\")\n\n\nfinally:\n    spark.sql(\"drop view if exists DatabricksViewec19d19\")\n    display = __backend_agg_display_orig\n    del __backend_agg_display_new\n    del __backend_agg_display_orig\n    del __backend_agg_dfs\n    del __backend_agg_user_code_fn\n\n",
       "commandTitle": "Visualization 1",
       "commandType": "auto",
       "commandVersion": 0,
       "commentThread": [],
       "commentsVisible": false,
       "contentSha256Hex": null,
       "customPlotOptions": {
        "redashChart": [
         {
          "key": "type",
          "value": "CHART"
         },
         {
          "key": "options",
          "value": {
           "alignYAxesAtZero": true,
           "coefficient": 1,
           "columnConfigurationMap": {
            "x": {
             "column": "region",
             "id": "column_24effa9a9"
            },
            "y": [
             {
              "column": "regionwise_sale",
              "id": "column_24effa9a10",
              "transform": "SUM"
             }
            ]
           },
           "dateTimeFormat": "DD/MM/YYYY HH:mm",
           "direction": {
            "type": "counterclockwise"
           },
           "error_y": {
            "type": "data",
            "visible": true
           },
           "globalSeriesType": "column",
           "isAggregationOn": true,
           "legend": {
            "traceorder": "normal"
           },
           "missingValuesAsZero": true,
           "numberFormat": "0,0.[00000]",
           "percentFormat": "0[.]00%",
           "reverseX": false,
           "series": {
            "error_y": {
             "type": "data",
             "visible": true
            },
            "stacking": null
           },
           "seriesOptions": {
            "column_24effa9a10": {
             "color": "#A58AFF",
             "name": "regionwise_sale",
             "yAxis": 0
            }
           },
           "showDataLabels": true,
           "sizemode": "diameter",
           "sortX": true,
           "sortY": true,
           "swappedAxes": false,
           "textFormat": "",
           "useAggregationsUi": true,
           "valuesOptions": {},
           "version": 2,
           "xAxis": {
            "labels": {
             "enabled": true
            },
            "type": "-"
           },
           "yAxis": [
            {
             "type": "-"
            },
            {
             "opposite": true,
             "type": "-"
            }
           ]
          }
         }
        ]
       },
       "datasetPreviewNameToCmdIdMap": {},
       "diffDeletes": [],
       "diffInserts": [],
       "displayType": "redashChart",
       "error": null,
       "errorDetails": null,
       "errorSummary": null,
       "errorTraceType": null,
       "finishTime": 0,
       "globalVars": {},
       "guid": "",
       "height": "auto",
       "hideCommandCode": false,
       "hideCommandResult": false,
       "iPythonMetadata": null,
       "inputWidgets": {},
       "isLockedInExamMode": false,
       "latestUser": "a user",
       "latestUserId": null,
       "listResultMetadata": null,
       "metadata": {
        "byteLimit": 2048000,
        "rowLimit": 10000
       },
       "nuid": "6e552baf-73c3-4e69-8dc3-f9f1e714b0a4",
       "origId": 0,
       "parentHierarchy": [],
       "pivotAggregation": null,
       "pivotColumns": null,
       "position": 22,
       "resultDbfsErrorMessage": null,
       "resultDbfsStatus": "INLINED_IN_TREE",
       "results": null,
       "showCommandTitle": false,
       "startTime": 0,
       "state": "input",
       "streamStates": {},
       "subcommandOptions": {
        "queryPlan": {
         "groups": [
          {
           "column": "region",
           "type": "column"
          }
         ],
         "selects": [
          {
           "column": "region",
           "type": "column"
          },
          {
           "alias": "column_24effa9a10",
           "args": [
            {
             "column": "regionwise_sale",
             "type": "column"
            }
           ],
           "function": "SUM",
           "type": "function"
          }
         ]
        }
       },
       "submitTime": 0,
       "subtype": "tableResultSubCmd.visualization",
       "tableResultIndex": 0,
       "useConsistentColors": false,
       "version": "CommandV1",
       "width": "auto",
       "workflows": [],
       "xColumns": null,
       "yColumns": null
      }
     },
     "output_type": "display_data"
    }
   ],
   "source": [
    "reg_df = df.groupBy('region').agg(\n",
    "    f.sum('sales')\n",
    ")\n",
    "reg_df = reg_df.withColumn('sum(sales)',f.round(reg_df['sum(sales)'],1))\n",
    "reg_df = reg_df.withColumnRenamed('sum(sales)','regionwise_sale')\n",
    "reg_df.show()\n",
    "display(reg_df)"
   ]
  },
  {
   "cell_type": "markdown",
   "metadata": {},
   "source": [
    "## City wise top sales"
   ]
  },
  {
   "cell_type": "code",
   "execution_count": null,
   "metadata": {
    "application/vnd.databricks.v1+cell": {
     "cellMetadata": {
      "byteLimit": 2048000,
      "rowLimit": 10000
     },
     "inputWidgets": {},
     "nuid": "1d58f74d-0042-4b88-83c9-913a17a4fd8a",
     "showTitle": true,
     "title": "Citywise total sale"
    }
   },
   "outputs": [
    {
     "name": "stdout",
     "output_type": "stream",
     "text": [
      "+-------------+--------------+\n",
      "|         city|citywise_sales|\n",
      "+-------------+--------------+\n",
      "|New York City|      251343.4|\n",
      "|  Los Angeles|      170737.7|\n",
      "|      Seattle|      114338.2|\n",
      "|San Francisco|      107313.3|\n",
      "| Philadelphia|      107261.6|\n",
      "|      Houston|       63840.8|\n",
      "|    San Diego|       47115.1|\n",
      "|      Chicago|       47047.9|\n",
      "| Jacksonville|       44595.4|\n",
      "|      Detroit|       42302.9|\n",
      "+-------------+--------------+\n",
      "\n"
     ]
    },
    {
     "data": {
      "text/html": [
       "<style scoped>\n",
       "  .table-result-container {\n",
       "    max-height: 300px;\n",
       "    overflow: auto;\n",
       "  }\n",
       "  table, th, td {\n",
       "    border: 1px solid black;\n",
       "    border-collapse: collapse;\n",
       "  }\n",
       "  th, td {\n",
       "    padding: 5px;\n",
       "  }\n",
       "  th {\n",
       "    text-align: left;\n",
       "  }\n",
       "</style><div class='table-result-container'><table class='table-result'><thead style='background-color: white'><tr><th>city</th><th>citywise_sales</th></tr></thead><tbody><tr><td>New York City</td><td>251343.4</td></tr><tr><td>Los Angeles</td><td>170737.7</td></tr><tr><td>Seattle</td><td>114338.2</td></tr><tr><td>San Francisco</td><td>107313.3</td></tr><tr><td>Philadelphia</td><td>107261.6</td></tr><tr><td>Houston</td><td>63840.8</td></tr><tr><td>San Diego</td><td>47115.1</td></tr><tr><td>Chicago</td><td>47047.9</td></tr><tr><td>Jacksonville</td><td>44595.4</td></tr><tr><td>Detroit</td><td>42302.9</td></tr></tbody></table></div>"
      ]
     },
     "metadata": {
      "application/vnd.databricks.v1+output": {
       "addedWidgets": {},
       "aggData": [],
       "aggError": "",
       "aggOverflow": false,
       "aggSchema": [],
       "aggSeriesLimitReached": false,
       "aggType": "",
       "arguments": {},
       "columnCustomDisplayInfos": {},
       "data": [
        [
         "New York City",
         251343.4
        ],
        [
         "Los Angeles",
         170737.7
        ],
        [
         "Seattle",
         114338.2
        ],
        [
         "San Francisco",
         107313.3
        ],
        [
         "Philadelphia",
         107261.6
        ],
        [
         "Houston",
         63840.8
        ],
        [
         "San Diego",
         47115.1
        ],
        [
         "Chicago",
         47047.9
        ],
        [
         "Jacksonville",
         44595.4
        ],
        [
         "Detroit",
         42302.9
        ]
       ],
       "datasetInfos": [],
       "dbfsResultPath": null,
       "isJsonSchema": true,
       "metadata": {},
       "overflow": false,
       "plotOptions": {
        "customPlotOptions": {},
        "displayType": "table",
        "pivotAggregation": null,
        "pivotColumns": null,
        "xColumns": null,
        "yColumns": null
       },
       "removedWidgets": [],
       "schema": [
        {
         "metadata": "{}",
         "name": "city",
         "type": "\"string\""
        },
        {
         "metadata": "{}",
         "name": "citywise_sales",
         "type": "\"double\""
        }
       ],
       "type": "table"
      }
     },
     "output_type": "display_data"
    },
    {
     "data": {
      "text/plain": [
       "Databricks visualization. Run in Databricks to view."
      ]
     },
     "metadata": {
      "application/vnd.databricks.v1.subcommand+json": {
       "bindings": {},
       "collapsed": false,
       "command": "%python\n__backend_agg_display_orig = display\n__backend_agg_dfs = []\ndef __backend_agg_display_new(df):\n    __backend_agg_df_modules = [\"pandas.core.frame\", \"databricks.koalas.frame\", \"pyspark.sql.dataframe\", \"pyspark.pandas.frame\", \"pyspark.sql.connect.dataframe\"]\n    if (type(df).__module__ in __backend_agg_df_modules and type(df).__name__ == 'DataFrame') or isinstance(df, list):\n        __backend_agg_dfs.append(df)\n\ndisplay = __backend_agg_display_new\n\ndef __backend_agg_user_code_fn():\n    import base64\n    exec(base64.standard_b64decode(\"Y2l0eV9kZiA9IGRmLmdyb3VwQnkoJ2NpdHknKS5hZ2coCiAgICBmLnN1bSgnc2FsZXMnKQopCmNpdHlfZGYgPSBjaXR5X2RmLm9yZGVyQnkoY2l0eV9kZlsnc3VtKHNhbGVzKSddLmRlc2MoKSkubGltaXQoMTApCmNpdHlfZGYgPSBjaXR5X2RmLndpdGhDb2x1bW4oJ3N1bShzYWxlcyknLGYucm91bmQoY2l0eV9kZlsnc3VtKHNhbGVzKSddLDEpKQpjaXR5X2RmID0gY2l0eV9kZi53aXRoQ29sdW1uUmVuYW1lZCgnc3VtKHNhbGVzKScsJ2NpdHl3aXNlX3NhbGVzJykKY2l0eV9kZi5zaG93KCkKZGlzcGxheShjaXR5X2RmKQ==\").decode())\n\ntry:\n    # run user code\n    __backend_agg_user_code_fn()\n\n    #reset display function\n    display = __backend_agg_display_orig\n\n    if len(__backend_agg_dfs) > 0:\n        # create a temp view\n        if type(__backend_agg_dfs[0]).__module__ == \"databricks.koalas.frame\":\n            # koalas dataframe\n            __backend_agg_dfs[0].to_spark().createOrReplaceTempView(\"DatabricksView665382e\")\n        elif type(__backend_agg_dfs[0]).__module__ == \"pandas.core.frame\" or isinstance(__backend_agg_dfs[0], list):\n            # pandas dataframe\n            spark.createDataFrame(__backend_agg_dfs[0]).createOrReplaceTempView(\"DatabricksView665382e\")\n        else:\n            __backend_agg_dfs[0].createOrReplaceTempView(\"DatabricksView665382e\")\n        #run backend agg\n        display(spark.sql(\"\"\"WITH q AS (select * from DatabricksView665382e) SELECT `city`,SUM(`citywise_sales`) `column_24effa9a19` FROM q GROUP BY `city`\"\"\"))\n    else:\n        displayHTML(\"dataframe no longer exists. If you're using dataframe.display(), use display(dataframe) instead.\")\n\n\nfinally:\n    spark.sql(\"drop view if exists DatabricksView665382e\")\n    display = __backend_agg_display_orig\n    del __backend_agg_display_new\n    del __backend_agg_display_orig\n    del __backend_agg_dfs\n    del __backend_agg_user_code_fn\n\n",
       "commandTitle": "Visualization 1",
       "commandType": "auto",
       "commandVersion": 0,
       "commentThread": [],
       "commentsVisible": false,
       "contentSha256Hex": null,
       "customPlotOptions": {
        "redashChart": [
         {
          "key": "type",
          "value": "CHART"
         },
         {
          "key": "options",
          "value": {
           "alignYAxesAtZero": true,
           "coefficient": 1,
           "columnConfigurationMap": {
            "x": {
             "column": "city",
             "id": "column_24effa9a17"
            },
            "y": [
             {
              "column": "citywise_sales",
              "id": "column_24effa9a19",
              "transform": "SUM"
             }
            ]
           },
           "dateTimeFormat": "DD/MM/YYYY HH:mm",
           "direction": {
            "type": "counterclockwise"
           },
           "error_y": {
            "type": "data",
            "visible": true
           },
           "globalSeriesType": "column",
           "hideXAxis": false,
           "isAggregationOn": true,
           "legend": {
            "traceorder": "normal"
           },
           "missingValuesAsZero": true,
           "numBins": 10,
           "numberFormat": "0,0.[00000]",
           "percentFormat": "0[.]00%",
           "series": {
            "error_y": {
             "type": "data",
             "visible": true
            },
            "stacking": null
           },
           "seriesOptions": {
            "citywise_sales": {
             "type": "column",
             "yAxis": 0
            },
            "column_24effa9a16": {
             "type": "column",
             "yAxis": 0
            },
            "column_24effa9a19": {
             "color": "#8CFFB4",
             "type": "column",
             "yAxis": 0
            }
           },
           "showDataLabels": true,
           "sizemode": "diameter",
           "sortX": false,
           "sortY": true,
           "swappedAxes": false,
           "textFormat": "",
           "useAggregationsUi": true,
           "valuesOptions": {},
           "version": 2,
           "xAxis": {
            "labels": {
             "enabled": true
            },
            "type": "category"
           },
           "yAxis": [
            {
             "type": "-"
            },
            {
             "opposite": true,
             "type": "-"
            }
           ]
          }
         }
        ]
       },
       "datasetPreviewNameToCmdIdMap": {},
       "diffDeletes": [],
       "diffInserts": [],
       "displayType": "redashChart",
       "error": null,
       "errorDetails": null,
       "errorSummary": null,
       "errorTraceType": null,
       "finishTime": 0,
       "globalVars": {},
       "guid": "",
       "height": "auto",
       "hideCommandCode": false,
       "hideCommandResult": false,
       "iPythonMetadata": null,
       "inputWidgets": {},
       "isLockedInExamMode": false,
       "latestUser": "a user",
       "latestUserId": null,
       "listResultMetadata": null,
       "metadata": {
        "byteLimit": 2048000,
        "rowLimit": 10000
       },
       "nuid": "edcbf4d4-eb89-456a-acd0-a7f65b9315bf",
       "origId": 0,
       "parentHierarchy": [],
       "pivotAggregation": null,
       "pivotColumns": null,
       "position": 23,
       "resultDbfsErrorMessage": null,
       "resultDbfsStatus": "INLINED_IN_TREE",
       "results": null,
       "showCommandTitle": false,
       "startTime": 0,
       "state": "input",
       "streamStates": {},
       "subcommandOptions": {
        "queryPlan": {
         "groups": [
          {
           "column": "city",
           "type": "column"
          }
         ],
         "selects": [
          {
           "column": "city",
           "type": "column"
          },
          {
           "alias": "column_24effa9a19",
           "args": [
            {
             "column": "citywise_sales",
             "type": "column"
            }
           ],
           "function": "SUM",
           "type": "function"
          }
         ]
        }
       },
       "submitTime": 0,
       "subtype": "tableResultSubCmd.visualization",
       "tableResultIndex": 0,
       "useConsistentColors": false,
       "version": "CommandV1",
       "width": "auto",
       "workflows": [],
       "xColumns": null,
       "yColumns": null
      }
     },
     "output_type": "display_data"
    }
   ],
   "source": [
    "city_df = df.groupBy('city').agg(\n",
    "    f.sum('sales')\n",
    ")\n",
    "city_df = city_df.orderBy(city_df['sum(sales)'].desc()).limit(10)\n",
    "city_df = city_df.withColumn('sum(sales)',f.round(city_df['sum(sales)'],1))\n",
    "city_df = city_df.withColumnRenamed('sum(sales)','citywise_sales')\n",
    "city_df.show()\n",
    "display(city_df)"
   ]
  },
  {
   "cell_type": "markdown",
   "metadata": {},
   "source": [
    "## State wise top sales"
   ]
  },
  {
   "cell_type": "code",
   "execution_count": null,
   "metadata": {
    "application/vnd.databricks.v1+cell": {
     "cellMetadata": {
      "byteLimit": 2048000,
      "rowLimit": 10000
     },
     "inputWidgets": {},
     "nuid": "c14f8076-708d-477e-989a-f6fab5cdf909",
     "showTitle": true,
     "title": "Statewise Total Sale"
    }
   },
   "outputs": [
    {
     "name": "stdout",
     "output_type": "stream",
     "text": [
      "+------------+--------------+\n",
      "|       state|statewise_sale|\n",
      "+------------+--------------+\n",
      "|       Texas|      167954.5|\n",
      "|Pennsylvania|      114686.3|\n",
      "|        Ohio|       73489.9|\n",
      "|   Minnesota|       29863.1|\n",
      "|      Oregon|       17135.4|\n",
      "| Connecticut|       13317.8|\n",
      "|    Arkansas|       11495.2|\n",
      "|        Utah|       10575.0|\n",
      "|    Nebraska|        7447.3|\n",
      "|North Dakota|         919.9|\n",
      "+------------+--------------+\n",
      "\n"
     ]
    },
    {
     "data": {
      "text/html": [
       "<style scoped>\n",
       "  .table-result-container {\n",
       "    max-height: 300px;\n",
       "    overflow: auto;\n",
       "  }\n",
       "  table, th, td {\n",
       "    border: 1px solid black;\n",
       "    border-collapse: collapse;\n",
       "  }\n",
       "  th, td {\n",
       "    padding: 5px;\n",
       "  }\n",
       "  th {\n",
       "    text-align: left;\n",
       "  }\n",
       "</style><div class='table-result-container'><table class='table-result'><thead style='background-color: white'><tr><th>state</th><th>statewise_sale</th></tr></thead><tbody><tr><td>Texas</td><td>167954.5</td></tr><tr><td>Pennsylvania</td><td>114686.3</td></tr><tr><td>Ohio</td><td>73489.9</td></tr><tr><td>Minnesota</td><td>29863.1</td></tr><tr><td>Oregon</td><td>17135.4</td></tr><tr><td>Connecticut</td><td>13317.8</td></tr><tr><td>Arkansas</td><td>11495.2</td></tr><tr><td>Utah</td><td>10575.0</td></tr><tr><td>Nebraska</td><td>7447.3</td></tr><tr><td>North Dakota</td><td>919.9</td></tr></tbody></table></div>"
      ]
     },
     "metadata": {
      "application/vnd.databricks.v1+output": {
       "addedWidgets": {},
       "aggData": [],
       "aggError": "",
       "aggOverflow": false,
       "aggSchema": [],
       "aggSeriesLimitReached": false,
       "aggType": "",
       "arguments": {},
       "columnCustomDisplayInfos": {},
       "data": [
        [
         "Texas",
         167954.5
        ],
        [
         "Pennsylvania",
         114686.3
        ],
        [
         "Ohio",
         73489.9
        ],
        [
         "Minnesota",
         29863.1
        ],
        [
         "Oregon",
         17135.4
        ],
        [
         "Connecticut",
         13317.8
        ],
        [
         "Arkansas",
         11495.2
        ],
        [
         "Utah",
         10575
        ],
        [
         "Nebraska",
         7447.3
        ],
        [
         "North Dakota",
         919.9
        ]
       ],
       "datasetInfos": [],
       "dbfsResultPath": null,
       "isJsonSchema": true,
       "metadata": {},
       "overflow": false,
       "plotOptions": {
        "customPlotOptions": {},
        "displayType": "table",
        "pivotAggregation": null,
        "pivotColumns": null,
        "xColumns": null,
        "yColumns": null
       },
       "removedWidgets": [],
       "schema": [
        {
         "metadata": "{}",
         "name": "state",
         "type": "\"string\""
        },
        {
         "metadata": "{}",
         "name": "statewise_sale",
         "type": "\"double\""
        }
       ],
       "type": "table"
      }
     },
     "output_type": "display_data"
    },
    {
     "data": {
      "text/plain": [
       "Databricks visualization. Run in Databricks to view."
      ]
     },
     "metadata": {
      "application/vnd.databricks.v1.subcommand+json": {
       "bindings": {},
       "collapsed": false,
       "command": "%python\n__backend_agg_display_orig = display\n__backend_agg_dfs = []\ndef __backend_agg_display_new(df):\n    __backend_agg_df_modules = [\"pandas.core.frame\", \"databricks.koalas.frame\", \"pyspark.sql.dataframe\", \"pyspark.pandas.frame\", \"pyspark.sql.connect.dataframe\"]\n    if (type(df).__module__ in __backend_agg_df_modules and type(df).__name__ == 'DataFrame') or isinstance(df, list):\n        __backend_agg_dfs.append(df)\n\ndisplay = __backend_agg_display_new\n\ndef __backend_agg_user_code_fn():\n    import base64\n    exec(base64.standard_b64decode(\"c3RfZGYgPSBkZi5ncm91cEJ5KCdzdGF0ZScpLmFnZygKICAgIGYuc3VtKCdzYWxlcycpCikKc3RfZGYgPSBzdF9kZi53aXRoQ29sdW1uKCdzdW0oc2FsZXMpJyxmLnJvdW5kKHN0X2RmWydzdW0oc2FsZXMpJ10sMSkpLmxpbWl0KDEwKQpzdF9kZiA9IHN0X2RmLndpdGhDb2x1bW5SZW5hbWVkKCdzdW0oc2FsZXMpJywnc3RhdGV3aXNlX3NhbGUnKQpzdF9kZiA9IHN0X2RmLm9yZGVyQnkoc3RfZGZbJ3N0YXRld2lzZV9zYWxlJ10uZGVzYygpKQpzdF9kZi5zaG93KCkKZGlzcGxheShzdF9kZik=\").decode())\n\ntry:\n    # run user code\n    __backend_agg_user_code_fn()\n\n    #reset display function\n    display = __backend_agg_display_orig\n\n    if len(__backend_agg_dfs) > 0:\n        # create a temp view\n        if type(__backend_agg_dfs[0]).__module__ == \"databricks.koalas.frame\":\n            # koalas dataframe\n            __backend_agg_dfs[0].to_spark().createOrReplaceTempView(\"DatabricksView64c38a3\")\n        elif type(__backend_agg_dfs[0]).__module__ == \"pandas.core.frame\" or isinstance(__backend_agg_dfs[0], list):\n            # pandas dataframe\n            spark.createDataFrame(__backend_agg_dfs[0]).createOrReplaceTempView(\"DatabricksView64c38a3\")\n        else:\n            __backend_agg_dfs[0].createOrReplaceTempView(\"DatabricksView64c38a3\")\n        #run backend agg\n        display(spark.sql(\"\"\"WITH q AS (select * from DatabricksView64c38a3) SELECT `state`,SUM(`statewise_sale`) `column_24effa9a21` FROM q GROUP BY `state`\"\"\"))\n    else:\n        displayHTML(\"dataframe no longer exists. If you're using dataframe.display(), use display(dataframe) instead.\")\n\n\nfinally:\n    spark.sql(\"drop view if exists DatabricksView64c38a3\")\n    display = __backend_agg_display_orig\n    del __backend_agg_display_new\n    del __backend_agg_display_orig\n    del __backend_agg_dfs\n    del __backend_agg_user_code_fn\n\n",
       "commandTitle": "Visualization 1",
       "commandType": "auto",
       "commandVersion": 0,
       "commentThread": [],
       "commentsVisible": false,
       "contentSha256Hex": null,
       "customPlotOptions": {
        "redashChart": [
         {
          "key": "type",
          "value": "CHART"
         },
         {
          "key": "options",
          "value": {
           "alignYAxesAtZero": true,
           "coefficient": 1,
           "columnConfigurationMap": {
            "x": {
             "column": "state",
             "id": "column_24effa9a20"
            },
            "y": [
             {
              "column": "statewise_sale",
              "id": "column_24effa9a21",
              "transform": "SUM"
             }
            ]
           },
           "dateTimeFormat": "DD/MM/YYYY HH:mm",
           "direction": {
            "type": "counterclockwise"
           },
           "error_y": {
            "type": "data",
            "visible": true
           },
           "globalSeriesType": "combo",
           "isAggregationOn": true,
           "legend": {
            "traceorder": "normal"
           },
           "missingValuesAsZero": true,
           "numberFormat": "0,0.[00000]",
           "percentFormat": "0[.]00%",
           "series": {
            "error_y": {
             "type": "data",
             "visible": true
            },
            "stacking": null
           },
           "seriesOptions": {
            "column_24effa9a21": {
             "color": "#00B6EB",
             "name": "statewise_sale",
             "type": "column",
             "yAxis": 0
            }
           },
           "showDataLabels": true,
           "sizemode": "diameter",
           "sortX": false,
           "sortY": true,
           "swappedAxes": false,
           "textFormat": "",
           "useAggregationsUi": true,
           "valuesOptions": {},
           "version": 2,
           "xAxis": {
            "labels": {
             "enabled": true
            },
            "type": "-"
           },
           "yAxis": [
            {
             "type": "-"
            },
            {
             "opposite": true,
             "type": "-"
            }
           ]
          }
         }
        ]
       },
       "datasetPreviewNameToCmdIdMap": {},
       "diffDeletes": [],
       "diffInserts": [],
       "displayType": "redashChart",
       "error": null,
       "errorDetails": null,
       "errorSummary": null,
       "errorTraceType": null,
       "finishTime": 0,
       "globalVars": {},
       "guid": "",
       "height": "auto",
       "hideCommandCode": false,
       "hideCommandResult": false,
       "iPythonMetadata": null,
       "inputWidgets": {},
       "isLockedInExamMode": false,
       "latestUser": "a user",
       "latestUserId": null,
       "listResultMetadata": null,
       "metadata": {
        "byteLimit": 2048000,
        "rowLimit": 10000
       },
       "nuid": "e79288d1-b4ff-4cb2-8758-f5bc62cbd32f",
       "origId": 0,
       "parentHierarchy": [],
       "pivotAggregation": null,
       "pivotColumns": null,
       "position": 24,
       "resultDbfsErrorMessage": null,
       "resultDbfsStatus": "INLINED_IN_TREE",
       "results": null,
       "showCommandTitle": false,
       "startTime": 0,
       "state": "input",
       "streamStates": {},
       "subcommandOptions": {
        "queryPlan": {
         "groups": [
          {
           "column": "state",
           "type": "column"
          }
         ],
         "selects": [
          {
           "column": "state",
           "type": "column"
          },
          {
           "alias": "column_24effa9a21",
           "args": [
            {
             "column": "statewise_sale",
             "type": "column"
            }
           ],
           "function": "SUM",
           "type": "function"
          }
         ]
        }
       },
       "submitTime": 0,
       "subtype": "tableResultSubCmd.visualization",
       "tableResultIndex": 0,
       "useConsistentColors": false,
       "version": "CommandV1",
       "width": "auto",
       "workflows": [],
       "xColumns": null,
       "yColumns": null
      }
     },
     "output_type": "display_data"
    },
    {
     "data": {
      "text/plain": [
       "Databricks visualization. Run in Databricks to view."
      ]
     },
     "metadata": {
      "application/vnd.databricks.v1.subcommand+json": {
       "bindings": {},
       "collapsed": false,
       "command": "%python\n__backend_agg_display_orig = display\n__backend_agg_dfs = []\ndef __backend_agg_display_new(df):\n    __backend_agg_df_modules = [\"pandas.core.frame\", \"databricks.koalas.frame\", \"pyspark.sql.dataframe\", \"pyspark.pandas.frame\", \"pyspark.sql.connect.dataframe\"]\n    if (type(df).__module__ in __backend_agg_df_modules and type(df).__name__ == 'DataFrame') or isinstance(df, list):\n        __backend_agg_dfs.append(df)\n\ndisplay = __backend_agg_display_new\n\ndef __backend_agg_user_code_fn():\n    import base64\n    exec(base64.standard_b64decode(\"c3RfZGYgPSBkZi5ncm91cEJ5KCdzdGF0ZScpLmFnZygKICAgIGYuc3VtKCdzYWxlcycpCikKc3RfZGYgPSBzdF9kZi53aXRoQ29sdW1uKCdzdW0oc2FsZXMpJyxmLnJvdW5kKHN0X2RmWydzdW0oc2FsZXMpJ10sMSkpLmxpbWl0KDEwKQpzdF9kZiA9IHN0X2RmLndpdGhDb2x1bW5SZW5hbWVkKCdzdW0oc2FsZXMpJywnc3RhdGV3aXNlX3NhbGUnKQpzdF9kZiA9IHN0X2RmLm9yZGVyQnkoc3RfZGZbJ3N0YXRld2lzZV9zYWxlJ10uZGVzYygpKQpzdF9kZi5zaG93KCkKZGlzcGxheShzdF9kZik=\").decode())\n\ntry:\n    # run user code\n    __backend_agg_user_code_fn()\n\n    #reset display function\n    display = __backend_agg_display_orig\n\n    if len(__backend_agg_dfs) > 0:\n        # create a temp view\n        if type(__backend_agg_dfs[0]).__module__ == \"databricks.koalas.frame\":\n            # koalas dataframe\n            __backend_agg_dfs[0].to_spark().createOrReplaceTempView(\"DatabricksView8c9995b\")\n        elif type(__backend_agg_dfs[0]).__module__ == \"pandas.core.frame\" or isinstance(__backend_agg_dfs[0], list):\n            # pandas dataframe\n            spark.createDataFrame(__backend_agg_dfs[0]).createOrReplaceTempView(\"DatabricksView8c9995b\")\n        else:\n            __backend_agg_dfs[0].createOrReplaceTempView(\"DatabricksView8c9995b\")\n        #run backend agg\n        display(spark.sql(\"\"\"WITH q AS (select * from DatabricksView8c9995b) SELECT `state`,SUM(`statewise_sale`) `column_24effa9a26` FROM q GROUP BY `state`\"\"\"))\n    else:\n        displayHTML(\"dataframe no longer exists. If you're using dataframe.display(), use display(dataframe) instead.\")\n\n\nfinally:\n    spark.sql(\"drop view if exists DatabricksView8c9995b\")\n    display = __backend_agg_display_orig\n    del __backend_agg_display_new\n    del __backend_agg_display_orig\n    del __backend_agg_dfs\n    del __backend_agg_user_code_fn\n\n",
       "commandTitle": "Visualization 2",
       "commandType": "auto",
       "commandVersion": 0,
       "commentThread": [],
       "commentsVisible": false,
       "contentSha256Hex": null,
       "customPlotOptions": {
        "redashChart": [
         {
          "key": "type",
          "value": "CHART"
         },
         {
          "key": "options",
          "value": {
           "alignYAxesAtZero": true,
           "coefficient": 1,
           "columnConfigurationMap": {
            "x": {
             "column": "state",
             "id": "column_24effa9a25"
            },
            "y": [
             {
              "column": "statewise_sale",
              "id": "column_24effa9a26",
              "transform": "SUM"
             }
            ]
           },
           "dateTimeFormat": "DD/MM/YYYY HH:mm",
           "direction": {
            "type": "counterclockwise"
           },
           "error_y": {
            "type": "data",
            "visible": true
           },
           "globalSeriesType": "pie",
           "isAggregationOn": true,
           "legend": {
            "traceorder": "normal"
           },
           "missingValuesAsZero": true,
           "numberFormat": "0,0.[00000]",
           "percentFormat": "0[.]00%",
           "series": {
            "error_y": {
             "type": "data",
             "visible": true
            },
            "stacking": null
           },
           "seriesOptions": {
            "column_24effa9a26": {
             "name": "statewise_sale",
             "type": "pie",
             "yAxis": 0
            },
            "column_24effa9a28": {
             "type": "pie",
             "yAxis": 0
            }
           },
           "showDataLabels": true,
           "sizemode": "diameter",
           "sortX": true,
           "sortY": true,
           "swappedAxes": false,
           "textFormat": "",
           "useAggregationsUi": true,
           "valuesOptions": {},
           "version": 2,
           "xAxis": {
            "labels": {
             "enabled": true
            },
            "type": "-"
           },
           "yAxis": [
            {
             "type": "-"
            },
            {
             "opposite": true,
             "type": "-"
            }
           ]
          }
         }
        ]
       },
       "datasetPreviewNameToCmdIdMap": {},
       "diffDeletes": [],
       "diffInserts": [],
       "displayType": "redashChart",
       "error": null,
       "errorDetails": null,
       "errorSummary": null,
       "errorTraceType": null,
       "finishTime": 0,
       "globalVars": {},
       "guid": "",
       "height": "auto",
       "hideCommandCode": false,
       "hideCommandResult": false,
       "iPythonMetadata": null,
       "inputWidgets": {},
       "isLockedInExamMode": false,
       "latestUser": "a user",
       "latestUserId": null,
       "listResultMetadata": null,
       "metadata": {
        "byteLimit": 2048000,
        "rowLimit": 10000
       },
       "nuid": "f7ebee04-29c8-441c-993e-170aa3629bc1",
       "origId": 0,
       "parentHierarchy": [],
       "pivotAggregation": null,
       "pivotColumns": null,
       "position": 25,
       "resultDbfsErrorMessage": null,
       "resultDbfsStatus": "INLINED_IN_TREE",
       "results": null,
       "showCommandTitle": false,
       "startTime": 0,
       "state": "input",
       "streamStates": {},
       "subcommandOptions": {
        "queryPlan": {
         "groups": [
          {
           "column": "state",
           "type": "column"
          }
         ],
         "selects": [
          {
           "column": "state",
           "type": "column"
          },
          {
           "alias": "column_24effa9a26",
           "args": [
            {
             "column": "statewise_sale",
             "type": "column"
            }
           ],
           "function": "SUM",
           "type": "function"
          }
         ]
        }
       },
       "submitTime": 0,
       "subtype": "tableResultSubCmd.visualization",
       "tableResultIndex": 0,
       "useConsistentColors": false,
       "version": "CommandV1",
       "width": "auto",
       "workflows": [],
       "xColumns": null,
       "yColumns": null
      }
     },
     "output_type": "display_data"
    }
   ],
   "source": [
    "st_df = df.groupBy('state').agg(\n",
    "    f.sum('sales')\n",
    ")\n",
    "st_df = st_df.withColumn('sum(sales)',f.round(st_df['sum(sales)'],1)).limit(10)\n",
    "st_df = st_df.withColumnRenamed('sum(sales)','statewise_sale')\n",
    "st_df = st_df.orderBy(st_df['statewise_sale'].desc())\n",
    "st_df.show()\n",
    "display(st_df)"
   ]
  },
  {
   "cell_type": "markdown",
   "metadata": {},
   "source": [
    "## Lets concatenate category and sub-category columns"
   ]
  },
  {
   "cell_type": "code",
   "execution_count": null,
   "metadata": {
    "application/vnd.databricks.v1+cell": {
     "cellMetadata": {
      "byteLimit": 2048000,
      "rowLimit": 10000
     },
     "inputWidgets": {},
     "nuid": "53849165-6d19-415b-8991-f54a1b1a9041",
     "showTitle": true,
     "title": "Concatenate Category,Sub-category columns"
    }
   },
   "outputs": [
    {
     "name": "stdout",
     "output_type": "stream",
     "text": [
      "+--------------+----------+----------+--------------+---------+-------------+---------------+----------+------+---------------+------------+--------+----------+-----------+---------+--------------------+\n",
      "|      order id|order date| ship date|     ship mode|  segment|      country|           city|     state|region|       category|sub-category|   sales|order year|order month|monthname|          cat_subcat|\n",
      "+--------------+----------+----------+--------------+---------+-------------+---------------+----------+------+---------------+------------+--------+----------+-----------+---------+--------------------+\n",
      "|CA-2017-152156|2017-11-08|2017-11-11|  Second Class| Consumer|United States|      Henderson|  Kentucky| South|      Furniture|   Bookcases|  261.96|      2017|         11| November| Furniture-Bookcases|\n",
      "|CA-2017-152156|2017-11-08|2017-11-11|  Second Class| Consumer|United States|      Henderson|  Kentucky| South|      Furniture|      Chairs|  731.94|      2017|         11| November|    Furniture-Chairs|\n",
      "|CA-2017-138688|2017-06-12|2017-06-16|  Second Class|Corporate|United States|    Los Angeles|California|  West|Office Supplies|      Labels|   14.62|      2017|          6|     June|Office Supplies-L...|\n",
      "|US-2016-108966|2016-10-11|2016-10-18|Standard Class| Consumer|United States|Fort Lauderdale|   Florida| South|      Furniture|      Tables|957.5775|      2016|         10|  October|    Furniture-Tables|\n",
      "|US-2016-108966|2016-10-11|2016-10-18|Standard Class| Consumer|United States|Fort Lauderdale|   Florida| South|Office Supplies|     Storage|  22.368|      2016|         10|  October|Office Supplies-S...|\n",
      "+--------------+----------+----------+--------------+---------+-------------+---------------+----------+------+---------------+------------+--------+----------+-----------+---------+--------------------+\n",
      "only showing top 5 rows\n",
      "\n"
     ]
    }
   ],
   "source": [
    "con_df = df.withColumn('cat_subcat',f.concat(df['category'],f.lit('-'),df['sub-category']))\n",
    "con_df.show(5)"
   ]
  },
  {
   "cell_type": "markdown",
   "metadata": {},
   "source": [
    "## Category/sub-category wise total sales"
   ]
  },
  {
   "cell_type": "code",
   "execution_count": null,
   "metadata": {
    "application/vnd.databricks.v1+cell": {
     "cellMetadata": {
      "byteLimit": 2048000,
      "rowLimit": 10000
     },
     "inputWidgets": {},
     "nuid": "c95e5c8f-35eb-4208-ba53-d096b5433735",
     "showTitle": true,
     "title": "Category_Sub-category wise total sale"
    }
   },
   "outputs": [
    {
     "name": "stdout",
     "output_type": "stream",
     "text": [
      "+--------------------+-----------+\n",
      "|          cat_subcat|total_sales|\n",
      "+--------------------+-----------+\n",
      "|   Technology-Phones|   327528.5|\n",
      "|    Furniture-Chairs|   322822.7|\n",
      "|Office Supplies-S...|   212303.0|\n",
      "|    Furniture-Tables|   202810.6|\n",
      "|Office Supplies-B...|   196538.2|\n",
      "| Technology-Machines|   189238.6|\n",
      "|Technology-Access...|   164186.7|\n",
      "|  Technology-Copiers|   146248.1|\n",
      "| Furniture-Bookcases|   113813.2|\n",
      "|Office Supplies-A...|   104618.4|\n",
      "|Furniture-Furnish...|    80344.9|\n",
      "|Office Supplies-P...|    73797.5|\n",
      "|Office Supplies-S...|    45852.1|\n",
      "| Office Supplies-Art|    26705.4|\n",
      "|Office Supplies-E...|    14991.1|\n",
      "|Office Supplies-L...|    12347.7|\n",
      "|Office Supplies-F...|     2986.3|\n",
      "+--------------------+-----------+\n",
      "\n"
     ]
    },
    {
     "data": {
      "text/html": [
       "<style scoped>\n",
       "  .table-result-container {\n",
       "    max-height: 300px;\n",
       "    overflow: auto;\n",
       "  }\n",
       "  table, th, td {\n",
       "    border: 1px solid black;\n",
       "    border-collapse: collapse;\n",
       "  }\n",
       "  th, td {\n",
       "    padding: 5px;\n",
       "  }\n",
       "  th {\n",
       "    text-align: left;\n",
       "  }\n",
       "</style><div class='table-result-container'><table class='table-result'><thead style='background-color: white'><tr><th>cat_subcat</th><th>total_sales</th></tr></thead><tbody><tr><td>Technology-Phones</td><td>327528.5</td></tr><tr><td>Furniture-Chairs</td><td>322822.7</td></tr><tr><td>Office Supplies-Storage</td><td>212303.0</td></tr><tr><td>Furniture-Tables</td><td>202810.6</td></tr><tr><td>Office Supplies-Binders</td><td>196538.2</td></tr><tr><td>Technology-Machines</td><td>189238.6</td></tr><tr><td>Technology-Accessories</td><td>164186.7</td></tr><tr><td>Technology-Copiers</td><td>146248.1</td></tr><tr><td>Furniture-Bookcases</td><td>113813.2</td></tr><tr><td>Office Supplies-Appliances</td><td>104618.4</td></tr><tr><td>Furniture-Furnishings</td><td>80344.9</td></tr><tr><td>Office Supplies-Paper</td><td>73797.5</td></tr><tr><td>Office Supplies-Supplies</td><td>45852.1</td></tr><tr><td>Office Supplies-Art</td><td>26705.4</td></tr><tr><td>Office Supplies-Envelopes</td><td>14991.1</td></tr><tr><td>Office Supplies-Labels</td><td>12347.7</td></tr><tr><td>Office Supplies-Fasteners</td><td>2986.3</td></tr></tbody></table></div>"
      ]
     },
     "metadata": {
      "application/vnd.databricks.v1+output": {
       "addedWidgets": {},
       "aggData": [],
       "aggError": "",
       "aggOverflow": false,
       "aggSchema": [],
       "aggSeriesLimitReached": false,
       "aggType": "",
       "arguments": {},
       "columnCustomDisplayInfos": {},
       "data": [
        [
         "Technology-Phones",
         327528.5
        ],
        [
         "Furniture-Chairs",
         322822.7
        ],
        [
         "Office Supplies-Storage",
         212303
        ],
        [
         "Furniture-Tables",
         202810.6
        ],
        [
         "Office Supplies-Binders",
         196538.2
        ],
        [
         "Technology-Machines",
         189238.6
        ],
        [
         "Technology-Accessories",
         164186.7
        ],
        [
         "Technology-Copiers",
         146248.1
        ],
        [
         "Furniture-Bookcases",
         113813.2
        ],
        [
         "Office Supplies-Appliances",
         104618.4
        ],
        [
         "Furniture-Furnishings",
         80344.9
        ],
        [
         "Office Supplies-Paper",
         73797.5
        ],
        [
         "Office Supplies-Supplies",
         45852.1
        ],
        [
         "Office Supplies-Art",
         26705.4
        ],
        [
         "Office Supplies-Envelopes",
         14991.1
        ],
        [
         "Office Supplies-Labels",
         12347.7
        ],
        [
         "Office Supplies-Fasteners",
         2986.3
        ]
       ],
       "datasetInfos": [],
       "dbfsResultPath": null,
       "isJsonSchema": true,
       "metadata": {},
       "overflow": false,
       "plotOptions": {
        "customPlotOptions": {},
        "displayType": "table",
        "pivotAggregation": null,
        "pivotColumns": null,
        "xColumns": null,
        "yColumns": null
       },
       "removedWidgets": [],
       "schema": [
        {
         "metadata": "{}",
         "name": "cat_subcat",
         "type": "\"string\""
        },
        {
         "metadata": "{}",
         "name": "total_sales",
         "type": "\"double\""
        }
       ],
       "type": "table"
      }
     },
     "output_type": "display_data"
    },
    {
     "data": {
      "text/plain": [
       "Databricks visualization. Run in Databricks to view."
      ]
     },
     "metadata": {
      "application/vnd.databricks.v1.subcommand+json": {
       "bindings": {},
       "collapsed": false,
       "command": "%python\n__backend_agg_display_orig = display\n__backend_agg_dfs = []\ndef __backend_agg_display_new(df):\n    __backend_agg_df_modules = [\"pandas.core.frame\", \"databricks.koalas.frame\", \"pyspark.sql.dataframe\", \"pyspark.pandas.frame\", \"pyspark.sql.connect.dataframe\"]\n    if (type(df).__module__ in __backend_agg_df_modules and type(df).__name__ == 'DataFrame') or isinstance(df, list):\n        __backend_agg_dfs.append(df)\n\ndisplay = __backend_agg_display_new\n\ndef __backend_agg_user_code_fn():\n    import base64\n    exec(base64.standard_b64decode(\"ZnJvbSBweXNwYXJrLnNxbC5mdW5jdGlvbnMgaW1wb3J0IGNvbCxzdW0KY2F0c3ViX2RmID0gY29uX2RmLmdyb3VwQnkoJ2NhdF9zdWJjYXQnKSBcCiAgICAuYWdnKHN1bSgnc2FsZXMnKS5hbGlhcygndG90YWxfc2FsZXMnKSkgXAogICAgLm9yZGVyQnkoY29sKCd0b3RhbF9zYWxlcycpLmRlc2MoKSkKCmNhdHN1Yl9kZiA9IGNhdHN1Yl9kZi53aXRoQ29sdW1uKCd0b3RhbF9zYWxlcycsZi5yb3VuZChjYXRzdWJfZGZbJ3RvdGFsX3NhbGVzJ10sMSkpCmNhdHN1Yl9kZi5zaG93KCkKZGlzcGxheShjYXRzdWJfZGYp\").decode())\n\ntry:\n    # run user code\n    __backend_agg_user_code_fn()\n\n    #reset display function\n    display = __backend_agg_display_orig\n\n    if len(__backend_agg_dfs) > 0:\n        # create a temp view\n        if type(__backend_agg_dfs[0]).__module__ == \"databricks.koalas.frame\":\n            # koalas dataframe\n            __backend_agg_dfs[0].to_spark().createOrReplaceTempView(\"DatabricksView1301c99\")\n        elif type(__backend_agg_dfs[0]).__module__ == \"pandas.core.frame\" or isinstance(__backend_agg_dfs[0], list):\n            # pandas dataframe\n            spark.createDataFrame(__backend_agg_dfs[0]).createOrReplaceTempView(\"DatabricksView1301c99\")\n        else:\n            __backend_agg_dfs[0].createOrReplaceTempView(\"DatabricksView1301c99\")\n        #run backend agg\n        display(spark.sql(\"\"\"WITH q AS (select * from DatabricksView1301c99) SELECT `cat_subcat`,SUM(`total_sales`) `column_24effa9a30` FROM q GROUP BY `cat_subcat`\"\"\"))\n    else:\n        displayHTML(\"dataframe no longer exists. If you're using dataframe.display(), use display(dataframe) instead.\")\n\n\nfinally:\n    spark.sql(\"drop view if exists DatabricksView1301c99\")\n    display = __backend_agg_display_orig\n    del __backend_agg_display_new\n    del __backend_agg_display_orig\n    del __backend_agg_dfs\n    del __backend_agg_user_code_fn\n\n",
       "commandTitle": "Visualization 1",
       "commandType": "auto",
       "commandVersion": 0,
       "commentThread": [],
       "commentsVisible": false,
       "contentSha256Hex": null,
       "customPlotOptions": {
        "redashChart": [
         {
          "key": "type",
          "value": "CHART"
         },
         {
          "key": "options",
          "value": {
           "alignYAxesAtZero": true,
           "coefficient": 1,
           "columnConfigurationMap": {
            "x": {
             "column": "cat_subcat",
             "id": "column_24effa9a29"
            },
            "y": [
             {
              "column": "total_sales",
              "id": "column_24effa9a30",
              "transform": "SUM"
             }
            ]
           },
           "dateTimeFormat": "DD/MM/YYYY HH:mm",
           "direction": {
            "type": "counterclockwise"
           },
           "error_y": {
            "type": "data",
            "visible": true
           },
           "globalSeriesType": "column",
           "isAggregationOn": true,
           "legend": {
            "traceorder": "normal"
           },
           "missingValuesAsZero": true,
           "numberFormat": "0,0.[00000]",
           "percentFormat": "0[.]00%",
           "series": {
            "error_y": {
             "type": "data",
             "visible": true
            },
            "percentValues": false,
            "stacking": "stack"
           },
           "seriesOptions": {
            "column_24effa9a30": {
             "color": "#8CFFB4",
             "name": "total_sales",
             "yAxis": 0
            }
           },
           "showDataLabels": true,
           "sizemode": "diameter",
           "sortX": true,
           "sortY": true,
           "swappedAxes": false,
           "textFormat": "",
           "useAggregationsUi": true,
           "valuesOptions": {},
           "version": 2,
           "xAxis": {
            "labels": {
             "enabled": true
            },
            "type": "-"
           },
           "yAxis": [
            {
             "type": "-"
            },
            {
             "opposite": true,
             "type": "-"
            }
           ]
          }
         }
        ]
       },
       "datasetPreviewNameToCmdIdMap": {},
       "diffDeletes": [],
       "diffInserts": [],
       "displayType": "redashChart",
       "error": null,
       "errorDetails": null,
       "errorSummary": null,
       "errorTraceType": null,
       "finishTime": 0,
       "globalVars": {},
       "guid": "",
       "height": "auto",
       "hideCommandCode": false,
       "hideCommandResult": false,
       "iPythonMetadata": null,
       "inputWidgets": {},
       "isLockedInExamMode": false,
       "latestUser": "a user",
       "latestUserId": null,
       "listResultMetadata": null,
       "metadata": {
        "byteLimit": 2048000,
        "rowLimit": 10000
       },
       "nuid": "76c5319b-da98-44c2-b93a-ef308ec5ca49",
       "origId": 0,
       "parentHierarchy": [],
       "pivotAggregation": null,
       "pivotColumns": null,
       "position": 26,
       "resultDbfsErrorMessage": null,
       "resultDbfsStatus": "INLINED_IN_TREE",
       "results": null,
       "showCommandTitle": false,
       "startTime": 0,
       "state": "input",
       "streamStates": {},
       "subcommandOptions": {
        "queryPlan": {
         "groups": [
          {
           "column": "cat_subcat",
           "type": "column"
          }
         ],
         "selects": [
          {
           "column": "cat_subcat",
           "type": "column"
          },
          {
           "alias": "column_24effa9a30",
           "args": [
            {
             "column": "total_sales",
             "type": "column"
            }
           ],
           "function": "SUM",
           "type": "function"
          }
         ]
        }
       },
       "submitTime": 0,
       "subtype": "tableResultSubCmd.visualization",
       "tableResultIndex": 0,
       "useConsistentColors": false,
       "version": "CommandV1",
       "width": "auto",
       "workflows": [],
       "xColumns": null,
       "yColumns": null
      }
     },
     "output_type": "display_data"
    }
   ],
   "source": [
    "from pyspark.sql.functions import col,sum\n",
    "catsub_df = con_df.groupBy('cat_subcat') \\\n",
    "    .agg(sum('sales').alias('total_sales')) \\\n",
    "    .orderBy(col('total_sales').desc())\n",
    "\n",
    "catsub_df = catsub_df.withColumn('total_sales',f.round(catsub_df['total_sales'],1))\n",
    "catsub_df.show()\n",
    "display(catsub_df)"
   ]
  },
  {
   "cell_type": "code",
   "execution_count": null,
   "metadata": {
    "application/vnd.databricks.v1+cell": {
     "cellMetadata": {
      "byteLimit": 2048000,
      "rowLimit": 10000
     },
     "inputWidgets": {},
     "nuid": "bc75afb5-4c04-44a3-8734-a68ef6cb79f5",
     "showTitle": true,
     "title": "Ship mode analysis"
    }
   },
   "outputs": [
    {
     "name": "stdout",
     "output_type": "stream",
     "text": [
      "+--------------+----------+----------+--------------+---------+-------------+---------------+----------+------+---------------+------------+--------+----------+-----------+---------+\n",
      "|      order id|order date| ship date|     ship mode|  segment|      country|           city|     state|region|       category|sub-category|   sales|order year|order month|monthname|\n",
      "+--------------+----------+----------+--------------+---------+-------------+---------------+----------+------+---------------+------------+--------+----------+-----------+---------+\n",
      "|CA-2017-152156|2017-11-08|2017-11-11|  Second Class| Consumer|United States|      Henderson|  Kentucky| South|      Furniture|   Bookcases|  261.96|      2017|         11| November|\n",
      "|CA-2017-152156|2017-11-08|2017-11-11|  Second Class| Consumer|United States|      Henderson|  Kentucky| South|      Furniture|      Chairs|  731.94|      2017|         11| November|\n",
      "|CA-2017-138688|2017-06-12|2017-06-16|  Second Class|Corporate|United States|    Los Angeles|California|  West|Office Supplies|      Labels|   14.62|      2017|          6|     June|\n",
      "|US-2016-108966|2016-10-11|2016-10-18|Standard Class| Consumer|United States|Fort Lauderdale|   Florida| South|      Furniture|      Tables|957.5775|      2016|         10|  October|\n",
      "|US-2016-108966|2016-10-11|2016-10-18|Standard Class| Consumer|United States|Fort Lauderdale|   Florida| South|Office Supplies|     Storage|  22.368|      2016|         10|  October|\n",
      "+--------------+----------+----------+--------------+---------+-------------+---------------+----------+------+---------------+------------+--------+----------+-----------+---------+\n",
      "only showing top 5 rows\n",
      "\n"
     ]
    }
   ],
   "source": [
    "df.show(5)"
   ]
  },
  {
   "cell_type": "markdown",
   "metadata": {},
   "source": [
    "## Ship mode analysis"
   ]
  },
  {
   "cell_type": "code",
   "execution_count": null,
   "metadata": {
    "application/vnd.databricks.v1+cell": {
     "cellMetadata": {
      "byteLimit": 2048000,
      "rowLimit": 10000
     },
     "inputWidgets": {},
     "nuid": "af2fa9dc-e041-4670-805e-097c98492efb",
     "showTitle": false,
     "title": ""
    }
   },
   "outputs": [
    {
     "name": "stdout",
     "output_type": "stream",
     "text": [
      "+--------------+-----+\n",
      "|     ship mode|count|\n",
      "+--------------+-----+\n",
      "|Standard Class| 5859|\n",
      "|  Second Class| 1902|\n",
      "|   First Class| 1501|\n",
      "|      Same Day|  538|\n",
      "+--------------+-----+\n",
      "\n"
     ]
    }
   ],
   "source": [
    "ship_df = df.groupBy('ship mode').count().orderBy('count',ascending=False)\n",
    "ship_df.show()"
   ]
  },
  {
   "cell_type": "markdown",
   "metadata": {},
   "source": [
    "## Total sales on behalf of ship mode"
   ]
  },
  {
   "cell_type": "code",
   "execution_count": null,
   "metadata": {
    "application/vnd.databricks.v1+cell": {
     "cellMetadata": {
      "byteLimit": 2048000,
      "rowLimit": 10000
     },
     "inputWidgets": {},
     "nuid": "022edf0c-2b35-4ae2-89aa-fa0c512e0789",
     "showTitle": false,
     "title": ""
    }
   },
   "outputs": [
    {
     "name": "stdout",
     "output_type": "stream",
     "text": [
      "+--------------+--------------+\n",
      "|     ship mode|shipmode_sales|\n",
      "+--------------+--------------+\n",
      "|Standard Class|     1325110.6|\n",
      "|  Second Class|      444062.5|\n",
      "|   First Class|      343716.6|\n",
      "|      Same Day|      124243.5|\n",
      "+--------------+--------------+\n",
      "\n"
     ]
    },
    {
     "data": {
      "text/html": [
       "<style scoped>\n",
       "  .table-result-container {\n",
       "    max-height: 300px;\n",
       "    overflow: auto;\n",
       "  }\n",
       "  table, th, td {\n",
       "    border: 1px solid black;\n",
       "    border-collapse: collapse;\n",
       "  }\n",
       "  th, td {\n",
       "    padding: 5px;\n",
       "  }\n",
       "  th {\n",
       "    text-align: left;\n",
       "  }\n",
       "</style><div class='table-result-container'><table class='table-result'><thead style='background-color: white'><tr><th>ship mode</th><th>shipmode_sales</th></tr></thead><tbody><tr><td>Standard Class</td><td>1325110.6</td></tr><tr><td>Second Class</td><td>444062.5</td></tr><tr><td>First Class</td><td>343716.6</td></tr><tr><td>Same Day</td><td>124243.5</td></tr></tbody></table></div>"
      ]
     },
     "metadata": {
      "application/vnd.databricks.v1+output": {
       "addedWidgets": {},
       "aggData": [],
       "aggError": "",
       "aggOverflow": false,
       "aggSchema": [],
       "aggSeriesLimitReached": false,
       "aggType": "",
       "arguments": {},
       "columnCustomDisplayInfos": {},
       "data": [
        [
         "Standard Class",
         1325110.6
        ],
        [
         "Second Class",
         444062.5
        ],
        [
         "First Class",
         343716.6
        ],
        [
         "Same Day",
         124243.5
        ]
       ],
       "datasetInfos": [],
       "dbfsResultPath": null,
       "isJsonSchema": true,
       "metadata": {},
       "overflow": false,
       "plotOptions": {
        "customPlotOptions": {},
        "displayType": "table",
        "pivotAggregation": null,
        "pivotColumns": null,
        "xColumns": null,
        "yColumns": null
       },
       "removedWidgets": [],
       "schema": [
        {
         "metadata": "{}",
         "name": "ship mode",
         "type": "\"string\""
        },
        {
         "metadata": "{}",
         "name": "shipmode_sales",
         "type": "\"double\""
        }
       ],
       "type": "table"
      }
     },
     "output_type": "display_data"
    },
    {
     "data": {
      "text/plain": [
       "Databricks visualization. Run in Databricks to view."
      ]
     },
     "metadata": {
      "application/vnd.databricks.v1.subcommand+json": {
       "bindings": {},
       "collapsed": false,
       "command": "%python\n__backend_agg_display_orig = display\n__backend_agg_dfs = []\ndef __backend_agg_display_new(df):\n    __backend_agg_df_modules = [\"pandas.core.frame\", \"databricks.koalas.frame\", \"pyspark.sql.dataframe\", \"pyspark.pandas.frame\", \"pyspark.sql.connect.dataframe\"]\n    if (type(df).__module__ in __backend_agg_df_modules and type(df).__name__ == 'DataFrame') or isinstance(df, list):\n        __backend_agg_dfs.append(df)\n\ndisplay = __backend_agg_display_new\n\ndef __backend_agg_user_code_fn():\n    import base64\n    exec(base64.standard_b64decode(\"c2hpcF9kZjEgPSBkZi5ncm91cEJ5KCdzaGlwIG1vZGUnKSBcCiAgICAuYWdnKHN1bSgnc2FsZXMnKS5hbGlhcygnc2hpcG1vZGVfc2FsZXMnKSkgXAogICAgLm9yZGVyQnkoY29sKCdzaGlwbW9kZV9zYWxlcycpLmRlc2MoKSkKc2hpcF9kZjEgPSBzaGlwX2RmMS53aXRoQ29sdW1uKCdzaGlwbW9kZV9zYWxlcycsZi5yb3VuZChjb2woJ3NoaXBtb2RlX3NhbGVzJyksMSkpCnNoaXBfZGYxLnNob3coKQpkaXNwbGF5KHNoaXBfZGYxKQ==\").decode())\n\ntry:\n    # run user code\n    __backend_agg_user_code_fn()\n\n    #reset display function\n    display = __backend_agg_display_orig\n\n    if len(__backend_agg_dfs) > 0:\n        # create a temp view\n        if type(__backend_agg_dfs[0]).__module__ == \"databricks.koalas.frame\":\n            # koalas dataframe\n            __backend_agg_dfs[0].to_spark().createOrReplaceTempView(\"DatabricksViewa45cbf5\")\n        elif type(__backend_agg_dfs[0]).__module__ == \"pandas.core.frame\" or isinstance(__backend_agg_dfs[0], list):\n            # pandas dataframe\n            spark.createDataFrame(__backend_agg_dfs[0]).createOrReplaceTempView(\"DatabricksViewa45cbf5\")\n        else:\n            __backend_agg_dfs[0].createOrReplaceTempView(\"DatabricksViewa45cbf5\")\n        #run backend agg\n        display(spark.sql(\"\"\"WITH q AS (select * from DatabricksViewa45cbf5) SELECT `ship mode`,SUM(`shipmode_sales`) `column_24effa9a32` FROM q GROUP BY `ship mode`\"\"\"))\n    else:\n        displayHTML(\"dataframe no longer exists. If you're using dataframe.display(), use display(dataframe) instead.\")\n\n\nfinally:\n    spark.sql(\"drop view if exists DatabricksViewa45cbf5\")\n    display = __backend_agg_display_orig\n    del __backend_agg_display_new\n    del __backend_agg_display_orig\n    del __backend_agg_dfs\n    del __backend_agg_user_code_fn\n\n",
       "commandTitle": "Visualization 1",
       "commandType": "auto",
       "commandVersion": 0,
       "commentThread": [],
       "commentsVisible": false,
       "contentSha256Hex": null,
       "customPlotOptions": {
        "redashChart": [
         {
          "key": "type",
          "value": "CHART"
         },
         {
          "key": "options",
          "value": {
           "alignYAxesAtZero": true,
           "coefficient": 1,
           "columnConfigurationMap": {
            "x": {
             "column": "ship mode",
             "id": "column_24effa9a31"
            },
            "y": [
             {
              "column": "shipmode_sales",
              "id": "column_24effa9a32",
              "transform": "SUM"
             }
            ]
           },
           "dateTimeFormat": "DD/MM/YYYY HH:mm",
           "direction": {
            "type": "counterclockwise"
           },
           "error_y": {
            "type": "data",
            "visible": true
           },
           "globalSeriesType": "column",
           "isAggregationOn": true,
           "legend": {
            "traceorder": "normal"
           },
           "missingValuesAsZero": true,
           "numberFormat": "0,0.[00000]",
           "percentFormat": "0[.]00%",
           "series": {
            "error_y": {
             "type": "data",
             "visible": true
            },
            "stacking": null
           },
           "seriesOptions": {
            "column_24effa9a32": {
             "color": "#F771E9",
             "name": "shipmode_sales",
             "yAxis": 0
            }
           },
           "showDataLabels": true,
           "sizemode": "diameter",
           "sortX": true,
           "sortY": true,
           "swappedAxes": true,
           "textFormat": "",
           "useAggregationsUi": true,
           "valuesOptions": {},
           "version": 2,
           "xAxis": {
            "labels": {
             "enabled": true
            },
            "type": "-"
           },
           "yAxis": [
            {
             "type": "-"
            },
            {
             "opposite": true,
             "type": "-"
            }
           ]
          }
         }
        ]
       },
       "datasetPreviewNameToCmdIdMap": {},
       "diffDeletes": [],
       "diffInserts": [],
       "displayType": "redashChart",
       "error": null,
       "errorDetails": null,
       "errorSummary": null,
       "errorTraceType": null,
       "finishTime": 0,
       "globalVars": {},
       "guid": "",
       "height": "auto",
       "hideCommandCode": false,
       "hideCommandResult": false,
       "iPythonMetadata": null,
       "inputWidgets": {},
       "isLockedInExamMode": false,
       "latestUser": "a user",
       "latestUserId": null,
       "listResultMetadata": null,
       "metadata": {
        "byteLimit": 2048000,
        "rowLimit": 10000
       },
       "nuid": "e7902fa3-14f3-4873-9f64-0898998d9d21",
       "origId": 0,
       "parentHierarchy": [],
       "pivotAggregation": null,
       "pivotColumns": null,
       "position": 29,
       "resultDbfsErrorMessage": null,
       "resultDbfsStatus": "INLINED_IN_TREE",
       "results": null,
       "showCommandTitle": false,
       "startTime": 0,
       "state": "input",
       "streamStates": {},
       "subcommandOptions": {
        "queryPlan": {
         "groups": [
          {
           "column": "ship mode",
           "type": "column"
          }
         ],
         "selects": [
          {
           "column": "ship mode",
           "type": "column"
          },
          {
           "alias": "column_24effa9a32",
           "args": [
            {
             "column": "shipmode_sales",
             "type": "column"
            }
           ],
           "function": "SUM",
           "type": "function"
          }
         ]
        }
       },
       "submitTime": 0,
       "subtype": "tableResultSubCmd.visualization",
       "tableResultIndex": 0,
       "useConsistentColors": false,
       "version": "CommandV1",
       "width": "auto",
       "workflows": [],
       "xColumns": null,
       "yColumns": null
      }
     },
     "output_type": "display_data"
    }
   ],
   "source": [
    "ship_df1 = df.groupBy('ship mode') \\\n",
    "    .agg(sum('sales').alias('shipmode_sales')) \\\n",
    "    .orderBy(col('shipmode_sales').desc())\n",
    "ship_df1 = ship_df1.withColumn('shipmode_sales',f.round(col('shipmode_sales'),1))\n",
    "ship_df1.show()\n",
    "display(ship_df1)"
   ]
  },
  {
   "cell_type": "code",
   "execution_count": null,
   "metadata": {
    "application/vnd.databricks.v1+cell": {
     "cellMetadata": {},
     "inputWidgets": {},
     "nuid": "af05ae1f-68d9-4abe-8bb3-1b30c1f441d1",
     "showTitle": false,
     "title": ""
    }
   },
   "outputs": [],
   "source": []
  }
 ],
 "metadata": {
  "application/vnd.databricks.v1+notebook": {
   "dashboards": [],
   "language": "python",
   "notebookMetadata": {
    "pythonIndentUnit": 4
   },
   "notebookName": "Superstore Analysis Using Pyspark",
   "widgets": {
    "category": {
     "currentValue": "Office Supplies",
     "nuid": "d6fbe5c8-34f6-48dc-ae50-e198524360e1",
     "widgetInfo": {
      "defaultValue": "",
      "label": "Choose category",
      "name": "category",
      "options": {
       "autoCreated": null,
       "choices": [
        "Office Supplies",
        "Furniture",
        "Technology"
       ],
       "widgetType": "dropdown"
      },
      "widgetType": "combobox"
     }
    },
    "segment": {
     "currentValue": "Consumer",
     "nuid": "e9e5a9fd-e7ae-4d2e-95d4-2a7ff3201dfc",
     "widgetInfo": {
      "defaultValue": "",
      "label": "Choose segment",
      "name": "segment",
      "options": {
       "autoCreated": null,
       "choices": [
        "Consumer",
        "Corporate",
        "Home Office"
       ],
       "widgetType": "dropdown"
      },
      "widgetType": "combobox"
     }
    }
   }
  },
  "language_info": {
   "name": "python"
  }
 },
 "nbformat": 4,
 "nbformat_minor": 0
}
