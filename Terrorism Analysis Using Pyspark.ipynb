{
 "cells": [
  {
   "cell_type": "markdown",
   "metadata": {},
   "source": [
    "## Loading Data"
   ]
  },
  {
   "cell_type": "code",
   "execution_count": null,
   "metadata": {
    "application/vnd.databricks.v1+cell": {
     "cellMetadata": {
      "byteLimit": 2048000,
      "rowLimit": 10000
     },
     "inputWidgets": {},
     "nuid": "e65bb22d-a951-4712-a374-1c0f84c70ccf",
     "showTitle": false,
     "title": ""
    }
   },
   "outputs": [
    {
     "name": "stdout",
     "output_type": "stream",
     "text": [
      "+----------+--------+------------------+----------------+--------------+------+--------------------+-------+----+--------------------+--------------------+---------+\n",
      "|      DATE| COUNTRY|             STATE|            CITY|     SUBREGION|REGION|         PERPETRATOR|INJURED|DEAD|         DESCRIPTION|         COORDINATES| CATEGORY|\n",
      "+----------+--------+------------------+----------------+--------------+------+--------------------+-------+----+--------------------+--------------------+---------+\n",
      "|2023-04-02|  Russia|              null|Saint Petersburg|Eastern Europe|Europe|       Darya Trepova|     42|   1|During a speech b...|64.6863136,97.745...|Explosion|\n",
      "|2023-03-06|Pakistan|             Sindh|         Karachi| Southern Asia|  Asia|Tehreek-e-Jihad P...|     13|   9|A terrorist attac...|24.8546842,67.020...|Explosion|\n",
      "|2023-02-17|Pakistan|             Sindh|         Karachi| Southern Asia|  Asia|Tehrik-i-Taliban ...|     16|   5|The 2023 Karachi ...|24.8546842,67.020...|  Assault|\n",
      "|2023-01-30|Pakistan|Khyber Pakhtunkhwa|        Peshawar| Southern Asia|  Asia|     Jamaat-ul-Ahrar|    220| 101|A suicide attacke...|34.0123846,71.578...|Explosion|\n",
      "|2023-01-27|  Israel|Jerusalem District|       Jerusalem|  Western Asia|  Asia|Palestinian Islam...|      3|   7|Seven people were...|31.7788242,35.225...|  Assault|\n",
      "+----------+--------+------------------+----------------+--------------+------+--------------------+-------+----+--------------------+--------------------+---------+\n",
      "only showing top 5 rows\n",
      "\n"
     ]
    }
   ],
   "source": [
    "df = spark.read.csv('/FileStore/tables/klapeye_global_terrorism.csv',header=True,inferSchema=True)\n",
    "df.show(5)"
   ]
  },
  {
   "cell_type": "code",
   "execution_count": null,
   "metadata": {
    "application/vnd.databricks.v1+cell": {
     "cellMetadata": {
      "byteLimit": 2048000,
      "rowLimit": 10000
     },
     "inputWidgets": {},
     "nuid": "0e649297-7ff5-4b5d-8d4d-0a1bfc0044b0",
     "showTitle": false,
     "title": ""
    }
   },
   "outputs": [
    {
     "name": "stdout",
     "output_type": "stream",
     "text": [
      "root\n",
      " |-- DATE: date (nullable = true)\n",
      " |-- COUNTRY: string (nullable = true)\n",
      " |-- STATE: string (nullable = true)\n",
      " |-- CITY: string (nullable = true)\n",
      " |-- SUBREGION: string (nullable = true)\n",
      " |-- REGION: string (nullable = true)\n",
      " |-- PERPETRATOR: string (nullable = true)\n",
      " |-- INJURED: integer (nullable = true)\n",
      " |-- DEAD: integer (nullable = true)\n",
      " |-- DESCRIPTION: string (nullable = true)\n",
      " |-- COORDINATES: string (nullable = true)\n",
      " |-- CATEGORY: string (nullable = true)\n",
      "\n"
     ]
    }
   ],
   "source": [
    "df.printSchema()"
   ]
  },
  {
   "cell_type": "code",
   "execution_count": null,
   "metadata": {
    "application/vnd.databricks.v1+cell": {
     "cellMetadata": {
      "byteLimit": 2048000,
      "rowLimit": 10000
     },
     "inputWidgets": {},
     "nuid": "fa60775a-688a-4cb9-a3ce-8c3f7e0140ff",
     "showTitle": false,
     "title": ""
    }
   },
   "outputs": [
    {
     "name": "stdout",
     "output_type": "stream",
     "text": [
      "<class 'pyspark.sql.dataframe.DataFrame'>\n"
     ]
    }
   ],
   "source": [
    "print(type(df))"
   ]
  },
  {
   "cell_type": "code",
   "execution_count": null,
   "metadata": {
    "application/vnd.databricks.v1+cell": {
     "cellMetadata": {
      "byteLimit": 2048000,
      "rowLimit": 10000
     },
     "inputWidgets": {},
     "nuid": "ac8c1f11-a55a-4fec-b988-d0e40f686c03",
     "showTitle": false,
     "title": ""
    }
   },
   "outputs": [
    {
     "name": "stdout",
     "output_type": "stream",
     "text": [
      "Out[4]: [('DATE', 'date'),\n",
      " ('COUNTRY', 'string'),\n",
      " ('STATE', 'string'),\n",
      " ('CITY', 'string'),\n",
      " ('SUBREGION', 'string'),\n",
      " ('REGION', 'string'),\n",
      " ('PERPETRATOR', 'string'),\n",
      " ('INJURED', 'int'),\n",
      " ('DEAD', 'int'),\n",
      " ('DESCRIPTION', 'string'),\n",
      " ('COORDINATES', 'string'),\n",
      " ('CATEGORY', 'string')]"
     ]
    }
   ],
   "source": [
    "df.dtypes"
   ]
  },
  {
   "cell_type": "code",
   "execution_count": null,
   "metadata": {
    "application/vnd.databricks.v1+cell": {
     "cellMetadata": {
      "byteLimit": 2048000,
      "rowLimit": 10000
     },
     "inputWidgets": {},
     "nuid": "59a055f0-77cc-4827-925b-993c7a47c8d5",
     "showTitle": false,
     "title": ""
    }
   },
   "outputs": [
    {
     "name": "stdout",
     "output_type": "stream",
     "text": [
      "Out[5]: 27177"
     ]
    }
   ],
   "source": [
    "df.count()"
   ]
  },
  {
   "cell_type": "markdown",
   "metadata": {},
   "source": [
    "## Partitioning Dataframe"
   ]
  },
  {
   "cell_type": "code",
   "execution_count": null,
   "metadata": {
    "application/vnd.databricks.v1+cell": {
     "cellMetadata": {
      "byteLimit": 2048000,
      "rowLimit": 10000
     },
     "inputWidgets": {},
     "nuid": "69021080-22d1-4669-a116-444a86a07b61",
     "showTitle": true,
     "title": "Partitioning Dataframe"
    }
   },
   "outputs": [],
   "source": [
    "part_df = df.write.format('csv').option('header',True).partitionBy('COUNTRY').mode('overwrite').save('/datapartition/country')"
   ]
  },
  {
   "cell_type": "markdown",
   "metadata": {},
   "source": [
    "##  loading Partitioned data"
   ]
  },
  {
   "cell_type": "code",
   "execution_count": null,
   "metadata": {
    "application/vnd.databricks.v1+cell": {
     "cellMetadata": {
      "byteLimit": 2048000,
      "rowLimit": 10000
     },
     "inputWidgets": {},
     "nuid": "9ce7a963-2b81-4f8a-aa18-307581d484ac",
     "showTitle": true,
     "title": " loading Partitioned data"
    }
   },
   "outputs": [
    {
     "name": "stdout",
     "output_type": "stream",
     "text": [
      "+----------+-------------------+-------+------------+------+--------------------+-------+----+--------------------+--------------------+---------+-------+\n",
      "|      DATE|              STATE|   CITY|   SUBREGION|REGION|         PERPETRATOR|INJURED|DEAD|         DESCRIPTION|         COORDINATES| CATEGORY|COUNTRY|\n",
      "+----------+-------------------+-------+------------+------+--------------------+-------+----+--------------------+--------------------+---------+-------+\n",
      "|2022-01-21| Diyala Governorate|   null|Western Asia|  Asia|Islamic State ins...|   null|  11|ISIL gunmen storm...|34.0228719,45.104...|  Assault|   Iraq|\n",
      "|2021-11-07|Baghdad Governorate|Baghdad|Western Asia|  Asia|   Kata'ib Hezbollah|      6|   0|A failed attempt ...|33.3024309,44.378...|Explosion|   Iraq|\n",
      "|2021-01-21|Baghdad Governorate|Baghdad|Western Asia|  Asia|       Islamic State|    110|  34|Two suicide bombe...|33.3024309,44.378...|Explosion|   Iraq|\n",
      "|2018-04-12|               null|   null|Western Asia|  Asia|       Islamic State|     18|  25|25 people were ki...|33.0955793,44.174...|Explosion|   Iraq|\n",
      "|2018-01-15|Baghdad Governorate|Baghdad|Western Asia|  Asia|       Islamic State|    105|  38|38 people were ki...|33.3024309,44.378...|Explosion|   Iraq|\n",
      "+----------+-------------------+-------+------------+------+--------------------+-------+----+--------------------+--------------------+---------+-------+\n",
      "only showing top 5 rows\n",
      "\n"
     ]
    }
   ],
   "source": [
    "part_df = spark.read.csv('/datapartition/country',header=True,inferSchema=True)\n",
    "part_df.show(5)"
   ]
  },
  {
   "cell_type": "markdown",
   "metadata": {},
   "source": [
    "## Loading data Country='India'"
   ]
  },
  {
   "cell_type": "code",
   "execution_count": null,
   "metadata": {
    "application/vnd.databricks.v1+cell": {
     "cellMetadata": {
      "byteLimit": 2048000,
      "rowLimit": 10000
     },
     "inputWidgets": {},
     "nuid": "f45cb683-ffe8-4ad7-bad1-254849745003",
     "showTitle": true,
     "title": "Loading data Country='India'"
    }
   },
   "outputs": [
    {
     "name": "stdout",
     "output_type": "stream",
     "text": [
      "+----------+-----------------+----------+-------------+------+--------------------+-------+----+--------------------+--------------------+---------+\n",
      "|      DATE|            STATE|      CITY|    SUBREGION|REGION|         PERPETRATOR|INJURED|DEAD|         DESCRIPTION|         COORDINATES| CATEGORY|\n",
      "+----------+-----------------+----------+-------------+------+--------------------+-------+----+--------------------+--------------------+---------+\n",
      "|2022-06-28|        Rajasthan|   Udaipur|Southern Asia|  Asia|           Islamists|      0|   1|A Hindu tailor wa...|24.61263988748612...|  Assault|\n",
      "|2021-04-03|     Chhattisgarh|      null|Southern Asia|  Asia|            Naxalite|     32|  22|The 2021 Sukma-Bi...|21.6637359,81.840...|Explosion|\n",
      "|2019-10-29|Jammu and Kashmir|    Kulgam|Southern Asia|  Asia|Hizbul Mujahideen...|      1|   7|Eight Bengali Mus...|33.66980055000000...|     null|\n",
      "|2019-06-12|Jammu and Kashmir|      null|Southern Asia|  Asia|Hizbul Mujahideen...|      4|   5|Militants killed ...|34.0747444,74.820...|  Assault|\n",
      "|2019-05-01|      Maharashtra|Gadchiroli|Southern Asia|  Asia|            Naxalite|      0|  16|15 police personn...|19.75907035000000...|Explosion|\n",
      "+----------+-----------------+----------+-------------+------+--------------------+-------+----+--------------------+--------------------+---------+\n",
      "only showing top 5 rows\n",
      "\n"
     ]
    }
   ],
   "source": [
    "ind_df = spark.read.csv('/datapartition/country/COUNTRY=India',header=True,inferSchema=True)\n",
    "ind_df.show(5)"
   ]
  },
  {
   "cell_type": "markdown",
   "metadata": {},
   "source": [
    "## Filtering"
   ]
  },
  {
   "cell_type": "code",
   "execution_count": null,
   "metadata": {
    "application/vnd.databricks.v1+cell": {
     "cellMetadata": {
      "byteLimit": 2048000,
      "rowLimit": 10000
     },
     "inputWidgets": {},
     "nuid": "db762193-b666-49d4-8800-730f723f12d0",
     "showTitle": true,
     "title": "Filtering"
    }
   },
   "outputs": [
    {
     "name": "stdout",
     "output_type": "stream",
     "text": [
      "+----------+-----------------+-------+-------------+------+--------------------+-------+----+--------------------+--------------------+---------+-------+\n",
      "|      DATE|            STATE|   CITY|    SUBREGION|REGION|         PERPETRATOR|INJURED|DEAD|         DESCRIPTION|         COORDINATES| CATEGORY|COUNTRY|\n",
      "+----------+-----------------+-------+-------------+------+--------------------+-------+----+--------------------+--------------------+---------+-------+\n",
      "|2021-04-03|     Chhattisgarh|   null|Southern Asia|  Asia|            Naxalite|     32|  22|The 2021 Sukma-Bi...|21.6637359,81.840...|Explosion|  India|\n",
      "|2019-10-29|Jammu and Kashmir| Kulgam|Southern Asia|  Asia|Hizbul Mujahideen...|      1|   7|Eight Bengali Mus...|33.66980055000000...|     null|  India|\n",
      "|2019-06-12|Jammu and Kashmir|   null|Southern Asia|  Asia|Hizbul Mujahideen...|      4|   5|Militants killed ...|34.0747444,74.820...|  Assault|  India|\n",
      "|2019-03-07|Jammu and Kashmir|   null|Southern Asia|  Asia|                null|     35|   3|One of the injure...|34.0747444,74.820...|Explosion|  India|\n",
      "|2019-02-14|Jammu and Kashmir|Pulwama|Southern Asia|  Asia|Jaish-e-Mohammad ...|     35|  40|40 personnel belo...|33.89829355,74.89...|Explosion|  India|\n",
      "+----------+-----------------+-------+-------------+------+--------------------+-------+----+--------------------+--------------------+---------+-------+\n",
      "only showing top 5 rows\n",
      "\n"
     ]
    }
   ],
   "source": [
    "filter_df = part_df.filter((part_df['COUNTRY']=='India') & (part_df['INJURED']>0))\n",
    "filter_df.show(5)"
   ]
  },
  {
   "cell_type": "markdown",
   "metadata": {},
   "source": [
    "## Creating Widgets"
   ]
  },
  {
   "cell_type": "code",
   "execution_count": null,
   "metadata": {
    "application/vnd.databricks.v1+cell": {
     "cellMetadata": {
      "byteLimit": 2048000,
      "rowLimit": 10000
     },
     "inputWidgets": {},
     "nuid": "37c3c635-afb3-4632-9c84-7be47a3ee94f",
     "showTitle": true,
     "title": "Creating Widgets"
    }
   },
   "outputs": [],
   "source": [
    "dbutils.widgets.combobox('Country','India',['India','Pakistan','Afghanistan','Iran','Israel','Turkey','Russia','United States'],'Choose Country')"
   ]
  },
  {
   "cell_type": "code",
   "execution_count": null,
   "metadata": {
    "application/vnd.databricks.v1+cell": {
     "cellMetadata": {
      "byteLimit": 2048000,
      "rowLimit": 10000
     },
     "inputWidgets": {},
     "nuid": "4f1ad144-61ed-4ec6-8a07-2ad33a44d480",
     "showTitle": false,
     "title": ""
    }
   },
   "outputs": [],
   "source": [
    "coun = dbutils.widgets.get('Country')"
   ]
  },
  {
   "cell_type": "code",
   "execution_count": null,
   "metadata": {
    "application/vnd.databricks.v1+cell": {
     "cellMetadata": {
      "byteLimit": 2048000,
      "rowLimit": 10000
     },
     "inputWidgets": {},
     "nuid": "9c3b69e4-0ecd-4fd2-9f6c-d7a64f48179b",
     "showTitle": false,
     "title": ""
    }
   },
   "outputs": [
    {
     "name": "stdout",
     "output_type": "stream",
     "text": [
      "+----------+-------+-----------------+----------+-------------+------+--------------------+-------+----+--------------------+--------------------+---------+\n",
      "|      DATE|COUNTRY|            STATE|      CITY|    SUBREGION|REGION|         PERPETRATOR|INJURED|DEAD|         DESCRIPTION|         COORDINATES| CATEGORY|\n",
      "+----------+-------+-----------------+----------+-------------+------+--------------------+-------+----+--------------------+--------------------+---------+\n",
      "|2022-06-28|  India|        Rajasthan|   Udaipur|Southern Asia|  Asia|           Islamists|      0|   1|A Hindu tailor wa...|24.61263988748612...|  Assault|\n",
      "|2021-04-03|  India|     Chhattisgarh|      null|Southern Asia|  Asia|            Naxalite|     32|  22|The 2021 Sukma-Bi...|21.6637359,81.840...|Explosion|\n",
      "|2019-10-29|  India|Jammu and Kashmir|    Kulgam|Southern Asia|  Asia|Hizbul Mujahideen...|      1|   7|Eight Bengali Mus...|33.66980055000000...|     null|\n",
      "|2019-06-12|  India|Jammu and Kashmir|      null|Southern Asia|  Asia|Hizbul Mujahideen...|      4|   5|Militants killed ...|34.0747444,74.820...|  Assault|\n",
      "|2019-05-01|  India|      Maharashtra|Gadchiroli|Southern Asia|  Asia|            Naxalite|      0|  16|15 police personn...|19.75907035000000...|Explosion|\n",
      "|2019-04-09|  India|     Chhattisgarh|      null|Southern Asia|  Asia|            Naxalite|      0|   5|In one of the wor...|21.6637359,81.840...|Explosion|\n",
      "|2019-04-09|  India|Jammu and Kashmir|      null|Southern Asia|  Asia|                null|      0|   2|Militants killed ...|34.0747444,74.820...|  Assault|\n",
      "|2019-03-07|  India|Jammu and Kashmir|      null|Southern Asia|  Asia|                null|     35|   3|One of the injure...|34.0747444,74.820...|Explosion|\n",
      "|2019-02-14|  India|Jammu and Kashmir|   Pulwama|Southern Asia|  Asia|Jaish-e-Mohammad ...|     35|  40|40 personnel belo...|33.89829355,74.89...|Explosion|\n",
      "|2018-11-01|  India|             null|      null|Southern Asia|  Asia|United Liberation...|      2|   5|Suspected militan...|22.3511148,78.667...|     null|\n",
      "|2018-03-13|  India|     Chhattisgarh|      null|Southern Asia|  Asia|                 CPI|     10|   9|Nine paramilitary...|21.6637359,81.840...|Explosion|\n",
      "|2018-02-11|  India|Jammu and Kashmir|     Jammu|Southern Asia|  Asia|Jaish-e-Mohammad ...|     11|   7|Jaish e Mohammed ...|32.7185614,74.858...|     null|\n",
      "|2018-02-10|  India|Jammu and Kashmir|      null|Southern Asia|  Asia|Jaish-e-Mohammad ...|      7|  20|On 10 February 20...|34.0747444,74.820...|  Assault|\n",
      "|2017-07-10|  India|Jammu and Kashmir|  Anantnag|Southern Asia|  Asia|Lashkar-e-Taiba (...|     19|   7|In an attack mast...|33.7368773,75.145...|     null|\n",
      "|2017-04-24|  India|     Chhattisgarh|      null|Southern Asia|  Asia|                 CPI|      7|  25|Suspected Maoist ...|21.6637359,81.840...|     null|\n",
      "|2017-03-07|  India|   Madhya Pradesh|      null|Southern Asia|  Asia|       Islamic State|     10|   0|In first ISIS att...|23.8143419,77.534...|Explosion|\n",
      "|2016-11-29|  India|Jammu and Kashmir|      null|Southern Asia|  Asia|Jaish-e-Mohammad ...|      0|  10|The Indian Army b...|34.0747444,74.820...|  Assault|\n",
      "|2016-11-29|  India|Jammu and Kashmir|      null|Southern Asia|  Asia|             Taliban|      0|   7|Terrorists launch...|34.0875109,73.974...|     null|\n",
      "|2016-09-18|  India|Jammu and Kashmir|       Uri|Southern Asia|  Asia|                null|     30|  19|Seventeen Indian ...|34.0875109,73.974...|     null|\n",
      "|2016-08-05|  India|            Assam| Kokrajhar|Southern Asia|  Asia|National Democrat...|     15|  14|6 terrorists, sus...|26.58687695,90.29...|Explosion|\n",
      "+----------+-------+-----------------+----------+-------------+------+--------------------+-------+----+--------------------+--------------------+---------+\n",
      "only showing top 20 rows\n",
      "\n"
     ]
    }
   ],
   "source": [
    "rdf = df.filter(df['COUNTRY']==coun)\n",
    "rdf.show()"
   ]
  },
  {
   "cell_type": "markdown",
   "metadata": {},
   "source": [
    "## Salting"
   ]
  },
  {
   "cell_type": "code",
   "execution_count": null,
   "metadata": {
    "application/vnd.databricks.v1+cell": {
     "cellMetadata": {
      "byteLimit": 2048000,
      "rowLimit": 10000
     },
     "inputWidgets": {},
     "nuid": "00481f99-a336-4690-aba4-cf45aa987930",
     "showTitle": true,
     "title": "Salting"
    }
   },
   "outputs": [
    {
     "name": "stdout",
     "output_type": "stream",
     "text": [
      "+--------+------------+\n",
      "|  REGION|sum(INJURED)|\n",
      "+--------+------------+\n",
      "|  Europe|       18727|\n",
      "|  Africa|       14472|\n",
      "|    null|       18814|\n",
      "|Americas|       12460|\n",
      "| Oceania|         131|\n",
      "|    Asia|      105506|\n",
      "+--------+------------+\n",
      "\n"
     ]
    }
   ],
   "source": [
    "salt_df = df.groupBy('REGION').agg({'INJURED':'sum'})\n",
    "salt_df.show()"
   ]
  },
  {
   "cell_type": "code",
   "execution_count": null,
   "metadata": {
    "application/vnd.databricks.v1+cell": {
     "cellMetadata": {
      "byteLimit": 2048000,
      "rowLimit": 10000
     },
     "inputWidgets": {},
     "nuid": "184cbb79-dcc4-44ab-999c-4c4aa4d95614",
     "showTitle": false,
     "title": ""
    }
   },
   "outputs": [
    {
     "name": "stdout",
     "output_type": "stream",
     "text": [
      "+----------+--------+------------------+----------------+--------------+------+--------------------+-------+----+--------------------+--------------------+---------+--------+\n",
      "|      DATE| COUNTRY|             STATE|            CITY|     SUBREGION|REGION|         PERPETRATOR|INJURED|DEAD|         DESCRIPTION|         COORDINATES| CATEGORY|Salt_key|\n",
      "+----------+--------+------------------+----------------+--------------+------+--------------------+-------+----+--------------------+--------------------+---------+--------+\n",
      "|2023-04-02|  Russia|              null|Saint Petersburg|Eastern Europe|Europe|       Darya Trepova|     42|   1|During a speech b...|64.6863136,97.745...|Explosion|Europe_0|\n",
      "|2023-03-06|Pakistan|             Sindh|         Karachi| Southern Asia|  Asia|Tehreek-e-Jihad P...|     13|   9|A terrorist attac...|24.8546842,67.020...|Explosion|  Asia_1|\n",
      "|2023-02-17|Pakistan|             Sindh|         Karachi| Southern Asia|  Asia|Tehrik-i-Taliban ...|     16|   5|The 2023 Karachi ...|24.8546842,67.020...|  Assault|  Asia_2|\n",
      "|2023-01-30|Pakistan|Khyber Pakhtunkhwa|        Peshawar| Southern Asia|  Asia|     Jamaat-ul-Ahrar|    220| 101|A suicide attacke...|34.0123846,71.578...|Explosion|  Asia_3|\n",
      "|2023-01-27|  Israel|Jerusalem District|       Jerusalem|  Western Asia|  Asia|Palestinian Islam...|      3|   7|Seven people were...|31.7788242,35.225...|  Assault|  Asia_4|\n",
      "+----------+--------+------------------+----------------+--------------+------+--------------------+-------+----+--------------------+--------------------+---------+--------+\n",
      "only showing top 5 rows\n",
      "\n"
     ]
    }
   ],
   "source": [
    "from pyspark.sql import functions as f\n",
    "newdf = df.withColumn('Salt_key',f.concat(df['REGION'],f.lit('_'),f.monotonically_increasing_id()%10))\n",
    "newdf.show(5)"
   ]
  },
  {
   "cell_type": "code",
   "execution_count": null,
   "metadata": {
    "application/vnd.databricks.v1+cell": {
     "cellMetadata": {
      "byteLimit": 2048000,
      "rowLimit": 10000
     },
     "inputWidgets": {},
     "nuid": "d1e2162f-f9cc-4fbd-82ab-fa74d8bd0580",
     "showTitle": false,
     "title": ""
    }
   },
   "outputs": [
    {
     "name": "stdout",
     "output_type": "stream",
     "text": [
      "+--------+----------+------------+\n",
      "|  REGION|  Salt_key|sum(INJURED)|\n",
      "+--------+----------+------------+\n",
      "|  Africa|  Africa_2|         879|\n",
      "| Oceania| Oceania_0|           2|\n",
      "| Oceania| Oceania_4|          19|\n",
      "| Oceania| Oceania_9|          50|\n",
      "|    Asia|    Asia_6|       10223|\n",
      "|Americas|Americas_2|         433|\n",
      "|  Africa|  Africa_1|         834|\n",
      "|  Africa|  Africa_3|         868|\n",
      "|    Asia|    Asia_9|       12403|\n",
      "|  Europe|  Europe_9|        1878|\n",
      "|Americas|Americas_6|        1069|\n",
      "|Americas|Americas_8|        2989|\n",
      "|  Africa|  Africa_8|        1635|\n",
      "|    Asia|    Asia_1|        9284|\n",
      "|    null|      null|       18814|\n",
      "|  Africa|  Africa_5|         569|\n",
      "| Oceania| Oceania_2|          37|\n",
      "| Oceania| Oceania_1|           0|\n",
      "|  Europe|  Europe_0|        1614|\n",
      "|  Africa|  Africa_0|        1017|\n",
      "+--------+----------+------------+\n",
      "only showing top 20 rows\n",
      "\n"
     ]
    }
   ],
   "source": [
    "newdf1 = newdf.groupBy(['REGION','Salt_key']).agg({'INJURED':'sum'})\n",
    "newdf1.show()"
   ]
  },
  {
   "cell_type": "markdown",
   "metadata": {},
   "source": [
    "## Final groupBy"
   ]
  },
  {
   "cell_type": "code",
   "execution_count": null,
   "metadata": {
    "application/vnd.databricks.v1+cell": {
     "cellMetadata": {
      "byteLimit": 2048000,
      "rowLimit": 10000
     },
     "inputWidgets": {},
     "nuid": "870ed72f-6fe2-4817-9f43-a782342f8baf",
     "showTitle": true,
     "title": "Final groupBy"
    }
   },
   "outputs": [
    {
     "name": "stdout",
     "output_type": "stream",
     "text": [
      "+--------+-----------------+\n",
      "|  REGION|sum(sum(INJURED))|\n",
      "+--------+-----------------+\n",
      "|  Europe|            18727|\n",
      "|  Africa|            14472|\n",
      "|    null|            18814|\n",
      "|Americas|            12460|\n",
      "| Oceania|              131|\n",
      "|    Asia|           105506|\n",
      "+--------+-----------------+\n",
      "\n"
     ]
    }
   ],
   "source": [
    "final_newdf = newdf1.groupBy('REGION').agg({'sum(INJURED)':'sum'})\n",
    "final_newdf.show()"
   ]
  },
  {
   "cell_type": "markdown",
   "metadata": {},
   "source": [
    "## Finding Null values"
   ]
  },
  {
   "cell_type": "code",
   "execution_count": null,
   "metadata": {
    "application/vnd.databricks.v1+cell": {
     "cellMetadata": {
      "byteLimit": 2048000,
      "rowLimit": 10000
     },
     "inputWidgets": {},
     "nuid": "db79d853-5c2c-4d27-b28a-6501b5e6db81",
     "showTitle": false,
     "title": ""
    }
   },
   "outputs": [
    {
     "name": "stdout",
     "output_type": "stream",
     "text": [
      "14026"
     ]
    }
   ],
   "source": [
    "display(df.filter(df['CITY'].isNull()).count())"
   ]
  },
  {
   "cell_type": "code",
   "execution_count": null,
   "metadata": {
    "application/vnd.databricks.v1+cell": {
     "cellMetadata": {
      "byteLimit": 2048000,
      "rowLimit": 10000
     },
     "inputWidgets": {},
     "nuid": "3984c636-52cc-4893-be05-8a070472f925",
     "showTitle": false,
     "title": ""
    }
   },
   "outputs": [
    {
     "name": "stdout",
     "output_type": "stream",
     "text": [
      "+----+-------+-----+-----+---------+------+-----------+-------+----+-----------+-----------+--------+\n",
      "|DATE|COUNTRY|STATE| CITY|SUBREGION|REGION|PERPETRATOR|INJURED|DEAD|DESCRIPTION|COORDINATES|CATEGORY|\n",
      "+----+-------+-----+-----+---------+------+-----------+-------+----+-----------+-----------+--------+\n",
      "|   0|      0|11754|14026|     5995|  6000|      17024|      5|   1|          0|          7|    5590|\n",
      "+----+-------+-----+-----+---------+------+-----------+-------+----+-----------+-----------+--------+\n",
      "\n"
     ]
    }
   ],
   "source": [
    "null_counts_per_column = df.select([f.sum(f.col(c).isNull().cast(\"int\")).alias(c) for c in df.columns])\n",
    "null_counts_per_column.show()"
   ]
  },
  {
   "cell_type": "code",
   "execution_count": null,
   "metadata": {
    "application/vnd.databricks.v1+cell": {
     "cellMetadata": {
      "byteLimit": 2048000,
      "rowLimit": 10000
     },
     "inputWidgets": {},
     "nuid": "ae9107de-44b9-4743-92e4-62f2a003b49a",
     "showTitle": false,
     "title": ""
    }
   },
   "outputs": [
    {
     "data": {
      "text/html": [
       "<style scoped>\n",
       "  .table-result-container {\n",
       "    max-height: 300px;\n",
       "    overflow: auto;\n",
       "  }\n",
       "  table, th, td {\n",
       "    border: 1px solid black;\n",
       "    border-collapse: collapse;\n",
       "  }\n",
       "  th, td {\n",
       "    padding: 5px;\n",
       "  }\n",
       "  th {\n",
       "    text-align: left;\n",
       "  }\n",
       "</style><div class='table-result-container'><table class='table-result'><thead style='background-color: white'><tr><th>count(DATE)</th><th>count(COUNTRY)</th><th>count(STATE)</th><th>count(CITY)</th><th>count(SUBREGION)</th><th>count(REGION)</th><th>count(PERPETRATOR)</th><th>count(INJURED)</th><th>count(DEAD)</th><th>count(DESCRIPTION)</th><th>count(COORDINATES)</th><th>count(CATEGORY)</th></tr></thead><tbody><tr><td>27177</td><td>27177</td><td>15423</td><td>13151</td><td>21182</td><td>21177</td><td>10153</td><td>27172</td><td>27176</td><td>27177</td><td>27170</td><td>21587</td></tr></tbody></table></div>"
      ]
     },
     "metadata": {
      "application/vnd.databricks.v1+output": {
       "addedWidgets": {},
       "aggData": [],
       "aggError": "",
       "aggOverflow": false,
       "aggSchema": [],
       "aggSeriesLimitReached": false,
       "aggType": "",
       "arguments": {},
       "columnCustomDisplayInfos": {},
       "data": [
        [
         27177,
         27177,
         15423,
         13151,
         21182,
         21177,
         10153,
         27172,
         27176,
         27177,
         27170,
         21587
        ]
       ],
       "datasetInfos": [],
       "dbfsResultPath": null,
       "isJsonSchema": true,
       "metadata": {},
       "overflow": false,
       "plotOptions": {
        "customPlotOptions": {},
        "displayType": "table",
        "pivotAggregation": null,
        "pivotColumns": null,
        "xColumns": null,
        "yColumns": null
       },
       "removedWidgets": [],
       "schema": [
        {
         "metadata": "{}",
         "name": "count(DATE)",
         "type": "\"long\""
        },
        {
         "metadata": "{}",
         "name": "count(COUNTRY)",
         "type": "\"long\""
        },
        {
         "metadata": "{}",
         "name": "count(STATE)",
         "type": "\"long\""
        },
        {
         "metadata": "{}",
         "name": "count(CITY)",
         "type": "\"long\""
        },
        {
         "metadata": "{}",
         "name": "count(SUBREGION)",
         "type": "\"long\""
        },
        {
         "metadata": "{}",
         "name": "count(REGION)",
         "type": "\"long\""
        },
        {
         "metadata": "{}",
         "name": "count(PERPETRATOR)",
         "type": "\"long\""
        },
        {
         "metadata": "{}",
         "name": "count(INJURED)",
         "type": "\"long\""
        },
        {
         "metadata": "{}",
         "name": "count(DEAD)",
         "type": "\"long\""
        },
        {
         "metadata": "{}",
         "name": "count(DESCRIPTION)",
         "type": "\"long\""
        },
        {
         "metadata": "{}",
         "name": "count(COORDINATES)",
         "type": "\"long\""
        },
        {
         "metadata": "{}",
         "name": "count(CATEGORY)",
         "type": "\"long\""
        }
       ],
       "type": "table"
      }
     },
     "output_type": "display_data"
    }
   ],
   "source": [
    "from pyspark.sql.functions import count,col\n",
    "display(df.select([count(col(i)) for i in df.columns]))"
   ]
  },
  {
   "cell_type": "code",
   "execution_count": null,
   "metadata": {
    "application/vnd.databricks.v1+cell": {
     "cellMetadata": {
      "byteLimit": 2048000,
      "rowLimit": 10000
     },
     "inputWidgets": {},
     "nuid": "36745237-97cc-4d32-af04-dc8f9beb7147",
     "showTitle": false,
     "title": ""
    }
   },
   "outputs": [
    {
     "name": "stdout",
     "output_type": "stream",
     "text": [
      "16843\n",
      "16484\n"
     ]
    }
   ],
   "source": [
    "max_inj = df.groupBy('INJURED').count().agg(f.max('count')).collect()[0][0]\n",
    "max_dead = df.groupBy('DEAD').count().agg(f.max('count')).collect()[0][0]\n",
    "print(max_inj)\n",
    "print(max_dead)\n"
   ]
  },
  {
   "cell_type": "markdown",
   "metadata": {},
   "source": [
    "## Filling null values in INJURED,DEAD column"
   ]
  },
  {
   "cell_type": "code",
   "execution_count": null,
   "metadata": {
    "application/vnd.databricks.v1+cell": {
     "cellMetadata": {
      "byteLimit": 2048000,
      "rowLimit": 10000
     },
     "inputWidgets": {},
     "nuid": "8baac289-7ef2-40c9-a3f6-496f8eb6ea15",
     "showTitle": true,
     "title": "Filling null values in INJURED,DEAD column"
    }
   },
   "outputs": [
    {
     "name": "stdout",
     "output_type": "stream",
     "text": [
      "+----------+--------+------------------+----------------+--------------+------+--------------------+-------+----+--------------------+--------------------+---------+\n",
      "|      DATE| COUNTRY|             STATE|            CITY|     SUBREGION|REGION|         PERPETRATOR|INJURED|DEAD|         DESCRIPTION|         COORDINATES| CATEGORY|\n",
      "+----------+--------+------------------+----------------+--------------+------+--------------------+-------+----+--------------------+--------------------+---------+\n",
      "|2023-04-02|  Russia|              null|Saint Petersburg|Eastern Europe|Europe|       Darya Trepova|     42|   1|During a speech b...|64.6863136,97.745...|Explosion|\n",
      "|2023-03-06|Pakistan|             Sindh|         Karachi| Southern Asia|  Asia|Tehreek-e-Jihad P...|     13|   9|A terrorist attac...|24.8546842,67.020...|Explosion|\n",
      "|2023-02-17|Pakistan|             Sindh|         Karachi| Southern Asia|  Asia|Tehrik-i-Taliban ...|     16|   5|The 2023 Karachi ...|24.8546842,67.020...|  Assault|\n",
      "|2023-01-30|Pakistan|Khyber Pakhtunkhwa|        Peshawar| Southern Asia|  Asia|     Jamaat-ul-Ahrar|    220| 101|A suicide attacke...|34.0123846,71.578...|Explosion|\n",
      "|2023-01-27|  Israel|Jerusalem District|       Jerusalem|  Western Asia|  Asia|Palestinian Islam...|      3|   7|Seven people were...|31.7788242,35.225...|  Assault|\n",
      "+----------+--------+------------------+----------------+--------------+------+--------------------+-------+----+--------------------+--------------------+---------+\n",
      "only showing top 5 rows\n",
      "\n"
     ]
    }
   ],
   "source": [
    "df = df.na.fill(value=0,subset=['INJURED','DEAD'])\n",
    "df.show(5)\n"
   ]
  },
  {
   "cell_type": "markdown",
   "metadata": {},
   "source": [
    "## Dropping irrelevant columns"
   ]
  },
  {
   "cell_type": "code",
   "execution_count": null,
   "metadata": {
    "application/vnd.databricks.v1+cell": {
     "cellMetadata": {
      "byteLimit": 2048000,
      "rowLimit": 10000
     },
     "inputWidgets": {},
     "nuid": "9e927eef-1d44-45bd-9ccf-f002fa867fd5",
     "showTitle": true,
     "title": "Dropping irrelevant columns"
    }
   },
   "outputs": [
    {
     "name": "stdout",
     "output_type": "stream",
     "text": [
      "+----------+--------+------------------+----------------+--------------------+-------+----+--------------------+---------+\n",
      "|      DATE| COUNTRY|             STATE|            CITY|         PERPETRATOR|INJURED|DEAD|         DESCRIPTION| CATEGORY|\n",
      "+----------+--------+------------------+----------------+--------------------+-------+----+--------------------+---------+\n",
      "|2023-04-02|  Russia|              null|Saint Petersburg|       Darya Trepova|     42|   1|During a speech b...|Explosion|\n",
      "|2023-03-06|Pakistan|             Sindh|         Karachi|Tehreek-e-Jihad P...|     13|   9|A terrorist attac...|Explosion|\n",
      "|2023-02-17|Pakistan|             Sindh|         Karachi|Tehrik-i-Taliban ...|     16|   5|The 2023 Karachi ...|  Assault|\n",
      "|2023-01-30|Pakistan|Khyber Pakhtunkhwa|        Peshawar|     Jamaat-ul-Ahrar|    220| 101|A suicide attacke...|Explosion|\n",
      "|2023-01-27|  Israel|Jerusalem District|       Jerusalem|Palestinian Islam...|      3|   7|Seven people were...|  Assault|\n",
      "+----------+--------+------------------+----------------+--------------------+-------+----+--------------------+---------+\n",
      "only showing top 5 rows\n",
      "\n"
     ]
    }
   ],
   "source": [
    "ndf = df.drop('REGION','SUBREGION','COORDINATES')\n",
    "ndf.show(5)"
   ]
  },
  {
   "cell_type": "markdown",
   "metadata": {},
   "source": [
    "## Creating new column 'Damage'"
   ]
  },
  {
   "cell_type": "code",
   "execution_count": null,
   "metadata": {
    "application/vnd.databricks.v1+cell": {
     "cellMetadata": {
      "byteLimit": 2048000,
      "rowLimit": 10000
     },
     "inputWidgets": {},
     "nuid": "f76f3c96-1a1a-4995-9cca-887721986c67",
     "showTitle": true,
     "title": "Creating new column"
    }
   },
   "outputs": [
    {
     "name": "stdout",
     "output_type": "stream",
     "text": [
      "+----------+--------+------------------+----------------+--------------------+-------+----+--------------------+---------+------+\n",
      "|      DATE| COUNTRY|             STATE|            CITY|         PERPETRATOR|INJURED|DEAD|         DESCRIPTION| CATEGORY|DAMAGE|\n",
      "+----------+--------+------------------+----------------+--------------------+-------+----+--------------------+---------+------+\n",
      "|2023-04-02|  Russia|              null|Saint Petersburg|       Darya Trepova|     42|   1|During a speech b...|Explosion|    43|\n",
      "|2023-03-06|Pakistan|             Sindh|         Karachi|Tehreek-e-Jihad P...|     13|   9|A terrorist attac...|Explosion|    22|\n",
      "|2023-02-17|Pakistan|             Sindh|         Karachi|Tehrik-i-Taliban ...|     16|   5|The 2023 Karachi ...|  Assault|    21|\n",
      "|2023-01-30|Pakistan|Khyber Pakhtunkhwa|        Peshawar|     Jamaat-ul-Ahrar|    220| 101|A suicide attacke...|Explosion|   321|\n",
      "|2023-01-27|  Israel|Jerusalem District|       Jerusalem|Palestinian Islam...|      3|   7|Seven people were...|  Assault|    10|\n",
      "+----------+--------+------------------+----------------+--------------------+-------+----+--------------------+---------+------+\n",
      "only showing top 5 rows\n",
      "\n"
     ]
    }
   ],
   "source": [
    "ndf = ndf.withColumn('DAMAGE',df['INJURED'] + df['DEAD'])\n",
    "ndf.show(5)"
   ]
  },
  {
   "cell_type": "markdown",
   "metadata": {},
   "source": [
    "## lets know the total damage,injured & dead in each country"
   ]
  },
  {
   "cell_type": "code",
   "execution_count": null,
   "metadata": {
    "application/vnd.databricks.v1+cell": {
     "cellMetadata": {
      "byteLimit": 2048000,
      "rowLimit": 10000
     },
     "inputWidgets": {},
     "nuid": "07ed62b5-ee1d-4da3-bd38-c5117bed24c8",
     "showTitle": false,
     "title": ""
    }
   },
   "outputs": [
    {
     "name": "stdout",
     "output_type": "stream",
     "text": [
      "+--------------------+--------------------+-----------------+-------------------+\n",
      "|             COUNTRY|sum_of_total_injured|sum_of_total_dead|sum_of_total_damage|\n",
      "+--------------------+--------------------+-----------------+-------------------+\n",
      "|              Russia|                5510|             2535|               8045|\n",
      "|            Paraguay|                   1|                5|                  6|\n",
      "|               Yemen|                1234|              660|               1894|\n",
      "|              Sweden|                  23|               39|                 62|\n",
      "|              Guyana|                   5|                4|                  9|\n",
      "|         Philippines|                3125|             1181|               4306|\n",
      "|            Malaysia|                  30|              131|                161|\n",
      "|    Chechen Republic|                 132|              148|                280|\n",
      "|              Turkey|                3831|              970|               4801|\n",
      "|        Philliphines|                 102|               22|                124|\n",
      "|                Iraq|               42382|            23045|              65427|\n",
      "|             Germany|                1171|              262|               1433|\n",
      "|         Afghanistan|                8998|             6082|              15080|\n",
      "|            Cambodia|                 187|               77|                264|\n",
      "|              Jordan|                 177|              116|                293|\n",
      "|            Maldives|                   3|                0|                  3|\n",
      "|               Sudan|                 727|              238|                965|\n",
      "|Cote D'Ivoire (Iv...|                  33|               22|                 55|\n",
      "|              France|                2120|             1114|               3234|\n",
      "|              Greece|                 736|              327|               1063|\n",
      "+--------------------+--------------------+-----------------+-------------------+\n",
      "only showing top 20 rows\n",
      "\n"
     ]
    }
   ],
   "source": [
    "from pyspark.sql import functions as f\n",
    "n1df = ndf.groupBy('COUNTRY').agg(\n",
    "    f.sum('INJURED').alias('sum_of_total_injured'),\n",
    "    f.sum('DEAD').alias('sum_of_total_dead'),\n",
    "    f.sum('DAMAGE').alias('sum_of_total_damage')\n",
    "    )\n",
    "n1df.show()"
   ]
  },
  {
   "cell_type": "code",
   "execution_count": null,
   "metadata": {
    "application/vnd.databricks.v1+cell": {
     "cellMetadata": {
      "byteLimit": 2048000,
      "rowLimit": 10000
     },
     "inputWidgets": {},
     "nuid": "d723e790-e482-459c-be77-9cd54006171f",
     "showTitle": false,
     "title": ""
    }
   },
   "outputs": [
    {
     "data": {
      "text/html": [
       "<style scoped>\n",
       "  .table-result-container {\n",
       "    max-height: 300px;\n",
       "    overflow: auto;\n",
       "  }\n",
       "  table, th, td {\n",
       "    border: 1px solid black;\n",
       "    border-collapse: collapse;\n",
       "  }\n",
       "  th, td {\n",
       "    padding: 5px;\n",
       "  }\n",
       "  th {\n",
       "    text-align: left;\n",
       "  }\n",
       "</style><div class='table-result-container'><table class='table-result'><thead style='background-color: white'><tr><th>COUNTRY</th><th>sum_of_total_damage</th></tr></thead><tbody><tr><td>Iraq</td><td>65427</td></tr><tr><td>India</td><td>15524</td></tr><tr><td>Pakistan</td><td>15491</td></tr><tr><td>Afghanistan</td><td>15080</td></tr><tr><td>Israel</td><td>9957</td></tr><tr><td>United States</td><td>9314</td></tr><tr><td>Sri Lanka</td><td>8414</td></tr><tr><td>Russia</td><td>8045</td></tr><tr><td>Colombia</td><td>7277</td></tr><tr><td>Japan</td><td>6126</td></tr></tbody></table></div>"
      ]
     },
     "metadata": {
      "application/vnd.databricks.v1+output": {
       "addedWidgets": {},
       "aggData": [],
       "aggError": "",
       "aggOverflow": false,
       "aggSchema": [],
       "aggSeriesLimitReached": false,
       "aggType": "",
       "arguments": {},
       "columnCustomDisplayInfos": {},
       "data": [
        [
         "Iraq",
         65427
        ],
        [
         "India",
         15524
        ],
        [
         "Pakistan",
         15491
        ],
        [
         "Afghanistan",
         15080
        ],
        [
         "Israel",
         9957
        ],
        [
         "United States",
         9314
        ],
        [
         "Sri Lanka",
         8414
        ],
        [
         "Russia",
         8045
        ],
        [
         "Colombia",
         7277
        ],
        [
         "Japan",
         6126
        ]
       ],
       "datasetInfos": [],
       "dbfsResultPath": null,
       "isJsonSchema": true,
       "metadata": {},
       "overflow": false,
       "plotOptions": {
        "customPlotOptions": {},
        "displayType": "table",
        "pivotAggregation": null,
        "pivotColumns": null,
        "xColumns": null,
        "yColumns": null
       },
       "removedWidgets": [],
       "schema": [
        {
         "metadata": "{}",
         "name": "COUNTRY",
         "type": "\"string\""
        },
        {
         "metadata": "{}",
         "name": "sum_of_total_damage",
         "type": "\"long\""
        }
       ],
       "type": "table"
      }
     },
     "output_type": "display_data"
    },
    {
     "data": {
      "text/plain": [
       "Databricks visualization. Run in Databricks to view."
      ]
     },
     "metadata": {
      "application/vnd.databricks.v1.subcommand+json": {
       "bindings": {},
       "collapsed": false,
       "command": "%python\n__backend_agg_display_orig = display\n__backend_agg_dfs = []\ndef __backend_agg_display_new(df):\n    __backend_agg_df_modules = [\"pandas.core.frame\", \"databricks.koalas.frame\", \"pyspark.sql.dataframe\", \"pyspark.pandas.frame\", \"pyspark.sql.connect.dataframe\"]\n    if (type(df).__module__ in __backend_agg_df_modules and type(df).__name__ == 'DataFrame') or isinstance(df, list):\n        __backend_agg_dfs.append(df)\n\ndisplay = __backend_agg_display_new\n\ndef __backend_agg_user_code_fn():\n    import base64\n    exec(base64.standard_b64decode(\"ZmYgPSBuMWRmLm9yZGVyQnkobjFkZlsnc3VtX29mX3RvdGFsX2RhbWFnZSddLmRlc2MoKSkKZmYgPSBmZi5zZWxlY3QoJ0NPVU5UUlknLCdzdW1fb2ZfdG90YWxfZGFtYWdlJykKZGlzcGxheShmZi5oZWFkKDEwKSk=\").decode())\n\ntry:\n    # run user code\n    __backend_agg_user_code_fn()\n\n    #reset display function\n    display = __backend_agg_display_orig\n\n    if len(__backend_agg_dfs) > 0:\n        # create a temp view\n        if type(__backend_agg_dfs[0]).__module__ == \"databricks.koalas.frame\":\n            # koalas dataframe\n            __backend_agg_dfs[0].to_spark().createOrReplaceTempView(\"DatabricksViewfb0758d\")\n        elif type(__backend_agg_dfs[0]).__module__ == \"pandas.core.frame\" or isinstance(__backend_agg_dfs[0], list):\n            # pandas dataframe\n            spark.createDataFrame(__backend_agg_dfs[0]).createOrReplaceTempView(\"DatabricksViewfb0758d\")\n        else:\n            __backend_agg_dfs[0].createOrReplaceTempView(\"DatabricksViewfb0758d\")\n        #run backend agg\n        display(spark.sql(\"\"\"WITH q AS (select * from DatabricksViewfb0758d) SELECT `COUNTRY`,SUM(`sum_of_total_damage`) `column_8bdd8b1b7` FROM q GROUP BY `COUNTRY`\"\"\"))\n    else:\n        displayHTML(\"dataframe no longer exists. If you're using dataframe.display(), use display(dataframe) instead.\")\n\n\nfinally:\n    spark.sql(\"drop view if exists DatabricksViewfb0758d\")\n    display = __backend_agg_display_orig\n    del __backend_agg_display_new\n    del __backend_agg_display_orig\n    del __backend_agg_dfs\n    del __backend_agg_user_code_fn\n\n",
       "commandTitle": "Visualization 1",
       "commandType": "auto",
       "commandVersion": 0,
       "commentThread": [],
       "commentsVisible": false,
       "contentSha256Hex": null,
       "customPlotOptions": {
        "redashChart": [
         {
          "key": "type",
          "value": "CHART"
         },
         {
          "key": "options",
          "value": {
           "alignYAxesAtZero": true,
           "coefficient": 1,
           "columnConfigurationMap": {
            "x": {
             "column": "COUNTRY",
             "id": "column_8bdd8b1b6"
            },
            "y": [
             {
              "column": "sum_of_total_damage",
              "id": "column_8bdd8b1b7",
              "transform": "SUM"
             }
            ]
           },
           "dateTimeFormat": "DD/MM/YYYY HH:mm",
           "direction": {
            "type": "counterclockwise"
           },
           "error_y": {
            "type": "data",
            "visible": true
           },
           "globalSeriesType": "column",
           "isAggregationOn": true,
           "legend": {
            "traceorder": "normal"
           },
           "missingValuesAsZero": true,
           "numberFormat": "0,0.[00000]",
           "percentFormat": "0[.]00%",
           "reverseX": false,
           "series": {
            "error_y": {
             "type": "data",
             "visible": true
            },
            "stacking": null
           },
           "seriesOptions": {
            "column_8bdd8b1b7": {
             "name": "sum_of_total_damage",
             "yAxis": 0
            }
           },
           "showDataLabels": true,
           "sizemode": "diameter",
           "sortX": false,
           "sortY": true,
           "swappedAxes": false,
           "textFormat": "",
           "useAggregationsUi": true,
           "valuesOptions": {},
           "version": 2,
           "xAxis": {
            "labels": {
             "enabled": true
            },
            "type": "-"
           },
           "yAxis": [
            {
             "type": "-"
            },
            {
             "opposite": true,
             "type": "-"
            }
           ]
          }
         }
        ]
       },
       "datasetPreviewNameToCmdIdMap": {},
       "diffDeletes": [],
       "diffInserts": [],
       "displayType": "redashChart",
       "error": null,
       "errorDetails": null,
       "errorSummary": null,
       "errorTraceType": null,
       "finishTime": 0,
       "globalVars": {},
       "guid": "",
       "height": "auto",
       "hideCommandCode": false,
       "hideCommandResult": false,
       "iPythonMetadata": null,
       "inputWidgets": {},
       "isLockedInExamMode": false,
       "latestUser": "a user",
       "latestUserId": null,
       "listResultMetadata": null,
       "metadata": {
        "byteLimit": 2048000,
        "rowLimit": 10000
       },
       "nuid": "f175c528-5476-467f-a85f-d8a5038744d4",
       "origId": 0,
       "parentHierarchy": [],
       "pivotAggregation": null,
       "pivotColumns": null,
       "position": 16,
       "resultDbfsErrorMessage": null,
       "resultDbfsStatus": "INLINED_IN_TREE",
       "results": null,
       "showCommandTitle": false,
       "startTime": 0,
       "state": "input",
       "streamStates": {},
       "subcommandOptions": {
        "queryPlan": {
         "groups": [
          {
           "column": "COUNTRY",
           "type": "column"
          }
         ],
         "selects": [
          {
           "column": "COUNTRY",
           "type": "column"
          },
          {
           "alias": "column_8bdd8b1b7",
           "args": [
            {
             "column": "sum_of_total_damage",
             "type": "column"
            }
           ],
           "function": "SUM",
           "type": "function"
          }
         ]
        }
       },
       "submitTime": 0,
       "subtype": "tableResultSubCmd.visualization",
       "tableResultIndex": 0,
       "useConsistentColors": false,
       "version": "CommandV1",
       "width": "auto",
       "workflows": [],
       "xColumns": null,
       "yColumns": null
      }
     },
     "output_type": "display_data"
    }
   ],
   "source": [
    "ff = n1df.orderBy(n1df['sum_of_total_damage'].desc())\n",
    "ff = ff.select('COUNTRY','sum_of_total_damage')\n",
    "display(ff.head(10))"
   ]
  },
  {
   "cell_type": "markdown",
   "metadata": {},
   "source": [
    "## dataframe of city column with no null values"
   ]
  },
  {
   "cell_type": "code",
   "execution_count": null,
   "metadata": {
    "application/vnd.databricks.v1+cell": {
     "cellMetadata": {
      "byteLimit": 2048000,
      "rowLimit": 10000
     },
     "inputWidgets": {},
     "nuid": "472572b8-a87b-4a70-af18-d15987ccb7b8",
     "showTitle": true,
     "title": "dataframe of city column with no null values"
    }
   },
   "outputs": [
    {
     "name": "stdout",
     "output_type": "stream",
     "text": [
      "+----------+--------+------------------+----------------+--------------------+-------+----+--------------------+---------+------+\n",
      "|      DATE| COUNTRY|             STATE|            CITY|         PERPETRATOR|INJURED|DEAD|         DESCRIPTION| CATEGORY|DAMAGE|\n",
      "+----------+--------+------------------+----------------+--------------------+-------+----+--------------------+---------+------+\n",
      "|2023-04-02|  Russia|              null|Saint Petersburg|       Darya Trepova|     42|   1|During a speech b...|Explosion|    43|\n",
      "|2023-03-06|Pakistan|             Sindh|         Karachi|Tehreek-e-Jihad P...|     13|   9|A terrorist attac...|Explosion|    22|\n",
      "|2023-02-17|Pakistan|             Sindh|         Karachi|Tehrik-i-Taliban ...|     16|   5|The 2023 Karachi ...|  Assault|    21|\n",
      "|2023-01-30|Pakistan|Khyber Pakhtunkhwa|        Peshawar|     Jamaat-ul-Ahrar|    220| 101|A suicide attacke...|Explosion|   321|\n",
      "|2023-01-27|  Israel|Jerusalem District|       Jerusalem|Palestinian Islam...|      3|   7|Seven people were...|  Assault|    10|\n",
      "+----------+--------+------------------+----------------+--------------------+-------+----+--------------------+---------+------+\n",
      "only showing top 5 rows\n",
      "\n"
     ]
    }
   ],
   "source": [
    "n2df = ndf.dropna(subset=['CITY'])\n",
    "n2df.show(5)"
   ]
  },
  {
   "cell_type": "markdown",
   "metadata": {},
   "source": [
    "## Finding total damage in every city of each country"
   ]
  },
  {
   "cell_type": "code",
   "execution_count": null,
   "metadata": {
    "application/vnd.databricks.v1+cell": {
     "cellMetadata": {
      "byteLimit": 2048000,
      "rowLimit": 10000
     },
     "inputWidgets": {},
     "nuid": "4bc489f4-508d-4f1f-a3ae-60076eebd2d6",
     "showTitle": false,
     "title": ""
    }
   },
   "outputs": [
    {
     "name": "stdout",
     "output_type": "stream",
     "text": [
      "+-----------+--------------+------+\n",
      "|    COUNTRY|          CITY|damage|\n",
      "+-----------+--------------+------+\n",
      "|Afghanistan|        Kunduz|   211|\n",
      "|Afghanistan|         Kabul|    60|\n",
      "|Afghanistan|        Zaranj|    59|\n",
      "|Afghanistan|        Gardez|    27|\n",
      "|Afghanistan|      Charikar|    26|\n",
      "|Afghanistan|       Maymana|     6|\n",
      "|Afghanistan|      Asadabad|     6|\n",
      "|Afghanistan|       Taloqan|     5|\n",
      "|Afghanistan|       Gereshk|     2|\n",
      "|Afghanistan|  Baraki Barak|     0|\n",
      "|    Albania|  Bajram Curri|     4|\n",
      "|    Albania|        Tirana|     3|\n",
      "|    Albania|          Fier|     1|\n",
      "|    Algeria|     Lakhdaria|    71|\n",
      "|    Algeria|      Boufarik|    66|\n",
      "|    Algeria|     Birkhadem|    44|\n",
      "|    Algeria|Khemis Miliana|    42|\n",
      "|    Algeria|        Dellys|    36|\n",
      "|    Algeria|        Baraki|    25|\n",
      "|    Algeria|       Naciria|    24|\n",
      "+-----------+--------------+------+\n",
      "only showing top 20 rows\n",
      "\n"
     ]
    }
   ],
   "source": [
    "ff1 = n2df.groupBy('COUNTRY','CITY').agg(\n",
    "    f.sum('DAMAGE').alias('damage')\n",
    ")\n",
    "ff2 = ff1.orderBy(ff1['COUNTRY'],ff1['damage'].desc())\n",
    "ff2.show()"
   ]
  },
  {
   "cell_type": "markdown",
   "metadata": {},
   "source": [
    "## Finding Top 5 city on behalf of total damage"
   ]
  },
  {
   "cell_type": "code",
   "execution_count": null,
   "metadata": {
    "application/vnd.databricks.v1+cell": {
     "cellMetadata": {
      "byteLimit": 2048000,
      "rowLimit": 10000
     },
     "inputWidgets": {},
     "nuid": "0bdc323f-9be1-43f3-b67f-1b04bc3a772a",
     "showTitle": false,
     "title": ""
    }
   },
   "outputs": [
    {
     "name": "stdout",
     "output_type": "stream",
     "text": [
      "+----------+-------+--------------------+----------------+--------------------+-------+----+--------------------+---------+------+\n",
      "|      DATE|COUNTRY|               STATE|            CITY|         PERPETRATOR|INJURED|DEAD|         DESCRIPTION| CATEGORY|DAMAGE|\n",
      "+----------+-------+--------------------+----------------+--------------------+-------+----+--------------------+---------+------+\n",
      "|2023-04-02| Russia|                null|Saint Petersburg|       Darya Trepova|     42|   1|During a speech b...|Explosion|    43|\n",
      "|2018-02-18| Russia|Republic of Dagestan|         Kizlyar|       Islamic State|      5|   5|Five people were ...|  Assault|    10|\n",
      "|2017-04-03| Russia|                null|Saint Petersburg|Imam Shamil Batta...|     64|  15|A suicide bombing...|Explosion|    79|\n",
      "|2016-08-17| Russia|              Moscow|            null|Islamic State of ...|      1|   1|Two men with fire...|     null|     2|\n",
      "|2009-09-02| Russia|Republic of Dagestan|     Makhachkala|                null|      9|   1|An IED with 40 ki...|Explosion|    10|\n",
      "+----------+-------+--------------------+----------------+--------------------+-------+----+--------------------+---------+------+\n",
      "\n",
      "+----------+--------+------------------+--------------------+-----------+-------+----+--------------------+---------+------+\n",
      "|      DATE| COUNTRY|             STATE|                CITY|PERPETRATOR|INJURED|DEAD|         DESCRIPTION| CATEGORY|DAMAGE|\n",
      "+----------+--------+------------------+--------------------+-----------+-------+----+--------------------+---------+------+\n",
      "|2006-02-27|Paraguay|              null|                null|       null|      0|   0|Unknown perpetrat...|  Assault|     0|\n",
      "|2005-08-02|Paraguay|              null|                null|       null|      0|   0|The community rad...|Explosion|     0|\n",
      "|2004-12-03|Paraguay|              null|                null|       null|      0|   0|Lebanese extremis...|  Assault|     0|\n",
      "|2000-09-20|Paraguay|              null|                null|       null|      0|   0|Reports indicate ...|     null|     0|\n",
      "|2000-07-08|Paraguay|Amambay Department|Pedro Juan Caballero|       null|      0|   0|Military Intellig...|     null|     0|\n",
      "+----------+--------+------------------+--------------------+-----------+-------+----+--------------------+---------+------+\n",
      "\n",
      "+----------+-------+--------------------+-------+-------------+-------+----+--------------------+---------+------+\n",
      "|      DATE|COUNTRY|               STATE|   CITY|  PERPETRATOR|INJURED|DEAD|         DESCRIPTION| CATEGORY|DAMAGE|\n",
      "+----------+-------+--------------------+-------+-------------+-------+----+--------------------+---------+------+\n",
      "|2020-12-30|  Yemen|   'Adan Governorate|   Aden|      Houthis|    110|  25|There was at leas...|Explosion|   135|\n",
      "|2016-12-18|  Yemen|   'Adan Governorate|   Aden|Islamic State|     63|  52|At least 52 Yemen...|Explosion|   115|\n",
      "|2016-12-10|  Yemen|   'Adan Governorate|   Aden|Islamic State|     70|  50|50 Yemeni soldier...|Explosion|   120|\n",
      "|2016-08-29|  Yemen|   'Adan Governorate|   Aden|Islamic State|      0|  71|At least 71 peopl...|Explosion|    71|\n",
      "|2016-06-27|  Yemen|Hadhramaut Govern...|Mukalla|Islamic State|     37|  43|At least 7 bombin...|Explosion|    80|\n",
      "+----------+-------+--------------------+-------+-------------+-------+----+--------------------+---------+------+\n",
      "\n",
      "+----------+-------+----------------+---------+---------------+-------+----+--------------------+---------+------+\n",
      "|      DATE|COUNTRY|           STATE|     CITY|    PERPETRATOR|INJURED|DEAD|         DESCRIPTION| CATEGORY|DAMAGE|\n",
      "+----------+-------+----------------+---------+---------------+-------+----+--------------------+---------+------+\n",
      "|2017-04-07| Sweden|Stockholm County|Stockholm| Rakhmat Akilov|     14|   5|Five persons were...|     null|    19|\n",
      "|2005-12-15| Sweden|Stockholm County|Stockholm|Jihad in Sweden|      0|   0|A group calling i...|Explosion|     0|\n",
      "|2005-11-21| Sweden|Stockholm County|Stockholm|           null|      0|   0|An unidentified p...|Explosion|     0|\n",
      "|2005-03-23| Sweden|Stockholm County|Stockholm|Global Intifada|      0|   0|The group, Global...|Explosion|     0|\n",
      "|2005-01-14| Sweden|Stockholm County|Stockholm|Global Intifada|      0|   0|A group, calling ...|     null|     0|\n",
      "+----------+-------+----------------+---------+---------------+-------+----+--------------------+---------+------+\n",
      "\n",
      "+----------+-------+----------------+----------+--------------------+-------+----+--------------------+---------+------+\n",
      "|      DATE|COUNTRY|           STATE|      CITY|         PERPETRATOR|INJURED|DEAD|         DESCRIPTION| CATEGORY|DAMAGE|\n",
      "+----------+-------+----------------+----------+--------------------+-------+----+--------------------+---------+------+\n",
      "|2006-04-21| Guyana|Demerara-Mahaica|Georgetown|                null|      4|   4|Unknown perpetrat...|     null|     8|\n",
      "|1998-01-16| Guyana|Demerara-Mahaica|Georgetown|                null|      0|   0|A man on foot and...|Explosion|     0|\n",
      "|1998-01-11| Guyana|            null|      null|                null|      0|   0|A car bomb explod...|Explosion|     0|\n",
      "|1998-01-06| Guyana|Demerara-Mahaica|Georgetown|People's National...|      0|   0|A bomb went off a...|Explosion|     0|\n",
      "|1998-01-05| Guyana|Demerara-Mahaica|Georgetown|People's National...|      1|   0|A security guard ...|Explosion|     1|\n",
      "+----------+-------+----------------+----------+--------------------+-------+----+--------------------+---------+------+\n",
      "\n",
      "+----------+-----------+--------------------+-------+--------------------+-------+----+--------------------+---------+------+\n",
      "|      DATE|    COUNTRY|               STATE|   CITY|         PERPETRATOR|INJURED|DEAD|         DESCRIPTION| CATEGORY|DAMAGE|\n",
      "+----------+-----------+--------------------+-------+--------------------+-------+----+--------------------+---------+------+\n",
      "|2020-08-24|Philippines|Autonomous Region...|   Jolo|       Islamic State|     78|  14|A motorcycle bomb...|Explosion|    92|\n",
      "|2019-06-28|Philippines|             Cagayan|Indanan|       Islamic State|     22|   6|6 people includin...|Explosion|    28|\n",
      "|2018-10-20|Philippines|             Antique|  Sagay|Revolutionary Pro...|      0|   9|Nine farmers belo...|     null|     9|\n",
      "|2018-09-02|Philippines|      Sultan Kudarat|   null|Bangsamoro Islami...|     15|   2|A bomb blast in a...|Explosion|    17|\n",
      "|2018-08-28|Philippines|            Bukidnon| Isulan|Bangsamoro Islami...|     36|   2|Two civilians wer...|Explosion|    38|\n",
      "+----------+-----------+--------------------+-------+--------------------+-------+----+--------------------+---------+------+\n",
      "\n",
      "+----------+--------+------------+----+-------------+-------+----+--------------------+---------+------+\n",
      "|      DATE| COUNTRY|       STATE|CITY|  PERPETRATOR|INJURED|DEAD|         DESCRIPTION| CATEGORY|DAMAGE|\n",
      "+----------+--------+------------+----+-------------+-------+----+--------------------+---------+------+\n",
      "|2016-06-28|Malaysia|Kuala Lumpur|null|Islamic State|      8|   0|8 people were inj...|Explosion|     8|\n",
      "|2008-05-15|Malaysia|        null|null|         null|      0|   0|The opposition De...|Explosion|     0|\n",
      "|2006-01-15|Malaysia|      Penang|null|         null|      0|   1|Yeoh Kok Siew, a ...|Explosion|     1|\n",
      "|2003-10-02|Malaysia|        null|null|         null|      0|   5|Armed perpetrator...|  Hostage|     5|\n",
      "|2001-02-04|Malaysia|        null|null|         null|      2|   0|Four armed men st...|     null|     2|\n",
      "+----------+--------+------------+----+-------------+-------+----+--------------------+---------+------+\n",
      "\n",
      "+----------+----------------+-----+----+-----------+-------+----+--------------------+---------+------+\n",
      "|      DATE|         COUNTRY|STATE|CITY|PERPETRATOR|INJURED|DEAD|         DESCRIPTION| CATEGORY|DAMAGE|\n",
      "+----------+----------------+-----+----+-----------+-------+----+--------------------+---------+------+\n",
      "|2006-10-10|Chechen Republic| null|null|       null|      0|   1|Dokka Dudayev, di...|     null|     1|\n",
      "|2006-07-13|Chechen Republic| null|null|       null|      1|   0|The head of admin...|     null|     1|\n",
      "|2006-04-26|Chechen Republic| null|null|       null|      2|   1|A police car esco...|     null|     3|\n",
      "|2006-02-14|Chechen Republic| null|null|       null|      0|   1|A traffic policem...|     null|     1|\n",
      "|2005-11-27|Chechen Republic| null|null|       null|      0|   0|Three land mines ...|Explosion|     0|\n",
      "+----------+----------------+-----+----+-----------+-------+----+--------------------+---------+------+\n",
      "\n",
      "+----------+-------+-----------------+--------+--------------------+-------+----+--------------------+---------+------+\n",
      "|      DATE|COUNTRY|            STATE|    CITY|         PERPETRATOR|INJURED|DEAD|         DESCRIPTION| CATEGORY|DAMAGE|\n",
      "+----------+-------+-----------------+--------+--------------------+-------+----+--------------------+---------+------+\n",
      "|2022-11-13| Turkey|Istanbul Province|Istanbul|Kurdistan Workers...|     81|   6|A Syrian female p...|Explosion|    87|\n",
      "|2020-10-26| Turkey|             null|    null|Kurdish Workers P...|      3|   0|Two people who am...|Explosion|     3|\n",
      "|2018-03-30| Turkey|   Siirt Province|    Eruh|Kurdistan Workers...|      6|   7|Six Turkish villa...|     null|    13|\n",
      "|2017-01-05| Turkey|             null|    null|Kurdistan Freedom...|     10|   2|A car bomb explod...|Explosion|    12|\n",
      "|2017-01-01| Turkey|Istanbul Province|Istanbul|       Islamic State|     70|  39|One gunman killed...|  Assault|   109|\n",
      "+----------+-------+-----------------+--------+--------------------+-------+----+--------------------+---------+------+\n",
      "\n",
      "+----------+------------+-----+----+--------------------+-------+----+--------------------+---------+------+\n",
      "|      DATE|     COUNTRY|STATE|CITY|         PERPETRATOR|INJURED|DEAD|         DESCRIPTION| CATEGORY|DAMAGE|\n",
      "+----------+------------+-----+----+--------------------+-------+----+--------------------+---------+------+\n",
      "|2019-01-27|Philliphines| null|null|Abu Sayyaf Group ...|    102|  22|22 people, were k...|Explosion|   124|\n",
      "+----------+------------+-----+----+--------------------+-------+----+--------------------+---------+------+\n",
      "\n",
      "+----------+-------+-------------------+-------+--------------------+-------+----+--------------------+---------+------+\n",
      "|      DATE|COUNTRY|              STATE|   CITY|         PERPETRATOR|INJURED|DEAD|         DESCRIPTION| CATEGORY|DAMAGE|\n",
      "+----------+-------+-------------------+-------+--------------------+-------+----+--------------------+---------+------+\n",
      "|2022-01-21|   Iraq| Diyala Governorate|   null|Islamic State ins...|      0|  11|ISIL gunmen storm...|  Assault|    11|\n",
      "|2021-11-07|   Iraq|Baghdad Governorate|Baghdad|   Kata'ib Hezbollah|      6|   0|A failed attempt ...|Explosion|     6|\n",
      "|2021-01-21|   Iraq|Baghdad Governorate|Baghdad|       Islamic State|    110|  34|Two suicide bombe...|Explosion|   144|\n",
      "|2018-04-12|   Iraq|               null|   null|       Islamic State|     18|  25|25 people were ki...|Explosion|    43|\n",
      "|2018-01-15|   Iraq|Baghdad Governorate|Baghdad|       Islamic State|    105|  38|38 people were ki...|Explosion|   143|\n",
      "+----------+-------+-------------------+-------+--------------------+-------+----+--------------------+---------+------+\n",
      "\n",
      "+----------+-------+-------------+---------+--------------------+-------+----+--------------------+--------+------+\n",
      "|      DATE|COUNTRY|        STATE|     CITY|         PERPETRATOR|INJURED|DEAD|         DESCRIPTION|CATEGORY|DAMAGE|\n",
      "+----------+-------+-------------+---------+--------------------+-------+----+--------------------+--------+------+\n",
      "|2020-10-04|Germany|       Saxony|  Dresden|Abdullah Al Haj H...|      1|   1|Two gay men were ...| Assault|     2|\n",
      "|2020-02-19|Germany|         null|     null|      Tobias Rathjen|      5|  10|The shootings too...| Assault|    15|\n",
      "|2019-10-09|Germany|Saxony-Anhalt|Landsberg|     Stephan Balliet|      2|   2|Two people were k...|    null|     4|\n",
      "|2019-06-02|Germany|        Hesse|   Kassel|           Combat 18|      0|   1|The CDU politicia...|    null|     1|\n",
      "|2017-07-28|Germany|      Hamburg|  Hamburg|                null|      6|   1|\"One person was k...| Assault|     7|\n",
      "+----------+-------+-------------+---------+--------------------+-------+----+--------------------+--------+------+\n",
      "\n",
      "+----------+-----------+---------------+------+--------------------+-------+----+--------------------+---------+------+\n",
      "|      DATE|    COUNTRY|          STATE|  CITY|         PERPETRATOR|INJURED|DEAD|         DESCRIPTION| CATEGORY|DAMAGE|\n",
      "+----------+-----------+---------------+------+--------------------+-------+----+--------------------+---------+------+\n",
      "|2023-01-11|Afghanistan|          Kabul| Kabul|Islamic State – K...|     40|  20|On the afternoon ...|Explosion|    60|\n",
      "|2022-09-05|Afghanistan|          Kabul|  null|Islamic State - K...|     20|  10|A suicide bomber ...|Explosion|    30|\n",
      "|2022-04-22|Afghanistan|Kunduz Province|Kunduz|Islamic State - K...|     43|  33|A bombing attack ...|Explosion|    76|\n",
      "|2022-04-21|Afghanistan|           null|  null|Islamic State - K...|     87|  31|A remote-controll...|Explosion|   118|\n",
      "|2022-04-19|Afghanistan|          Kabul|  null|Islamic State - K...|     25|   6|Three bombs targe...|Explosion|    31|\n",
      "+----------+-----------+---------------+------+--------------------+-------+----+--------------------+---------+------+\n",
      "\n",
      "+----------+--------+----------+----+-----------+-------+----+--------------------+---------+------+\n",
      "|      DATE| COUNTRY|     STATE|CITY|PERPETRATOR|INJURED|DEAD|         DESCRIPTION| CATEGORY|DAMAGE|\n",
      "+----------+--------+----------+----+-----------+-------+----+--------------------+---------+------+\n",
      "|2007-07-29|Cambodia|Phnom Penh|null|       null|      0|   0|An explosive devi...|Explosion|     0|\n",
      "|2005-06-04|Cambodia|Phnom Penh|null|       null|      0|   0|Two men, dressed ...|Explosion|     0|\n",
      "|2005-05-29|Cambodia|Phnom Penh|null|       null|      0|   0|A hand grenade wa...|Explosion|     0|\n",
      "|2002-09-06|Cambodia|Phnom Penh|null|       null|      0|   0|A gunmen fired a ...|  Assault|     0|\n",
      "|2002-02-11|Cambodia|Phnom Penh|null|       null|      0|   1|A member of the o...|     null|     1|\n",
      "+----------+--------+----------+----+-----------+-------+----+--------------------+---------+------+\n",
      "\n",
      "+----------+-------+-----------------+-----+--------------------+-------+----+--------------------+---------+------+\n",
      "|      DATE|COUNTRY|            STATE| CITY|         PERPETRATOR|INJURED|DEAD|         DESCRIPTION| CATEGORY|DAMAGE|\n",
      "+----------+-------+-----------------+-----+--------------------+-------+----+--------------------+---------+------+\n",
      "|2017-07-23| Jordan|Amman Governorate|Amman|                null|      1|   1|A Jordanian worke...|  Assault|     2|\n",
      "|2016-12-18| Jordan|             null| null|       Islamic State|     37|  16|Insurgents attack...|     null|    53|\n",
      "|2008-07-16| Jordan|Amman Governorate|Amman|                null|      6|   0|On July 16, an Ar...|  Assault|     6|\n",
      "|2006-09-04| Jordan|Amman Governorate|Amman|                null|      6|   1|Nabeel Ahmed Issa...|     null|     7|\n",
      "|2005-11-09| Jordan|Amman Governorate|Amman|Tanzim Qaidat Al ...|    100|  63|A suicide bomber ...|Explosion|   163|\n",
      "+----------+-------+-----------------+-----+--------------------+-------+----+--------------------+---------+------+\n",
      "\n",
      "+----------+--------+-----------+----+-----------+-------+----+--------------------+---------+------+\n",
      "|      DATE| COUNTRY|      STATE|CITY|PERPETRATOR|INJURED|DEAD|         DESCRIPTION| CATEGORY|DAMAGE|\n",
      "+----------+--------+-----------+----+-----------+-------+----+--------------------+---------+------+\n",
      "|2006-10-16|Maldives|Kaafu Atoll|Male|       null|      3|   0|An explosion occu...|Explosion|     3|\n",
      "+----------+--------+-----------+----+-----------+-------+----+--------------------+---------+------+\n",
      "\n",
      "+----------+-------+--------+----+--------------------+-------+----+--------------------+--------+------+\n",
      "|      DATE|COUNTRY|   STATE|CITY|         PERPETRATOR|INJURED|DEAD|         DESCRIPTION|CATEGORY|DAMAGE|\n",
      "+----------+-------+--------+----+--------------------+-------+----+--------------------+--------+------+\n",
      "|2019-06-03|  Sudan|Khartoum|null|                null|    650| 118|Unarmed protestor...|    null|   768|\n",
      "|2008-01-01|  Sudan|Khartoum|null|Al Takfir wal Hijrah|      0|   2|Gunmen with the a...| Assault|     2|\n",
      "|2006-07-05|  Sudan|    null|null|Lord's Resistance...|     11|   6|Gunmen associated...| Assault|    17|\n",
      "|2002-10-15|  Sudan|Khartoum|null|                null|      0|   0|A Saudi national ...|    null|     0|\n",
      "|2002-04-26|  Sudan|    null|null|Lord's Resistance...|      0|  60|The Lords Resista...| Assault|    60|\n",
      "+----------+-------+--------+----+--------------------+-------+----+--------------------+--------+------+\n",
      "\n",
      "+----------+--------------------+--------------+------------+-----------+-------+----+--------------------+---------+------+\n",
      "|      DATE|             COUNTRY|         STATE|        CITY|PERPETRATOR|INJURED|DEAD|         DESCRIPTION| CATEGORY|DAMAGE|\n",
      "+----------+--------------------+--------------+------------+-----------+-------+----+--------------------+---------+------+\n",
      "|2016-03-13|Cote D'Ivoire (Iv...|Comoé District|Grand-Bassam|   Al Qaeda|     33|  19|\"Gunmen attacked ...|     null|    52|\n",
      "|2003-03-28|Cote D'Ivoire (Iv...|       Abidjan|        null|       null|      0|   1|The Saudi Arabian...|     null|     1|\n",
      "|1990-11-02|Cote D'Ivoire (Iv...|       Abidjan|        null|       null|      0|   1|The Italian Ambas...|     null|     1|\n",
      "|1989-06-01|Cote D'Ivoire (Iv...|       Abidjan|        null|  Hezbollah|      0|   1|A French military...|Explosion|     1|\n",
      "+----------+--------------------+--------------+------------+-----------+-------+----+--------------------+---------+------+\n",
      "\n",
      "+----------+-------+--------------------+--------------------+--------------------+-------+----+--------------------+--------------------+------+\n",
      "|      DATE|COUNTRY|               STATE|                CITY|         PERPETRATOR|INJURED|DEAD|         DESCRIPTION|            CATEGORY|DAMAGE|\n",
      "+----------+-------+--------------------+--------------------+--------------------+-------+----+--------------------+--------------------+------+\n",
      "|2020-10-29| France|Provence-Alpes-Cô...|                Nice|   Brahim Aouissaoui|      0|   3|Three people were...|             Assault|     3|\n",
      "|2020-10-16| France|       Île-de-France|Conflans-Sainte-H...|  Abdoullakh Anzorov|      0|   1|French police sho...|             Assault|     1|\n",
      "|2020-09-25| France|       Île-de-France|               Paris|                null|      2|   0|Two people were w...|             Assault|     2|\n",
      "|2020-04-04| France|                null|                null|Abdallah Ahmed-Os...|      5|   2|In late morning o...|             Assault|     7|\n",
      "|2020-01-03| France|       Île-de-France|           Villejuif|     Nathan Chiasson|      2|   1|\"A man in a park ...| who was jogging ...|     3|\n",
      "+----------+-------+--------------------+--------------------+--------------------+-------+----+--------------------+--------------------+------+\n",
      "\n",
      "+----------+-------+-------------+------+--------------------+-------+----+--------------------+---------+------+\n",
      "|      DATE|COUNTRY|        STATE|  CITY|         PERPETRATOR|INJURED|DEAD|         DESCRIPTION| CATEGORY|DAMAGE|\n",
      "+----------+-------+-------------+------+--------------------+-------+----+--------------------+---------+------+\n",
      "|2009-12-27| Greece|Attica Region|Athens|Conspiracy of Fir...|      0|   0|On December 27, 2...|Explosion|     0|\n",
      "|2009-12-12| Greece|         null|  null|   Anarchist Faction|      0|   0|On December 12, 2...|     null|     0|\n",
      "|2009-11-30| Greece|         null|  null|                null|      0|   0|On November 30, 2...|Explosion|     0|\n",
      "|2009-11-24| Greece|Attica Region|Athens|Incendiary Commit...|      0|   0|On November 11 20...|Explosion|     0|\n",
      "|2009-11-20| Greece|Attica Region|Athens|                null|      0|   0|On November 20, 2...|Explosion|     0|\n",
      "+----------+-------+-------------+------+--------------------+-------+----+--------------------+---------+------+\n",
      "\n",
      "+----------+-------+-----+----+-----------+-------+----+--------------------+---------+------+\n",
      "|      DATE|COUNTRY|STATE|CITY|PERPETRATOR|INJURED|DEAD|         DESCRIPTION| CATEGORY|DAMAGE|\n",
      "+----------+-------+-----+----+-----------+-------+----+--------------------+---------+------+\n",
      "|2008-01-14| Kosovo| null|null|       null|      4|   0|On January 14, 20...|Explosion|     4|\n",
      "|2005-10-01| Kosovo| null|null|       null|      0|   0|An explosive devi...|Explosion|     0|\n",
      "|2005-07-19| Kosovo| null|null|       null|      0|   0|Authorities disco...|Explosion|     0|\n",
      "|2005-07-08| Kosovo| null|null|       null|      0|   0|A bag, which cont...|Explosion|     0|\n",
      "|2005-07-05| Kosovo| null|null|       null|      0|   0|Two explosive dev...|Explosion|     0|\n",
      "+----------+-------+-----+----+-----------+-------+----+--------------------+---------+------+\n",
      "\n",
      "+----------+---------+----------------+----------+--------------------+-------+----+--------------------+---------+------+\n",
      "|      DATE|  COUNTRY|           STATE|      CITY|         PERPETRATOR|INJURED|DEAD|         DESCRIPTION| CATEGORY|DAMAGE|\n",
      "+----------+---------+----------------+----------+--------------------+-------+----+--------------------+---------+------+\n",
      "|2019-04-26|Sri Lanka|Eastern Province|  Kalmunai|       Islamic State|      2|   1|During a police r...|Explosion|     3|\n",
      "|2019-04-21|Sri Lanka|Western Province|   Colombo|       Islamic State|    500| 259|A series of explo...|Explosion|   759|\n",
      "|2009-03-10|Sri Lanka|            null|      null|Liberation Tigers...|     60|  16|On March 10, 2009...|Explosion|    76|\n",
      "|2009-02-09|Sri Lanka|            null|      null|Liberation Tigers...|     40|  30|On February 9, 20...|Explosion|    70|\n",
      "|2009-01-21|Sri Lanka|Eastern Province|Batticaloa|Liberation Tigers...|     11|   2|Two people were k...|Explosion|    13|\n",
      "+----------+---------+----------------+----------+--------------------+-------+----+--------------------+---------+------+\n",
      "\n",
      "+----------+-------+-----------+----+-----------+-------+----+--------------------+---------------+------+\n",
      "|      DATE|COUNTRY|      STATE|CITY|PERPETRATOR|INJURED|DEAD|         DESCRIPTION|       CATEGORY|DAMAGE|\n",
      "+----------+-------+-----------+----+-----------+-------+----+--------------------+---------------+------+\n",
      "|2013-01-16|Algeria|       null|null|       null|      0|  69|In Amenas hostage...|Assault,Hostage|    69|\n",
      "|2008-11-20|Algeria|Constantine|null|       null|      0|   0|A suicide bomber ...|      Explosion|     0|\n",
      "|2008-11-09|Algeria|       null|null|   Al Qaeda|      0|   1|Gunmen with Al Qa...|        Assault|     1|\n",
      "|2008-11-05|Algeria|       null|null|       null|      0|   1|Unidentified assa...|        Hostage|     1|\n",
      "|2008-10-30|Algeria|       null|null|       null|      0|   1|Unidentified assa...|           null|     1|\n",
      "+----------+-------+-----------+----+-----------+-------+----+--------------------+---------------+------+\n",
      "\n",
      "+----------+---------+--------------------+------------+--------------------+-------+----+--------------------+---------+------+\n",
      "|      DATE|  COUNTRY|               STATE|        CITY|         PERPETRATOR|INJURED|DEAD|         DESCRIPTION| CATEGORY|DAMAGE|\n",
      "+----------+---------+--------------------+------------+--------------------+-------+----+--------------------+---------+------+\n",
      "|2005-11-04|Argentina|Buenos Aires Prov...|Buenos Aires|                null|      1|   0|While there were ...|     null|     1|\n",
      "|2005-11-04|Argentina|                null|        null|                null|      0|   0|According to pres...|     null|     0|\n",
      "|2005-10-06|Argentina|Buenos Aires Prov...|Buenos Aires| Che Guevara Brigade|      0|   0|A fire was set at...|Explosion|     0|\n",
      "|2005-07-25|Argentina|Buenos Aires Prov...|Buenos Aires|                null|      0|   0|Two bombs explode...|Explosion|     0|\n",
      "|2005-06-06|Argentina|Buenos Aires Prov...|Buenos Aires|Mariano Moreno Na...|      0|   0|A small homemade ...|Explosion|     0|\n",
      "+----------+---------+--------------------+------------+--------------------+-------+----+--------------------+---------+------+\n",
      "\n",
      "+----------+-------+--------------------+-----------------+-------------+-------+----+--------------------+--------------------+------+\n",
      "|      DATE|COUNTRY|               STATE|             CITY|  PERPETRATOR|INJURED|DEAD|         DESCRIPTION|            CATEGORY|DAMAGE|\n",
      "+----------+-------+--------------------+-----------------+-------------+-------+----+--------------------+--------------------+------+\n",
      "|2018-11-20|Belgium|Brussels-Capital ...|         Brussels|      Issam T|      2|   0|A lone wolf terro...|                null|     2|\n",
      "|2018-05-29|Belgium|            Wallonia|Marche-en-Famenne|Islamic State|      4|   4|\"A man who shoute...| Belgium. The gun...|     8|\n",
      "|2017-08-25|Belgium|Brussels-Capital ...|         Brussels|Islamic State|      2|   0|Two soldiers were...|                null|\n",
      "\n",
      "*** WARNING: max output size exceeded, skipping output. ***\n",
      "\n",
      "   null|      0|   1|The Mozambican am...|     null|     1|\n",
      "|1989-01-24| Zambia|Southern Province|Livingstone|       null|      1|   1|A bomb exploded a...|Explosion|     2|\n",
      "|1988-12-02| Zambia|             null|       null|       null|     13|   2|A bomb placed in ...|Explosion|    15|\n",
      "|1988-10-18| Zambia|Southern Province|Livingstone|       null|      5|   0|Five people were ...|Explosion|     5|\n",
      "+----------+-------+-----------------+-----------+-----------+-------+----+--------------------+---------+------+\n",
      "\n",
      "+----------+-------+-----+----+-----------+-------+----+--------------------+--------------------+------+\n",
      "|      DATE|COUNTRY|STATE|CITY|PERPETRATOR|INJURED|DEAD|         DESCRIPTION|            CATEGORY|DAMAGE|\n",
      "+----------+-------+-----+----+-----------+-------+----+--------------------+--------------------+------+\n",
      "|2000-08-17| Latvia| Riga|null|       null|     35|   1|\"2000 department ...|56.9493977,24.105...|    36|\n",
      "|1999-04-07| Latvia| Riga|null|       null|      0|   0|Unidentified peop...|                null|     0|\n",
      "|1999-04-02| Latvia| Riga|null|       null|      0|   0|An object resembl...|                null|     0|\n",
      "|1998-10-01| Latvia| Riga|null|       null|      0|   0|A powerful explos...|           Explosion|     0|\n",
      "|1998-04-15| Latvia| Riga|null|       null|      0|   0|A explosive devic...|           Explosion|     0|\n",
      "+----------+-------+-----+----+-----------+-------+----+--------------------+--------------------+------+\n",
      "\n",
      "+----------+-------+-----+----+--------------------+-------+----+--------------------+--------+------+\n",
      "|      DATE|COUNTRY|STATE|CITY|         PERPETRATOR|INJURED|DEAD|         DESCRIPTION|CATEGORY|DAMAGE|\n",
      "+----------+-------+-----+----+--------------------+-------+----+--------------------+--------+------+\n",
      "|2000-09-05| Guinea| null|null|Revolutionary Uni...|      0|   0|Suspected Revolut...| Hostage|     0|\n",
      "|1995-10-27| Guinea| null|null|Free Papua Moveme...|      0|   0|The Indonesian Co...|    null|     0|\n",
      "|1990-01-24| Guinea| null|null|                null|      1|   1|An Australian min...|    null|     2|\n",
      "|1990-01-19| Guinea| null|null|                null|      1|   0|An Australian jou...|    null|     1|\n",
      "+----------+-------+-----+----+--------------------+-------+----+--------------------+--------+------+\n",
      "\n",
      "+----------+--------------+--------------------+-------+-----------+-------+----+--------------------+---------+------+\n",
      "|      DATE|       COUNTRY|               STATE|   CITY|PERPETRATOR|INJURED|DEAD|         DESCRIPTION| CATEGORY|DAMAGE|\n",
      "+----------+--------------+--------------------+-------+-----------+-------+----+--------------------+---------+------+\n",
      "|2003-01-10|Czech Republic|                null|   null|       null|      0|   0|Explosives were f...|Explosion|     0|\n",
      "|2002-11-19|Czech Republic|                null|   null|       null|      0|   0|Hours before US P...|Explosion|     0|\n",
      "|2002-11-18|Czech Republic| Praha, Hlavní město| Prague|       null|      0|   0|A Mercedes was de...|     null|     0|\n",
      "|1998-04-27|Czech Republic|Moravskoslezský kraj|Ostrava|       null|      4|   0|A time bomb explo...|Explosion|     4|\n",
      "|1993-01-10|Czech Republic|                null|   null|       null|      0|   0|CZECH/SLOVAKIA BO...|Explosion|     0|\n",
      "+----------+--------------+--------------------+-------+-----------+-------+----+--------------------+---------+------+\n",
      "\n",
      "+----------+-------+-------------+--------+--------------------+-------+----+--------------------+--------+------+\n",
      "|      DATE|COUNTRY|        STATE|    CITY|         PERPETRATOR|INJURED|DEAD|         DESCRIPTION|CATEGORY|DAMAGE|\n",
      "+----------+-------+-------------+--------+--------------------+-------+----+--------------------+--------+------+\n",
      "|1992-12-18| Belize|Cayo District|Belmopan|Cinchoneros Popul...|      0|   0|El Salvador's con...| Hostage|     0|\n",
      "+----------+-------+-------------+--------+--------------------+-------+----+--------------------+--------+------+\n",
      "\n",
      "+----------+--------+--------------------+---------+-----------+-------+----+--------------------+---------+------+\n",
      "|      DATE| COUNTRY|               STATE|     CITY|PERPETRATOR|INJURED|DEAD|         DESCRIPTION| CATEGORY|DAMAGE|\n",
      "+----------+--------+--------------------+---------+-----------+-------+----+--------------------+---------+------+\n",
      "|2002-03-28|Slovenia|Ljubljana City Mu...|Ljubljana|       null|      0|   0|Two explosives we...|Explosion|     0|\n",
      "+----------+--------+--------------------+---------+-----------+-------+----+--------------------+---------+------+\n",
      "\n",
      "+----------+-------+-----------------+--------+--------------------+-------+----+--------------------+---------+------+\n",
      "|      DATE|COUNTRY|            STATE|    CITY|         PERPETRATOR|INJURED|DEAD|         DESCRIPTION| CATEGORY|DAMAGE|\n",
      "+----------+-------+-----------------+--------+--------------------+-------+----+--------------------+---------+------+\n",
      "|2005-01-09|  Japan|            Tokyo|   Tokyo|                null|      0|   0|Two bombs were fo...|Explosion|     0|\n",
      "|2004-02-18|  Japan|            Tokyo|   Tokyo|                null|      0|   0|No 1 was hurt and...|Explosion|     0|\n",
      "|2003-10-27|  Japan|            Tokyo|   Tokyo|Kenkoku Giyugun C...|      0|   0|A shot appears to...|  Assault|     0|\n",
      "|2003-10-14|  Japan|Miyagi Prefecture|Furukawa|                null|      0|   0|Police defused an...|Explosion|     0|\n",
      "|2003-10-09|  Japan|Miyagi Prefecture|Furukawa|                null|      0|   0|An explosive devi...|Explosion|     0|\n",
      "+----------+-------+-----------------+--------+--------------------+-------+----+--------------------+---------+------+\n",
      "\n",
      "+----------+--------+--------------------+-------------+-----------+-------+----+--------------------+---------+------+\n",
      "|      DATE| COUNTRY|               STATE|         CITY|PERPETRATOR|INJURED|DEAD|         DESCRIPTION| CATEGORY|DAMAGE|\n",
      "+----------+--------+--------------------+-------------+-----------+-------+----+--------------------+---------+------+\n",
      "|2004-03-20|Tanzania|Zanzibar Urban/We...|     Zanzibar|       null|      0|   0|A grenade was lob...|Explosion|     0|\n",
      "|2000-11-12|Tanzania|                null|         null|       null|      1|   0|Masoud Muhammad S...|Explosion|     1|\n",
      "|1999-12-23|Tanzania|Zanzibar Urban/We...|     Zanzibar|       null|      0|   0|A large bomb, pot...|Explosion|     0|\n",
      "|1998-08-07|Tanzania|Dar es Salaam Region|Dar es Salaam|   Al Qaeda|     77|  11|A suicide car bom...|Explosion|    88|\n",
      "|1993-09-28|Tanzania|Dar es Salaam Region|Dar es Salaam|       null|      0|   0|A group of 4 men,...|     null|     0|\n",
      "+----------+--------+--------------------+-------------+-----------+-------+----+--------------------+---------+------+\n",
      "\n",
      "+----------+-------+---------+----+-----------+-------+----+--------------------+---------+------+\n",
      "|      DATE|COUNTRY|    STATE|CITY|PERPETRATOR|INJURED|DEAD|         DESCRIPTION| CATEGORY|DAMAGE|\n",
      "+----------+-------+---------+----+-----------+-------+----+--------------------+---------+------+\n",
      "|1994-11-14|Romania|     null|null|       null|      0|   1|An Iranian dissid...|  Assault|     1|\n",
      "|1991-08-20|Romania|Bucharest|null|       null|      2|   1|India's ambassado...|     null|     3|\n",
      "|1988-09-23|Romania|     null|null|       null|      0|   0|An incendiary dev...|     null|     0|\n",
      "|1985-05-26|Romania|Bucharest|null|       null|      0|   2|A bomb planted in...|Explosion|     2|\n",
      "|1984-12-04|Romania|Bucharest|null|       null|      0|   1|A senior Jordania...|  Assault|     1|\n",
      "+----------+-------+---------+----+-----------+-------+----+--------------------+---------+------+\n",
      "\n",
      "+----------+-----------+--------------------+------------+-----------+-------+----+--------------------+---------+------+\n",
      "|      DATE|    COUNTRY|               STATE|        CITY|PERPETRATOR|INJURED|DEAD|         DESCRIPTION| CATEGORY|DAMAGE|\n",
      "+----------+-----------+--------------------+------------+-----------+-------+----+--------------------+---------+------+\n",
      "|2003-01-06|El Salvador|                null|        null|       null|      0|   0|Authorities defus...|Explosion|     0|\n",
      "|2001-08-11|El Salvador|San Salvador Depa...|San Salvador|       null|      0|   0|In a kidnapping i...|  Hostage|     0|\n",
      "|1995-01-31|El Salvador|San Salvador Depa...|San Salvador|       null|      0|   0|A French Jewish b...|  Hostage|     0|\n",
      "|1994-01-20|El Salvador|                null|        null|       null|      2|   1|A Panamanian memb...|  Assault|     3|\n",
      "|1993-09-19|El Salvador|San Salvador Depa...|San Salvador|       null|      0|   0|A bomb was thrown...|Explosion|     0|\n",
      "+----------+-----------+--------------------+------------+-----------+-------+----+--------------------+---------+------+\n",
      "\n",
      "+----------+----------+----------------+-------+--------------------+-------+----+--------------------+---------------+------+\n",
      "|      DATE|   COUNTRY|           STATE|   CITY|         PERPETRATOR|INJURED|DEAD|         DESCRIPTION|       CATEGORY|DAMAGE|\n",
      "+----------+----------+----------------+-------+--------------------+-------+----+--------------------+---------------+------+\n",
      "|2001-07-07|Costa Rica|Heredia Province|Heredia|                null|      0|   1|A radio host, kno...|           null|     1|\n",
      "|1993-03-08|Costa Rica|            null|   null|                null|      0|   0|Rightists calling...|Assault,Hostage|     0|\n",
      "|1992-09-23|Costa Rica|            null|   null|Cinchoneros Popul...|      0|   0|A man who claimed...|Assault,Hostage|     0|\n",
      "|1991-04-03|Costa Rica|            null|   null|                null|      0|   0|Gunmen fired at 2...|        Assault|     0|\n",
      "|1991-04-02|Costa Rica|            null|   null|                null|      0|   0|Two petrol bombs ...|      Explosion|     0|\n",
      "+----------+----------+----------------+-------+--------------------+-------+----+--------------------+---------------+------+\n",
      "\n",
      "+----------+-------+-----------+----------------+-----------+-------+----+--------------------+---------+------+\n",
      "|      DATE|COUNTRY|      STATE|            CITY|PERPETRATOR|INJURED|DEAD|         DESCRIPTION| CATEGORY|DAMAGE|\n",
      "+----------+-------+-----------+----------------+-----------+-------+----+--------------------+---------+------+\n",
      "|1992-09-04|Vietnam|Hồ Chí Minh|Ho Chi Minh City|       null|      0|   0|A hijacker with a...|  Assault|     0|\n",
      "|1975-01-06|Vietnam|       null|            null|       null|      0|   1|An American diplo...|Explosion|     1|\n",
      "|1974-09-15|Vietnam|       null|            null| Le Duc Tan|      0|  75|Le Duc Tan, a Sou...|Explosion|    75|\n",
      "+----------+-------+-----------+----------------+-----------+-------+----+--------------------+---------+------+\n",
      "\n",
      "+----------+-------+-----+----+-----------+-------+----+--------------------+--------+------+\n",
      "|      DATE|COUNTRY|STATE|CITY|PERPETRATOR|INJURED|DEAD|         DESCRIPTION|CATEGORY|DAMAGE|\n",
      "+----------+-------+-----+----+-----------+-------+----+--------------------+--------+------+\n",
      "|1987-05-19|   Fiji| null|null|       null|      0|   0|An employee of Ai...|    null|     0|\n",
      "+----------+-------+-----+----+-----------+-------+----+--------------------+--------+------+\n",
      "\n",
      "+----------+-------+---------------+------+-----------+-------+----+--------------------+---------+------+\n",
      "|      DATE|COUNTRY|          STATE|  CITY|PERPETRATOR|INJURED|DEAD|         DESCRIPTION| CATEGORY|DAMAGE|\n",
      "+----------+-------+---------------+------+-----------+-------+----+--------------------+---------+------+\n",
      "|1983-06-30|Lesotho|Maseru District|Maseru|       null|      0|   2|Ten guerrillas on...|     null|     2|\n",
      "|1981-09-02|Lesotho|Maseru District|Maseru|       null|      0|   0|A bomb exploded o...|Explosion|     0|\n",
      "+----------+-------+---------------+------+-----------+-------+----+--------------------+---------+------+\n",
      "\n",
      "+----------+-------------+-----+----+--------------------+-------+----+--------------------+--------+------+\n",
      "|      DATE|      COUNTRY|STATE|CITY|         PERPETRATOR|INJURED|DEAD|         DESCRIPTION|CATEGORY|DAMAGE|\n",
      "+----------+-------------+-----+----+--------------------+-------+----+--------------------+--------+------+\n",
      "|1988-04-22|New Caledonia| null|null|Kanak and Sociali...|      0|   2|Members of the FL...| Hostage|     2|\n",
      "+----------+-------------+-----+----+--------------------+-------+----+--------------------+--------+------+\n",
      "\n",
      "+----------+-------+-----+----+------------------+-------+----+--------------------+--------+------+\n",
      "|      DATE|COUNTRY|STATE|CITY|       PERPETRATOR|INJURED|DEAD|         DESCRIPTION|CATEGORY|DAMAGE|\n",
      "+----------+-------+-----+----+------------------+-------+----+--------------------+--------+------+\n",
      "|1976-02-12|Bahamas| null|null|Anti-Castro Cubans|      0|   0|The Soviet ship D...| Assault|     0|\n",
      "|1968-06-07|Bahamas| null|null|              null|      0|   1|Haitian Consul Jo...|    null|     1|\n",
      "+----------+-------+-----+----+------------------+-------+----+--------------------+--------+------+\n",
      "\n",
      "+----------+-------+-----------------+----------+-----------+-------+----+--------------------+--------+------+\n",
      "|      DATE|COUNTRY|            STATE|      CITY|PERPETRATOR|INJURED|DEAD|         DESCRIPTION|CATEGORY|DAMAGE|\n",
      "+----------+-------+-----------------+----------+-----------+-------+----+--------------------+--------+------+\n",
      "|1979-06-21|  Gabon|Estuaire Province|Libreville|       null|      0|   2|A French citizen,...|    null|     2|\n",
      "+----------+-------+-----------------+----------+-----------+-------+----+--------------------+--------+------+\n",
      "\n",
      "+----------+--------+-------------------+----------+--------------------+-------+----+--------------------+---------+------+\n",
      "|      DATE| COUNTRY|              STATE|      CITY|         PERPETRATOR|INJURED|DEAD|         DESCRIPTION| CATEGORY|DAMAGE|\n",
      "+----------+--------+-------------------+----------+--------------------+-------+----+--------------------+---------+------+\n",
      "|1990-06-19|Suriname|               null|      null|                null|      0|   0|The U.S. owned Su...|Explosion|     0|\n",
      "|1990-04-09|Suriname|Paramaribo District|Paramaribo|                null|      0|   1|The Second Secret...|     null|     1|\n",
      "|1989-10-13|Suriname|               null|      null|National Liberati...|      0|   0|Militants of the ...|     null|     0|\n",
      "|1988-03-29|Suriname|Paramaribo District|Paramaribo|                null|      0|   0|The office of the...|     null|     0|\n",
      "|1988-03-28|Suriname|Paramaribo District|Paramaribo|                null|      0|   0|Fire was set to t...|     null|     0|\n",
      "+----------+--------+-------------------+----------+--------------------+-------+----+--------------------+---------+------+\n",
      "\n",
      "+----------+----------+-----+----+-----------+-------+----+--------------------+---------+------+\n",
      "|      DATE|   COUNTRY|STATE|CITY|PERPETRATOR|INJURED|DEAD|         DESCRIPTION| CATEGORY|DAMAGE|\n",
      "+----------+----------+-----+----+-----------+-------+----+--------------------+---------+------+\n",
      "|1985-01-10|Guadeloupe| null|null|       null|      0|   0|A Ford auto deale...|Explosion|     0|\n",
      "|1980-12-26|Guadeloupe| null|null|       null|      2|   0|A bomb planted in...|Explosion|     2|\n",
      "+----------+----------+-----+----+-----------+-------+----+--------------------+---------+------+\n",
      "\n",
      "+----------+--------+-------------+----------+------------------+-------+----+--------------------+---------+------+\n",
      "|      DATE| COUNTRY|        STATE|      CITY|       PERPETRATOR|INJURED|DEAD|         DESCRIPTION| CATEGORY|DAMAGE|\n",
      "+----------+--------+-------------+----------+------------------+-------+----+--------------------+---------+------+\n",
      "|1976-10-06|Barbados|         null|      null|Anti-Castro Cubans|      0|  73|A Cubana airlines...|Explosion|    73|\n",
      "|1976-07-10|Barbados|Saint Michael|Bridgetown|Anti-Castro Cubans|      0|   0|A bomb exploded i...|Explosion|     0|\n",
      "+----------+--------+-------------+----------+------------------+-------+----+--------------------+---------+------+\n",
      "\n",
      "+----------+-------+-----+----+-----------+-------+----+--------------------+---------+------+\n",
      "|      DATE|COUNTRY|STATE|CITY|PERPETRATOR|INJURED|DEAD|         DESCRIPTION| CATEGORY|DAMAGE|\n",
      "+----------+-------+-----+----+-----------+-------+----+--------------------+---------+------+\n",
      "|1983-04-15|Iceland| null|null|       null|      0|   0|A bomb exploded o...|Explosion|     0|\n",
      "+----------+-------+-----+----+-----------+-------+----+--------------------+---------+------+\n",
      "\n",
      "+----------+----------------+-----+----+-----------+-------+----+--------------------+--------+------+\n",
      "|      DATE|         COUNTRY|STATE|CITY|PERPETRATOR|INJURED|DEAD|         DESCRIPTION|CATEGORY|DAMAGE|\n",
      "+----------+----------------+-----+----+-----------+-------+----+--------------------+--------+------+\n",
      "|1981-09-24|French Polynesia| null|null|       null|      0|   1|A 20 year old Fre...| Assault|     1|\n",
      "+----------+----------------+-----+----+-----------+-------+----+--------------------+--------+------+\n",
      "\n",
      "+----------+-------+-----+----+--------------------+-------+----+--------------------+---------+------+\n",
      "|      DATE|COUNTRY|STATE|CITY|         PERPETRATOR|INJURED|DEAD|         DESCRIPTION| CATEGORY|DAMAGE|\n",
      "+----------+-------+-----+----+--------------------+-------+----+--------------------+---------+------+\n",
      "|1976-07-01|   Oman| null|null|Popular Front for...|      3|   4|The PFLP claimed ...|Explosion|     7|\n",
      "+----------+-------+-----+----+--------------------+-------+----+--------------------+---------+------+\n",
      "\n",
      "+----------+---------+-----+----+--------------------+-------+----+--------------------+---------+------+\n",
      "|      DATE|  COUNTRY|STATE|CITY|         PERPETRATOR|INJURED|DEAD|         DESCRIPTION| CATEGORY|DAMAGE|\n",
      "+----------+---------+-----+----+--------------------+-------+----+--------------------+---------+------+\n",
      "|1973-09-17|Gibraltar| null|null|Provisional Irish...|      0|   0|An IRA letter bom...|Explosion|     0|\n",
      "+----------+---------+-----+----+--------------------+-------+----+--------------------+---------+------+\n",
      "\n",
      "+----------+------------+----------------+-------+-----------+-------+----+--------------------+---------+------+\n",
      "|      DATE|     COUNTRY|           STATE|   CITY|PERPETRATOR|INJURED|DEAD|         DESCRIPTION| CATEGORY|DAMAGE|\n",
      "+----------+------------+----------------+-------+-----------+-------+----+--------------------+---------+------+\n",
      "|1989-10-17|Fiji Islands|Western Division|Lautoka|       null|      0|   0|A Methodist Churc...|Explosion|     0|\n",
      "+----------+------------+----------------+-------+-----------+-------+----+--------------------+---------+------+\n",
      "\n",
      "+----------+-------+-------------+--------+--------------------+-------+----+--------------------+---------+------+\n",
      "|      DATE|COUNTRY|        STATE|    CITY|         PERPETRATOR|INJURED|DEAD|         DESCRIPTION| CATEGORY|DAMAGE|\n",
      "+----------+-------+-------------+--------+--------------------+-------+----+--------------------+---------+------+\n",
      "|1989-09-10|Namibia|         null|    null|                null|      0|   1|A South African d...|     null|     1|\n",
      "|1988-02-19|Namibia|         null|    null|South-West Africa...|     31|  14|A bomb went off a...|Explosion|    45|\n",
      "|1988-02-17|Namibia|Oshana Region|Oshakati|SWAPO or South Af...|     70|  27|Car bombing of th...|Explosion|    97|\n",
      "|1984-04-15|Namibia|         null|    null|South-West Africa...|      4|   3|Two American dipl...|Explosion|     7|\n",
      "+----------+-------+-------------+--------+--------------------+-------+----+--------------------+---------+------+\n",
      "\n",
      "+----------+-------+---------------+--------+------------------+-------+----+--------------------+---------+------+\n",
      "|      DATE|COUNTRY|          STATE|    CITY|       PERPETRATOR|INJURED|DEAD|         DESCRIPTION| CATEGORY|DAMAGE|\n",
      "+----------+-------+---------------+--------+------------------+-------+----+--------------------+---------+------+\n",
      "|1987-05-31|Jamaica|           null|    null|              null|      0|   0|A freight train b...|     null|     0|\n",
      "|1980-07-04|Jamaica|Kingston Parish|Kingston|              null|      0|   0|The home of N. Ri...|  Assault|     0|\n",
      "|1976-07-09|Jamaica|Kingston Parish|Kingston|Anti-Castro Cubans|      0|   0|An explosion occu...|Explosion|     0|\n",
      "|1976-06-09|Jamaica|           null|    null|              null|      0|   0|A bomb exploded i...|Explosion|     0|\n",
      "|1974-08-06|Jamaica|Kingston Parish|Kingston|Anti-Castro Cubans|      0|   0|A small bomb expl...|Explosion|     0|\n",
      "+----------+-------+---------------+--------+------------------+-------+----+--------------------+---------+------+\n",
      "\n",
      "+----------+----------------+-----+----+--------------------+-------+----+--------------------+--------+------+\n",
      "|      DATE|         COUNTRY|STATE|CITY|         PERPETRATOR|INJURED|DEAD|         DESCRIPTION|CATEGORY|DAMAGE|\n",
      "+----------+----------------+-----+----+--------------------+-------+----+--------------------+--------+------+\n",
      "|1990-11-18|Papua-New Guinea| null|null|Free Papua Moveme...|      0|   0|Irianese rebels k...| Hostage|     0|\n",
      "+----------+----------------+-----+----+--------------------+-------+----+--------------------+--------+------+\n",
      "\n",
      "+----------+-------+-----+----+-----------+-------+----+--------------------+---------+------+\n",
      "|      DATE|COUNTRY|STATE|CITY|PERPETRATOR|INJURED|DEAD|         DESCRIPTION| CATEGORY|DAMAGE|\n",
      "+----------+-------+-----+----+-----------+-------+----+--------------------+---------+------+\n",
      "|1977-09-11| Azores| null|null|       null|      0|   0|A bomb damaged th...|Explosion|     0|\n",
      "+----------+-------+-----+----+-----------+-------+----+--------------------+---------+------+\n",
      "\n",
      "+----------+------------------+-----------------+-------------+--------------------+-------+----+--------------------+---------+------+\n",
      "|      DATE|           COUNTRY|            STATE|         CITY|         PERPETRATOR|INJURED|DEAD|         DESCRIPTION| CATEGORY|DAMAGE|\n",
      "+----------+------------------+-----------------+-------------+--------------------+-------+----+--------------------+---------+------+\n",
      "|1989-12-21|Dominican Republic|             null|         null|                null|      1|   0|A Molotov cocktai...|Explosion|     1|\n",
      "|1989-12-21|Dominican Republic|    Independencia|        Mella|Revolutionary Arm...|      0|   0|The Revolutionary...|     null|     0|\n",
      "|1989-12-20|Dominican Republic|             null|         null|                null|      0|   0|A small bomb expl...|Explosion|     0|\n",
      "|1989-04-27|Dominican Republic|Distrito Nacional|Santo Domingo|                null|      1|   1|A bomb exploded a...|Explosion|     2|\n",
      "|1989-03-07|Dominican Republic|             null|         null|                null|      0|   0|An explosive devi...|Explosion|     0|\n",
      "+----------+------------------+-----------------+-------------+--------------------+-------+----+--------------------+---------+------+\n",
      "\n",
      "+----------+----------+-----+----+-----------+-------+----+--------------------+---------+------+\n",
      "|      DATE|   COUNTRY|STATE|CITY|PERPETRATOR|INJURED|DEAD|         DESCRIPTION| CATEGORY|DAMAGE|\n",
      "+----------+----------+-----+----+-----------+-------+----+--------------------+---------+------+\n",
      "|1985-12-02|Luxembourg| null|null|       null|      0|   0|A bomb was thrown...|Explosion|     0|\n",
      "|1983-02-28|Luxembourg| null|null|       null|      0|   0|A bomb made of st...|Explosion|     0|\n",
      "|1981-09-10|Luxembourg| null|null|       null|      0|   0|Two Molotov cockt...|     null|     0|\n",
      "|1977-12-11|Luxembourg| null|null|       null|      0|   0|Two gasoline fill...|     null|     0|\n",
      "+----------+----------+-----+----+-----------+-------+----+--------------------+---------+------+\n",
      "\n",
      "+----------+----------------+-----+----+-----------+-------+----+--------------------+---------+------+\n",
      "|      DATE|         COUNTRY|STATE|CITY|PERPETRATOR|INJURED|DEAD|         DESCRIPTION| CATEGORY|DAMAGE|\n",
      "+----------+----------------+-----+----+-----------+-------+----+--------------------+---------+------+\n",
      "|1983-08-05|Falkland Islands| null|null|       null|      0|   0|An ultranationali...|Explosion|     0|\n",
      "+----------+----------------+-----+----+-----------+-------+----+--------------------+---------+------+\n",
      "\n",
      "+----------+--------+------+------+--------------------+-------+----+--------------------+---------+------+\n",
      "|      DATE| COUNTRY| STATE|  CITY|         PERPETRATOR|INJURED|DEAD|         DESCRIPTION| CATEGORY|DAMAGE|\n",
      "+----------+--------+------+------+--------------------+-------+----+--------------------+---------+------+\n",
      "|1988-12-14|Portugal|Guarda|Lisbon|                null|      0|   0|A parcel bomb add...|Explosion|     0|\n",
      "|1988-04-01|Portugal|Guarda|Lisbon|                null|      0|   1|A founder and for...|  Hostage|     1|\n",
      "|1986-05-18|Portugal|Guarda|Lisbon|Popular Forces of...|      0|   0|The NATO commmand...|     null|     0|\n",
      "|1986-04-10|Portugal|Guarda|Lisbon|      Action Directe|      0|   0|A bomb exploded a...|Explosion|     0|\n",
      "|1986-02-18|Portugal|Guarda|Lisbon|Popular Forces of...|      0|   0|A bomb placed in ...|Explosion|     0|\n",
      "+----------+--------+------+------+--------------------+-------+----+--------------------+---------+------+\n",
      "\n"
     ]
    }
   ],
   "source": [
    "from pyspark.sql.functions import col\n",
    "\n",
    "countries = [row['COUNTRY'] for row in ndf.select('COUNTRY').distinct().collect()]\n",
    "for country in countries:\n",
    "    n3df = ndf.filter(col('COUNTRY')==country).limit(5)\n",
    "    n3df = n3df.orderBy(col('COUNTRY'))\n",
    "    n3df.show() "
   ]
  },
  {
   "cell_type": "markdown",
   "metadata": {},
   "source": [
    "## Creating new column YEAR"
   ]
  },
  {
   "cell_type": "code",
   "execution_count": null,
   "metadata": {
    "application/vnd.databricks.v1+cell": {
     "cellMetadata": {
      "byteLimit": 2048000,
      "rowLimit": 10000
     },
     "inputWidgets": {},
     "nuid": "da404664-36ea-487e-8c19-68efde9dbbb5",
     "showTitle": true,
     "title": "Creating new column YEAR"
    }
   },
   "outputs": [
    {
     "name": "stdout",
     "output_type": "stream",
     "text": [
      "+----------+--------+------------------+----------------+--------------------+-------+----+--------------------+---------+------+----+\n",
      "|      DATE| COUNTRY|             STATE|            CITY|         PERPETRATOR|INJURED|DEAD|         DESCRIPTION| CATEGORY|DAMAGE|YEAR|\n",
      "+----------+--------+------------------+----------------+--------------------+-------+----+--------------------+---------+------+----+\n",
      "|2023-04-02|  Russia|              null|Saint Petersburg|       Darya Trepova|     42|   1|During a speech b...|Explosion|    43|2023|\n",
      "|2023-03-06|Pakistan|             Sindh|         Karachi|Tehreek-e-Jihad P...|     13|   9|A terrorist attac...|Explosion|    22|2023|\n",
      "|2023-02-17|Pakistan|             Sindh|         Karachi|Tehrik-i-Taliban ...|     16|   5|The 2023 Karachi ...|  Assault|    21|2023|\n",
      "|2023-01-30|Pakistan|Khyber Pakhtunkhwa|        Peshawar|     Jamaat-ul-Ahrar|    220| 101|A suicide attacke...|Explosion|   321|2023|\n",
      "|2023-01-27|  Israel|Jerusalem District|       Jerusalem|Palestinian Islam...|      3|   7|Seven people were...|  Assault|    10|2023|\n",
      "+----------+--------+------------------+----------------+--------------------+-------+----+--------------------+---------+------+----+\n",
      "only showing top 5 rows\n",
      "\n"
     ]
    }
   ],
   "source": [
    "from pyspark.sql.functions import year\n",
    "\n",
    "year = ndf.withColumn('YEAR',year(ndf.DATE))\n",
    "year.show(5)"
   ]
  },
  {
   "cell_type": "markdown",
   "metadata": {},
   "source": [
    "## Yearwise most attack"
   ]
  },
  {
   "cell_type": "code",
   "execution_count": null,
   "metadata": {
    "application/vnd.databricks.v1+cell": {
     "cellMetadata": {
      "byteLimit": 2048000,
      "rowLimit": 10000
     },
     "inputWidgets": {},
     "nuid": "5cdbcbf2-4bfa-4f18-8517-1fc7aa190b0e",
     "showTitle": true,
     "title": "Yearwise most attack"
    }
   },
   "outputs": [
    {
     "name": "stdout",
     "output_type": "stream",
     "text": [
      "+----+------------+\n",
      "|YEAR|Total_damage|\n",
      "+----+------------+\n",
      "|2007|       24078|\n",
      "|2006|       19208|\n",
      "|2008|       19087|\n",
      "|2005|       18025|\n",
      "|2004|       14075|\n",
      "|2001|       12402|\n",
      "|2016|       12400|\n",
      "|1998|       10533|\n",
      "|2002|        9259|\n",
      "|2003|        8687|\n",
      "|2017|        8679|\n",
      "|1995|        8544|\n",
      "|2013|        6865|\n",
      "|1996|        5433|\n",
      "|2012|        4729|\n",
      "|2019|        4696|\n",
      "|2018|        4530|\n",
      "|1993|        4330|\n",
      "|1999|        3774|\n",
      "|1988|        3650|\n",
      "+----+------------+\n",
      "only showing top 20 rows\n",
      "\n"
     ]
    }
   ],
   "source": [
    "from pyspark.sql import functions as f\n",
    "ydf = year.groupBy('YEAR').agg(\n",
    "    f.sum('DAMAGE').alias('Total_damage')\n",
    ")\n",
    "ydf = ydf.orderBy(ydf['Total_damage'].desc())\n",
    "ydf.show()"
   ]
  },
  {
   "cell_type": "markdown",
   "metadata": {},
   "source": [
    "## in which year,which country attacked most"
   ]
  },
  {
   "cell_type": "code",
   "execution_count": null,
   "metadata": {
    "application/vnd.databricks.v1+cell": {
     "cellMetadata": {
      "byteLimit": 2048000,
      "rowLimit": 10000
     },
     "inputWidgets": {},
     "nuid": "2c7f66d1-8e98-44b9-b59f-ccb049ac3298",
     "showTitle": true,
     "title": "in which year,which country attacked most"
    }
   },
   "outputs": [
    {
     "name": "stdout",
     "output_type": "stream",
     "text": [
      "+-----------+----+-------------------+\n",
      "|    COUNTRY|YEAR|Country_year_attack|\n",
      "+-----------+----+-------------------+\n",
      "|Afghanistan|2008|                343|\n",
      "|Afghanistan|2006|                279|\n",
      "|Afghanistan|2007|                247|\n",
      "|Afghanistan|2009|                240|\n",
      "|Afghanistan|2005|                170|\n",
      "|Afghanistan|2003|                121|\n",
      "|Afghanistan|2004|                115|\n",
      "|Afghanistan|2002|                 58|\n",
      "|Afghanistan|2017|                 13|\n",
      "|Afghanistan|2016|                 12|\n",
      "|Afghanistan|2018|                 11|\n",
      "|Afghanistan|2020|                  7|\n",
      "|Afghanistan|2019|                  7|\n",
      "|Afghanistan|1988|                  5|\n",
      "|Afghanistan|2022|                  4|\n",
      "|Afghanistan|1993|                  4|\n",
      "|Afghanistan|1998|                  4|\n",
      "|Afghanistan|1979|                  4|\n",
      "|Afghanistan|2001|                  3|\n",
      "|Afghanistan|1996|                  3|\n",
      "+-----------+----+-------------------+\n",
      "only showing top 20 rows\n",
      "\n"
     ]
    }
   ],
   "source": [
    "cydf = year.groupBy('COUNTRY','YEAR').agg(\n",
    "    f.count('DAMAGE').alias('Country_year_attack')\n",
    ")\n",
    "cydf = cydf.orderBy(cydf['COUNTRY'],cydf['Country_year_attack'].desc())\n",
    "cydf.show()"
   ]
  },
  {
   "cell_type": "markdown",
   "metadata": {},
   "source": [
    "## Analysis on Pakistan"
   ]
  },
  {
   "cell_type": "code",
   "execution_count": null,
   "metadata": {
    "application/vnd.databricks.v1+cell": {
     "cellMetadata": {
      "byteLimit": 2048000,
      "rowLimit": 10000
     },
     "inputWidgets": {},
     "nuid": "751ce5dc-496b-422f-bf0f-5a574cab91d2",
     "showTitle": true,
     "title": "Analysis on Pakistan"
    }
   },
   "outputs": [
    {
     "name": "stdout",
     "output_type": "stream",
     "text": [
      "+----------+--------+------------------+--------+--------------------+-------+----+--------------------+-----------------+------+\n",
      "|      DATE| COUNTRY|             STATE|    CITY|         PERPETRATOR|INJURED|DEAD|         DESCRIPTION|         CATEGORY|DAMAGE|\n",
      "+----------+--------+------------------+--------+--------------------+-------+----+--------------------+-----------------+------+\n",
      "|2023-03-06|Pakistan|             Sindh| Karachi|Tehreek-e-Jihad P...|     13|   9|A terrorist attac...|        Explosion|    22|\n",
      "|2023-02-17|Pakistan|             Sindh| Karachi|Tehrik-i-Taliban ...|     16|   5|The 2023 Karachi ...|          Assault|    21|\n",
      "|2023-01-30|Pakistan|Khyber Pakhtunkhwa|Peshawar|     Jamaat-ul-Ahrar|    220| 101|A suicide attacke...|        Explosion|   321|\n",
      "|2022-04-26|Pakistan|             Sindh| Karachi|Baloch Liberation...|      4|   4|A female suicide ...|        Explosion|     8|\n",
      "|2022-03-04|Pakistan|Khyber Pakhtunkhwa|Peshawar|Islamic State – K...|    196|  63|A terrorist shot ...|Assault,Explosion|   259|\n",
      "+----------+--------+------------------+--------+--------------------+-------+----+--------------------+-----------------+------+\n",
      "only showing top 5 rows\n",
      "\n"
     ]
    }
   ],
   "source": [
    "pak_df = ndf.filter(ndf['COUNTRY']=='Pakistan')\n",
    "pak_df.show(5) "
   ]
  },
  {
   "cell_type": "code",
   "execution_count": null,
   "metadata": {
    "application/vnd.databricks.v1+cell": {
     "cellMetadata": {
      "byteLimit": 2048000,
      "rowLimit": 10000
     },
     "inputWidgets": {},
     "nuid": "77305296-a9ac-477b-83dd-dd5c77e27b77",
     "showTitle": false,
     "title": ""
    }
   },
   "outputs": [
    {
     "data": {
      "text/html": [
       "<style scoped>\n",
       "  .table-result-container {\n",
       "    max-height: 300px;\n",
       "    overflow: auto;\n",
       "  }\n",
       "  table, th, td {\n",
       "    border: 1px solid black;\n",
       "    border-collapse: collapse;\n",
       "  }\n",
       "  th, td {\n",
       "    padding: 5px;\n",
       "  }\n",
       "  th {\n",
       "    text-align: left;\n",
       "  }\n",
       "</style><div class='table-result-container'><table class='table-result'><thead style='background-color: white'><tr><th>PERPETRATOR</th><th>count</th></tr></thead><tbody><tr><td>null</td><td>879</td></tr><tr><td>Taliban</td><td>59</td></tr><tr><td>Baloch Liberation Army</td><td>47</td></tr><tr><td>Lashkar-e-Jhangvi</td><td>15</td></tr><tr><td>Islamic State</td><td>11</td></tr><tr><td>Jamaat-ul-Ahrar</td><td>8</td></tr><tr><td>Research and Analysis Wing (RAW)</td><td>3</td></tr><tr><td>Amal</td><td>3</td></tr><tr><td>Harkat ul-Mujahedin</td><td>3</td></tr><tr><td>Mutthaida Qami Movement (MQM)</td><td>3</td></tr></tbody></table></div>"
      ]
     },
     "metadata": {
      "application/vnd.databricks.v1+output": {
       "addedWidgets": {},
       "aggData": [],
       "aggError": "",
       "aggOverflow": false,
       "aggSchema": [],
       "aggSeriesLimitReached": false,
       "aggType": "",
       "arguments": {},
       "columnCustomDisplayInfos": {},
       "data": [
        [
         null,
         879
        ],
        [
         "Taliban",
         59
        ],
        [
         "Baloch Liberation Army",
         47
        ],
        [
         "Lashkar-e-Jhangvi",
         15
        ],
        [
         "Islamic State",
         11
        ],
        [
         "Jamaat-ul-Ahrar",
         8
        ],
        [
         "Research and Analysis Wing (RAW)",
         3
        ],
        [
         "Amal",
         3
        ],
        [
         "Harkat ul-Mujahedin",
         3
        ],
        [
         "Mutthaida Qami Movement (MQM)",
         3
        ]
       ],
       "datasetInfos": [],
       "dbfsResultPath": null,
       "isJsonSchema": true,
       "metadata": {},
       "overflow": false,
       "plotOptions": {
        "customPlotOptions": {},
        "displayType": "table",
        "pivotAggregation": null,
        "pivotColumns": null,
        "xColumns": null,
        "yColumns": null
       },
       "removedWidgets": [],
       "schema": [
        {
         "metadata": "{}",
         "name": "PERPETRATOR",
         "type": "\"string\""
        },
        {
         "metadata": "{}",
         "name": "count",
         "type": "\"long\""
        }
       ],
       "type": "table"
      }
     },
     "output_type": "display_data"
    },
    {
     "data": {
      "text/plain": [
       "Databricks visualization. Run in Databricks to view."
      ]
     },
     "metadata": {
      "application/vnd.databricks.v1.subcommand+json": {
       "bindings": {},
       "collapsed": false,
       "command": "%python\n__backend_agg_display_orig = display\n__backend_agg_dfs = []\ndef __backend_agg_display_new(df):\n    __backend_agg_df_modules = [\"pandas.core.frame\", \"databricks.koalas.frame\", \"pyspark.sql.dataframe\", \"pyspark.pandas.frame\", \"pyspark.sql.connect.dataframe\"]\n    if (type(df).__module__ in __backend_agg_df_modules and type(df).__name__ == 'DataFrame') or isinstance(df, list):\n        __backend_agg_dfs.append(df)\n\ndisplay = __backend_agg_display_new\n\ndef __backend_agg_user_code_fn():\n    import base64\n    exec(base64.standard_b64decode(\"cGFrX2RmMSA9IHBha19kZi5ncm91cEJ5KCdQRVJQRVRSQVRPUicpLmNvdW50KCkub3JkZXJCeSgnY291bnQnLGFzY2VuZGluZz1GYWxzZSkubGltaXQoMTApCmRpc3BsYXkocGFrX2RmMSk=\").decode())\n\ntry:\n    # run user code\n    __backend_agg_user_code_fn()\n\n    #reset display function\n    display = __backend_agg_display_orig\n\n    if len(__backend_agg_dfs) > 0:\n        # create a temp view\n        if type(__backend_agg_dfs[0]).__module__ == \"databricks.koalas.frame\":\n            # koalas dataframe\n            __backend_agg_dfs[0].to_spark().createOrReplaceTempView(\"DatabricksView3fa26b0\")\n        elif type(__backend_agg_dfs[0]).__module__ == \"pandas.core.frame\" or isinstance(__backend_agg_dfs[0], list):\n            # pandas dataframe\n            spark.createDataFrame(__backend_agg_dfs[0]).createOrReplaceTempView(\"DatabricksView3fa26b0\")\n        else:\n            __backend_agg_dfs[0].createOrReplaceTempView(\"DatabricksView3fa26b0\")\n        #run backend agg\n        display(spark.sql(\"\"\"WITH q AS (select * from DatabricksView3fa26b0) SELECT `PERPETRATOR`,SUM(`count`) `column_1de89ce44` FROM q GROUP BY `PERPETRATOR`\"\"\"))\n    else:\n        displayHTML(\"dataframe no longer exists. If you're using dataframe.display(), use display(dataframe) instead.\")\n\n\nfinally:\n    spark.sql(\"drop view if exists DatabricksView3fa26b0\")\n    display = __backend_agg_display_orig\n    del __backend_agg_display_new\n    del __backend_agg_display_orig\n    del __backend_agg_dfs\n    del __backend_agg_user_code_fn\n\n",
       "commandTitle": "Visualization 1",
       "commandType": "auto",
       "commandVersion": 0,
       "commentThread": [],
       "commentsVisible": false,
       "contentSha256Hex": null,
       "customPlotOptions": {
        "redashChart": [
         {
          "key": "type",
          "value": "CHART"
         },
         {
          "key": "options",
          "value": {
           "alignYAxesAtZero": true,
           "coefficient": 1,
           "columnConfigurationMap": {
            "x": {
             "column": "PERPETRATOR",
             "id": "column_1de89ce43"
            },
            "y": [
             {
              "column": "count",
              "id": "column_1de89ce44",
              "transform": "SUM"
             }
            ]
           },
           "dateTimeFormat": "DD/MM/YYYY HH:mm",
           "direction": {
            "type": "counterclockwise"
           },
           "error_y": {
            "type": "data",
            "visible": true
           },
           "globalSeriesType": "column",
           "isAggregationOn": true,
           "legend": {
            "traceorder": "normal"
           },
           "missingValuesAsZero": true,
           "numberFormat": "0,0.[00000]",
           "percentFormat": "0[.]00%",
           "series": {
            "error_y": {
             "type": "data",
             "visible": true
            },
            "stacking": null
           },
           "seriesOptions": {
            "column_1de89ce44": {
             "color": "#17BF51",
             "name": "count",
             "yAxis": 0
            }
           },
           "showDataLabels": true,
           "sizemode": "diameter",
           "sortX": false,
           "sortY": true,
           "swappedAxes": false,
           "textFormat": "",
           "useAggregationsUi": true,
           "valuesOptions": {},
           "version": 2,
           "xAxis": {
            "labels": {
             "enabled": true
            },
            "type": "-"
           },
           "yAxis": [
            {
             "type": "-"
            },
            {
             "opposite": true,
             "type": "-"
            }
           ]
          }
         }
        ]
       },
       "datasetPreviewNameToCmdIdMap": {},
       "diffDeletes": [],
       "diffInserts": [],
       "displayType": "redashChart",
       "error": null,
       "errorDetails": null,
       "errorSummary": null,
       "errorTraceType": null,
       "finishTime": 0,
       "globalVars": {},
       "guid": "",
       "height": "auto",
       "hideCommandCode": false,
       "hideCommandResult": false,
       "iPythonMetadata": null,
       "inputWidgets": {},
       "isLockedInExamMode": false,
       "latestUser": "a user",
       "latestUserId": null,
       "listResultMetadata": null,
       "metadata": {
        "byteLimit": 2048000,
        "rowLimit": 10000
       },
       "nuid": "31ce8baa-212e-4488-b493-5b5e40eccb1a",
       "origId": 0,
       "parentHierarchy": [],
       "pivotAggregation": null,
       "pivotColumns": null,
       "position": 24,
       "resultDbfsErrorMessage": null,
       "resultDbfsStatus": "INLINED_IN_TREE",
       "results": null,
       "showCommandTitle": false,
       "startTime": 0,
       "state": "input",
       "streamStates": {},
       "subcommandOptions": {
        "queryPlan": {
         "groups": [
          {
           "column": "PERPETRATOR",
           "type": "column"
          }
         ],
         "selects": [
          {
           "column": "PERPETRATOR",
           "type": "column"
          },
          {
           "alias": "column_1de89ce44",
           "args": [
            {
             "column": "count",
             "type": "column"
            }
           ],
           "function": "SUM",
           "type": "function"
          }
         ]
        }
       },
       "submitTime": 0,
       "subtype": "tableResultSubCmd.visualization",
       "tableResultIndex": 0,
       "useConsistentColors": false,
       "version": "CommandV1",
       "width": "auto",
       "workflows": [],
       "xColumns": null,
       "yColumns": null
      }
     },
     "output_type": "display_data"
    }
   ],
   "source": [
    "pak_df1 = pak_df.groupBy('PERPETRATOR').count().orderBy('count',ascending=False).limit(10)\n",
    "display(pak_df1)"
   ]
  },
  {
   "cell_type": "code",
   "execution_count": null,
   "metadata": {
    "application/vnd.databricks.v1+cell": {
     "cellMetadata": {
      "byteLimit": 2048000,
      "rowLimit": 10000
     },
     "inputWidgets": {},
     "nuid": "58a0bc9f-ee2a-4eab-b09f-b4f5b722c4c2",
     "showTitle": false,
     "title": ""
    }
   },
   "outputs": [
    {
     "data": {
      "text/html": [
       "<style scoped>\n",
       "  .table-result-container {\n",
       "    max-height: 300px;\n",
       "    overflow: auto;\n",
       "  }\n",
       "  table, th, td {\n",
       "    border: 1px solid black;\n",
       "    border-collapse: collapse;\n",
       "  }\n",
       "  th, td {\n",
       "    padding: 5px;\n",
       "  }\n",
       "  th {\n",
       "    text-align: left;\n",
       "  }\n",
       "</style><div class='table-result-container'><table class='table-result'><thead style='background-color: white'><tr><th>CATEGORY</th><th>count</th></tr></thead><tbody><tr><td>Explosion</td><td>689</td></tr><tr><td>null</td><td>173</td></tr><tr><td>Assault</td><td>128</td></tr><tr><td>Assault,Explosion</td><td>33</td></tr><tr><td>Hostage</td><td>22</td></tr><tr><td>Assault,Hostage</td><td>12</td></tr><tr><td>Explosion,Hostage</td><td>3</td></tr><tr><td>Explosion,Accident</td><td>1</td></tr><tr><td>Assault,Explosion,Accident</td><td>1</td></tr></tbody></table></div>"
      ]
     },
     "metadata": {
      "application/vnd.databricks.v1+output": {
       "addedWidgets": {},
       "aggData": [],
       "aggError": "",
       "aggOverflow": false,
       "aggSchema": [],
       "aggSeriesLimitReached": false,
       "aggType": "",
       "arguments": {},
       "columnCustomDisplayInfos": {},
       "data": [
        [
         "Explosion",
         689
        ],
        [
         null,
         173
        ],
        [
         "Assault",
         128
        ],
        [
         "Assault,Explosion",
         33
        ],
        [
         "Hostage",
         22
        ],
        [
         "Assault,Hostage",
         12
        ],
        [
         "Explosion,Hostage",
         3
        ],
        [
         "Explosion,Accident",
         1
        ],
        [
         "Assault,Explosion,Accident",
         1
        ]
       ],
       "datasetInfos": [],
       "dbfsResultPath": null,
       "isJsonSchema": true,
       "metadata": {},
       "overflow": false,
       "plotOptions": {
        "customPlotOptions": {},
        "displayType": "table",
        "pivotAggregation": null,
        "pivotColumns": null,
        "xColumns": null,
        "yColumns": null
       },
       "removedWidgets": [],
       "schema": [
        {
         "metadata": "{}",
         "name": "CATEGORY",
         "type": "\"string\""
        },
        {
         "metadata": "{}",
         "name": "count",
         "type": "\"long\""
        }
       ],
       "type": "table"
      }
     },
     "output_type": "display_data"
    },
    {
     "data": {
      "text/plain": [
       "Databricks visualization. Run in Databricks to view."
      ]
     },
     "metadata": {
      "application/vnd.databricks.v1.subcommand+json": {
       "bindings": {},
       "collapsed": false,
       "command": "%python\n__backend_agg_display_orig = display\n__backend_agg_dfs = []\ndef __backend_agg_display_new(df):\n    __backend_agg_df_modules = [\"pandas.core.frame\", \"databricks.koalas.frame\", \"pyspark.sql.dataframe\", \"pyspark.pandas.frame\", \"pyspark.sql.connect.dataframe\"]\n    if (type(df).__module__ in __backend_agg_df_modules and type(df).__name__ == 'DataFrame') or isinstance(df, list):\n        __backend_agg_dfs.append(df)\n\ndisplay = __backend_agg_display_new\n\ndef __backend_agg_user_code_fn():\n    import base64\n    exec(base64.standard_b64decode(\"cGFrX2RmMiA9IHBha19kZi5ncm91cEJ5KCdDQVRFR09SWScpLmNvdW50KCkub3JkZXJCeSgnY291bnQnLGFzY2VuZGluZz1GYWxzZSkKZGlzcGxheShwYWtfZGYyKQ==\").decode())\n\ntry:\n    # run user code\n    __backend_agg_user_code_fn()\n\n    #reset display function\n    display = __backend_agg_display_orig\n\n    if len(__backend_agg_dfs) > 0:\n        # create a temp view\n        if type(__backend_agg_dfs[0]).__module__ == \"databricks.koalas.frame\":\n            # koalas dataframe\n            __backend_agg_dfs[0].to_spark().createOrReplaceTempView(\"DatabricksView37866fb\")\n        elif type(__backend_agg_dfs[0]).__module__ == \"pandas.core.frame\" or isinstance(__backend_agg_dfs[0], list):\n            # pandas dataframe\n            spark.createDataFrame(__backend_agg_dfs[0]).createOrReplaceTempView(\"DatabricksView37866fb\")\n        else:\n            __backend_agg_dfs[0].createOrReplaceTempView(\"DatabricksView37866fb\")\n        #run backend agg\n        display(spark.sql(\"\"\"WITH q AS (select * from DatabricksView37866fb) SELECT `CATEGORY`,SUM(`count`) `column_1de89ce42` FROM q GROUP BY `CATEGORY`\"\"\"))\n    else:\n        displayHTML(\"dataframe no longer exists. If you're using dataframe.display(), use display(dataframe) instead.\")\n\n\nfinally:\n    spark.sql(\"drop view if exists DatabricksView37866fb\")\n    display = __backend_agg_display_orig\n    del __backend_agg_display_new\n    del __backend_agg_display_orig\n    del __backend_agg_dfs\n    del __backend_agg_user_code_fn\n\n",
       "commandTitle": "Visualization 1",
       "commandType": "auto",
       "commandVersion": 0,
       "commentThread": [],
       "commentsVisible": false,
       "contentSha256Hex": null,
       "customPlotOptions": {
        "redashChart": [
         {
          "key": "type",
          "value": "CHART"
         },
         {
          "key": "options",
          "value": {
           "alignYAxesAtZero": true,
           "coefficient": 1,
           "columnConfigurationMap": {
            "x": {
             "column": "CATEGORY",
             "id": "column_1de89ce41"
            },
            "y": [
             {
              "column": "count",
              "id": "column_1de89ce42",
              "transform": "SUM"
             }
            ]
           },
           "dateTimeFormat": "DD/MM/YYYY HH:mm",
           "direction": {
            "type": "counterclockwise"
           },
           "error_y": {
            "type": "data",
            "visible": true
           },
           "globalSeriesType": "column",
           "isAggregationOn": true,
           "legend": {
            "traceorder": "normal"
           },
           "missingValuesAsZero": true,
           "numberFormat": "0,0.[00000]",
           "percentFormat": "0[.]00%",
           "reverseX": false,
           "series": {
            "error_y": {
             "type": "data",
             "visible": true
            },
            "stacking": null
           },
           "seriesOptions": {
            "column_1de89ce42": {
             "color": "#E92828",
             "name": "count",
             "type": "column",
             "yAxis": 0
            }
           },
           "showDataLabels": true,
           "sizemode": "diameter",
           "sortX": false,
           "sortY": true,
           "swappedAxes": false,
           "textFormat": "",
           "useAggregationsUi": true,
           "valuesOptions": {},
           "version": 2,
           "xAxis": {
            "labels": {
             "enabled": true
            },
            "type": "-"
           },
           "yAxis": [
            {
             "type": "-"
            },
            {
             "opposite": true,
             "type": "-"
            }
           ]
          }
         }
        ]
       },
       "datasetPreviewNameToCmdIdMap": {},
       "diffDeletes": [],
       "diffInserts": [],
       "displayType": "redashChart",
       "error": null,
       "errorDetails": null,
       "errorSummary": null,
       "errorTraceType": null,
       "finishTime": 0,
       "globalVars": {},
       "guid": "",
       "height": "auto",
       "hideCommandCode": false,
       "hideCommandResult": false,
       "iPythonMetadata": null,
       "inputWidgets": {},
       "isLockedInExamMode": false,
       "latestUser": "a user",
       "latestUserId": null,
       "listResultMetadata": null,
       "metadata": {
        "byteLimit": 2048000,
        "rowLimit": 10000
       },
       "nuid": "d8c77c92-f002-46c6-8058-7c2ebeefce68",
       "origId": 0,
       "parentHierarchy": [],
       "pivotAggregation": null,
       "pivotColumns": null,
       "position": 25,
       "resultDbfsErrorMessage": null,
       "resultDbfsStatus": "INLINED_IN_TREE",
       "results": null,
       "showCommandTitle": false,
       "startTime": 0,
       "state": "input",
       "streamStates": {},
       "subcommandOptions": {
        "queryPlan": {
         "groups": [
          {
           "column": "CATEGORY",
           "type": "column"
          }
         ],
         "selects": [
          {
           "column": "CATEGORY",
           "type": "column"
          },
          {
           "alias": "column_1de89ce42",
           "args": [
            {
             "column": "count",
             "type": "column"
            }
           ],
           "function": "SUM",
           "type": "function"
          }
         ]
        }
       },
       "submitTime": 0,
       "subtype": "tableResultSubCmd.visualization",
       "tableResultIndex": 0,
       "useConsistentColors": false,
       "version": "CommandV1",
       "width": "auto",
       "workflows": [],
       "xColumns": null,
       "yColumns": null
      }
     },
     "output_type": "display_data"
    }
   ],
   "source": [
    "pak_df2 = pak_df.groupBy('CATEGORY').count().orderBy('count',ascending=False)\n",
    "display(pak_df2)"
   ]
  },
  {
   "cell_type": "markdown",
   "metadata": {},
   "source": [
    "## In pakistan,which city attacked most"
   ]
  },
  {
   "cell_type": "code",
   "execution_count": null,
   "metadata": {
    "application/vnd.databricks.v1+cell": {
     "cellMetadata": {
      "byteLimit": 2048000,
      "rowLimit": 10000
     },
     "inputWidgets": {},
     "nuid": "b2114c9a-08f6-4bc6-b9e4-f77613ccc845",
     "showTitle": false,
     "title": ""
    }
   },
   "outputs": [
    {
     "name": "stdout",
     "output_type": "stream",
     "text": [
      "+--------------------+----------------+-------------+\n",
      "|               STATE|            CITY|count(DAMAGE)|\n",
      "+--------------------+----------------+-------------+\n",
      "|                null|            null|          335|\n",
      "|               Sindh|         Karachi|          144|\n",
      "|         Balochistan|          Quetta|          110|\n",
      "|  Khyber Pakhtunkhwa|        Peshawar|           89|\n",
      "|              Punjab|          Lahore|           45|\n",
      "|Islamabad Capital...|       Islamabad|           43|\n",
      "|              Punjab|      Rawalpindi|           23|\n",
      "|         Balochistan|      Dera Bugti|           22|\n",
      "|         Balochistan|            null|           17|\n",
      "|Federally Adminis...|            Wana|           16|\n",
      "|         Balochistan|           Kohlu|           16|\n",
      "|         Balochistan|         Mastung|           15|\n",
      "|               Sindh|       Hyderabad|           14|\n",
      "|  Khyber Pakhtunkhwa|           Bannu|           13|\n",
      "|  Khyber Pakhtunkhwa|Dera Ismail Khan|           11|\n",
      "|  Khyber Pakhtunkhwa|           Kohat|           10|\n",
      "|              Punjab|         Sialkot|            9|\n",
      "|              Punjab| Dera Ghazi Khan|            8|\n",
      "|              Punjab|          Multan|            8|\n",
      "|    Gilgit-Baltistan|          Gilgit|            8|\n",
      "+--------------------+----------------+-------------+\n",
      "only showing top 20 rows\n",
      "\n"
     ]
    }
   ],
   "source": [
    "pak_state = pak_df.groupBy('STATE', 'CITY').agg({'DAMAGE': 'count'}).orderBy('count(DAMAGE)', ascending=False)\n",
    "pak_state.show()"
   ]
  },
  {
   "cell_type": "code",
   "execution_count": null,
   "metadata": {
    "application/vnd.databricks.v1+cell": {
     "cellMetadata": {
      "byteLimit": 2048000,
      "rowLimit": 10000
     },
     "inputWidgets": {},
     "nuid": "89734a93-3045-4f28-b217-a48514450ef1",
     "showTitle": true,
     "title": "Which country faces which category attack most"
    }
   },
   "outputs": [
    {
     "data": {
      "text/html": [
       "<style scoped>\n",
       "  .table-result-container {\n",
       "    max-height: 300px;\n",
       "    overflow: auto;\n",
       "  }\n",
       "  table, th, td {\n",
       "    border: 1px solid black;\n",
       "    border-collapse: collapse;\n",
       "  }\n",
       "  th, td {\n",
       "    padding: 5px;\n",
       "  }\n",
       "  th {\n",
       "    text-align: left;\n",
       "  }\n",
       "</style><div class='table-result-container'><table class='table-result'><thead style='background-color: white'><tr><th>COUNTRY</th><th>CATEGORY</th><th>count(CATEGORY)</th></tr></thead><tbody><tr><td>Iraq</td><td>Explosion</td><td>2252</td></tr><tr><td>Iraq</td><td>Assault</td><td>1165</td></tr><tr><td>France</td><td>Explosion</td><td>723</td></tr><tr><td>Afghanistan</td><td>Explosion</td><td>693</td></tr><tr><td>Pakistan</td><td>Explosion</td><td>689</td></tr><tr><td>Turkey</td><td>Explosion</td><td>652</td></tr><tr><td>Spain</td><td>Explosion</td><td>625</td></tr><tr><td>United Kingdom</td><td>Explosion</td><td>589</td></tr><tr><td>India</td><td>Explosion</td><td>589</td></tr><tr><td>Colombia</td><td>Explosion</td><td>573</td></tr></tbody></table></div>"
      ]
     },
     "metadata": {
      "application/vnd.databricks.v1+output": {
       "addedWidgets": {},
       "aggData": [],
       "aggError": "",
       "aggOverflow": false,
       "aggSchema": [],
       "aggSeriesLimitReached": false,
       "aggType": "",
       "arguments": {},
       "columnCustomDisplayInfos": {},
       "data": [
        [
         "Iraq",
         "Explosion",
         2252
        ],
        [
         "Iraq",
         "Assault",
         1165
        ],
        [
         "France",
         "Explosion",
         723
        ],
        [
         "Afghanistan",
         "Explosion",
         693
        ],
        [
         "Pakistan",
         "Explosion",
         689
        ],
        [
         "Turkey",
         "Explosion",
         652
        ],
        [
         "Spain",
         "Explosion",
         625
        ],
        [
         "United Kingdom",
         "Explosion",
         589
        ],
        [
         "India",
         "Explosion",
         589
        ],
        [
         "Colombia",
         "Explosion",
         573
        ]
       ],
       "datasetInfos": [],
       "dbfsResultPath": null,
       "isJsonSchema": true,
       "metadata": {},
       "overflow": false,
       "plotOptions": {
        "customPlotOptions": {},
        "displayType": "table",
        "pivotAggregation": null,
        "pivotColumns": null,
        "xColumns": null,
        "yColumns": null
       },
       "removedWidgets": [],
       "schema": [
        {
         "metadata": "{}",
         "name": "COUNTRY",
         "type": "\"string\""
        },
        {
         "metadata": "{}",
         "name": "CATEGORY",
         "type": "\"string\""
        },
        {
         "metadata": "{}",
         "name": "count(CATEGORY)",
         "type": "\"long\""
        }
       ],
       "type": "table"
      }
     },
     "output_type": "display_data"
    },
    {
     "data": {
      "text/plain": [
       "Databricks visualization. Run in Databricks to view."
      ]
     },
     "metadata": {
      "application/vnd.databricks.v1.subcommand+json": {
       "bindings": {},
       "collapsed": false,
       "command": "%python\n__backend_agg_display_orig = display\n__backend_agg_dfs = []\ndef __backend_agg_display_new(df):\n    __backend_agg_df_modules = [\"pandas.core.frame\", \"databricks.koalas.frame\", \"pyspark.sql.dataframe\", \"pyspark.pandas.frame\", \"pyspark.sql.connect.dataframe\"]\n    if (type(df).__module__ in __backend_agg_df_modules and type(df).__name__ == 'DataFrame') or isinstance(df, list):\n        __backend_agg_dfs.append(df)\n\ndisplay = __backend_agg_display_new\n\ndef __backend_agg_user_code_fn():\n    import base64\n    exec(base64.standard_b64decode(\"Y291bl9kZiA9IG5kZi5ncm91cEJ5KCdDT1VOVFJZJywnQ0FURUdPUlknKS5hZ2coeydDQVRFR09SWSc6J2NvdW50J30pLm9yZGVyQnkoJ2NvdW50KENBVEVHT1JZKScsYXNjZW5kaW5nPUZhbHNlKS5saW1pdCgxMCkKZGlzcGxheShjb3VuX2RmKQojIHBha19kZi5ncm91cEJ5KCdTVEFURScsICdDSVRZJykuYWdnKHsnREFNQUdFJzogJ2NvdW50J30pLm9yZGVyQnkoJ2NvdW50KERBTUFHRSknLCBhc2NlbmRpbmc9RmFsc2Up\").decode())\n\ntry:\n    # run user code\n    __backend_agg_user_code_fn()\n\n    #reset display function\n    display = __backend_agg_display_orig\n\n    if len(__backend_agg_dfs) > 0:\n        # create a temp view\n        if type(__backend_agg_dfs[0]).__module__ == \"databricks.koalas.frame\":\n            # koalas dataframe\n            __backend_agg_dfs[0].to_spark().createOrReplaceTempView(\"DatabricksViewdf8b565\")\n        elif type(__backend_agg_dfs[0]).__module__ == \"pandas.core.frame\" or isinstance(__backend_agg_dfs[0], list):\n            # pandas dataframe\n            spark.createDataFrame(__backend_agg_dfs[0]).createOrReplaceTempView(\"DatabricksViewdf8b565\")\n        else:\n            __backend_agg_dfs[0].createOrReplaceTempView(\"DatabricksViewdf8b565\")\n        #run backend agg\n        display(spark.sql(\"\"\"WITH q AS (select * from DatabricksViewdf8b565) SELECT `COUNTRY`,`CATEGORY`,SUM(`count(CATEGORY)`) `column_1de89ce47` FROM q GROUP BY `CATEGORY`,`COUNTRY`\"\"\"))\n    else:\n        displayHTML(\"dataframe no longer exists. If you're using dataframe.display(), use display(dataframe) instead.\")\n\n\nfinally:\n    spark.sql(\"drop view if exists DatabricksViewdf8b565\")\n    display = __backend_agg_display_orig\n    del __backend_agg_display_new\n    del __backend_agg_display_orig\n    del __backend_agg_dfs\n    del __backend_agg_user_code_fn\n\n",
       "commandTitle": "Visualization 1",
       "commandType": "auto",
       "commandVersion": 0,
       "commentThread": [],
       "commentsVisible": false,
       "contentSha256Hex": null,
       "customPlotOptions": {
        "redashChart": [
         {
          "key": "type",
          "value": "CHART"
         },
         {
          "key": "options",
          "value": {
           "alignYAxesAtZero": true,
           "coefficient": 1,
           "columnConfigurationMap": {
            "series": {
             "column": "CATEGORY",
             "id": "column_1de89ce46"
            },
            "x": {
             "column": "COUNTRY",
             "id": "column_1de89ce45"
            },
            "y": [
             {
              "column": "count(CATEGORY)",
              "id": "column_1de89ce47",
              "transform": "SUM"
             }
            ]
           },
           "dateTimeFormat": "DD/MM/YYYY HH:mm",
           "direction": {
            "type": "counterclockwise"
           },
           "error_y": {
            "type": "data",
            "visible": true
           },
           "globalSeriesType": "column",
           "isAggregationOn": true,
           "legend": {
            "traceorder": "normal"
           },
           "missingValuesAsZero": true,
           "numberFormat": "0,0.[00000]",
           "percentFormat": "0[.]00%",
           "series": {
            "error_y": {
             "type": "data",
             "visible": true
            },
            "stacking": "stack"
           },
           "seriesOptions": {
            "column_1de89ce47": {
             "name": "count(CATEGORY)",
             "yAxis": 0
            }
           },
           "showDataLabels": true,
           "sizemode": "diameter",
           "sortX": false,
           "sortY": true,
           "swappedAxes": false,
           "textFormat": "",
           "useAggregationsUi": true,
           "valuesOptions": {},
           "version": 2,
           "xAxis": {
            "labels": {
             "enabled": true
            },
            "type": "-"
           },
           "yAxis": [
            {
             "type": "-"
            },
            {
             "opposite": true,
             "type": "-"
            }
           ]
          }
         }
        ]
       },
       "datasetPreviewNameToCmdIdMap": {},
       "diffDeletes": [],
       "diffInserts": [],
       "displayType": "redashChart",
       "error": null,
       "errorDetails": null,
       "errorSummary": null,
       "errorTraceType": null,
       "finishTime": 0,
       "globalVars": {},
       "guid": "",
       "height": "auto",
       "hideCommandCode": false,
       "hideCommandResult": false,
       "iPythonMetadata": null,
       "inputWidgets": {},
       "isLockedInExamMode": false,
       "latestUser": "a user",
       "latestUserId": null,
       "listResultMetadata": null,
       "metadata": {
        "byteLimit": 2048000,
        "rowLimit": 10000
       },
       "nuid": "7f7aeea7-c790-4842-b7a2-05fce8761b61",
       "origId": 0,
       "parentHierarchy": [],
       "pivotAggregation": null,
       "pivotColumns": null,
       "position": 27,
       "resultDbfsErrorMessage": null,
       "resultDbfsStatus": "INLINED_IN_TREE",
       "results": null,
       "showCommandTitle": false,
       "startTime": 0,
       "state": "input",
       "streamStates": {},
       "subcommandOptions": {
        "queryPlan": {
         "groups": [
          {
           "column": "COUNTRY",
           "type": "column"
          },
          {
           "column": "CATEGORY",
           "type": "column"
          }
         ],
         "selects": [
          {
           "column": "COUNTRY",
           "type": "column"
          },
          {
           "column": "CATEGORY",
           "type": "column"
          },
          {
           "alias": "column_1de89ce47",
           "args": [
            {
             "column": "count(CATEGORY)",
             "type": "column"
            }
           ],
           "function": "SUM",
           "type": "function"
          }
         ]
        }
       },
       "submitTime": 0,
       "subtype": "tableResultSubCmd.visualization",
       "tableResultIndex": 0,
       "useConsistentColors": false,
       "version": "CommandV1",
       "width": "auto",
       "workflows": [],
       "xColumns": null,
       "yColumns": null
      }
     },
     "output_type": "display_data"
    }
   ],
   "source": [
    "coun_df = ndf.groupBy('COUNTRY','CATEGORY').agg({'CATEGORY':'count'}).orderBy('count(CATEGORY)',ascending=False).limit(10)\n",
    "display(coun_df)\n"
   ]
  },
  {
   "cell_type": "markdown",
   "metadata": {},
   "source": [
    "## lowering 'Description' Column"
   ]
  },
  {
   "cell_type": "code",
   "execution_count": null,
   "metadata": {
    "application/vnd.databricks.v1+cell": {
     "cellMetadata": {
      "byteLimit": 2048000,
      "rowLimit": 10000
     },
     "inputWidgets": {},
     "nuid": "266542a5-f5e9-463f-9c40-5f87c999b589",
     "showTitle": false,
     "title": ""
    }
   },
   "outputs": [
    {
     "name": "stdout",
     "output_type": "stream",
     "text": [
      "+----------+--------+------------------+----------------+--------------------+-------+----+--------------------+---------+------+\n",
      "|      DATE| COUNTRY|             STATE|            CITY|         PERPETRATOR|INJURED|DEAD|         DESCRIPTION| CATEGORY|DAMAGE|\n",
      "+----------+--------+------------------+----------------+--------------------+-------+----+--------------------+---------+------+\n",
      "|2023-04-02|  Russia|              null|Saint Petersburg|       Darya Trepova|     42|   1|during a speech b...|Explosion|    43|\n",
      "|2023-03-06|Pakistan|             Sindh|         Karachi|Tehreek-e-Jihad P...|     13|   9|a terrorist attac...|Explosion|    22|\n",
      "|2023-02-17|Pakistan|             Sindh|         Karachi|Tehrik-i-Taliban ...|     16|   5|the 2023 karachi ...|  Assault|    21|\n",
      "|2023-01-30|Pakistan|Khyber Pakhtunkhwa|        Peshawar|     Jamaat-ul-Ahrar|    220| 101|a suicide attacke...|Explosion|   321|\n",
      "|2023-01-27|  Israel|Jerusalem District|       Jerusalem|Palestinian Islam...|      3|   7|seven people were...|  Assault|    10|\n",
      "+----------+--------+------------------+----------------+--------------------+-------+----+--------------------+---------+------+\n",
      "only showing top 5 rows\n",
      "\n"
     ]
    }
   ],
   "source": [
    "from pyspark.sql.functions import lower,upper\n",
    "ddf = ndf.withColumn('DESCRIPTION',lower(col('DESCRIPTION')))\n",
    "ddf.show(5)"
   ]
  },
  {
   "cell_type": "markdown",
   "metadata": {},
   "source": [
    "## Finding suicide wise attack in india"
   ]
  },
  {
   "cell_type": "code",
   "execution_count": null,
   "metadata": {
    "application/vnd.databricks.v1+cell": {
     "cellMetadata": {
      "byteLimit": 2048000,
      "rowLimit": 10000
     },
     "inputWidgets": {},
     "nuid": "db53f3c2-ed4a-4cfd-b52d-292daaed0f23",
     "showTitle": false,
     "title": ""
    }
   },
   "outputs": [
    {
     "name": "stdout",
     "output_type": "stream",
     "text": [
      "+----------+-------+-----------------+--------+--------------------+-------+----+--------------------+-----------------+------+\n",
      "|      DATE|COUNTRY|            STATE|    CITY|         PERPETRATOR|INJURED|DEAD|         DESCRIPTION|         CATEGORY|DAMAGE|\n",
      "+----------+-------+-----------------+--------+--------------------+-------+----+--------------------+-----------------+------+\n",
      "|2019-02-14|  India|Jammu and Kashmir| Pulwama|Jaish-e-Mohammad ...|     35|  40|40 personnel belo...|        Explosion|    75|\n",
      "|2006-05-23|  India|             null|    null|Hizbul Mujahideen...|     25|   1|in hyderpora, a s...|        Explosion|    26|\n",
      "|2005-11-14|  India|Jammu and Kashmir|Srinagar|        Al Mansooran|     17|   4|an attack at a la...|Assault,Explosion|    21|\n",
      "|2005-11-02|  India|Jammu and Kashmir|Srinagar|Jaish-e-Mohammad ...|     18|  10|on the day when t...|        Explosion|    28|\n",
      "|2004-07-24|  India|Jammu and Kashmir|Srinagar|        Al Mansooran|      2|   5|a suicide bomber ...|Assault,Explosion|     7|\n",
      "|2001-10-01|  India|Jammu and Kashmir|Srinagar|Jaish-e-Mohammad ...|     60|  38|a suicide car bom...|Assault,Explosion|    98|\n",
      "|1991-05-21|  India|             null|    null|Liberation Tigers...|      0|  13|rajiv gandhi was ...|        Explosion|    13|\n",
      "+----------+-------+-----------------+--------+--------------------+-------+----+--------------------+-----------------+------+\n",
      "\n"
     ]
    }
   ],
   "source": [
    "ddf1 = ddf.filter((ddf['DESCRIPTION'].contains('suicide')) & (df['COUNTRY']=='India'))\n",
    "ddf1.show()"
   ]
  },
  {
   "cell_type": "code",
   "execution_count": null,
   "metadata": {
    "application/vnd.databricks.v1+cell": {
     "cellMetadata": {},
     "inputWidgets": {},
     "nuid": "b8e44952-9c02-4cb6-b710-3656e7060f2f",
     "showTitle": false,
     "title": ""
    }
   },
   "outputs": [],
   "source": []
  }
 ],
 "metadata": {
  "application/vnd.databricks.v1+notebook": {
   "dashboards": [
    {
     "elements": [
      {
       "dashboardResultIndex": null,
       "elementNUID": "7f7aeea7-c790-4842-b7a2-05fce8761b61",
       "elementType": "command",
       "guid": "459ca1b8-d5b1-484a-904a-352746661115",
       "options": null,
       "position": {
        "height": 5,
        "width": 24,
        "x": 0,
        "y": 0,
        "z": null
       },
       "resultIndex": null
      },
      {
       "dashboardResultIndex": null,
       "elementNUID": "d8c77c92-f002-46c6-8058-7c2ebeefce68",
       "elementType": "command",
       "guid": "48e50d46-15e2-40ad-8e87-68ae1d19b741",
       "options": null,
       "position": {
        "height": 6,
        "width": 24,
        "x": 0,
        "y": 5,
        "z": null
       },
       "resultIndex": null
      },
      {
       "dashboardResultIndex": 0,
       "elementNUID": "ae9107de-44b9-4743-92e4-62f2a003b49a",
       "elementType": "command",
       "guid": "4f00e417-4ca0-4fa4-94df-5ffcb67b68ff",
       "options": null,
       "position": {
        "height": 6,
        "width": 24,
        "x": 0,
        "y": 11,
        "z": null
       },
       "resultIndex": null
      },
      {
       "dashboardResultIndex": 0,
       "elementNUID": "89734a93-3045-4f28-b217-a48514450ef1",
       "elementType": "command",
       "guid": "67aaf439-ff45-4c41-93c3-f353fc50aa9f",
       "options": null,
       "position": {
        "height": 6,
        "width": 24,
        "x": 0,
        "y": 17,
        "z": null
       },
       "resultIndex": null
      },
      {
       "dashboardResultIndex": 0,
       "elementNUID": "58a0bc9f-ee2a-4eab-b09f-b4f5b722c4c2",
       "elementType": "command",
       "guid": "a1c750fb-6394-490a-aa20-4051ed7eaa9b",
       "options": null,
       "position": {
        "height": 6,
        "width": 24,
        "x": 0,
        "y": 23,
        "z": null
       },
       "resultIndex": null
      },
      {
       "dashboardResultIndex": null,
       "elementNUID": "f175c528-5476-467f-a85f-d8a5038744d4",
       "elementType": "command",
       "guid": "b8f922a4-1be5-4c8a-b3b2-0e08d95c16f0",
       "options": null,
       "position": {
        "height": 6,
        "width": 24,
        "x": 0,
        "y": 29,
        "z": null
       },
       "resultIndex": null
      },
      {
       "dashboardResultIndex": 0,
       "elementNUID": "d723e790-e482-459c-be77-9cd54006171f",
       "elementType": "command",
       "guid": "c8fb314e-6e9e-4a88-8688-1cb7b59678cd",
       "options": null,
       "position": {
        "height": 6,
        "width": 24,
        "x": 0,
        "y": 35,
        "z": null
       },
       "resultIndex": null
      },
      {
       "dashboardResultIndex": 0,
       "elementNUID": "77305296-a9ac-477b-83dd-dd5c77e27b77",
       "elementType": "command",
       "guid": "eb517c1f-a940-42a0-99cb-6d8d491c5eb0",
       "options": {
        "autoScaleImg": false,
        "scale": 0,
        "showTitle": false,
        "titleAlign": "center"
       },
       "position": {
        "height": 6,
        "width": 24,
        "x": 0,
        "y": 41,
        "z": null
       },
       "resultIndex": null
      },
      {
       "dashboardResultIndex": null,
       "elementNUID": "31ce8baa-212e-4488-b493-5b5e40eccb1a",
       "elementType": "command",
       "guid": "f623a20d-110e-4fb5-9416-4008b39df8cc",
       "options": null,
       "position": {
        "height": 6,
        "width": 24,
        "x": 0,
        "y": 47,
        "z": null
       },
       "resultIndex": null
      }
     ],
     "globalVars": {},
     "guid": "",
     "layoutOption": {
      "grid": true,
      "stack": true
     },
     "nuid": "fc379650-3b81-4faa-a340-493ff1fc4659",
     "origId": 2967140769975480,
     "title": "Terrorism Analysis Using Pyspark",
     "version": "DashboardViewV1",
     "width": 1024
    }
   ],
   "language": "python",
   "notebookMetadata": {
    "pythonIndentUnit": 4,
    "widgetLayout": []
   },
   "notebookName": "Terrorism Analysis Using Pyspark",
   "widgets": {
    "Country": {
     "currentValue": "India",
     "nuid": "ec34d2cd-3b85-44ff-901d-33482d48a098",
     "widgetInfo": {
      "defaultValue": "India",
      "label": "Choose Country",
      "name": "Country",
      "options": {
       "autoCreated": null,
       "choices": [
        "India",
        "Pakistan",
        "Afghanistan",
        "Iran",
        "Israel",
        "Turkey",
        "Russia",
        "United States"
       ],
       "widgetType": "dropdown"
      },
      "widgetType": "combobox"
     }
    }
   }
  },
  "language_info": {
   "name": "python"
  }
 },
 "nbformat": 4,
 "nbformat_minor": 0
}
