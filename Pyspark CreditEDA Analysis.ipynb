{
 "cells": [
  {
   "cell_type": "markdown",
   "metadata": {},
   "source": [
    "## Loading Data 'Application.csv'"
   ]
  },
  {
   "cell_type": "code",
   "execution_count": null,
   "metadata": {
    "application/vnd.databricks.v1+cell": {
     "cellMetadata": {
      "byteLimit": 2048000,
      "rowLimit": 10000
     },
     "inputWidgets": {},
     "nuid": "ceecf48e-bc14-41d7-93e3-6cbd8e4f60a5",
     "showTitle": true,
     "title": "Loading Data 'application'"
    }
   },
   "outputs": [
    {
     "name": "stdout",
     "output_type": "stream",
     "text": [
      "+----------+------+------------------+-----------+------------+---------------+------------+----------------+----------+-----------+---------------+---------------+----------------+--------------------+--------------------+-----------------+--------------------------+----------+-------------+-----------------+---------------+-----------+----------+--------------+---------------+----------------+----------+----------+---------------+---------------+--------------------+---------------------------+--------------------------+-----------------------+--------------------------+--------------------------+---------------------------+----------------------+----------------------+-----------------------+--------------------+-------------------+------------------+-------------------+--------------+----------------+---------------------------+------------------+--------------+-------------+-------------+-------------+-------------+------------+--------------------+--------------+-----------------------+-----------------+---------------+-----------------+----------------------------+----------------+---------------+--------------+--------------+--------------+--------------+-------------+---------------------+---------------+------------------------+------------------+---------------+-----------------+----------------------------+----------------+---------------+--------------+--------------+--------------+--------------+-------------+---------------------+---------------+------------------------+------------------+------------------+--------------+--------------+------------------+-------------------+------------------------+------------------------+------------------------+------------------------+----------------------+---------------+---------------+---------------+---------------+---------------+---------------+---------------+---------------+----------------+----------------+----------------+----------------+----------------+----------------+----------------+----------------+----------------+----------------+----------------+----------------+--------------------------+-------------------------+--------------------------+-------------------------+-------------------------+--------------------------+\n",
      "|SK_ID_CURR|TARGET|NAME_CONTRACT_TYPE|CODE_GENDER|FLAG_OWN_CAR|FLAG_OWN_REALTY|CNT_CHILDREN|AMT_INCOME_TOTAL|AMT_CREDIT|AMT_ANNUITY|AMT_GOODS_PRICE|NAME_TYPE_SUITE|NAME_INCOME_TYPE| NAME_EDUCATION_TYPE|  NAME_FAMILY_STATUS|NAME_HOUSING_TYPE|REGION_POPULATION_RELATIVE|DAYS_BIRTH|DAYS_EMPLOYED|DAYS_REGISTRATION|DAYS_ID_PUBLISH|OWN_CAR_AGE|FLAG_MOBIL|FLAG_EMP_PHONE|FLAG_WORK_PHONE|FLAG_CONT_MOBILE|FLAG_PHONE|FLAG_EMAIL|OCCUPATION_TYPE|CNT_FAM_MEMBERS|REGION_RATING_CLIENT|REGION_RATING_CLIENT_W_CITY|WEEKDAY_APPR_PROCESS_START|HOUR_APPR_PROCESS_START|REG_REGION_NOT_LIVE_REGION|REG_REGION_NOT_WORK_REGION|LIVE_REGION_NOT_WORK_REGION|REG_CITY_NOT_LIVE_CITY|REG_CITY_NOT_WORK_CITY|LIVE_CITY_NOT_WORK_CITY|   ORGANIZATION_TYPE|       EXT_SOURCE_1|      EXT_SOURCE_2|       EXT_SOURCE_3|APARTMENTS_AVG|BASEMENTAREA_AVG|YEARS_BEGINEXPLUATATION_AVG|   YEARS_BUILD_AVG|COMMONAREA_AVG|ELEVATORS_AVG|ENTRANCES_AVG|FLOORSMAX_AVG|FLOORSMIN_AVG|LANDAREA_AVG|LIVINGAPARTMENTS_AVG|LIVINGAREA_AVG|NONLIVINGAPARTMENTS_AVG|NONLIVINGAREA_AVG|APARTMENTS_MODE|BASEMENTAREA_MODE|YEARS_BEGINEXPLUATATION_MODE|YEARS_BUILD_MODE|COMMONAREA_MODE|ELEVATORS_MODE|ENTRANCES_MODE|FLOORSMAX_MODE|FLOORSMIN_MODE|LANDAREA_MODE|LIVINGAPARTMENTS_MODE|LIVINGAREA_MODE|NONLIVINGAPARTMENTS_MODE|NONLIVINGAREA_MODE|APARTMENTS_MEDI|BASEMENTAREA_MEDI|YEARS_BEGINEXPLUATATION_MEDI|YEARS_BUILD_MEDI|COMMONAREA_MEDI|ELEVATORS_MEDI|ENTRANCES_MEDI|FLOORSMAX_MEDI|FLOORSMIN_MEDI|LANDAREA_MEDI|LIVINGAPARTMENTS_MEDI|LIVINGAREA_MEDI|NONLIVINGAPARTMENTS_MEDI|NONLIVINGAREA_MEDI|FONDKAPREMONT_MODE|HOUSETYPE_MODE|TOTALAREA_MODE|WALLSMATERIAL_MODE|EMERGENCYSTATE_MODE|OBS_30_CNT_SOCIAL_CIRCLE|DEF_30_CNT_SOCIAL_CIRCLE|OBS_60_CNT_SOCIAL_CIRCLE|DEF_60_CNT_SOCIAL_CIRCLE|DAYS_LAST_PHONE_CHANGE|FLAG_DOCUMENT_2|FLAG_DOCUMENT_3|FLAG_DOCUMENT_4|FLAG_DOCUMENT_5|FLAG_DOCUMENT_6|FLAG_DOCUMENT_7|FLAG_DOCUMENT_8|FLAG_DOCUMENT_9|FLAG_DOCUMENT_10|FLAG_DOCUMENT_11|FLAG_DOCUMENT_12|FLAG_DOCUMENT_13|FLAG_DOCUMENT_14|FLAG_DOCUMENT_15|FLAG_DOCUMENT_16|FLAG_DOCUMENT_17|FLAG_DOCUMENT_18|FLAG_DOCUMENT_19|FLAG_DOCUMENT_20|FLAG_DOCUMENT_21|AMT_REQ_CREDIT_BUREAU_HOUR|AMT_REQ_CREDIT_BUREAU_DAY|AMT_REQ_CREDIT_BUREAU_WEEK|AMT_REQ_CREDIT_BUREAU_MON|AMT_REQ_CREDIT_BUREAU_QRT|AMT_REQ_CREDIT_BUREAU_YEAR|\n",
      "+----------+------+------------------+-----------+------------+---------------+------------+----------------+----------+-----------+---------------+---------------+----------------+--------------------+--------------------+-----------------+--------------------------+----------+-------------+-----------------+---------------+-----------+----------+--------------+---------------+----------------+----------+----------+---------------+---------------+--------------------+---------------------------+--------------------------+-----------------------+--------------------------+--------------------------+---------------------------+----------------------+----------------------+-----------------------+--------------------+-------------------+------------------+-------------------+--------------+----------------+---------------------------+------------------+--------------+-------------+-------------+-------------+-------------+------------+--------------------+--------------+-----------------------+-----------------+---------------+-----------------+----------------------------+----------------+---------------+--------------+--------------+--------------+--------------+-------------+---------------------+---------------+------------------------+------------------+---------------+-----------------+----------------------------+----------------+---------------+--------------+--------------+--------------+--------------+-------------+---------------------+---------------+------------------------+------------------+------------------+--------------+--------------+------------------+-------------------+------------------------+------------------------+------------------------+------------------------+----------------------+---------------+---------------+---------------+---------------+---------------+---------------+---------------+---------------+----------------+----------------+----------------+----------------+----------------+----------------+----------------+----------------+----------------+----------------+----------------+----------------+--------------------------+-------------------------+--------------------------+-------------------------+-------------------------+--------------------------+\n",
      "|    100002|     1|        Cash loans|          M|           N|              Y|           0|        202500.0|  406597.5|    24700.5|       351000.0|  Unaccompanied|         Working|Secondary / secon...|Single / not married|House / apartment|                  0.018801|     -9461|         -637|          -3648.0|          -2120|       null|         1|             1|              0|               1|         1|         0|       Laborers|            1.0|                   2|                          2|                 WEDNESDAY|                     10|                         0|                         0|                          0|                     0|                     0|                      0|Business Entity T...|0.08303696739132256|0.2629485927471776|0.13937578009978951|        0.0247|          0.0369|                     0.9722|            0.6192|        0.0143|          0.0|        0.069|       0.0833|        0.125|      0.0369|              0.0202|         0.019|                    0.0|              0.0|         0.0252|           0.0383|                      0.9722|          0.6341|         0.0144|           0.0|         0.069|        0.0833|         0.125|       0.0377|                0.022|         0.0198|                     0.0|               0.0|          0.025|           0.0369|                      0.9722|          0.6243|         0.0144|           0.0|         0.069|        0.0833|         0.125|       0.0375|               0.0205|         0.0193|                     0.0|               0.0|  reg oper account|block of flats|        0.0149|      Stone, brick|                 No|                     2.0|                     2.0|                     2.0|                     2.0|               -1134.0|              0|              1|              0|              0|              0|              0|              0|              0|               0|               0|               0|               0|               0|               0|               0|               0|               0|               0|               0|               0|                       0.0|                      0.0|                       0.0|                      0.0|                      0.0|                       1.0|\n",
      "|    100003|     0|        Cash loans|          F|           N|              N|           0|        270000.0| 1293502.5|    35698.5|      1129500.0|         Family|   State servant|    Higher education|             Married|House / apartment|      0.003540999999999999|    -16765|        -1188|          -1186.0|           -291|       null|         1|             1|              0|               1|         1|         0|     Core staff|            2.0|                   1|                          1|                    MONDAY|                     11|                         0|                         0|                          0|                     0|                     0|                      0|              School| 0.3112673113812225|0.6222457752555098|               null|        0.0959|          0.0529|                     0.9851|0.7959999999999999|        0.0605|         0.08|       0.0345|       0.2917|       0.3333|       0.013|              0.0773|        0.0549|                 0.0039|           0.0098|         0.0924|           0.0538|                      0.9851|           0.804|         0.0497|        0.0806|        0.0345|        0.2917|        0.3333|       0.0128|                0.079|         0.0554|                     0.0|               0.0|         0.0968|           0.0529|                      0.9851|          0.7987|         0.0608|          0.08|        0.0345|        0.2917|        0.3333|       0.0132|               0.0787|         0.0558|                  0.0039|              0.01|  reg oper account|block of flats|        0.0714|             Block|                 No|                     1.0|                     0.0|                     1.0|                     0.0|                -828.0|              0|              1|              0|              0|              0|              0|              0|              0|               0|               0|               0|               0|               0|               0|               0|               0|               0|               0|               0|               0|                       0.0|                      0.0|                       0.0|                      0.0|                      0.0|                       0.0|\n",
      "|    100004|     0|   Revolving loans|          M|           Y|              Y|           0|         67500.0|  135000.0|     6750.0|       135000.0|  Unaccompanied|         Working|Secondary / secon...|Single / not married|House / apartment|                  0.010032|    -19046|         -225|          -4260.0|          -2531|       26.0|         1|             1|              1|               1|         1|         0|       Laborers|            1.0|                   2|                          2|                    MONDAY|                      9|                         0|                         0|                          0|                     0|                     0|                      0|          Government|               null|0.5559120833904428| 0.7295666907060153|          null|            null|                       null|              null|          null|         null|         null|         null|         null|        null|                null|          null|                   null|             null|           null|             null|                        null|            null|           null|          null|          null|          null|          null|         null|                 null|           null|                    null|              null|           null|             null|                        null|            null|           null|          null|          null|          null|          null|         null|                 null|           null|                    null|              null|              null|          null|          null|              null|               null|                     0.0|                     0.0|                     0.0|                     0.0|                -815.0|              0|              0|              0|              0|              0|              0|              0|              0|               0|               0|               0|               0|               0|               0|               0|               0|               0|               0|               0|               0|                       0.0|                      0.0|                       0.0|                      0.0|                      0.0|                       0.0|\n",
      "|    100006|     0|        Cash loans|          F|           N|              Y|           0|        135000.0|  312682.5|    29686.5|       297000.0|  Unaccompanied|         Working|Secondary / secon...|      Civil marriage|House / apartment|                  0.008019|    -19005|        -3039|          -9833.0|          -2437|       null|         1|             1|              0|               1|         0|         0|       Laborers|            2.0|                   2|                          2|                 WEDNESDAY|                     17|                         0|                         0|                          0|                     0|                     0|                      0|Business Entity T...|               null|0.6504416904014653|               null|          null|            null|                       null|              null|          null|         null|         null|         null|         null|        null|                null|          null|                   null|             null|           null|             null|                        null|            null|           null|          null|          null|          null|          null|         null|                 null|           null|                    null|              null|           null|             null|                        null|            null|           null|          null|          null|          null|          null|         null|                 null|           null|                    null|              null|              null|          null|          null|              null|               null|                     2.0|                     0.0|                     2.0|                     0.0|                -617.0|              0|              1|              0|              0|              0|              0|              0|              0|               0|               0|               0|               0|               0|               0|               0|               0|               0|               0|               0|               0|                      null|                     null|                      null|                     null|                     null|                      null|\n",
      "|    100007|     0|        Cash loans|          M|           N|              Y|           0|        121500.0|  513000.0|    21865.5|       513000.0|  Unaccompanied|         Working|Secondary / secon...|Single / not married|House / apartment|                  0.028663|    -19932|        -3038|          -4311.0|          -3458|       null|         1|             1|              0|               1|         0|         0|     Core staff|            1.0|                   2|                          2|                  THURSDAY|                     11|                         0|                         0|                          0|                     0|                     1|                      1|            Religion|               null|0.3227382869704046|               null|          null|            null|                       null|              null|          null|         null|         null|         null|         null|        null|                null|          null|                   null|             null|           null|             null|                        null|            null|           null|          null|          null|          null|          null|         null|                 null|           null|                    null|              null|           null|             null|                        null|            null|           null|          null|          null|          null|          null|         null|                 null|           null|                    null|              null|              null|          null|          null|              null|               null|                     0.0|                     0.0|                     0.0|                     0.0|               -1106.0|              0|              0|              0|              0|              0|              0|              1|              0|               0|               0|               0|               0|               0|               0|               0|               0|               0|               0|               0|               0|                       0.0|                      0.0|                       0.0|                      0.0|                      0.0|                       0.0|\n",
      "+----------+------+------------------+-----------+------------+---------------+------------+----------------+----------+-----------+---------------+---------------+----------------+--------------------+--------------------+-----------------+--------------------------+----------+-------------+-----------------+---------------+-----------+----------+--------------+---------------+----------------+----------+----------+---------------+---------------+--------------------+---------------------------+--------------------------+-----------------------+--------------------------+--------------------------+---------------------------+----------------------+----------------------+-----------------------+--------------------+-------------------+------------------+-------------------+--------------+----------------+---------------------------+------------------+--------------+-------------+-------------+-------------+-------------+------------+--------------------+--------------+-----------------------+-----------------+---------------+-----------------+----------------------------+----------------+---------------+--------------+--------------+--------------+--------------+-------------+---------------------+---------------+------------------------+------------------+---------------+-----------------+----------------------------+----------------+---------------+--------------+--------------+--------------+--------------+-------------+---------------------+---------------+------------------------+------------------+------------------+--------------+--------------+------------------+-------------------+------------------------+------------------------+------------------------+------------------------+----------------------+---------------+---------------+---------------+---------------+---------------+---------------+---------------+---------------+----------------+----------------+----------------+----------------+----------------+----------------+----------------+----------------+----------------+----------------+----------------+----------------+--------------------------+-------------------------+--------------------------+-------------------------+-------------------------+--------------------------+\n",
      "only showing top 5 rows\n",
      "\n"
     ]
    }
   ],
   "source": [
    "df = spark.read.csv('/FileStore/tables/application_data.csv',header=True,inferSchema=True)\n",
    "df.show(5)"
   ]
  },
  {
   "cell_type": "code",
   "execution_count": null,
   "metadata": {
    "application/vnd.databricks.v1+cell": {
     "cellMetadata": {
      "byteLimit": 2048000,
      "rowLimit": 10000
     },
     "inputWidgets": {},
     "nuid": "0ad4d766-e460-4138-8c53-d84bc2318434",
     "showTitle": false,
     "title": ""
    }
   },
   "outputs": [
    {
     "name": "stdout",
     "output_type": "stream",
     "text": [
      "Out[3]: ['SK_ID_CURR',\n",
      " 'TARGET',\n",
      " 'NAME_CONTRACT_TYPE',\n",
      " 'CODE_GENDER',\n",
      " 'FLAG_OWN_CAR',\n",
      " 'FLAG_OWN_REALTY',\n",
      " 'CNT_CHILDREN',\n",
      " 'AMT_INCOME_TOTAL',\n",
      " 'AMT_CREDIT',\n",
      " 'AMT_ANNUITY',\n",
      " 'AMT_GOODS_PRICE',\n",
      " 'NAME_TYPE_SUITE',\n",
      " 'NAME_INCOME_TYPE',\n",
      " 'NAME_EDUCATION_TYPE',\n",
      " 'NAME_FAMILY_STATUS',\n",
      " 'NAME_HOUSING_TYPE',\n",
      " 'REGION_POPULATION_RELATIVE',\n",
      " 'DAYS_BIRTH',\n",
      " 'DAYS_EMPLOYED',\n",
      " 'DAYS_REGISTRATION',\n",
      " 'DAYS_ID_PUBLISH',\n",
      " 'OWN_CAR_AGE',\n",
      " 'FLAG_MOBIL',\n",
      " 'FLAG_EMP_PHONE',\n",
      " 'FLAG_WORK_PHONE',\n",
      " 'FLAG_CONT_MOBILE',\n",
      " 'FLAG_PHONE',\n",
      " 'FLAG_EMAIL',\n",
      " 'OCCUPATION_TYPE',\n",
      " 'CNT_FAM_MEMBERS',\n",
      " 'REGION_RATING_CLIENT',\n",
      " 'REGION_RATING_CLIENT_W_CITY',\n",
      " 'WEEKDAY_APPR_PROCESS_START',\n",
      " 'HOUR_APPR_PROCESS_START',\n",
      " 'REG_REGION_NOT_LIVE_REGION',\n",
      " 'REG_REGION_NOT_WORK_REGION',\n",
      " 'LIVE_REGION_NOT_WORK_REGION',\n",
      " 'REG_CITY_NOT_LIVE_CITY',\n",
      " 'REG_CITY_NOT_WORK_CITY',\n",
      " 'LIVE_CITY_NOT_WORK_CITY',\n",
      " 'ORGANIZATION_TYPE',\n",
      " 'EXT_SOURCE_1',\n",
      " 'EXT_SOURCE_2',\n",
      " 'EXT_SOURCE_3',\n",
      " 'APARTMENTS_AVG',\n",
      " 'BASEMENTAREA_AVG',\n",
      " 'YEARS_BEGINEXPLUATATION_AVG',\n",
      " 'YEARS_BUILD_AVG',\n",
      " 'COMMONAREA_AVG',\n",
      " 'ELEVATORS_AVG',\n",
      " 'ENTRANCES_AVG',\n",
      " 'FLOORSMAX_AVG',\n",
      " 'FLOORSMIN_AVG',\n",
      " 'LANDAREA_AVG',\n",
      " 'LIVINGAPARTMENTS_AVG',\n",
      " 'LIVINGAREA_AVG',\n",
      " 'NONLIVINGAPARTMENTS_AVG',\n",
      " 'NONLIVINGAREA_AVG',\n",
      " 'APARTMENTS_MODE',\n",
      " 'BASEMENTAREA_MODE',\n",
      " 'YEARS_BEGINEXPLUATATION_MODE',\n",
      " 'YEARS_BUILD_MODE',\n",
      " 'COMMONAREA_MODE',\n",
      " 'ELEVATORS_MODE',\n",
      " 'ENTRANCES_MODE',\n",
      " 'FLOORSMAX_MODE',\n",
      " 'FLOORSMIN_MODE',\n",
      " 'LANDAREA_MODE',\n",
      " 'LIVINGAPARTMENTS_MODE',\n",
      " 'LIVINGAREA_MODE',\n",
      " 'NONLIVINGAPARTMENTS_MODE',\n",
      " 'NONLIVINGAREA_MODE',\n",
      " 'APARTMENTS_MEDI',\n",
      " 'BASEMENTAREA_MEDI',\n",
      " 'YEARS_BEGINEXPLUATATION_MEDI',\n",
      " 'YEARS_BUILD_MEDI',\n",
      " 'COMMONAREA_MEDI',\n",
      " 'ELEVATORS_MEDI',\n",
      " 'ENTRANCES_MEDI',\n",
      " 'FLOORSMAX_MEDI',\n",
      " 'FLOORSMIN_MEDI',\n",
      " 'LANDAREA_MEDI',\n",
      " 'LIVINGAPARTMENTS_MEDI',\n",
      " 'LIVINGAREA_MEDI',\n",
      " 'NONLIVINGAPARTMENTS_MEDI',\n",
      " 'NONLIVINGAREA_MEDI',\n",
      " 'FONDKAPREMONT_MODE',\n",
      " 'HOUSETYPE_MODE',\n",
      " 'TOTALAREA_MODE',\n",
      " 'WALLSMATERIAL_MODE',\n",
      " 'EMERGENCYSTATE_MODE',\n",
      " 'OBS_30_CNT_SOCIAL_CIRCLE',\n",
      " 'DEF_30_CNT_SOCIAL_CIRCLE',\n",
      " 'OBS_60_CNT_SOCIAL_CIRCLE',\n",
      " 'DEF_60_CNT_SOCIAL_CIRCLE',\n",
      " 'DAYS_LAST_PHONE_CHANGE',\n",
      " 'FLAG_DOCUMENT_2',\n",
      " 'FLAG_DOCUMENT_3',\n",
      " 'FLAG_DOCUMENT_4',\n",
      " 'FLAG_DOCUMENT_5',\n",
      " 'FLAG_DOCUMENT_6',\n",
      " 'FLAG_DOCUMENT_7',\n",
      " 'FLAG_DOCUMENT_8',\n",
      " 'FLAG_DOCUMENT_9',\n",
      " 'FLAG_DOCUMENT_10',\n",
      " 'FLAG_DOCUMENT_11',\n",
      " 'FLAG_DOCUMENT_12',\n",
      " 'FLAG_DOCUMENT_13',\n",
      " 'FLAG_DOCUMENT_14',\n",
      " 'FLAG_DOCUMENT_15',\n",
      " 'FLAG_DOCUMENT_16',\n",
      " 'FLAG_DOCUMENT_17',\n",
      " 'FLAG_DOCUMENT_18',\n",
      " 'FLAG_DOCUMENT_19',\n",
      " 'FLAG_DOCUMENT_20',\n",
      " 'FLAG_DOCUMENT_21',\n",
      " 'AMT_REQ_CREDIT_BUREAU_HOUR',\n",
      " 'AMT_REQ_CREDIT_BUREAU_DAY',\n",
      " 'AMT_REQ_CREDIT_BUREAU_WEEK',\n",
      " 'AMT_REQ_CREDIT_BUREAU_MON',\n",
      " 'AMT_REQ_CREDIT_BUREAU_QRT',\n",
      " 'AMT_REQ_CREDIT_BUREAU_YEAR']"
     ]
    }
   ],
   "source": [
    "cols = df.columns\n",
    "cols"
   ]
  },
  {
   "cell_type": "code",
   "execution_count": null,
   "metadata": {
    "application/vnd.databricks.v1+cell": {
     "cellMetadata": {
      "byteLimit": 2048000,
      "rowLimit": 10000
     },
     "inputWidgets": {},
     "nuid": "f1fd1715-2d34-48db-9e04-2015bc387af2",
     "showTitle": false,
     "title": ""
    }
   },
   "outputs": [
    {
     "name": "stdout",
     "output_type": "stream",
     "text": [
      "Out[4]: 307511"
     ]
    }
   ],
   "source": [
    "df.count()"
   ]
  },
  {
   "cell_type": "markdown",
   "metadata": {},
   "source": [
    "## Pandafy"
   ]
  },
  {
   "cell_type": "code",
   "execution_count": null,
   "metadata": {
    "application/vnd.databricks.v1+cell": {
     "cellMetadata": {
      "byteLimit": 2048000,
      "rowLimit": 10000
     },
     "inputWidgets": {},
     "nuid": "081842f8-a0ae-4575-9b9d-02814825cd70",
     "showTitle": true,
     "title": "PandaFy"
    }
   },
   "outputs": [
    {
     "name": "stdout",
     "output_type": "stream",
     "text": [
      "        SK_ID_CURR  TARGET NAME_CONTRACT_TYPE CODE_GENDER FLAG_OWN_CAR  \\\n",
      "0           100002       1         Cash loans           M            N   \n",
      "1           100003       0         Cash loans           F            N   \n",
      "2           100004       0    Revolving loans           M            Y   \n",
      "3           100006       0         Cash loans           F            N   \n",
      "4           100007       0         Cash loans           M            N   \n",
      "...            ...     ...                ...         ...          ...   \n",
      "307506      456251       0         Cash loans           M            N   \n",
      "307507      456252       0         Cash loans           F            N   \n",
      "307508      456253       0         Cash loans           F            N   \n",
      "307509      456254       1         Cash loans           F            N   \n",
      "307510      456255       0         Cash loans           F            N   \n",
      "\n",
      "       FLAG_OWN_REALTY  CNT_CHILDREN  AMT_INCOME_TOTAL  AMT_CREDIT  \\\n",
      "0                    Y             0          202500.0    406597.5   \n",
      "1                    N             0          270000.0   1293502.5   \n",
      "2                    Y             0           67500.0    135000.0   \n",
      "3                    Y             0          135000.0    312682.5   \n",
      "4                    Y             0          121500.0    513000.0   \n",
      "...                ...           ...               ...         ...   \n",
      "307506               N             0          157500.0    254700.0   \n",
      "307507               Y             0           72000.0    269550.0   \n",
      "307508               Y             0          153000.0    677664.0   \n",
      "307509               Y             0          171000.0    370107.0   \n",
      "307510               N             0          157500.0    675000.0   \n",
      "\n",
      "        AMT_ANNUITY  ...  FLAG_DOCUMENT_18 FLAG_DOCUMENT_19 FLAG_DOCUMENT_20  \\\n",
      "0           24700.5  ...                 0                0                0   \n",
      "1           35698.5  ...                 0                0                0   \n",
      "2            6750.0  ...                 0                0                0   \n",
      "3           29686.5  ...                 0                0                0   \n",
      "4           21865.5  ...                 0                0                0   \n",
      "...             ...  ...               ...              ...              ...   \n",
      "307506      27558.0  ...                 0                0                0   \n",
      "307507      12001.5  ...                 0                0                0   \n",
      "307508      29979.0  ...                 0                0                0   \n",
      "307509      20205.0  ...                 0                0                0   \n",
      "307510      49117.5  ...                 0                0                0   \n",
      "\n",
      "       FLAG_DOCUMENT_21 AMT_REQ_CREDIT_BUREAU_HOUR AMT_REQ_CREDIT_BUREAU_DAY  \\\n",
      "0                     0                        0.0                       0.0   \n",
      "1                     0                        0.0                       0.0   \n",
      "2                     0                        0.0                       0.0   \n",
      "3                     0                        NaN                       NaN   \n",
      "4                     0                        0.0                       0.0   \n",
      "...                 ...                        ...                       ...   \n",
      "307506                0                        NaN                       NaN   \n",
      "307507                0                        NaN                       NaN   \n",
      "307508                0                        1.0                       0.0   \n",
      "307509                0                        0.0                       0.0   \n",
      "307510                0                        0.0                       0.0   \n",
      "\n",
      "        AMT_REQ_CREDIT_BUREAU_WEEK  AMT_REQ_CREDIT_BUREAU_MON  \\\n",
      "0                              0.0                        0.0   \n",
      "1                              0.0                        0.0   \n",
      "2                              0.0                        0.0   \n",
      "3                              NaN                        NaN   \n",
      "4                              0.0                        0.0   \n",
      "...                            ...                        ...   \n",
      "307506                         NaN                        NaN   \n",
      "307507                         NaN                        NaN   \n",
      "307508                         0.0                        1.0   \n",
      "307509                         0.0                        0.0   \n",
      "307510                         0.0                        2.0   \n",
      "\n",
      "        AMT_REQ_CREDIT_BUREAU_QRT  AMT_REQ_CREDIT_BUREAU_YEAR  \n",
      "0                             0.0                         1.0  \n",
      "1                             0.0                         0.0  \n",
      "2                             0.0                         0.0  \n",
      "3                             NaN                         NaN  \n",
      "4                             0.0                         0.0  \n",
      "...                           ...                         ...  \n",
      "307506                        NaN                         NaN  \n",
      "307507                        NaN                         NaN  \n",
      "307508                        0.0                         1.0  \n",
      "307509                        0.0                         0.0  \n",
      "307510                        0.0                         1.0  \n",
      "\n",
      "[307511 rows x 122 columns]\n"
     ]
    }
   ],
   "source": [
    "pdf = df.toPandas()\n",
    "print(pdf)"
   ]
  },
  {
   "cell_type": "markdown",
   "metadata": {},
   "source": [
    "## Removing unnecessary columns"
   ]
  },
  {
   "cell_type": "code",
   "execution_count": null,
   "metadata": {
    "application/vnd.databricks.v1+cell": {
     "cellMetadata": {
      "byteLimit": 2048000,
      "rowLimit": 10000
     },
     "inputWidgets": {},
     "nuid": "1dcee9b2-3e7e-42c3-83a0-8c16513d4518",
     "showTitle": true,
     "title": "Removing unnecessary columns"
    }
   },
   "outputs": [
    {
     "name": "stdout",
     "output_type": "stream",
     "text": [
      "Out[6]: ['FLAG_MOBIL',\n",
      " 'FLAG_EMP_PHONE',\n",
      " 'FLAG_WORK_PHONE',\n",
      " 'FLAG_CONT_MOBILE',\n",
      " 'FLAG_PHONE',\n",
      " 'FLAG_EMAIL',\n",
      " 'FLAG_DOCUMENT_2',\n",
      " 'FLAG_DOCUMENT_3',\n",
      " 'FLAG_DOCUMENT_4',\n",
      " 'FLAG_DOCUMENT_5',\n",
      " 'FLAG_DOCUMENT_6',\n",
      " 'FLAG_DOCUMENT_7',\n",
      " 'FLAG_DOCUMENT_8',\n",
      " 'FLAG_DOCUMENT_9',\n",
      " 'FLAG_DOCUMENT_10',\n",
      " 'FLAG_DOCUMENT_11',\n",
      " 'FLAG_DOCUMENT_12',\n",
      " 'FLAG_DOCUMENT_13',\n",
      " 'FLAG_DOCUMENT_14',\n",
      " 'FLAG_DOCUMENT_15',\n",
      " 'FLAG_DOCUMENT_16',\n",
      " 'FLAG_DOCUMENT_17',\n",
      " 'FLAG_DOCUMENT_18',\n",
      " 'FLAG_DOCUMENT_19',\n",
      " 'FLAG_DOCUMENT_20',\n",
      " 'FLAG_DOCUMENT_21']"
     ]
    }
   ],
   "source": [
    "unnecessary_col = []\n",
    "\n",
    "for col in cols:\n",
    "    if(col.startswith('FLAG')):\n",
    "        unnecessary_col.append(col)\n",
    "        \n",
    "unnecessary_col = unnecessary_col[2:]\n",
    "unnecessary_col"
   ]
  },
  {
   "cell_type": "code",
   "execution_count": null,
   "metadata": {
    "application/vnd.databricks.v1+cell": {
     "cellMetadata": {
      "byteLimit": 2048000,
      "rowLimit": 10000
     },
     "inputWidgets": {},
     "nuid": "c8e17885-cf8c-419c-b4f3-3de3b2dbac10",
     "showTitle": false,
     "title": ""
    }
   },
   "outputs": [
    {
     "data": {
      "text/html": [
       "<div>\n",
       "<style scoped>\n",
       "    .dataframe tbody tr th:only-of-type {\n",
       "        vertical-align: middle;\n",
       "    }\n",
       "\n",
       "    .dataframe tbody tr th {\n",
       "        vertical-align: top;\n",
       "    }\n",
       "\n",
       "    .dataframe thead th {\n",
       "        text-align: right;\n",
       "    }\n",
       "</style>\n",
       "<table border=\"1\" class=\"dataframe\">\n",
       "  <thead>\n",
       "    <tr style=\"text-align: right;\">\n",
       "      <th></th>\n",
       "      <th>SK_ID_CURR</th>\n",
       "      <th>TARGET</th>\n",
       "      <th>NAME_CONTRACT_TYPE</th>\n",
       "      <th>CODE_GENDER</th>\n",
       "      <th>FLAG_OWN_CAR</th>\n",
       "      <th>FLAG_OWN_REALTY</th>\n",
       "      <th>CNT_CHILDREN</th>\n",
       "      <th>AMT_INCOME_TOTAL</th>\n",
       "      <th>AMT_CREDIT</th>\n",
       "      <th>AMT_ANNUITY</th>\n",
       "      <th>...</th>\n",
       "      <th>DEF_30_CNT_SOCIAL_CIRCLE</th>\n",
       "      <th>OBS_60_CNT_SOCIAL_CIRCLE</th>\n",
       "      <th>DEF_60_CNT_SOCIAL_CIRCLE</th>\n",
       "      <th>DAYS_LAST_PHONE_CHANGE</th>\n",
       "      <th>AMT_REQ_CREDIT_BUREAU_HOUR</th>\n",
       "      <th>AMT_REQ_CREDIT_BUREAU_DAY</th>\n",
       "      <th>AMT_REQ_CREDIT_BUREAU_WEEK</th>\n",
       "      <th>AMT_REQ_CREDIT_BUREAU_MON</th>\n",
       "      <th>AMT_REQ_CREDIT_BUREAU_QRT</th>\n",
       "      <th>AMT_REQ_CREDIT_BUREAU_YEAR</th>\n",
       "    </tr>\n",
       "  </thead>\n",
       "  <tbody>\n",
       "    <tr>\n",
       "      <th>0</th>\n",
       "      <td>100002</td>\n",
       "      <td>1</td>\n",
       "      <td>Cash loans</td>\n",
       "      <td>M</td>\n",
       "      <td>N</td>\n",
       "      <td>Y</td>\n",
       "      <td>0</td>\n",
       "      <td>202500.0</td>\n",
       "      <td>406597.5</td>\n",
       "      <td>24700.5</td>\n",
       "      <td>...</td>\n",
       "      <td>2.0</td>\n",
       "      <td>2.0</td>\n",
       "      <td>2.0</td>\n",
       "      <td>-1134.0</td>\n",
       "      <td>0.0</td>\n",
       "      <td>0.0</td>\n",
       "      <td>0.0</td>\n",
       "      <td>0.0</td>\n",
       "      <td>0.0</td>\n",
       "      <td>1.0</td>\n",
       "    </tr>\n",
       "    <tr>\n",
       "      <th>1</th>\n",
       "      <td>100003</td>\n",
       "      <td>0</td>\n",
       "      <td>Cash loans</td>\n",
       "      <td>F</td>\n",
       "      <td>N</td>\n",
       "      <td>N</td>\n",
       "      <td>0</td>\n",
       "      <td>270000.0</td>\n",
       "      <td>1293502.5</td>\n",
       "      <td>35698.5</td>\n",
       "      <td>...</td>\n",
       "      <td>0.0</td>\n",
       "      <td>1.0</td>\n",
       "      <td>0.0</td>\n",
       "      <td>-828.0</td>\n",
       "      <td>0.0</td>\n",
       "      <td>0.0</td>\n",
       "      <td>0.0</td>\n",
       "      <td>0.0</td>\n",
       "      <td>0.0</td>\n",
       "      <td>0.0</td>\n",
       "    </tr>\n",
       "    <tr>\n",
       "      <th>2</th>\n",
       "      <td>100004</td>\n",
       "      <td>0</td>\n",
       "      <td>Revolving loans</td>\n",
       "      <td>M</td>\n",
       "      <td>Y</td>\n",
       "      <td>Y</td>\n",
       "      <td>0</td>\n",
       "      <td>67500.0</td>\n",
       "      <td>135000.0</td>\n",
       "      <td>6750.0</td>\n",
       "      <td>...</td>\n",
       "      <td>0.0</td>\n",
       "      <td>0.0</td>\n",
       "      <td>0.0</td>\n",
       "      <td>-815.0</td>\n",
       "      <td>0.0</td>\n",
       "      <td>0.0</td>\n",
       "      <td>0.0</td>\n",
       "      <td>0.0</td>\n",
       "      <td>0.0</td>\n",
       "      <td>0.0</td>\n",
       "    </tr>\n",
       "    <tr>\n",
       "      <th>3</th>\n",
       "      <td>100006</td>\n",
       "      <td>0</td>\n",
       "      <td>Cash loans</td>\n",
       "      <td>F</td>\n",
       "      <td>N</td>\n",
       "      <td>Y</td>\n",
       "      <td>0</td>\n",
       "      <td>135000.0</td>\n",
       "      <td>312682.5</td>\n",
       "      <td>29686.5</td>\n",
       "      <td>...</td>\n",
       "      <td>0.0</td>\n",
       "      <td>2.0</td>\n",
       "      <td>0.0</td>\n",
       "      <td>-617.0</td>\n",
       "      <td>NaN</td>\n",
       "      <td>NaN</td>\n",
       "      <td>NaN</td>\n",
       "      <td>NaN</td>\n",
       "      <td>NaN</td>\n",
       "      <td>NaN</td>\n",
       "    </tr>\n",
       "    <tr>\n",
       "      <th>4</th>\n",
       "      <td>100007</td>\n",
       "      <td>0</td>\n",
       "      <td>Cash loans</td>\n",
       "      <td>M</td>\n",
       "      <td>N</td>\n",
       "      <td>Y</td>\n",
       "      <td>0</td>\n",
       "      <td>121500.0</td>\n",
       "      <td>513000.0</td>\n",
       "      <td>21865.5</td>\n",
       "      <td>...</td>\n",
       "      <td>0.0</td>\n",
       "      <td>0.0</td>\n",
       "      <td>0.0</td>\n",
       "      <td>-1106.0</td>\n",
       "      <td>0.0</td>\n",
       "      <td>0.0</td>\n",
       "      <td>0.0</td>\n",
       "      <td>0.0</td>\n",
       "      <td>0.0</td>\n",
       "      <td>0.0</td>\n",
       "    </tr>\n",
       "    <tr>\n",
       "      <th>...</th>\n",
       "      <td>...</td>\n",
       "      <td>...</td>\n",
       "      <td>...</td>\n",
       "      <td>...</td>\n",
       "      <td>...</td>\n",
       "      <td>...</td>\n",
       "      <td>...</td>\n",
       "      <td>...</td>\n",
       "      <td>...</td>\n",
       "      <td>...</td>\n",
       "      <td>...</td>\n",
       "      <td>...</td>\n",
       "      <td>...</td>\n",
       "      <td>...</td>\n",
       "      <td>...</td>\n",
       "      <td>...</td>\n",
       "      <td>...</td>\n",
       "      <td>...</td>\n",
       "      <td>...</td>\n",
       "      <td>...</td>\n",
       "      <td>...</td>\n",
       "    </tr>\n",
       "    <tr>\n",
       "      <th>307506</th>\n",
       "      <td>456251</td>\n",
       "      <td>0</td>\n",
       "      <td>Cash loans</td>\n",
       "      <td>M</td>\n",
       "      <td>N</td>\n",
       "      <td>N</td>\n",
       "      <td>0</td>\n",
       "      <td>157500.0</td>\n",
       "      <td>254700.0</td>\n",
       "      <td>27558.0</td>\n",
       "      <td>...</td>\n",
       "      <td>0.0</td>\n",
       "      <td>0.0</td>\n",
       "      <td>0.0</td>\n",
       "      <td>-273.0</td>\n",
       "      <td>NaN</td>\n",
       "      <td>NaN</td>\n",
       "      <td>NaN</td>\n",
       "      <td>NaN</td>\n",
       "      <td>NaN</td>\n",
       "      <td>NaN</td>\n",
       "    </tr>\n",
       "    <tr>\n",
       "      <th>307507</th>\n",
       "      <td>456252</td>\n",
       "      <td>0</td>\n",
       "      <td>Cash loans</td>\n",
       "      <td>F</td>\n",
       "      <td>N</td>\n",
       "      <td>Y</td>\n",
       "      <td>0</td>\n",
       "      <td>72000.0</td>\n",
       "      <td>269550.0</td>\n",
       "      <td>12001.5</td>\n",
       "      <td>...</td>\n",
       "      <td>0.0</td>\n",
       "      <td>0.0</td>\n",
       "      <td>0.0</td>\n",
       "      <td>0.0</td>\n",
       "      <td>NaN</td>\n",
       "      <td>NaN</td>\n",
       "      <td>NaN</td>\n",
       "      <td>NaN</td>\n",
       "      <td>NaN</td>\n",
       "      <td>NaN</td>\n",
       "    </tr>\n",
       "    <tr>\n",
       "      <th>307508</th>\n",
       "      <td>456253</td>\n",
       "      <td>0</td>\n",
       "      <td>Cash loans</td>\n",
       "      <td>F</td>\n",
       "      <td>N</td>\n",
       "      <td>Y</td>\n",
       "      <td>0</td>\n",
       "      <td>153000.0</td>\n",
       "      <td>677664.0</td>\n",
       "      <td>29979.0</td>\n",
       "      <td>...</td>\n",
       "      <td>0.0</td>\n",
       "      <td>6.0</td>\n",
       "      <td>0.0</td>\n",
       "      <td>-1909.0</td>\n",
       "      <td>1.0</td>\n",
       "      <td>0.0</td>\n",
       "      <td>0.0</td>\n",
       "      <td>1.0</td>\n",
       "      <td>0.0</td>\n",
       "      <td>1.0</td>\n",
       "    </tr>\n",
       "    <tr>\n",
       "      <th>307509</th>\n",
       "      <td>456254</td>\n",
       "      <td>1</td>\n",
       "      <td>Cash loans</td>\n",
       "      <td>F</td>\n",
       "      <td>N</td>\n",
       "      <td>Y</td>\n",
       "      <td>0</td>\n",
       "      <td>171000.0</td>\n",
       "      <td>370107.0</td>\n",
       "      <td>20205.0</td>\n",
       "      <td>...</td>\n",
       "      <td>0.0</td>\n",
       "      <td>0.0</td>\n",
       "      <td>0.0</td>\n",
       "      <td>-322.0</td>\n",
       "      <td>0.0</td>\n",
       "      <td>0.0</td>\n",
       "      <td>0.0</td>\n",
       "      <td>0.0</td>\n",
       "      <td>0.0</td>\n",
       "      <td>0.0</td>\n",
       "    </tr>\n",
       "    <tr>\n",
       "      <th>307510</th>\n",
       "      <td>456255</td>\n",
       "      <td>0</td>\n",
       "      <td>Cash loans</td>\n",
       "      <td>F</td>\n",
       "      <td>N</td>\n",
       "      <td>N</td>\n",
       "      <td>0</td>\n",
       "      <td>157500.0</td>\n",
       "      <td>675000.0</td>\n",
       "      <td>49117.5</td>\n",
       "      <td>...</td>\n",
       "      <td>0.0</td>\n",
       "      <td>0.0</td>\n",
       "      <td>0.0</td>\n",
       "      <td>-787.0</td>\n",
       "      <td>0.0</td>\n",
       "      <td>0.0</td>\n",
       "      <td>0.0</td>\n",
       "      <td>2.0</td>\n",
       "      <td>0.0</td>\n",
       "      <td>1.0</td>\n",
       "    </tr>\n",
       "  </tbody>\n",
       "</table>\n",
       "<p>307511 rows × 96 columns</p>\n",
       "</div>"
      ]
     },
     "metadata": {
      "application/vnd.databricks.v1+output": {
       "addedWidgets": {},
       "arguments": {},
       "data": "<div>\n<style scoped>\n    .dataframe tbody tr th:only-of-type {\n        vertical-align: middle;\n    }\n\n    .dataframe tbody tr th {\n        vertical-align: top;\n    }\n\n    .dataframe thead th {\n        text-align: right;\n    }\n</style>\n<table border=\"1\" class=\"dataframe\">\n  <thead>\n    <tr style=\"text-align: right;\">\n      <th></th>\n      <th>SK_ID_CURR</th>\n      <th>TARGET</th>\n      <th>NAME_CONTRACT_TYPE</th>\n      <th>CODE_GENDER</th>\n      <th>FLAG_OWN_CAR</th>\n      <th>FLAG_OWN_REALTY</th>\n      <th>CNT_CHILDREN</th>\n      <th>AMT_INCOME_TOTAL</th>\n      <th>AMT_CREDIT</th>\n      <th>AMT_ANNUITY</th>\n      <th>...</th>\n      <th>DEF_30_CNT_SOCIAL_CIRCLE</th>\n      <th>OBS_60_CNT_SOCIAL_CIRCLE</th>\n      <th>DEF_60_CNT_SOCIAL_CIRCLE</th>\n      <th>DAYS_LAST_PHONE_CHANGE</th>\n      <th>AMT_REQ_CREDIT_BUREAU_HOUR</th>\n      <th>AMT_REQ_CREDIT_BUREAU_DAY</th>\n      <th>AMT_REQ_CREDIT_BUREAU_WEEK</th>\n      <th>AMT_REQ_CREDIT_BUREAU_MON</th>\n      <th>AMT_REQ_CREDIT_BUREAU_QRT</th>\n      <th>AMT_REQ_CREDIT_BUREAU_YEAR</th>\n    </tr>\n  </thead>\n  <tbody>\n    <tr>\n      <th>0</th>\n      <td>100002</td>\n      <td>1</td>\n      <td>Cash loans</td>\n      <td>M</td>\n      <td>N</td>\n      <td>Y</td>\n      <td>0</td>\n      <td>202500.0</td>\n      <td>406597.5</td>\n      <td>24700.5</td>\n      <td>...</td>\n      <td>2.0</td>\n      <td>2.0</td>\n      <td>2.0</td>\n      <td>-1134.0</td>\n      <td>0.0</td>\n      <td>0.0</td>\n      <td>0.0</td>\n      <td>0.0</td>\n      <td>0.0</td>\n      <td>1.0</td>\n    </tr>\n    <tr>\n      <th>1</th>\n      <td>100003</td>\n      <td>0</td>\n      <td>Cash loans</td>\n      <td>F</td>\n      <td>N</td>\n      <td>N</td>\n      <td>0</td>\n      <td>270000.0</td>\n      <td>1293502.5</td>\n      <td>35698.5</td>\n      <td>...</td>\n      <td>0.0</td>\n      <td>1.0</td>\n      <td>0.0</td>\n      <td>-828.0</td>\n      <td>0.0</td>\n      <td>0.0</td>\n      <td>0.0</td>\n      <td>0.0</td>\n      <td>0.0</td>\n      <td>0.0</td>\n    </tr>\n    <tr>\n      <th>2</th>\n      <td>100004</td>\n      <td>0</td>\n      <td>Revolving loans</td>\n      <td>M</td>\n      <td>Y</td>\n      <td>Y</td>\n      <td>0</td>\n      <td>67500.0</td>\n      <td>135000.0</td>\n      <td>6750.0</td>\n      <td>...</td>\n      <td>0.0</td>\n      <td>0.0</td>\n      <td>0.0</td>\n      <td>-815.0</td>\n      <td>0.0</td>\n      <td>0.0</td>\n      <td>0.0</td>\n      <td>0.0</td>\n      <td>0.0</td>\n      <td>0.0</td>\n    </tr>\n    <tr>\n      <th>3</th>\n      <td>100006</td>\n      <td>0</td>\n      <td>Cash loans</td>\n      <td>F</td>\n      <td>N</td>\n      <td>Y</td>\n      <td>0</td>\n      <td>135000.0</td>\n      <td>312682.5</td>\n      <td>29686.5</td>\n      <td>...</td>\n      <td>0.0</td>\n      <td>2.0</td>\n      <td>0.0</td>\n      <td>-617.0</td>\n      <td>NaN</td>\n      <td>NaN</td>\n      <td>NaN</td>\n      <td>NaN</td>\n      <td>NaN</td>\n      <td>NaN</td>\n    </tr>\n    <tr>\n      <th>4</th>\n      <td>100007</td>\n      <td>0</td>\n      <td>Cash loans</td>\n      <td>M</td>\n      <td>N</td>\n      <td>Y</td>\n      <td>0</td>\n      <td>121500.0</td>\n      <td>513000.0</td>\n      <td>21865.5</td>\n      <td>...</td>\n      <td>0.0</td>\n      <td>0.0</td>\n      <td>0.0</td>\n      <td>-1106.0</td>\n      <td>0.0</td>\n      <td>0.0</td>\n      <td>0.0</td>\n      <td>0.0</td>\n      <td>0.0</td>\n      <td>0.0</td>\n    </tr>\n    <tr>\n      <th>...</th>\n      <td>...</td>\n      <td>...</td>\n      <td>...</td>\n      <td>...</td>\n      <td>...</td>\n      <td>...</td>\n      <td>...</td>\n      <td>...</td>\n      <td>...</td>\n      <td>...</td>\n      <td>...</td>\n      <td>...</td>\n      <td>...</td>\n      <td>...</td>\n      <td>...</td>\n      <td>...</td>\n      <td>...</td>\n      <td>...</td>\n      <td>...</td>\n      <td>...</td>\n      <td>...</td>\n    </tr>\n    <tr>\n      <th>307506</th>\n      <td>456251</td>\n      <td>0</td>\n      <td>Cash loans</td>\n      <td>M</td>\n      <td>N</td>\n      <td>N</td>\n      <td>0</td>\n      <td>157500.0</td>\n      <td>254700.0</td>\n      <td>27558.0</td>\n      <td>...</td>\n      <td>0.0</td>\n      <td>0.0</td>\n      <td>0.0</td>\n      <td>-273.0</td>\n      <td>NaN</td>\n      <td>NaN</td>\n      <td>NaN</td>\n      <td>NaN</td>\n      <td>NaN</td>\n      <td>NaN</td>\n    </tr>\n    <tr>\n      <th>307507</th>\n      <td>456252</td>\n      <td>0</td>\n      <td>Cash loans</td>\n      <td>F</td>\n      <td>N</td>\n      <td>Y</td>\n      <td>0</td>\n      <td>72000.0</td>\n      <td>269550.0</td>\n      <td>12001.5</td>\n      <td>...</td>\n      <td>0.0</td>\n      <td>0.0</td>\n      <td>0.0</td>\n      <td>0.0</td>\n      <td>NaN</td>\n      <td>NaN</td>\n      <td>NaN</td>\n      <td>NaN</td>\n      <td>NaN</td>\n      <td>NaN</td>\n    </tr>\n    <tr>\n      <th>307508</th>\n      <td>456253</td>\n      <td>0</td>\n      <td>Cash loans</td>\n      <td>F</td>\n      <td>N</td>\n      <td>Y</td>\n      <td>0</td>\n      <td>153000.0</td>\n      <td>677664.0</td>\n      <td>29979.0</td>\n      <td>...</td>\n      <td>0.0</td>\n      <td>6.0</td>\n      <td>0.0</td>\n      <td>-1909.0</td>\n      <td>1.0</td>\n      <td>0.0</td>\n      <td>0.0</td>\n      <td>1.0</td>\n      <td>0.0</td>\n      <td>1.0</td>\n    </tr>\n    <tr>\n      <th>307509</th>\n      <td>456254</td>\n      <td>1</td>\n      <td>Cash loans</td>\n      <td>F</td>\n      <td>N</td>\n      <td>Y</td>\n      <td>0</td>\n      <td>171000.0</td>\n      <td>370107.0</td>\n      <td>20205.0</td>\n      <td>...</td>\n      <td>0.0</td>\n      <td>0.0</td>\n      <td>0.0</td>\n      <td>-322.0</td>\n      <td>0.0</td>\n      <td>0.0</td>\n      <td>0.0</td>\n      <td>0.0</td>\n      <td>0.0</td>\n      <td>0.0</td>\n    </tr>\n    <tr>\n      <th>307510</th>\n      <td>456255</td>\n      <td>0</td>\n      <td>Cash loans</td>\n      <td>F</td>\n      <td>N</td>\n      <td>N</td>\n      <td>0</td>\n      <td>157500.0</td>\n      <td>675000.0</td>\n      <td>49117.5</td>\n      <td>...</td>\n      <td>0.0</td>\n      <td>0.0</td>\n      <td>0.0</td>\n      <td>-787.0</td>\n      <td>0.0</td>\n      <td>0.0</td>\n      <td>0.0</td>\n      <td>2.0</td>\n      <td>0.0</td>\n      <td>1.0</td>\n    </tr>\n  </tbody>\n</table>\n<p>307511 rows × 96 columns</p>\n</div>",
       "datasetInfos": [],
       "metadata": {},
       "removedWidgets": [],
       "textData": null,
       "type": "htmlSandbox"
      }
     },
     "output_type": "display_data"
    }
   ],
   "source": [
    "pdf = pdf.drop(columns=unnecessary_col)\n",
    "pdf"
   ]
  },
  {
   "cell_type": "markdown",
   "metadata": {},
   "source": [
    "## Retrieving columns that will be used in our analysis"
   ]
  },
  {
   "cell_type": "code",
   "execution_count": null,
   "metadata": {
    "application/vnd.databricks.v1+cell": {
     "cellMetadata": {
      "byteLimit": 2048000,
      "rowLimit": 10000
     },
     "inputWidgets": {},
     "nuid": "f2d1590f-f463-4d3d-b77e-85e3cd5aa4fb",
     "showTitle": true,
     "title": "Retrieving columns that will be used in our analysis"
    }
   },
   "outputs": [
    {
     "data": {
      "text/html": [
       "<div>\n",
       "<style scoped>\n",
       "    .dataframe tbody tr th:only-of-type {\n",
       "        vertical-align: middle;\n",
       "    }\n",
       "\n",
       "    .dataframe tbody tr th {\n",
       "        vertical-align: top;\n",
       "    }\n",
       "\n",
       "    .dataframe thead th {\n",
       "        text-align: right;\n",
       "    }\n",
       "</style>\n",
       "<table border=\"1\" class=\"dataframe\">\n",
       "  <thead>\n",
       "    <tr style=\"text-align: right;\">\n",
       "      <th></th>\n",
       "      <th>SK_ID_CURR</th>\n",
       "      <th>TARGET</th>\n",
       "      <th>NAME_CONTRACT_TYPE</th>\n",
       "      <th>CODE_GENDER</th>\n",
       "      <th>FLAG_OWN_CAR</th>\n",
       "      <th>FLAG_OWN_REALTY</th>\n",
       "      <th>CNT_CHILDREN</th>\n",
       "      <th>AMT_INCOME_TOTAL</th>\n",
       "      <th>AMT_CREDIT</th>\n",
       "      <th>AMT_ANNUITY</th>\n",
       "      <th>AMT_GOODS_PRICE</th>\n",
       "      <th>NAME_TYPE_SUITE</th>\n",
       "      <th>NAME_INCOME_TYPE</th>\n",
       "      <th>NAME_EDUCATION_TYPE</th>\n",
       "      <th>NAME_FAMILY_STATUS</th>\n",
       "      <th>NAME_HOUSING_TYPE</th>\n",
       "      <th>OCCUPATION_TYPE</th>\n",
       "      <th>ORGANIZATION_TYPE</th>\n",
       "    </tr>\n",
       "  </thead>\n",
       "  <tbody>\n",
       "    <tr>\n",
       "      <th>0</th>\n",
       "      <td>100002</td>\n",
       "      <td>1</td>\n",
       "      <td>Cash loans</td>\n",
       "      <td>M</td>\n",
       "      <td>N</td>\n",
       "      <td>Y</td>\n",
       "      <td>0</td>\n",
       "      <td>202500.0</td>\n",
       "      <td>406597.5</td>\n",
       "      <td>24700.5</td>\n",
       "      <td>351000.0</td>\n",
       "      <td>Unaccompanied</td>\n",
       "      <td>Working</td>\n",
       "      <td>Secondary / secondary special</td>\n",
       "      <td>Single / not married</td>\n",
       "      <td>House / apartment</td>\n",
       "      <td>Laborers</td>\n",
       "      <td>Business Entity Type 3</td>\n",
       "    </tr>\n",
       "    <tr>\n",
       "      <th>1</th>\n",
       "      <td>100003</td>\n",
       "      <td>0</td>\n",
       "      <td>Cash loans</td>\n",
       "      <td>F</td>\n",
       "      <td>N</td>\n",
       "      <td>N</td>\n",
       "      <td>0</td>\n",
       "      <td>270000.0</td>\n",
       "      <td>1293502.5</td>\n",
       "      <td>35698.5</td>\n",
       "      <td>1129500.0</td>\n",
       "      <td>Family</td>\n",
       "      <td>State servant</td>\n",
       "      <td>Higher education</td>\n",
       "      <td>Married</td>\n",
       "      <td>House / apartment</td>\n",
       "      <td>Core staff</td>\n",
       "      <td>School</td>\n",
       "    </tr>\n",
       "    <tr>\n",
       "      <th>2</th>\n",
       "      <td>100004</td>\n",
       "      <td>0</td>\n",
       "      <td>Revolving loans</td>\n",
       "      <td>M</td>\n",
       "      <td>Y</td>\n",
       "      <td>Y</td>\n",
       "      <td>0</td>\n",
       "      <td>67500.0</td>\n",
       "      <td>135000.0</td>\n",
       "      <td>6750.0</td>\n",
       "      <td>135000.0</td>\n",
       "      <td>Unaccompanied</td>\n",
       "      <td>Working</td>\n",
       "      <td>Secondary / secondary special</td>\n",
       "      <td>Single / not married</td>\n",
       "      <td>House / apartment</td>\n",
       "      <td>Laborers</td>\n",
       "      <td>Government</td>\n",
       "    </tr>\n",
       "    <tr>\n",
       "      <th>3</th>\n",
       "      <td>100006</td>\n",
       "      <td>0</td>\n",
       "      <td>Cash loans</td>\n",
       "      <td>F</td>\n",
       "      <td>N</td>\n",
       "      <td>Y</td>\n",
       "      <td>0</td>\n",
       "      <td>135000.0</td>\n",
       "      <td>312682.5</td>\n",
       "      <td>29686.5</td>\n",
       "      <td>297000.0</td>\n",
       "      <td>Unaccompanied</td>\n",
       "      <td>Working</td>\n",
       "      <td>Secondary / secondary special</td>\n",
       "      <td>Civil marriage</td>\n",
       "      <td>House / apartment</td>\n",
       "      <td>Laborers</td>\n",
       "      <td>Business Entity Type 3</td>\n",
       "    </tr>\n",
       "    <tr>\n",
       "      <th>4</th>\n",
       "      <td>100007</td>\n",
       "      <td>0</td>\n",
       "      <td>Cash loans</td>\n",
       "      <td>M</td>\n",
       "      <td>N</td>\n",
       "      <td>Y</td>\n",
       "      <td>0</td>\n",
       "      <td>121500.0</td>\n",
       "      <td>513000.0</td>\n",
       "      <td>21865.5</td>\n",
       "      <td>513000.0</td>\n",
       "      <td>Unaccompanied</td>\n",
       "      <td>Working</td>\n",
       "      <td>Secondary / secondary special</td>\n",
       "      <td>Single / not married</td>\n",
       "      <td>House / apartment</td>\n",
       "      <td>Core staff</td>\n",
       "      <td>Religion</td>\n",
       "    </tr>\n",
       "    <tr>\n",
       "      <th>...</th>\n",
       "      <td>...</td>\n",
       "      <td>...</td>\n",
       "      <td>...</td>\n",
       "      <td>...</td>\n",
       "      <td>...</td>\n",
       "      <td>...</td>\n",
       "      <td>...</td>\n",
       "      <td>...</td>\n",
       "      <td>...</td>\n",
       "      <td>...</td>\n",
       "      <td>...</td>\n",
       "      <td>...</td>\n",
       "      <td>...</td>\n",
       "      <td>...</td>\n",
       "      <td>...</td>\n",
       "      <td>...</td>\n",
       "      <td>...</td>\n",
       "      <td>...</td>\n",
       "    </tr>\n",
       "    <tr>\n",
       "      <th>307506</th>\n",
       "      <td>456251</td>\n",
       "      <td>0</td>\n",
       "      <td>Cash loans</td>\n",
       "      <td>M</td>\n",
       "      <td>N</td>\n",
       "      <td>N</td>\n",
       "      <td>0</td>\n",
       "      <td>157500.0</td>\n",
       "      <td>254700.0</td>\n",
       "      <td>27558.0</td>\n",
       "      <td>225000.0</td>\n",
       "      <td>Unaccompanied</td>\n",
       "      <td>Working</td>\n",
       "      <td>Secondary / secondary special</td>\n",
       "      <td>Separated</td>\n",
       "      <td>With parents</td>\n",
       "      <td>Sales staff</td>\n",
       "      <td>Services</td>\n",
       "    </tr>\n",
       "    <tr>\n",
       "      <th>307507</th>\n",
       "      <td>456252</td>\n",
       "      <td>0</td>\n",
       "      <td>Cash loans</td>\n",
       "      <td>F</td>\n",
       "      <td>N</td>\n",
       "      <td>Y</td>\n",
       "      <td>0</td>\n",
       "      <td>72000.0</td>\n",
       "      <td>269550.0</td>\n",
       "      <td>12001.5</td>\n",
       "      <td>225000.0</td>\n",
       "      <td>Unaccompanied</td>\n",
       "      <td>Pensioner</td>\n",
       "      <td>Secondary / secondary special</td>\n",
       "      <td>Widow</td>\n",
       "      <td>House / apartment</td>\n",
       "      <td>None</td>\n",
       "      <td>XNA</td>\n",
       "    </tr>\n",
       "    <tr>\n",
       "      <th>307508</th>\n",
       "      <td>456253</td>\n",
       "      <td>0</td>\n",
       "      <td>Cash loans</td>\n",
       "      <td>F</td>\n",
       "      <td>N</td>\n",
       "      <td>Y</td>\n",
       "      <td>0</td>\n",
       "      <td>153000.0</td>\n",
       "      <td>677664.0</td>\n",
       "      <td>29979.0</td>\n",
       "      <td>585000.0</td>\n",
       "      <td>Unaccompanied</td>\n",
       "      <td>Working</td>\n",
       "      <td>Higher education</td>\n",
       "      <td>Separated</td>\n",
       "      <td>House / apartment</td>\n",
       "      <td>Managers</td>\n",
       "      <td>School</td>\n",
       "    </tr>\n",
       "    <tr>\n",
       "      <th>307509</th>\n",
       "      <td>456254</td>\n",
       "      <td>1</td>\n",
       "      <td>Cash loans</td>\n",
       "      <td>F</td>\n",
       "      <td>N</td>\n",
       "      <td>Y</td>\n",
       "      <td>0</td>\n",
       "      <td>171000.0</td>\n",
       "      <td>370107.0</td>\n",
       "      <td>20205.0</td>\n",
       "      <td>319500.0</td>\n",
       "      <td>Unaccompanied</td>\n",
       "      <td>Commercial associate</td>\n",
       "      <td>Secondary / secondary special</td>\n",
       "      <td>Married</td>\n",
       "      <td>House / apartment</td>\n",
       "      <td>Laborers</td>\n",
       "      <td>Business Entity Type 1</td>\n",
       "    </tr>\n",
       "    <tr>\n",
       "      <th>307510</th>\n",
       "      <td>456255</td>\n",
       "      <td>0</td>\n",
       "      <td>Cash loans</td>\n",
       "      <td>F</td>\n",
       "      <td>N</td>\n",
       "      <td>N</td>\n",
       "      <td>0</td>\n",
       "      <td>157500.0</td>\n",
       "      <td>675000.0</td>\n",
       "      <td>49117.5</td>\n",
       "      <td>675000.0</td>\n",
       "      <td>Unaccompanied</td>\n",
       "      <td>Commercial associate</td>\n",
       "      <td>Higher education</td>\n",
       "      <td>Married</td>\n",
       "      <td>House / apartment</td>\n",
       "      <td>Laborers</td>\n",
       "      <td>Business Entity Type 3</td>\n",
       "    </tr>\n",
       "  </tbody>\n",
       "</table>\n",
       "<p>307511 rows × 18 columns</p>\n",
       "</div>"
      ]
     },
     "metadata": {
      "application/vnd.databricks.v1+output": {
       "addedWidgets": {},
       "arguments": {},
       "data": "<div>\n<style scoped>\n    .dataframe tbody tr th:only-of-type {\n        vertical-align: middle;\n    }\n\n    .dataframe tbody tr th {\n        vertical-align: top;\n    }\n\n    .dataframe thead th {\n        text-align: right;\n    }\n</style>\n<table border=\"1\" class=\"dataframe\">\n  <thead>\n    <tr style=\"text-align: right;\">\n      <th></th>\n      <th>SK_ID_CURR</th>\n      <th>TARGET</th>\n      <th>NAME_CONTRACT_TYPE</th>\n      <th>CODE_GENDER</th>\n      <th>FLAG_OWN_CAR</th>\n      <th>FLAG_OWN_REALTY</th>\n      <th>CNT_CHILDREN</th>\n      <th>AMT_INCOME_TOTAL</th>\n      <th>AMT_CREDIT</th>\n      <th>AMT_ANNUITY</th>\n      <th>AMT_GOODS_PRICE</th>\n      <th>NAME_TYPE_SUITE</th>\n      <th>NAME_INCOME_TYPE</th>\n      <th>NAME_EDUCATION_TYPE</th>\n      <th>NAME_FAMILY_STATUS</th>\n      <th>NAME_HOUSING_TYPE</th>\n      <th>OCCUPATION_TYPE</th>\n      <th>ORGANIZATION_TYPE</th>\n    </tr>\n  </thead>\n  <tbody>\n    <tr>\n      <th>0</th>\n      <td>100002</td>\n      <td>1</td>\n      <td>Cash loans</td>\n      <td>M</td>\n      <td>N</td>\n      <td>Y</td>\n      <td>0</td>\n      <td>202500.0</td>\n      <td>406597.5</td>\n      <td>24700.5</td>\n      <td>351000.0</td>\n      <td>Unaccompanied</td>\n      <td>Working</td>\n      <td>Secondary / secondary special</td>\n      <td>Single / not married</td>\n      <td>House / apartment</td>\n      <td>Laborers</td>\n      <td>Business Entity Type 3</td>\n    </tr>\n    <tr>\n      <th>1</th>\n      <td>100003</td>\n      <td>0</td>\n      <td>Cash loans</td>\n      <td>F</td>\n      <td>N</td>\n      <td>N</td>\n      <td>0</td>\n      <td>270000.0</td>\n      <td>1293502.5</td>\n      <td>35698.5</td>\n      <td>1129500.0</td>\n      <td>Family</td>\n      <td>State servant</td>\n      <td>Higher education</td>\n      <td>Married</td>\n      <td>House / apartment</td>\n      <td>Core staff</td>\n      <td>School</td>\n    </tr>\n    <tr>\n      <th>2</th>\n      <td>100004</td>\n      <td>0</td>\n      <td>Revolving loans</td>\n      <td>M</td>\n      <td>Y</td>\n      <td>Y</td>\n      <td>0</td>\n      <td>67500.0</td>\n      <td>135000.0</td>\n      <td>6750.0</td>\n      <td>135000.0</td>\n      <td>Unaccompanied</td>\n      <td>Working</td>\n      <td>Secondary / secondary special</td>\n      <td>Single / not married</td>\n      <td>House / apartment</td>\n      <td>Laborers</td>\n      <td>Government</td>\n    </tr>\n    <tr>\n      <th>3</th>\n      <td>100006</td>\n      <td>0</td>\n      <td>Cash loans</td>\n      <td>F</td>\n      <td>N</td>\n      <td>Y</td>\n      <td>0</td>\n      <td>135000.0</td>\n      <td>312682.5</td>\n      <td>29686.5</td>\n      <td>297000.0</td>\n      <td>Unaccompanied</td>\n      <td>Working</td>\n      <td>Secondary / secondary special</td>\n      <td>Civil marriage</td>\n      <td>House / apartment</td>\n      <td>Laborers</td>\n      <td>Business Entity Type 3</td>\n    </tr>\n    <tr>\n      <th>4</th>\n      <td>100007</td>\n      <td>0</td>\n      <td>Cash loans</td>\n      <td>M</td>\n      <td>N</td>\n      <td>Y</td>\n      <td>0</td>\n      <td>121500.0</td>\n      <td>513000.0</td>\n      <td>21865.5</td>\n      <td>513000.0</td>\n      <td>Unaccompanied</td>\n      <td>Working</td>\n      <td>Secondary / secondary special</td>\n      <td>Single / not married</td>\n      <td>House / apartment</td>\n      <td>Core staff</td>\n      <td>Religion</td>\n    </tr>\n    <tr>\n      <th>...</th>\n      <td>...</td>\n      <td>...</td>\n      <td>...</td>\n      <td>...</td>\n      <td>...</td>\n      <td>...</td>\n      <td>...</td>\n      <td>...</td>\n      <td>...</td>\n      <td>...</td>\n      <td>...</td>\n      <td>...</td>\n      <td>...</td>\n      <td>...</td>\n      <td>...</td>\n      <td>...</td>\n      <td>...</td>\n      <td>...</td>\n    </tr>\n    <tr>\n      <th>307506</th>\n      <td>456251</td>\n      <td>0</td>\n      <td>Cash loans</td>\n      <td>M</td>\n      <td>N</td>\n      <td>N</td>\n      <td>0</td>\n      <td>157500.0</td>\n      <td>254700.0</td>\n      <td>27558.0</td>\n      <td>225000.0</td>\n      <td>Unaccompanied</td>\n      <td>Working</td>\n      <td>Secondary / secondary special</td>\n      <td>Separated</td>\n      <td>With parents</td>\n      <td>Sales staff</td>\n      <td>Services</td>\n    </tr>\n    <tr>\n      <th>307507</th>\n      <td>456252</td>\n      <td>0</td>\n      <td>Cash loans</td>\n      <td>F</td>\n      <td>N</td>\n      <td>Y</td>\n      <td>0</td>\n      <td>72000.0</td>\n      <td>269550.0</td>\n      <td>12001.5</td>\n      <td>225000.0</td>\n      <td>Unaccompanied</td>\n      <td>Pensioner</td>\n      <td>Secondary / secondary special</td>\n      <td>Widow</td>\n      <td>House / apartment</td>\n      <td>None</td>\n      <td>XNA</td>\n    </tr>\n    <tr>\n      <th>307508</th>\n      <td>456253</td>\n      <td>0</td>\n      <td>Cash loans</td>\n      <td>F</td>\n      <td>N</td>\n      <td>Y</td>\n      <td>0</td>\n      <td>153000.0</td>\n      <td>677664.0</td>\n      <td>29979.0</td>\n      <td>585000.0</td>\n      <td>Unaccompanied</td>\n      <td>Working</td>\n      <td>Higher education</td>\n      <td>Separated</td>\n      <td>House / apartment</td>\n      <td>Managers</td>\n      <td>School</td>\n    </tr>\n    <tr>\n      <th>307509</th>\n      <td>456254</td>\n      <td>1</td>\n      <td>Cash loans</td>\n      <td>F</td>\n      <td>N</td>\n      <td>Y</td>\n      <td>0</td>\n      <td>171000.0</td>\n      <td>370107.0</td>\n      <td>20205.0</td>\n      <td>319500.0</td>\n      <td>Unaccompanied</td>\n      <td>Commercial associate</td>\n      <td>Secondary / secondary special</td>\n      <td>Married</td>\n      <td>House / apartment</td>\n      <td>Laborers</td>\n      <td>Business Entity Type 1</td>\n    </tr>\n    <tr>\n      <th>307510</th>\n      <td>456255</td>\n      <td>0</td>\n      <td>Cash loans</td>\n      <td>F</td>\n      <td>N</td>\n      <td>N</td>\n      <td>0</td>\n      <td>157500.0</td>\n      <td>675000.0</td>\n      <td>49117.5</td>\n      <td>675000.0</td>\n      <td>Unaccompanied</td>\n      <td>Commercial associate</td>\n      <td>Higher education</td>\n      <td>Married</td>\n      <td>House / apartment</td>\n      <td>Laborers</td>\n      <td>Business Entity Type 3</td>\n    </tr>\n  </tbody>\n</table>\n<p>307511 rows × 18 columns</p>\n</div>",
       "datasetInfos": [],
       "metadata": {},
       "removedWidgets": [],
       "textData": null,
       "type": "htmlSandbox"
      }
     },
     "output_type": "display_data"
    }
   ],
   "source": [
    "cols = list(cols[0:16]) + ['OCCUPATION_TYPE'] + ['ORGANIZATION_TYPE']\n",
    "cols\n",
    "pdf = pdf[cols]\n",
    "pdf"
   ]
  },
  {
   "cell_type": "markdown",
   "metadata": {},
   "source": [
    "## Converting Pandas Dataframe to Spark Dataframe"
   ]
  },
  {
   "cell_type": "code",
   "execution_count": null,
   "metadata": {
    "application/vnd.databricks.v1+cell": {
     "cellMetadata": {
      "byteLimit": 2048000,
      "rowLimit": 10000
     },
     "inputWidgets": {},
     "nuid": "fcb6d3c2-aba1-432d-8f12-a78c8fe0c48e",
     "showTitle": true,
     "title": "Converting Pandas Dataframe to Spark Dataframe"
    }
   },
   "outputs": [
    {
     "name": "stdout",
     "output_type": "stream",
     "text": [
      "+----------+------+------------------+-----------+------------+---------------+------------+----------------+----------+-----------+---------------+---------------+--------------------+--------------------+--------------------+-----------------+---------------+--------------------+\n",
      "|SK_ID_CURR|TARGET|NAME_CONTRACT_TYPE|CODE_GENDER|FLAG_OWN_CAR|FLAG_OWN_REALTY|CNT_CHILDREN|AMT_INCOME_TOTAL|AMT_CREDIT|AMT_ANNUITY|AMT_GOODS_PRICE|NAME_TYPE_SUITE|    NAME_INCOME_TYPE| NAME_EDUCATION_TYPE|  NAME_FAMILY_STATUS|NAME_HOUSING_TYPE|OCCUPATION_TYPE|   ORGANIZATION_TYPE|\n",
      "+----------+------+------------------+-----------+------------+---------------+------------+----------------+----------+-----------+---------------+---------------+--------------------+--------------------+--------------------+-----------------+---------------+--------------------+\n",
      "|    100002|     1|        Cash loans|          M|           N|              Y|           0|        202500.0|  406597.5|    24700.5|       351000.0|  Unaccompanied|             Working|Secondary / secon...|Single / not married|House / apartment|       Laborers|Business Entity T...|\n",
      "|    100003|     0|        Cash loans|          F|           N|              N|           0|        270000.0| 1293502.5|    35698.5|      1129500.0|         Family|       State servant|    Higher education|             Married|House / apartment|     Core staff|              School|\n",
      "|    100004|     0|   Revolving loans|          M|           Y|              Y|           0|         67500.0|  135000.0|     6750.0|       135000.0|  Unaccompanied|             Working|Secondary / secon...|Single / not married|House / apartment|       Laborers|          Government|\n",
      "|    100006|     0|        Cash loans|          F|           N|              Y|           0|        135000.0|  312682.5|    29686.5|       297000.0|  Unaccompanied|             Working|Secondary / secon...|      Civil marriage|House / apartment|       Laborers|Business Entity T...|\n",
      "|    100007|     0|        Cash loans|          M|           N|              Y|           0|        121500.0|  513000.0|    21865.5|       513000.0|  Unaccompanied|             Working|Secondary / secon...|Single / not married|House / apartment|     Core staff|            Religion|\n",
      "|    100008|     0|        Cash loans|          M|           N|              Y|           0|         99000.0|  490495.5|    27517.5|       454500.0|Spouse, partner|       State servant|Secondary / secon...|             Married|House / apartment|       Laborers|               Other|\n",
      "|    100009|     0|        Cash loans|          F|           Y|              Y|           1|        171000.0| 1560726.0|    41301.0|      1395000.0|  Unaccompanied|Commercial associate|    Higher education|             Married|House / apartment|    Accountants|Business Entity T...|\n",
      "|    100010|     0|        Cash loans|          M|           Y|              Y|           0|        360000.0| 1530000.0|    42075.0|      1530000.0|  Unaccompanied|       State servant|    Higher education|             Married|House / apartment|       Managers|               Other|\n",
      "|    100011|     0|        Cash loans|          F|           N|              Y|           0|        112500.0| 1019610.0|    33826.5|       913500.0|       Children|           Pensioner|Secondary / secon...|             Married|House / apartment|           null|                 XNA|\n",
      "|    100012|     0|   Revolving loans|          M|           N|              Y|           0|        135000.0|  405000.0|    20250.0|       405000.0|  Unaccompanied|             Working|Secondary / secon...|Single / not married|House / apartment|       Laborers|         Electricity|\n",
      "|    100014|     0|        Cash loans|          F|           N|              Y|           1|        112500.0|  652500.0|    21177.0|       652500.0|  Unaccompanied|             Working|    Higher education|             Married|House / apartment|     Core staff|            Medicine|\n",
      "|    100015|     0|        Cash loans|          F|           N|              Y|           0|       38419.155|  148365.0|    10678.5|       135000.0|       Children|           Pensioner|Secondary / secon...|             Married|House / apartment|           null|                 XNA|\n",
      "|    100016|     0|        Cash loans|          F|           N|              Y|           0|         67500.0|   80865.0|     5881.5|        67500.0|  Unaccompanied|             Working|Secondary / secon...|             Married|House / apartment|       Laborers|Business Entity T...|\n",
      "|    100017|     0|        Cash loans|          M|           Y|              N|           1|        225000.0|  918468.0|    28966.5|       697500.0|  Unaccompanied|             Working|Secondary / secon...|             Married|House / apartment|        Drivers|       Self-employed|\n",
      "|    100018|     0|        Cash loans|          F|           N|              Y|           0|        189000.0|  773680.5|    32778.0|       679500.0|  Unaccompanied|             Working|Secondary / secon...|             Married|House / apartment|       Laborers|   Transport: type 2|\n",
      "|    100019|     0|        Cash loans|          M|           Y|              Y|           0|        157500.0|  299772.0|    20160.0|       247500.0|         Family|             Working|Secondary / secon...|Single / not married| Rented apartment|       Laborers|Business Entity T...|\n",
      "|    100020|     0|        Cash loans|          M|           N|              N|           0|        108000.0|  509602.5|    26149.5|       387000.0|  Unaccompanied|             Working|Secondary / secon...|             Married|House / apartment|        Drivers|          Government|\n",
      "|    100021|     0|   Revolving loans|          F|           N|              Y|           1|         81000.0|  270000.0|    13500.0|       270000.0|  Unaccompanied|             Working|Secondary / secon...|             Married|House / apartment|       Laborers|        Construction|\n",
      "|    100022|     0|   Revolving loans|          F|           N|              Y|           0|        112500.0|  157500.0|     7875.0|       157500.0|        Other_A|             Working|Secondary / secon...|               Widow|House / apartment|       Laborers|             Housing|\n",
      "|    100023|     0|        Cash loans|          F|           N|              Y|           1|         90000.0|  544491.0|    17563.5|       454500.0|  Unaccompanied|       State servant|    Higher education|Single / not married|House / apartment|     Core staff|        Kindergarten|\n",
      "+----------+------+------------------+-----------+------------+---------------+------------+----------------+----------+-----------+---------------+---------------+--------------------+--------------------+--------------------+-----------------+---------------+--------------------+\n",
      "only showing top 20 rows\n",
      "\n"
     ]
    }
   ],
   "source": [
    "df = spark.createDataFrame(pdf)\n",
    "df.show()"
   ]
  },
  {
   "cell_type": "code",
   "execution_count": null,
   "metadata": {
    "application/vnd.databricks.v1+cell": {
     "cellMetadata": {
      "byteLimit": 2048000,
      "rowLimit": 10000
     },
     "inputWidgets": {},
     "nuid": "8f2bd7d9-096b-4678-b8dd-8797a70d6eb4",
     "showTitle": false,
     "title": ""
    }
   },
   "outputs": [
    {
     "name": "stdout",
     "output_type": "stream",
     "text": [
      "Out[10]: 307511"
     ]
    }
   ],
   "source": [
    "df.count()"
   ]
  },
  {
   "cell_type": "markdown",
   "metadata": {},
   "source": [
    "## Bucketing"
   ]
  },
  {
   "cell_type": "code",
   "execution_count": null,
   "metadata": {
    "application/vnd.databricks.v1+cell": {
     "cellMetadata": {
      "byteLimit": 2048000,
      "rowLimit": 10000
     },
     "inputWidgets": {},
     "nuid": "49320526-53db-4470-a721-d4cdc7cfb853",
     "showTitle": true,
     "title": "Bucketing"
    }
   },
   "outputs": [],
   "source": [
    "df.write.bucketBy(5,'SK_ID_CURR').mode('overwrite').saveAsTable('Credit_bucket',format='Parquet')"
   ]
  },
  {
   "cell_type": "markdown",
   "metadata": {},
   "source": [
    "## Loading Bucketed Data"
   ]
  },
  {
   "cell_type": "code",
   "execution_count": null,
   "metadata": {
    "application/vnd.databricks.v1+cell": {
     "cellMetadata": {
      "byteLimit": 2048000,
      "rowLimit": 10000
     },
     "inputWidgets": {},
     "nuid": "f968fb1c-3450-4f2c-9469-da5a58ad0428",
     "showTitle": true,
     "title": "Loading Bucketed Data"
    }
   },
   "outputs": [
    {
     "name": "stdout",
     "output_type": "stream",
     "text": [
      "+----------+------+------------------+-----------+------------+---------------+------------+----------------+----------+-----------+---------------+---------------+--------------------+--------------------+--------------------+-----------------+--------------------+-----------------+\n",
      "|SK_ID_CURR|TARGET|NAME_CONTRACT_TYPE|CODE_GENDER|FLAG_OWN_CAR|FLAG_OWN_REALTY|CNT_CHILDREN|AMT_INCOME_TOTAL|AMT_CREDIT|AMT_ANNUITY|AMT_GOODS_PRICE|NAME_TYPE_SUITE|    NAME_INCOME_TYPE| NAME_EDUCATION_TYPE|  NAME_FAMILY_STATUS|NAME_HOUSING_TYPE|     OCCUPATION_TYPE|ORGANIZATION_TYPE|\n",
      "+----------+------+------------------+-----------+------------+---------------+------------+----------------+----------+-----------+---------------+---------------+--------------------+--------------------+--------------------+-----------------+--------------------+-----------------+\n",
      "|    297049|     0|        Cash loans|          F|           N|              Y|           0|        292500.0|  652500.0|    19912.5|       652500.0|  Unaccompanied|           Pensioner|    Higher education|             Married|House / apartment|                null|              XNA|\n",
      "|    297060|     0|        Cash loans|          M|           Y|              N|           0|        225000.0|  450000.0|    21109.5|       450000.0|  Unaccompanied|             Working|    Higher education|Single / not married|     With parents|High skill tech s...| Industry: type 3|\n",
      "|    297066|     0|        Cash loans|          F|           N|              Y|           2|        112500.0|  261000.0|     9967.5|       261000.0|  Unaccompanied|             Working|Secondary / secon...|             Married|House / apartment|                null|      Agriculture|\n",
      "|    297068|     0|        Cash loans|          M|           Y|              Y|           0|        225000.0|  473760.0|    53451.0|       450000.0|  Unaccompanied|Commercial associate|    Higher education|      Civil marriage|House / apartment|             Drivers|Transport: type 4|\n",
      "|    297074|     0|        Cash loans|          F|           N|              Y|           0|        112500.0|  850500.0|    43555.5|       850500.0|Spouse, partner|Commercial associate|Secondary / secon...|             Married|House / apartment|      Medicine staff|            Hotel|\n",
      "+----------+------+------------------+-----------+------------+---------------+------------+----------------+----------+-----------+---------------+---------------+--------------------+--------------------+--------------------+-----------------+--------------------+-----------------+\n",
      "only showing top 5 rows\n",
      "\n"
     ]
    }
   ],
   "source": [
    "ef = spark.read.table('Credit_bucket')\n",
    "ef.show(5)"
   ]
  },
  {
   "cell_type": "markdown",
   "metadata": {},
   "source": [
    "## Filtering Bucketed Data on behalf of SK_ID"
   ]
  },
  {
   "cell_type": "code",
   "execution_count": null,
   "metadata": {
    "application/vnd.databricks.v1+cell": {
     "cellMetadata": {
      "byteLimit": 2048000,
      "rowLimit": 10000
     },
     "inputWidgets": {},
     "nuid": "409b25e9-e9da-42be-ba73-bae4d28c0f42",
     "showTitle": true,
     "title": "Filtering Bucketed Data on behalf of SK_ID"
    }
   },
   "outputs": [
    {
     "name": "stdout",
     "output_type": "stream",
     "text": [
      "+----------+------+------------------+-----------+------------+---------------+------------+----------------+----------+-----------+---------------+---------------+----------------+--------------------+------------------+-----------------+---------------+--------------------+\n",
      "|SK_ID_CURR|TARGET|NAME_CONTRACT_TYPE|CODE_GENDER|FLAG_OWN_CAR|FLAG_OWN_REALTY|CNT_CHILDREN|AMT_INCOME_TOTAL|AMT_CREDIT|AMT_ANNUITY|AMT_GOODS_PRICE|NAME_TYPE_SUITE|NAME_INCOME_TYPE| NAME_EDUCATION_TYPE|NAME_FAMILY_STATUS|NAME_HOUSING_TYPE|OCCUPATION_TYPE|   ORGANIZATION_TYPE|\n",
      "+----------+------+------------------+-----------+------------+---------------+------------+----------------+----------+-----------+---------------+---------------+----------------+--------------------+------------------+-----------------+---------------+--------------------+\n",
      "|    297090|     0|        Cash loans|          F|           N|              Y|           0|         67500.0|  755190.0|    38556.0|       675000.0|  Unaccompanied|         Working|Secondary / secon...|    Civil marriage|House / apartment| Cleaning staff|Business Entity T...|\n",
      "+----------+------+------------------+-----------+------------+---------------+------------+----------------+----------+-----------+---------------+---------------+----------------+--------------------+------------------+-----------------+---------------+--------------------+\n",
      "\n"
     ]
    }
   ],
   "source": [
    "ef1 = ef.filter(ef['SK_ID_CURR']==297090)\n",
    "ef1.show()"
   ]
  },
  {
   "cell_type": "code",
   "execution_count": null,
   "metadata": {
    "application/vnd.databricks.v1+cell": {
     "cellMetadata": {
      "byteLimit": 2048000,
      "rowLimit": 10000
     },
     "inputWidgets": {},
     "nuid": "d04aff86-842c-4d87-812d-14bd84e03893",
     "showTitle": false,
     "title": ""
    }
   },
   "outputs": [
    {
     "name": "stdout",
     "output_type": "stream",
     "text": [
      "+----------+------+------------------+-----------+------------+---------------+------------+----------------+----------+-----------+---------------+---------------+--------------------+--------------------+--------------------+-------------------+--------------------+--------------------+\n",
      "|SK_ID_CURR|TARGET|NAME_CONTRACT_TYPE|CODE_GENDER|FLAG_OWN_CAR|FLAG_OWN_REALTY|CNT_CHILDREN|AMT_INCOME_TOTAL|AMT_CREDIT|AMT_ANNUITY|AMT_GOODS_PRICE|NAME_TYPE_SUITE|    NAME_INCOME_TYPE| NAME_EDUCATION_TYPE|  NAME_FAMILY_STATUS|  NAME_HOUSING_TYPE|     OCCUPATION_TYPE|   ORGANIZATION_TYPE|\n",
      "+----------+------+------------------+-----------+------------+---------------+------------+----------------+----------+-----------+---------------+---------------+--------------------+--------------------+--------------------+-------------------+--------------------+--------------------+\n",
      "|    297049|     0|        Cash loans|          F|           N|              Y|           0|        292500.0|  652500.0|    19912.5|       652500.0|  Unaccompanied|           Pensioner|    Higher education|             Married|  House / apartment|                null|                 XNA|\n",
      "|    297060|     0|        Cash loans|          M|           Y|              N|           0|        225000.0|  450000.0|    21109.5|       450000.0|  Unaccompanied|             Working|    Higher education|Single / not married|       With parents|High skill tech s...|    Industry: type 3|\n",
      "|    297066|     0|        Cash loans|          F|           N|              Y|           2|        112500.0|  261000.0|     9967.5|       261000.0|  Unaccompanied|             Working|Secondary / secon...|             Married|  House / apartment|                null|         Agriculture|\n",
      "|    297068|     0|        Cash loans|          M|           Y|              Y|           0|        225000.0|  473760.0|    53451.0|       450000.0|  Unaccompanied|Commercial associate|    Higher education|      Civil marriage|  House / apartment|             Drivers|   Transport: type 4|\n",
      "|    297074|     0|        Cash loans|          F|           N|              Y|           0|        112500.0|  850500.0|    43555.5|       850500.0|Spouse, partner|Commercial associate|Secondary / secon...|             Married|  House / apartment|      Medicine staff|               Hotel|\n",
      "|    297078|     0|        Cash loans|          F|           N|              Y|           0|        810000.0|  170640.0|    13612.5|       135000.0|  Unaccompanied|             Working|    Higher education|      Civil marriage|  House / apartment|                null|Business Entity T...|\n",
      "|    297083|     0|        Cash loans|          M|           Y|              Y|           0|        292500.0| 1528200.0|    53248.5|      1350000.0|  Unaccompanied|Commercial associate|    Higher education|             Married|  House / apartment|High skill tech s...|Business Entity T...|\n",
      "|    297090|     0|        Cash loans|          F|           N|              Y|           0|         67500.0|  755190.0|    38556.0|       675000.0|  Unaccompanied|             Working|Secondary / secon...|      Civil marriage|  House / apartment|      Cleaning staff|Business Entity T...|\n",
      "|    297091|     0|        Cash loans|          F|           Y|              N|           0|        180000.0| 1125000.0|    32895.0|      1125000.0|  Unaccompanied|Commercial associate|Secondary / secon...|             Married|  House / apartment|            Managers|   Industry: type 11|\n",
      "|    297092|     0|        Cash loans|          M|           Y|              N|           0|        144000.0|  463500.0|    14179.5|       463500.0|  Unaccompanied|           Pensioner|    Higher education|             Married|  House / apartment|                null|                 XNA|\n",
      "|    297094|     0|        Cash loans|          F|           N|              Y|           0|         90000.0|  808650.0|    26217.0|       675000.0|         Family|       State servant|Secondary / secon...|Single / not married|  House / apartment|       Cooking staff|              School|\n",
      "|    297108|     0|        Cash loans|          F|           N|              Y|           0|        112500.0|  715500.0|    30312.0|       715500.0|  Unaccompanied|           Pensioner|Secondary / secon...|             Married|Municipal apartment|                null|                 XNA|\n",
      "|    297120|     0|        Cash loans|          F|           N|              N|           0|        202500.0|  700830.0|    22738.5|       585000.0|  Unaccompanied|             Working|Secondary / secon...|               Widow|  House / apartment|                null|          Restaurant|\n",
      "|    297125|     0|        Cash loans|          F|           N|              Y|           2|         90000.0|  276408.0|    16830.0|       198000.0|         Family|             Working|Secondary / secon...|      Civil marriage|  House / apartment|         Sales staff|Business Entity T...|\n",
      "|    297126|     0|        Cash loans|          F|           Y|              N|           1|        225000.0|  239850.0|    22423.5|       225000.0|  Unaccompanied|Commercial associate|Secondary / secon...|             Married|  House / apartment|         Sales staff|       Self-employed|\n",
      "|    297133|     0|        Cash loans|          F|           N|              Y|           0|        135000.0|  450000.0|    24543.0|       450000.0|       Children|           Pensioner|Secondary / secon...|             Married|  House / apartment|                null|                 XNA|\n",
      "|    297134|     0|        Cash loans|          M|           Y|              N|           0|        171000.0|  625536.0|    31905.0|       540000.0|  Unaccompanied|             Working|    Higher education|             Married|  House / apartment|            Managers|            Security|\n",
      "|    297150|     0|        Cash loans|          F|           N|              N|           0|         85500.0|  728460.0|    38448.0|       675000.0|  Unaccompanied|           Pensioner|Secondary / secon...|             Married|  House / apartment|                null|                 XNA|\n",
      "|    297151|     0|        Cash loans|          F|           N|              Y|           0|         67500.0|  808650.0|    26086.5|       675000.0|  Unaccompanied|           Pensioner|Secondary / secon...|             Married|  House / apartment|                null|                 XNA|\n",
      "|    297155|     0|        Cash loans|          F|           N|              Y|           0|        382500.0|  654736.5|    63913.5|       603000.0|  Unaccompanied|Commercial associate|   Incomplete higher|             Married|Municipal apartment|         Accountants|Business Entity T...|\n",
      "+----------+------+------------------+-----------+------------+---------------+------------+----------------+----------+-----------+---------------+---------------+--------------------+--------------------+--------------------+-------------------+--------------------+--------------------+\n",
      "only showing top 20 rows\n",
      "\n"
     ]
    }
   ],
   "source": [
    "ef3 = ef.filter(ef['AMT_INCOME_TOTAL']>50000)\n",
    "ef3.show()"
   ]
  },
  {
   "cell_type": "markdown",
   "metadata": {},
   "source": [
    "## Bucketing inside Partitioning"
   ]
  },
  {
   "cell_type": "code",
   "execution_count": null,
   "metadata": {
    "application/vnd.databricks.v1+cell": {
     "cellMetadata": {
      "byteLimit": 2048000,
      "rowLimit": 10000
     },
     "inputWidgets": {},
     "nuid": "225befd0-2278-418c-8391-0ea5d6ae7c0e",
     "showTitle": true,
     "title": "Bucketing inside Partitioning"
    }
   },
   "outputs": [],
   "source": [
    "df.write.option('header',True) \\\n",
    "    .partitionBy('NAME_FAMILY_STATUS') \\\n",
    "    .bucketBy(5,'AMT_INCOME_TOTAL') \\\n",
    "    .mode('overwrite') \\\n",
    "    .saveAsTable('creditbucket_partition',format='Parquet')"
   ]
  },
  {
   "cell_type": "markdown",
   "metadata": {},
   "source": [
    "## Loading BucketPartitioned Data"
   ]
  },
  {
   "cell_type": "code",
   "execution_count": null,
   "metadata": {
    "application/vnd.databricks.v1+cell": {
     "cellMetadata": {
      "byteLimit": 2048000,
      "rowLimit": 10000
     },
     "inputWidgets": {},
     "nuid": "c9b84d0a-d7cd-4205-b485-c389469c3308",
     "showTitle": true,
     "title": "Loading BucketPartitioned Data"
    }
   },
   "outputs": [
    {
     "name": "stdout",
     "output_type": "stream",
     "text": [
      "+----------+------+------------------+-----------+------------+---------------+------------+----------------+----------+-----------+---------------+---------------+--------------------+--------------------+-----------------+--------------------+--------------------+------------------+\n",
      "|SK_ID_CURR|TARGET|NAME_CONTRACT_TYPE|CODE_GENDER|FLAG_OWN_CAR|FLAG_OWN_REALTY|CNT_CHILDREN|AMT_INCOME_TOTAL|AMT_CREDIT|AMT_ANNUITY|AMT_GOODS_PRICE|NAME_TYPE_SUITE|    NAME_INCOME_TYPE| NAME_EDUCATION_TYPE|NAME_HOUSING_TYPE|     OCCUPATION_TYPE|   ORGANIZATION_TYPE|NAME_FAMILY_STATUS|\n",
      "+----------+------+------------------+-----------+------------+---------------+------------+----------------+----------+-----------+---------------+---------------+--------------------+--------------------+-----------------+--------------------+--------------------+------------------+\n",
      "|    181212|     0|        Cash loans|          F|           N|              Y|           0|        112500.0|  397881.0|    31563.0|       328500.0|  Unaccompanied|             Working|Secondary / secon...|House / apartment|      Cleaning staff|Business Entity T...|    Civil marriage|\n",
      "|    181218|     0|        Cash loans|          F|           N|              Y|           1|        112500.0|  270000.0|    12717.0|       270000.0|  Unaccompanied|             Working|    Higher education|House / apartment|High skill tech s...|            Military|    Civil marriage|\n",
      "|    181275|     0|        Cash loans|          F|           N|              Y|           0|        112500.0|  703728.0|    22999.5|       607500.0|  Unaccompanied|             Working|Secondary / secon...|House / apartment|      Security staff|            Security|    Civil marriage|\n",
      "|    181296|     0|        Cash loans|          M|           Y|              Y|           0|        211500.0| 1313707.5|    44977.5|      1192500.0|         Family|Commercial associate|    Higher education|House / apartment|         Sales staff|       Trade: type 2|    Civil marriage|\n",
      "|    181319|     0|        Cash loans|          F|           N|              Y|           1|        112500.0|  948582.0|    27733.5|       679500.0|  Unaccompanied|             Working|    Higher education|House / apartment|         Sales staff|               Other|    Civil marriage|\n",
      "+----------+------+------------------+-----------+------------+---------------+------------+----------------+----------+-----------+---------------+---------------+--------------------+--------------------+-----------------+--------------------+--------------------+------------------+\n",
      "only showing top 5 rows\n",
      "\n"
     ]
    }
   ],
   "source": [
    "bpdf = spark.read.table('creditbucket_partition')\n",
    "bpdf.show(5)"
   ]
  },
  {
   "cell_type": "markdown",
   "metadata": {},
   "source": [
    "## Multiple Filtering"
   ]
  },
  {
   "cell_type": "code",
   "execution_count": null,
   "metadata": {
    "application/vnd.databricks.v1+cell": {
     "cellMetadata": {
      "byteLimit": 2048000,
      "rowLimit": 10000
     },
     "inputWidgets": {},
     "nuid": "5f2d8966-f0eb-49b9-8aa5-5444a094233e",
     "showTitle": true,
     "title": "Multiple Filtering "
    }
   },
   "outputs": [
    {
     "name": "stdout",
     "output_type": "stream",
     "text": [
      "+----------+------+------------------+-----------+------------+---------------+------------+----------------+----------+-----------+---------------+---------------+--------------------+--------------------+-----------------+--------------------+--------------------+------------------+\n",
      "|SK_ID_CURR|TARGET|NAME_CONTRACT_TYPE|CODE_GENDER|FLAG_OWN_CAR|FLAG_OWN_REALTY|CNT_CHILDREN|AMT_INCOME_TOTAL|AMT_CREDIT|AMT_ANNUITY|AMT_GOODS_PRICE|NAME_TYPE_SUITE|    NAME_INCOME_TYPE| NAME_EDUCATION_TYPE|NAME_HOUSING_TYPE|     OCCUPATION_TYPE|   ORGANIZATION_TYPE|NAME_FAMILY_STATUS|\n",
      "+----------+------+------------------+-----------+------------+---------------+------------+----------------+----------+-----------+---------------+---------------+--------------------+--------------------+-----------------+--------------------+--------------------+------------------+\n",
      "|    181205|     0|        Cash loans|          M|           N|              N|           0|        180000.0|  970380.0|    28503.0|       810000.0|         Family|           Pensioner|Secondary / secon...|House / apartment|                null|                 XNA|           Married|\n",
      "|    181209|     0|        Cash loans|          F|           N|              Y|           0|         85500.0|  794173.5|    35113.5|       697500.0|         Family|           Pensioner|    Higher education|House / apartment|                null|                 XNA|           Married|\n",
      "|    181240|     0|        Cash loans|          M|           N|              Y|           0|        103500.0|  646920.0|    20997.0|       540000.0|         Family|           Pensioner|Secondary / secon...|House / apartment|                null|                 XNA|           Married|\n",
      "|    181266|     0|        Cash loans|          F|           Y|              Y|           1|        180000.0| 1168452.0|    34294.5|       837000.0|         Family|             Working|Secondary / secon...|House / apartment|             Drivers|Business Entity T...|           Married|\n",
      "|    181283|     0|        Cash loans|          M|           Y|              Y|           1|        180000.0|  659610.0|    21406.5|       472500.0|         Family|             Working|Secondary / secon...| Rented apartment|             Drivers|Business Entity T...|           Married|\n",
      "|    181308|     0|        Cash loans|          F|           N|              N|           0|        103500.0|  242329.5|    18882.0|       220500.0|         Family|           Pensioner|Secondary / secon...|House / apartment|                null|                 XNA|           Married|\n",
      "|    181351|     0|        Cash loans|          F|           Y|              Y|           0|        112500.0|  147726.0|    17662.5|       130500.0|         Family|Commercial associate|Secondary / secon...|House / apartment|         Sales staff|Business Entity T...|           Married|\n",
      "|    181397|     0|        Cash loans|          F|           N|              Y|           1|        103500.0| 1056447.0|    31018.5|       922500.0|         Family|Commercial associate|Secondary / secon...|House / apartment|                null|       Trade: type 1|           Married|\n",
      "|    181402|     0|        Cash loans|          F|           N|              Y|           1|        180000.0| 1206000.0|    39987.0|      1206000.0|         Family|Commercial associate|Secondary / secon...|House / apartment|          Core staff|       Self-employed|           Married|\n",
      "|    181513|     0|        Cash loans|          F|           N|              N|           0|         90000.0|  808650.0|    26217.0|       675000.0|         Family|           Pensioner|    Higher education|House / apartment|                null|                 XNA|           Married|\n",
      "|    181576|     0|        Cash loans|          F|           N|              Y|           0|        112500.0|  572076.0|    39946.5|       540000.0|         Family|             Working|Secondary / secon...|House / apartment|                null|Business Entity T...|           Married|\n",
      "|    181586|     0|        Cash loans|          F|           Y|              N|           0|        112500.0|  774000.0|    30825.0|       774000.0|         Family|             Working|Secondary / secon...|House / apartment|      Medicine staff|               Other|           Married|\n",
      "|    181595|     0|        Cash loans|          M|           N|              Y|           2|         90000.0|  808650.0|    26217.0|       675000.0|         Family|             Working|Secondary / secon...|House / apartment|  Low-skill Laborers|Business Entity T...|           Married|\n",
      "|    181604|     0|        Cash loans|          M|           Y|              Y|           0|        180000.0|  503676.0|    22315.5|       382500.0|         Family|Commercial associate|    Higher education|House / apartment|            Laborers|Business Entity T...|           Married|\n",
      "|    181694|     0|        Cash loans|          F|           N|              Y|           0|        112500.0|  675000.0|    32602.5|       675000.0|         Family|             Working|    Higher education|House / apartment|                null|        Kindergarten|           Married|\n",
      "|    181717|     0|        Cash loans|          F|           N|              N|           1|        180000.0|  781920.0|    31522.5|       675000.0|         Family|       State servant|    Higher education|House / apartment|High skill tech s...|            Military|           Married|\n",
      "|    181762|     0|        Cash loans|          M|           N|              Y|           0|         90000.0|  341280.0|    24961.5|       270000.0|         Family|             Working|Secondary / secon...|House / apartment|            Laborers|Business Entity T...|           Married|\n",
      "|    181796|     0|        Cash loans|          F|           N|              N|           0|        180000.0|  675000.0|    21775.5|       675000.0|         Family|             Working|Secondary / secon...|House / apartment|      Security staff|            Security|           Married|\n",
      "|    181828|     0|        Cash loans|          F|           N|              Y|           1|         90000.0|  101880.0|    11101.5|        90000.0|         Family|Commercial associate|Secondary / secon...|House / apartment|                null|Business Entity T...|           Married|\n",
      "|    181840|     1|        Cash loans|          F|           N|              Y|           0|        112500.0| 1255680.0|    41625.0|      1125000.0|         Family|       State servant|Secondary / secon...|House / apartment|            Laborers|            Medicine|           Married|\n",
      "+----------+------+------------------+-----------+------------+---------------+------------+----------------+----------+-----------+---------------+---------------+--------------------+--------------------+-----------------+--------------------+--------------------+------------------+\n",
      "only showing top 20 rows\n",
      "\n"
     ]
    }
   ],
   "source": [
    "from pyspark.sql import functions as f\n",
    "bpdf1 = bpdf.filter((f.col('NAME_CONTRACT_TYPE')=='Cash loans') & (f.col('NAME_TYPE_SUITE')=='Family') & (f.col('AMT_INCOME_TOTAL')>50000))\n",
    "bpdf1.show()"
   ]
  },
  {
   "cell_type": "code",
   "execution_count": null,
   "metadata": {
    "application/vnd.databricks.v1+cell": {
     "cellMetadata": {
      "byteLimit": 2048000,
      "rowLimit": 10000
     },
     "inputWidgets": {},
     "nuid": "5790bbff-a9a6-426c-82d6-eb5f2e22f05b",
     "showTitle": false,
     "title": ""
    }
   },
   "outputs": [
    {
     "name": "stdout",
     "output_type": "stream",
     "text": [
      "+----------+------+------------------+-----------+------------+---------------+------------+----------------+----------+-----------+---------------+---------------+----------------+--------------------+--------------------+-----------------+---------------+--------------------+\n",
      "|SK_ID_CURR|TARGET|NAME_CONTRACT_TYPE|CODE_GENDER|FLAG_OWN_CAR|FLAG_OWN_REALTY|CNT_CHILDREN|AMT_INCOME_TOTAL|AMT_CREDIT|AMT_ANNUITY|AMT_GOODS_PRICE|NAME_TYPE_SUITE|NAME_INCOME_TYPE| NAME_EDUCATION_TYPE|  NAME_FAMILY_STATUS|NAME_HOUSING_TYPE|OCCUPATION_TYPE|   ORGANIZATION_TYPE|\n",
      "+----------+------+------------------+-----------+------------+---------------+------------+----------------+----------+-----------+---------------+---------------+----------------+--------------------+--------------------+-----------------+---------------+--------------------+\n",
      "|    100002|     1|        Cash loans|          M|           N|              Y|           0|        202500.0|  406597.5|    24700.5|       351000.0|  Unaccompanied|         Working|Secondary / secon...|Single / not married|House / apartment|       Laborers|Business Entity T...|\n",
      "+----------+------+------------------+-----------+------------+---------------+------------+----------------+----------+-----------+---------------+---------------+----------------+--------------------+--------------------+-----------------+---------------+--------------------+\n",
      "only showing top 1 row\n",
      "\n"
     ]
    }
   ],
   "source": [
    "df.show(1)"
   ]
  },
  {
   "cell_type": "markdown",
   "metadata": {},
   "source": [
    "## Creating Widgets"
   ]
  },
  {
   "cell_type": "code",
   "execution_count": null,
   "metadata": {
    "application/vnd.databricks.v1+cell": {
     "cellMetadata": {
      "byteLimit": 2048000,
      "rowLimit": 10000
     },
     "inputWidgets": {},
     "nuid": "7004afc6-daa1-4247-ba38-a11751e712f4",
     "showTitle": true,
     "title": "Creating Widgets"
    }
   },
   "outputs": [],
   "source": [
    "dbutils.widgets.text('max','')\n",
    "dbutils.widgets.text('min','')\n",
    "dbutils.widgets.combobox('contract','',['Cash loans','Revolving loans'],'Choose loan_Type')\n",
    "dbutils.widgets.combobox('family','',['Civil marriage','Married','Separated','Single / not married','Widow'],'Choose Family_status')"
   ]
  },
  {
   "cell_type": "code",
   "execution_count": null,
   "metadata": {
    "application/vnd.databricks.v1+cell": {
     "cellMetadata": {
      "byteLimit": 2048000,
      "rowLimit": 10000
     },
     "inputWidgets": {},
     "nuid": "da9bf238-8bba-4996-b87d-64960460666e",
     "showTitle": false,
     "title": ""
    }
   },
   "outputs": [],
   "source": [
    "mx = dbutils.widgets.get(\"max\")\n",
    "mi = dbutils.widgets.get(\"min\")\n",
    "con = dbutils.widgets.get(\"contract\")\n",
    "fam = dbutils.widgets.get(\"family\")"
   ]
  },
  {
   "cell_type": "code",
   "execution_count": null,
   "metadata": {
    "application/vnd.databricks.v1+cell": {
     "cellMetadata": {
      "byteLimit": 2048000,
      "rowLimit": 10000
     },
     "inputWidgets": {},
     "nuid": "96138b6c-368f-4656-a746-4b4db234f6d2",
     "showTitle": false,
     "title": ""
    }
   },
   "outputs": [
    {
     "name": "stdout",
     "output_type": "stream",
     "text": [
      "+----------+------+------------------+-----------+------------+---------------+------------+----------------+----------+-----------+---------------+---------------+--------------------+--------------------+------------------+-----------------+--------------------+--------------------+\n",
      "|SK_ID_CURR|TARGET|NAME_CONTRACT_TYPE|CODE_GENDER|FLAG_OWN_CAR|FLAG_OWN_REALTY|CNT_CHILDREN|AMT_INCOME_TOTAL|AMT_CREDIT|AMT_ANNUITY|AMT_GOODS_PRICE|NAME_TYPE_SUITE|    NAME_INCOME_TYPE| NAME_EDUCATION_TYPE|NAME_FAMILY_STATUS|NAME_HOUSING_TYPE|     OCCUPATION_TYPE|   ORGANIZATION_TYPE|\n",
      "+----------+------+------------------+-----------+------------+---------------+------------+----------------+----------+-----------+---------------+---------------+--------------------+--------------------+------------------+-----------------+--------------------+--------------------+\n",
      "|    100003|     0|        Cash loans|          F|           N|              N|           0|        270000.0| 1293502.5|    35698.5|      1129500.0|         Family|       State servant|    Higher education|           Married|House / apartment|          Core staff|              School|\n",
      "|    100009|     0|        Cash loans|          F|           Y|              Y|           1|        171000.0| 1560726.0|    41301.0|      1395000.0|  Unaccompanied|Commercial associate|    Higher education|           Married|House / apartment|         Accountants|Business Entity T...|\n",
      "|    100011|     0|        Cash loans|          F|           N|              Y|           0|        112500.0| 1019610.0|    33826.5|       913500.0|       Children|           Pensioner|Secondary / secon...|           Married|House / apartment|                null|                 XNA|\n",
      "|    100014|     0|        Cash loans|          F|           N|              Y|           1|        112500.0|  652500.0|    21177.0|       652500.0|  Unaccompanied|             Working|    Higher education|           Married|House / apartment|          Core staff|            Medicine|\n",
      "|    100017|     0|        Cash loans|          M|           Y|              N|           1|        225000.0|  918468.0|    28966.5|       697500.0|  Unaccompanied|             Working|Secondary / secon...|           Married|House / apartment|             Drivers|       Self-employed|\n",
      "|    100018|     0|        Cash loans|          F|           N|              Y|           0|        189000.0|  773680.5|    32778.0|       679500.0|  Unaccompanied|             Working|Secondary / secon...|           Married|House / apartment|            Laborers|   Transport: type 2|\n",
      "|    100020|     0|        Cash loans|          M|           N|              N|           0|        108000.0|  509602.5|    26149.5|       387000.0|  Unaccompanied|             Working|Secondary / secon...|           Married|House / apartment|             Drivers|          Government|\n",
      "|    100025|     0|        Cash loans|          F|           Y|              Y|           1|        202500.0| 1132573.5|    37561.5|       927000.0|  Unaccompanied|Commercial associate|Secondary / secon...|           Married|House / apartment|         Sales staff|       Trade: type 7|\n",
      "|    100029|     0|        Cash loans|          M|           Y|              N|           2|        135000.0|  247500.0|    12703.5|       247500.0|  Unaccompanied|             Working|Secondary / secon...|           Married|House / apartment|             Drivers|Business Entity T...|\n",
      "|    100032|     0|        Cash loans|          M|           N|              Y|           1|        112500.0|  327024.0|    23827.5|       270000.0|         Family|             Working|Secondary / secon...|           Married|House / apartment|            Laborers|   Industry: type 11|\n",
      "|    100040|     0|        Cash loans|          F|           N|              Y|           0|        135000.0| 1125000.0|    32895.0|      1125000.0|  Unaccompanied|       State servant|    Higher education|           Married|House / apartment|          Core staff| Security Ministries|\n",
      "|    100041|     0|        Cash loans|          F|           N|              N|           0|        112500.0|  450000.0|    44509.5|       450000.0|  Unaccompanied|             Working|    Higher education|           Married|House / apartment|         Sales staff|       Self-employed|\n",
      "|    100043|     0|        Cash loans|          F|           N|              Y|           2|        198000.0|  641173.5|    23157.0|       553500.0|  Unaccompanied|Commercial associate|Secondary / secon...|           Married|House / apartment|Private service s...|               Other|\n",
      "|    100044|     0|        Cash loans|          M|           N|              Y|           0|        121500.0|  454500.0|    15151.5|       454500.0|  Unaccompanied|             Working|Secondary / secon...|           Married|House / apartment|             Drivers|   Transport: type 4|\n",
      "|    100047|     1|        Cash loans|          M|           N|              Y|           0|        202500.0| 1193580.0|    35028.0|       855000.0|  Unaccompanied|Commercial associate|Secondary / secon...|           Married|House / apartment|            Laborers|Business Entity T...|\n",
      "|    100048|     0|        Cash loans|          F|           N|              Y|           0|        202500.0|  604152.0|    29196.0|       540000.0|  Unaccompanied|             Working|Secondary / secon...|           Married|House / apartment|            Laborers|    Industry: type 1|\n",
      "|    100055|     0|        Cash loans|          F|           N|              N|           0|        130500.0| 1350000.0|    37255.5|      1350000.0|  Unaccompanied|       State servant|Secondary / secon...|           Married|House / apartment|            Managers|          Government|\n",
      "|    100061|     0|        Cash loans|          F|           N|              Y|           2|        225000.0|  314055.0|    16164.0|       238500.0|  Unaccompanied|Commercial associate|    Higher education|           Married|House / apartment|          Core staff|       Self-employed|\n",
      "|    100063|     0|        Cash loans|          F|           N|              Y|           0|        180000.0|  837427.5|    45558.0|       666000.0|  Unaccompanied|             Working|    Higher education|           Married|House / apartment|            Managers|            Medicine|\n",
      "|    100071|     0|        Cash loans|          F|           N|              Y|           0|        180000.0| 1663987.5|    86989.5|      1588500.0|         Family|Commercial associate|Secondary / secon...|           Married|House / apartment|         Accountants|   Industry: type 11|\n",
      "+----------+------+------------------+-----------+------------+---------------+------------+----------------+----------+-----------+---------------+---------------+--------------------+--------------------+------------------+-----------------+--------------------+--------------------+\n",
      "only showing top 20 rows\n",
      "\n"
     ]
    }
   ],
   "source": [
    "wdf = df.filter(\n",
    "    (df['NAME_FAMILY_STATUS']==fam) & \n",
    "    (df['NAME_CONTRACT_TYPE']==con) & \n",
    "    (df['AMT_INCOME_TOTAL']>mi) & \n",
    "    (df['AMT_INCOME_TOTAL']<mx))\n",
    "wdf.show()\n"
   ]
  },
  {
   "cell_type": "markdown",
   "metadata": {},
   "source": [
    "## Checking Null values in each column"
   ]
  },
  {
   "cell_type": "code",
   "execution_count": null,
   "metadata": {
    "application/vnd.databricks.v1+cell": {
     "cellMetadata": {
      "byteLimit": 2048000,
      "rowLimit": 10000
     },
     "inputWidgets": {},
     "nuid": "0a0363bd-debf-4401-9280-2df90f65b2be",
     "showTitle": true,
     "title": "Checking Null values in each column"
    }
   },
   "outputs": [
    {
     "name": "stdout",
     "output_type": "stream",
     "text": [
      "+----------+------+------------------+-----------+------------+---------------+------------+----------------+----------+-----------+---------------+---------------+----------------+-------------------+------------------+-----------------+---------------+-----------------+\n",
      "|SK_ID_CURR|TARGET|NAME_CONTRACT_TYPE|CODE_GENDER|FLAG_OWN_CAR|FLAG_OWN_REALTY|CNT_CHILDREN|AMT_INCOME_TOTAL|AMT_CREDIT|AMT_ANNUITY|AMT_GOODS_PRICE|NAME_TYPE_SUITE|NAME_INCOME_TYPE|NAME_EDUCATION_TYPE|NAME_FAMILY_STATUS|NAME_HOUSING_TYPE|OCCUPATION_TYPE|ORGANIZATION_TYPE|\n",
      "+----------+------+------------------+-----------+------------+---------------+------------+----------------+----------+-----------+---------------+---------------+----------------+-------------------+------------------+-----------------+---------------+-----------------+\n",
      "|         0|     0|                 0|          0|           0|              0|           0|               0|         0|         12|            278|           1292|               0|                  0|                 0|                0|          96391|                0|\n",
      "+----------+------+------------------+-----------+------------+---------------+------------+----------------+----------+-----------+---------------+---------------+----------------+-------------------+------------------+-----------------+---------------+-----------------+\n",
      "\n"
     ]
    }
   ],
   "source": [
    "from pyspark.sql import functions as f\n",
    "\n",
    "df1 = df.select([f.sum(f.col(c).isNull().cast('int')).alias(c) for c in df.columns])\n",
    "df1.show()"
   ]
  },
  {
   "cell_type": "markdown",
   "metadata": {},
   "source": [
    "## Finding mean of column 'AMT_ANNUITY'"
   ]
  },
  {
   "cell_type": "code",
   "execution_count": null,
   "metadata": {
    "application/vnd.databricks.v1+cell": {
     "cellMetadata": {
      "byteLimit": 2048000,
      "rowLimit": 10000
     },
     "inputWidgets": {},
     "nuid": "60c45ff7-5a60-47bc-9ab5-c236d18b4c56",
     "showTitle": true,
     "title": "Finding mean of column 'AMT_ANNUITY'"
    }
   },
   "outputs": [
    {
     "name": "stdout",
     "output_type": "stream",
     "text": [
      "+------------------+\n",
      "|  avg(AMT_ANNUITY)|\n",
      "+------------------+\n",
      "|27108.573909183444|\n",
      "+------------------+\n",
      "\n"
     ]
    }
   ],
   "source": [
    "from pyspark.sql import functions as f\n",
    "mean_amt_annuity = df.agg(f.mean(f.col('AMT_ANNUITY')))\n",
    "mean_amt_annuity.show()"
   ]
  },
  {
   "cell_type": "markdown",
   "metadata": {},
   "source": [
    "## Filling null values in 'AMT_ANNUITY' column"
   ]
  },
  {
   "cell_type": "code",
   "execution_count": null,
   "metadata": {
    "application/vnd.databricks.v1+cell": {
     "cellMetadata": {
      "byteLimit": 2048000,
      "rowLimit": 10000
     },
     "inputWidgets": {},
     "nuid": "43b0860f-2826-4324-afbe-dcc47153c883",
     "showTitle": true,
     "title": "Filling null values in 'AMT_ANNUITY' column"
    }
   },
   "outputs": [
    {
     "name": "stdout",
     "output_type": "stream",
     "text": [
      "+----------+------+------------------+-----------+------------+---------------+------------+----------------+----------+-----------+---------------+---------------+----------------+-------------------+------------------+-----------------+---------------+-----------------+\n",
      "|SK_ID_CURR|TARGET|NAME_CONTRACT_TYPE|CODE_GENDER|FLAG_OWN_CAR|FLAG_OWN_REALTY|CNT_CHILDREN|AMT_INCOME_TOTAL|AMT_CREDIT|AMT_ANNUITY|AMT_GOODS_PRICE|NAME_TYPE_SUITE|NAME_INCOME_TYPE|NAME_EDUCATION_TYPE|NAME_FAMILY_STATUS|NAME_HOUSING_TYPE|OCCUPATION_TYPE|ORGANIZATION_TYPE|\n",
      "+----------+------+------------------+-----------+------------+---------------+------------+----------------+----------+-----------+---------------+---------------+----------------+-------------------+------------------+-----------------+---------------+-----------------+\n",
      "|         0|     0|                 0|          0|           0|              0|           0|               0|         0|          0|            278|           1292|               0|                  0|                 0|                0|          96391|                0|\n",
      "+----------+------+------------------+-----------+------------+---------------+------------+----------------+----------+-----------+---------------+---------------+----------------+-------------------+------------------+-----------------+---------------+-----------------+\n",
      "\n"
     ]
    }
   ],
   "source": [
    "df = df.fillna(value=27108.573909183444,subset=['AMT_ANNUITY'])\n",
    "df.select([f.sum(f.col(c).isNull().cast('int')).alias(c) for c in df.columns]).show()\n"
   ]
  },
  {
   "cell_type": "markdown",
   "metadata": {},
   "source": [
    "## Finding mean in 'AMT_GOODS_PRICE' column"
   ]
  },
  {
   "cell_type": "code",
   "execution_count": null,
   "metadata": {
    "application/vnd.databricks.v1+cell": {
     "cellMetadata": {
      "byteLimit": 2048000,
      "rowLimit": 10000
     },
     "inputWidgets": {},
     "nuid": "2b8a003e-6a06-495d-9a4c-de8806f5f3a0",
     "showTitle": true,
     "title": "Finding mean in 'AMT_GOODS_PRICE' column"
    }
   },
   "outputs": [
    {
     "name": "stdout",
     "output_type": "stream",
     "text": [
      "+--------------------+\n",
      "|avg(AMT_GOODS_PRICE)|\n",
      "+--------------------+\n",
      "|   538396.2074288895|\n",
      "+--------------------+\n",
      "\n"
     ]
    }
   ],
   "source": [
    "mean_amt_goods = df.agg(f.mean(f.col('AMT_GOODS_PRICE')))\n",
    "mean_amt_goods.show()"
   ]
  },
  {
   "cell_type": "markdown",
   "metadata": {},
   "source": [
    "## Filling null values in 'AMT_GOODS_PRICE' column"
   ]
  },
  {
   "cell_type": "code",
   "execution_count": null,
   "metadata": {
    "application/vnd.databricks.v1+cell": {
     "cellMetadata": {
      "byteLimit": 2048000,
      "rowLimit": 10000
     },
     "inputWidgets": {},
     "nuid": "6d97bb3c-a926-4305-a2e9-f30d7b704616",
     "showTitle": true,
     "title": "Filling null values in 'AMT_GOODS_PRICE' column"
    }
   },
   "outputs": [
    {
     "name": "stdout",
     "output_type": "stream",
     "text": [
      "+----------+------+------------------+-----------+------------+---------------+------------+----------------+----------+-----------+---------------+---------------+----------------+-------------------+------------------+-----------------+---------------+-----------------+\n",
      "|SK_ID_CURR|TARGET|NAME_CONTRACT_TYPE|CODE_GENDER|FLAG_OWN_CAR|FLAG_OWN_REALTY|CNT_CHILDREN|AMT_INCOME_TOTAL|AMT_CREDIT|AMT_ANNUITY|AMT_GOODS_PRICE|NAME_TYPE_SUITE|NAME_INCOME_TYPE|NAME_EDUCATION_TYPE|NAME_FAMILY_STATUS|NAME_HOUSING_TYPE|OCCUPATION_TYPE|ORGANIZATION_TYPE|\n",
      "+----------+------+------------------+-----------+------------+---------------+------------+----------------+----------+-----------+---------------+---------------+----------------+-------------------+------------------+-----------------+---------------+-----------------+\n",
      "|         0|     0|                 0|          0|           0|              0|           0|               0|         0|          0|              0|           1292|               0|                  0|                 0|                0|          96391|                0|\n",
      "+----------+------+------------------+-----------+------------+---------------+------------+----------------+----------+-----------+---------------+---------------+----------------+-------------------+------------------+-----------------+---------------+-----------------+\n",
      "\n"
     ]
    }
   ],
   "source": [
    "from pyspark.sql import functions as f\n",
    "df = df.fillna(value=538396.2074288895,subset=['AMT_GOODS_PRICE'])\n",
    "df.select([f.sum(f.col(c).isNull().cast('int')).alias(c) for c in df.columns]).show()"
   ]
  },
  {
   "cell_type": "markdown",
   "metadata": {},
   "source": [
    "## Finding value count"
   ]
  },
  {
   "cell_type": "code",
   "execution_count": null,
   "metadata": {
    "application/vnd.databricks.v1+cell": {
     "cellMetadata": {
      "byteLimit": 2048000,
      "rowLimit": 10000
     },
     "inputWidgets": {},
     "nuid": "a84e5e84-bc84-426c-a28f-4813cfa66d6e",
     "showTitle": true,
     "title": "Finding value count  "
    }
   },
   "outputs": [
    {
     "name": "stdout",
     "output_type": "stream",
     "text": [
      "+---------------+------+\n",
      "|NAME_TYPE_SUITE| count|\n",
      "+---------------+------+\n",
      "|  Unaccompanied|248526|\n",
      "|         Family| 40149|\n",
      "|Spouse, partner| 11370|\n",
      "|       Children|  3267|\n",
      "|        Other_B|  1770|\n",
      "|           null|  1292|\n",
      "|        Other_A|   866|\n",
      "|Group of people|   271|\n",
      "+---------------+------+\n",
      "\n"
     ]
    }
   ],
   "source": [
    "nam_df = df.groupBy('NAME_TYPE_SUITE').count().orderBy('count',ascending=False)\n",
    "nam_df.show()"
   ]
  },
  {
   "cell_type": "markdown",
   "metadata": {},
   "source": [
    "## Getting max. value that appears most times "
   ]
  },
  {
   "cell_type": "code",
   "execution_count": null,
   "metadata": {
    "application/vnd.databricks.v1+cell": {
     "cellMetadata": {
      "byteLimit": 2048000,
      "rowLimit": 10000
     },
     "inputWidgets": {},
     "nuid": "0d85ccb4-ee43-4122-8df2-cd0856d24ec6",
     "showTitle": true,
     "title": "Getting max. value that appears most times "
    }
   },
   "outputs": [
    {
     "name": "stdout",
     "output_type": "stream",
     "text": [
      "Unaccompanied\n"
     ]
    }
   ],
   "source": [
    "max_name = df.groupBy('NAME_TYPE_SUITE').count().agg(\n",
    "    f.max('NAME_TYPE_SUITE')).collect()[0][0]\n",
    "print(max_name)"
   ]
  },
  {
   "cell_type": "markdown",
   "metadata": {},
   "source": [
    "## Filling null values"
   ]
  },
  {
   "cell_type": "code",
   "execution_count": null,
   "metadata": {
    "application/vnd.databricks.v1+cell": {
     "cellMetadata": {
      "byteLimit": 2048000,
      "rowLimit": 10000
     },
     "inputWidgets": {},
     "nuid": "1b2bf50b-ca7c-4da5-9d71-e9a5671bbf4f",
     "showTitle": true,
     "title": "Filling null values "
    }
   },
   "outputs": [
    {
     "name": "stdout",
     "output_type": "stream",
     "text": [
      "+----------+------+------------------+-----------+------------+---------------+------------+----------------+----------+-----------+---------------+---------------+----------------+-------------------+------------------+-----------------+---------------+-----------------+\n",
      "|SK_ID_CURR|TARGET|NAME_CONTRACT_TYPE|CODE_GENDER|FLAG_OWN_CAR|FLAG_OWN_REALTY|CNT_CHILDREN|AMT_INCOME_TOTAL|AMT_CREDIT|AMT_ANNUITY|AMT_GOODS_PRICE|NAME_TYPE_SUITE|NAME_INCOME_TYPE|NAME_EDUCATION_TYPE|NAME_FAMILY_STATUS|NAME_HOUSING_TYPE|OCCUPATION_TYPE|ORGANIZATION_TYPE|\n",
      "+----------+------+------------------+-----------+------------+---------------+------------+----------------+----------+-----------+---------------+---------------+----------------+-------------------+------------------+-----------------+---------------+-----------------+\n",
      "|         0|     0|                 0|          0|           0|              0|           0|               0|         0|          0|              0|              0|               0|                  0|                 0|                0|          96391|                0|\n",
      "+----------+------+------------------+-----------+------------+---------------+------------+----------------+----------+-----------+---------------+---------------+----------------+-------------------+------------------+-----------------+---------------+-----------------+\n",
      "\n"
     ]
    }
   ],
   "source": [
    "df = df.fillna(value='Unaccompanied',subset=['NAME_TYPE_SUITE'])\n",
    "df.select([f.sum(f.col(c).isNull().cast('int')).alias(c) for c in df.columns]).show()"
   ]
  },
  {
   "cell_type": "markdown",
   "metadata": {},
   "source": [
    "## Finding Quantile"
   ]
  },
  {
   "cell_type": "code",
   "execution_count": null,
   "metadata": {
    "application/vnd.databricks.v1+cell": {
     "cellMetadata": {
      "byteLimit": 2048000,
      "rowLimit": 10000
     },
     "inputWidgets": {},
     "nuid": "a6e0723d-f24d-46ff-b2c5-62bcf3a28dcb",
     "showTitle": true,
     "title": "Finding Quartile"
    }
   },
   "outputs": [
    {
     "name": "stdout",
     "output_type": "stream",
     "text": [
      "112500.0 202500.0\n",
      "90000.0\n"
     ]
    }
   ],
   "source": [
    "quantiles = df.approxQuantile('AMT_INCOME_TOTAL',[0.25,0.75],0.0)\n",
    "q1,q3 = quantiles[0],quantiles[1]\n",
    "print(q1,q3)\n",
    "iqr = q3-q1\n",
    "print(iqr)"
   ]
  },
  {
   "cell_type": "markdown",
   "metadata": {},
   "source": [
    "## Calculate Lower extreme & upper extreme"
   ]
  },
  {
   "cell_type": "code",
   "execution_count": null,
   "metadata": {
    "application/vnd.databricks.v1+cell": {
     "cellMetadata": {
      "byteLimit": 2048000,
      "rowLimit": 10000
     },
     "inputWidgets": {},
     "nuid": "2baa26b5-6c3d-4aa3-8813-d88fe3f0f9da",
     "showTitle": true,
     "title": "Calculate Lower extreme & upper extreme"
    }
   },
   "outputs": [
    {
     "name": "stdout",
     "output_type": "stream",
     "text": [
      "-22500.0 337500.0\n"
     ]
    }
   ],
   "source": [
    "lx = q1 - 1.5*iqr\n",
    "ux = q3 + 1.5*iqr\n",
    "print(lx,ux)"
   ]
  },
  {
   "cell_type": "markdown",
   "metadata": {},
   "source": [
    "## Getting data that have the value below upper extreme"
   ]
  },
  {
   "cell_type": "code",
   "execution_count": null,
   "metadata": {
    "application/vnd.databricks.v1+cell": {
     "cellMetadata": {
      "byteLimit": 2048000,
      "rowLimit": 10000
     },
     "inputWidgets": {},
     "nuid": "fae0c8ff-3420-41c4-9291-cdcbcd2562b6",
     "showTitle": true,
     "title": "Getting data that have the value below upper extreme"
    }
   },
   "outputs": [
    {
     "name": "stdout",
     "output_type": "stream",
     "text": [
      "+----------+------+------------------+-----------+------------+---------------+------------+----------------+----------+-----------+---------------+---------------+----------------+--------------------+--------------------+-----------------+---------------+--------------------+\n",
      "|SK_ID_CURR|TARGET|NAME_CONTRACT_TYPE|CODE_GENDER|FLAG_OWN_CAR|FLAG_OWN_REALTY|CNT_CHILDREN|AMT_INCOME_TOTAL|AMT_CREDIT|AMT_ANNUITY|AMT_GOODS_PRICE|NAME_TYPE_SUITE|NAME_INCOME_TYPE| NAME_EDUCATION_TYPE|  NAME_FAMILY_STATUS|NAME_HOUSING_TYPE|OCCUPATION_TYPE|   ORGANIZATION_TYPE|\n",
      "+----------+------+------------------+-----------+------------+---------------+------------+----------------+----------+-----------+---------------+---------------+----------------+--------------------+--------------------+-----------------+---------------+--------------------+\n",
      "|    100002|     1|        Cash loans|          M|           N|              Y|           0|        202500.0|  406597.5|    24700.5|       351000.0|  Unaccompanied|         Working|Secondary / secon...|Single / not married|House / apartment|       Laborers|Business Entity T...|\n",
      "|    100003|     0|        Cash loans|          F|           N|              N|           0|        270000.0| 1293502.5|    35698.5|      1129500.0|         Family|   State servant|    Higher education|             Married|House / apartment|     Core staff|              School|\n",
      "|    100004|     0|   Revolving loans|          M|           Y|              Y|           0|         67500.0|  135000.0|     6750.0|       135000.0|  Unaccompanied|         Working|Secondary / secon...|Single / not married|House / apartment|       Laborers|          Government|\n",
      "|    100006|     0|        Cash loans|          F|           N|              Y|           0|        135000.0|  312682.5|    29686.5|       297000.0|  Unaccompanied|         Working|Secondary / secon...|      Civil marriage|House / apartment|       Laborers|Business Entity T...|\n",
      "|    100007|     0|        Cash loans|          M|           N|              Y|           0|        121500.0|  513000.0|    21865.5|       513000.0|  Unaccompanied|         Working|Secondary / secon...|Single / not married|House / apartment|     Core staff|            Religion|\n",
      "+----------+------+------------------+-----------+------------+---------------+------------+----------------+----------+-----------+---------------+---------------+----------------+--------------------+--------------------+-----------------+---------------+--------------------+\n",
      "only showing top 5 rows\n",
      "\n"
     ]
    }
   ],
   "source": [
    "df = df.filter(df['AMT_INCOME_TOTAL']<337500)\n",
    "df.show(5)"
   ]
  },
  {
   "cell_type": "markdown",
   "metadata": {},
   "source": [
    "## Analysis"
   ]
  },
  {
   "cell_type": "code",
   "execution_count": null,
   "metadata": {
    "application/vnd.databricks.v1+cell": {
     "cellMetadata": {
      "byteLimit": 2048000,
      "rowLimit": 10000
     },
     "inputWidgets": {},
     "nuid": "3f554235-3f53-4e0d-82dc-212fb9b0556d",
     "showTitle": true,
     "title": "Analysis"
    }
   },
   "outputs": [
    {
     "data": {
      "text/html": [
       "<style scoped>\n",
       "  .table-result-container {\n",
       "    max-height: 300px;\n",
       "    overflow: auto;\n",
       "  }\n",
       "  table, th, td {\n",
       "    border: 1px solid black;\n",
       "    border-collapse: collapse;\n",
       "  }\n",
       "  th, td {\n",
       "    padding: 5px;\n",
       "  }\n",
       "  th {\n",
       "    text-align: left;\n",
       "  }\n",
       "</style><div class='table-result-container'><table class='table-result'><thead style='background-color: white'><tr><th>NAME_CONTRACT_TYPE</th><th>count</th></tr></thead><tbody><tr><td>Revolving loans</td><td>27492</td></tr><tr><td>Cash loans</td><td>264194</td></tr></tbody></table></div>"
      ]
     },
     "metadata": {
      "application/vnd.databricks.v1+output": {
       "addedWidgets": {},
       "aggData": [],
       "aggError": "",
       "aggOverflow": false,
       "aggSchema": [],
       "aggSeriesLimitReached": false,
       "aggType": "",
       "arguments": {},
       "columnCustomDisplayInfos": {},
       "data": [
        [
         "Revolving loans",
         27492
        ],
        [
         "Cash loans",
         264194
        ]
       ],
       "datasetInfos": [],
       "dbfsResultPath": null,
       "isJsonSchema": true,
       "metadata": {},
       "overflow": false,
       "plotOptions": {
        "customPlotOptions": {},
        "displayType": "table",
        "pivotAggregation": null,
        "pivotColumns": null,
        "xColumns": null,
        "yColumns": null
       },
       "removedWidgets": [],
       "schema": [
        {
         "metadata": "{}",
         "name": "NAME_CONTRACT_TYPE",
         "type": "\"string\""
        },
        {
         "metadata": "{}",
         "name": "count",
         "type": "\"long\""
        }
       ],
       "type": "table"
      }
     },
     "output_type": "display_data"
    },
    {
     "data": {
      "text/plain": [
       "Databricks visualization. Run in Databricks to view."
      ]
     },
     "metadata": {
      "application/vnd.databricks.v1.subcommand+json": {
       "bindings": {},
       "collapsed": false,
       "command": "%python\n__backend_agg_display_orig = display\n__backend_agg_dfs = []\ndef __backend_agg_display_new(df):\n    __backend_agg_df_modules = [\"pandas.core.frame\", \"databricks.koalas.frame\", \"pyspark.sql.dataframe\", \"pyspark.pandas.frame\", \"pyspark.sql.connect.dataframe\"]\n    if (type(df).__module__ in __backend_agg_df_modules and type(df).__name__ == 'DataFrame') or isinstance(df, list):\n        __backend_agg_dfs.append(df)\n\ndisplay = __backend_agg_display_new\n\ndef __backend_agg_user_code_fn():\n    import base64\n    exec(base64.standard_b64decode(\"Y29udF9kZiA9IGRmLmdyb3VwQnkoJ05BTUVfQ09OVFJBQ1RfVFlQRScpLmNvdW50KCkKZGlzcGxheShjb250X2RmKQ==\").decode())\n\ntry:\n    # run user code\n    __backend_agg_user_code_fn()\n\n    #reset display function\n    display = __backend_agg_display_orig\n\n    if len(__backend_agg_dfs) > 0:\n        # create a temp view\n        if type(__backend_agg_dfs[0]).__module__ == \"databricks.koalas.frame\":\n            # koalas dataframe\n            __backend_agg_dfs[0].to_spark().createOrReplaceTempView(\"DatabricksView8fb5ab0\")\n        elif type(__backend_agg_dfs[0]).__module__ == \"pandas.core.frame\" or isinstance(__backend_agg_dfs[0], list):\n            # pandas dataframe\n            spark.createDataFrame(__backend_agg_dfs[0]).createOrReplaceTempView(\"DatabricksView8fb5ab0\")\n        else:\n            __backend_agg_dfs[0].createOrReplaceTempView(\"DatabricksView8fb5ab0\")\n        #run backend agg\n        display(spark.sql(\"\"\"WITH q AS (select * from DatabricksView8fb5ab0) SELECT `NAME_CONTRACT_TYPE`,SUM(`count`) `column_a59a72cd4` FROM q GROUP BY `NAME_CONTRACT_TYPE`\"\"\"))\n    else:\n        displayHTML(\"dataframe no longer exists. If you're using dataframe.display(), use display(dataframe) instead.\")\n\n\nfinally:\n    spark.sql(\"drop view if exists DatabricksView8fb5ab0\")\n    display = __backend_agg_display_orig\n    del __backend_agg_display_new\n    del __backend_agg_display_orig\n    del __backend_agg_dfs\n    del __backend_agg_user_code_fn\n\n",
       "commandTitle": "Visualization 1",
       "commandType": "auto",
       "commandVersion": 0,
       "commentThread": [],
       "commentsVisible": false,
       "contentSha256Hex": null,
       "customPlotOptions": {
        "redashChart": [
         {
          "key": "type",
          "value": "CHART"
         },
         {
          "key": "options",
          "value": {
           "alignYAxesAtZero": true,
           "coefficient": 1,
           "columnConfigurationMap": {
            "x": {
             "column": "NAME_CONTRACT_TYPE",
             "id": "column_a59a72cd3"
            },
            "y": [
             {
              "column": "count",
              "id": "column_a59a72cd4",
              "transform": "SUM"
             }
            ]
           },
           "dateTimeFormat": "DD/MM/YYYY HH:mm",
           "direction": {
            "type": "counterclockwise"
           },
           "error_y": {
            "type": "data",
            "visible": true
           },
           "globalSeriesType": "column",
           "isAggregationOn": true,
           "legend": {
            "traceorder": "normal"
           },
           "missingValuesAsZero": true,
           "numberFormat": "0,0.[00000]",
           "percentFormat": "0[.]00%",
           "series": {
            "error_y": {
             "type": "data",
             "visible": true
            },
            "stacking": null
           },
           "seriesOptions": {
            "column_a59a72cd4": {
             "color": "#FB8D3D",
             "name": "count",
             "yAxis": 0
            }
           },
           "showDataLabels": true,
           "sizemode": "diameter",
           "sortX": true,
           "sortY": true,
           "swappedAxes": false,
           "textFormat": "",
           "useAggregationsUi": true,
           "valuesOptions": {},
           "version": 2,
           "xAxis": {
            "labels": {
             "enabled": true
            },
            "type": "-"
           },
           "yAxis": [
            {
             "type": "-"
            },
            {
             "opposite": true,
             "type": "-"
            }
           ]
          }
         }
        ]
       },
       "datasetPreviewNameToCmdIdMap": {},
       "diffDeletes": [],
       "diffInserts": [],
       "displayType": "redashChart",
       "error": null,
       "errorDetails": null,
       "errorSummary": null,
       "errorTraceType": null,
       "finishTime": 0,
       "globalVars": {},
       "guid": "",
       "height": "auto",
       "hideCommandCode": false,
       "hideCommandResult": false,
       "iPythonMetadata": null,
       "inputWidgets": {},
       "isLockedInExamMode": false,
       "latestUser": "a user",
       "latestUserId": null,
       "listResultMetadata": null,
       "metadata": {
        "byteLimit": 2048000,
        "rowLimit": 10000
       },
       "nuid": "3dcd0023-fa1a-46cc-9862-dbcee62e2e2d",
       "origId": 0,
       "parentHierarchy": [],
       "pivotAggregation": null,
       "pivotColumns": null,
       "position": 23,
       "resultDbfsErrorMessage": null,
       "resultDbfsStatus": "INLINED_IN_TREE",
       "results": null,
       "showCommandTitle": false,
       "startTime": 0,
       "state": "input",
       "streamStates": {},
       "subcommandOptions": {
        "queryPlan": {
         "groups": [
          {
           "column": "NAME_CONTRACT_TYPE",
           "type": "column"
          }
         ],
         "selects": [
          {
           "column": "NAME_CONTRACT_TYPE",
           "type": "column"
          },
          {
           "alias": "column_a59a72cd4",
           "args": [
            {
             "column": "count",
             "type": "column"
            }
           ],
           "function": "SUM",
           "type": "function"
          }
         ]
        }
       },
       "submitTime": 0,
       "subtype": "tableResultSubCmd.visualization",
       "tableResultIndex": 0,
       "useConsistentColors": false,
       "version": "CommandV1",
       "width": "auto",
       "workflows": [],
       "xColumns": null,
       "yColumns": null
      }
     },
     "output_type": "display_data"
    }
   ],
   "source": [
    "cont_df = df.groupBy('NAME_CONTRACT_TYPE').count()\n",
    "display(cont_df)"
   ]
  },
  {
   "cell_type": "markdown",
   "metadata": {},
   "source": [
    "## Code Gender count"
   ]
  },
  {
   "cell_type": "code",
   "execution_count": null,
   "metadata": {
    "application/vnd.databricks.v1+cell": {
     "cellMetadata": {
      "byteLimit": 2048000,
      "rowLimit": 10000
     },
     "inputWidgets": {},
     "nuid": "0f993025-515f-415c-a8ba-68662f56ff07",
     "showTitle": true,
     "title": "Code Gender count"
    }
   },
   "outputs": [
    {
     "name": "stdout",
     "output_type": "stream",
     "text": [
      "+-----------+------+\n",
      "|CODE_GENDER| count|\n",
      "+-----------+------+\n",
      "|          F|194847|\n",
      "|          M| 96835|\n",
      "|        XNA|     4|\n",
      "+-----------+------+\n",
      "\n"
     ]
    }
   ],
   "source": [
    "gen_df = df.groupBy('CODE_GENDER').count()\n",
    "gen_df.show()"
   ]
  },
  {
   "cell_type": "markdown",
   "metadata": {},
   "source": [
    "## Replacing the value 'XNA' with 'F'"
   ]
  },
  {
   "cell_type": "code",
   "execution_count": null,
   "metadata": {
    "application/vnd.databricks.v1+cell": {
     "cellMetadata": {
      "byteLimit": 2048000,
      "rowLimit": 10000
     },
     "inputWidgets": {},
     "nuid": "a7200d09-a067-4791-b291-7b5529a30bac",
     "showTitle": true,
     "title": "Replacing the value 'XNA' with 'F'"
    }
   },
   "outputs": [
    {
     "data": {
      "text/html": [
       "<style scoped>\n",
       "  .table-result-container {\n",
       "    max-height: 300px;\n",
       "    overflow: auto;\n",
       "  }\n",
       "  table, th, td {\n",
       "    border: 1px solid black;\n",
       "    border-collapse: collapse;\n",
       "  }\n",
       "  th, td {\n",
       "    padding: 5px;\n",
       "  }\n",
       "  th {\n",
       "    text-align: left;\n",
       "  }\n",
       "</style><div class='table-result-container'><table class='table-result'><thead style='background-color: white'><tr><th>CODE_GENDER</th><th>count</th></tr></thead><tbody><tr><td>F</td><td>194851</td></tr><tr><td>M</td><td>96835</td></tr></tbody></table></div>"
      ]
     },
     "metadata": {
      "application/vnd.databricks.v1+output": {
       "addedWidgets": {},
       "aggData": [],
       "aggError": "",
       "aggOverflow": false,
       "aggSchema": [],
       "aggSeriesLimitReached": false,
       "aggType": "",
       "arguments": {},
       "columnCustomDisplayInfos": {},
       "data": [
        [
         "F",
         194851
        ],
        [
         "M",
         96835
        ]
       ],
       "datasetInfos": [],
       "dbfsResultPath": null,
       "isJsonSchema": true,
       "metadata": {},
       "overflow": false,
       "plotOptions": {
        "customPlotOptions": {},
        "displayType": "table",
        "pivotAggregation": null,
        "pivotColumns": null,
        "xColumns": null,
        "yColumns": null
       },
       "removedWidgets": [],
       "schema": [
        {
         "metadata": "{}",
         "name": "CODE_GENDER",
         "type": "\"string\""
        },
        {
         "metadata": "{}",
         "name": "count",
         "type": "\"long\""
        }
       ],
       "type": "table"
      }
     },
     "output_type": "display_data"
    },
    {
     "data": {
      "text/plain": [
       "Databricks visualization. Run in Databricks to view."
      ]
     },
     "metadata": {
      "application/vnd.databricks.v1.subcommand+json": {
       "bindings": {},
       "collapsed": false,
       "command": "%python\n__backend_agg_display_orig = display\n__backend_agg_dfs = []\ndef __backend_agg_display_new(df):\n    __backend_agg_df_modules = [\"pandas.core.frame\", \"databricks.koalas.frame\", \"pyspark.sql.dataframe\", \"pyspark.pandas.frame\", \"pyspark.sql.connect.dataframe\"]\n    if (type(df).__module__ in __backend_agg_df_modules and type(df).__name__ == 'DataFrame') or isinstance(df, list):\n        __backend_agg_dfs.append(df)\n\ndisplay = __backend_agg_display_new\n\ndef __backend_agg_user_code_fn():\n    import base64\n    exec(base64.standard_b64decode(\"ZnJvbSBweXNwYXJrLnNxbC5mdW5jdGlvbnMgaW1wb3J0IHdoZW4KZGYgPSBkZi53aXRoQ29sdW1uKCdDT0RFX0dFTkRFUicsd2hlbihkZlsnQ09ERV9HRU5ERVInXT09J1hOQScsJ0YnKS5vdGhlcndpc2UoZGZbJ0NPREVfR0VOREVSJ10pKQpjb2RlX2RmID0gZGYuZ3JvdXBCeSgnQ09ERV9HRU5ERVInKS5jb3VudCgpCmRpc3BsYXkoY29kZV9kZik=\").decode())\n\ntry:\n    # run user code\n    __backend_agg_user_code_fn()\n\n    #reset display function\n    display = __backend_agg_display_orig\n\n    if len(__backend_agg_dfs) > 0:\n        # create a temp view\n        if type(__backend_agg_dfs[0]).__module__ == \"databricks.koalas.frame\":\n            # koalas dataframe\n            __backend_agg_dfs[0].to_spark().createOrReplaceTempView(\"DatabricksViewdbd9c6e\")\n        elif type(__backend_agg_dfs[0]).__module__ == \"pandas.core.frame\" or isinstance(__backend_agg_dfs[0], list):\n            # pandas dataframe\n            spark.createDataFrame(__backend_agg_dfs[0]).createOrReplaceTempView(\"DatabricksViewdbd9c6e\")\n        else:\n            __backend_agg_dfs[0].createOrReplaceTempView(\"DatabricksViewdbd9c6e\")\n        #run backend agg\n        display(spark.sql(\"\"\"WITH q AS (select * from DatabricksViewdbd9c6e) SELECT `CODE_GENDER`,SUM(`count`) `column_a59a72cd6` FROM q GROUP BY `CODE_GENDER`\"\"\"))\n    else:\n        displayHTML(\"dataframe no longer exists. If you're using dataframe.display(), use display(dataframe) instead.\")\n\n\nfinally:\n    spark.sql(\"drop view if exists DatabricksViewdbd9c6e\")\n    display = __backend_agg_display_orig\n    del __backend_agg_display_new\n    del __backend_agg_display_orig\n    del __backend_agg_dfs\n    del __backend_agg_user_code_fn\n\n",
       "commandTitle": "Visualization 1",
       "commandType": "auto",
       "commandVersion": 0,
       "commentThread": [],
       "commentsVisible": false,
       "contentSha256Hex": null,
       "customPlotOptions": {
        "redashChart": [
         {
          "key": "type",
          "value": "CHART"
         },
         {
          "key": "options",
          "value": {
           "alignYAxesAtZero": true,
           "coefficient": 1,
           "columnConfigurationMap": {
            "x": {
             "column": "CODE_GENDER",
             "id": "column_a59a72cd5"
            },
            "y": [
             {
              "column": "count",
              "id": "column_a59a72cd6",
              "transform": "SUM"
             }
            ]
           },
           "dateTimeFormat": "DD/MM/YYYY HH:mm",
           "direction": {
            "type": "counterclockwise"
           },
           "error_y": {
            "type": "data",
            "visible": true
           },
           "globalSeriesType": "column",
           "isAggregationOn": true,
           "legend": {
            "traceorder": "normal"
           },
           "missingValuesAsZero": true,
           "numberFormat": "0,0.[00000]",
           "percentFormat": "0[.]00%",
           "series": {
            "error_y": {
             "type": "data",
             "visible": true
            },
            "stacking": null
           },
           "seriesOptions": {
            "column_a59a72cd6": {
             "color": "#FF7DE3",
             "name": "count",
             "yAxis": 0
            }
           },
           "showDataLabels": true,
           "sizemode": "diameter",
           "sortX": true,
           "sortY": true,
           "swappedAxes": false,
           "textFormat": "",
           "useAggregationsUi": true,
           "valuesOptions": {},
           "version": 2,
           "xAxis": {
            "labels": {
             "enabled": true
            },
            "type": "-"
           },
           "yAxis": [
            {
             "type": "-"
            },
            {
             "opposite": true,
             "type": "-"
            }
           ]
          }
         }
        ]
       },
       "datasetPreviewNameToCmdIdMap": {},
       "diffDeletes": [],
       "diffInserts": [],
       "displayType": "redashChart",
       "error": null,
       "errorDetails": null,
       "errorSummary": null,
       "errorTraceType": null,
       "finishTime": 0,
       "globalVars": {},
       "guid": "",
       "height": "auto",
       "hideCommandCode": false,
       "hideCommandResult": false,
       "iPythonMetadata": null,
       "inputWidgets": {},
       "isLockedInExamMode": false,
       "latestUser": "a user",
       "latestUserId": null,
       "listResultMetadata": null,
       "metadata": {
        "byteLimit": 2048000,
        "rowLimit": 10000
       },
       "nuid": "27644376-da0c-4af3-bc35-b8acec8836e3",
       "origId": 0,
       "parentHierarchy": [],
       "pivotAggregation": null,
       "pivotColumns": null,
       "position": 25,
       "resultDbfsErrorMessage": null,
       "resultDbfsStatus": "INLINED_IN_TREE",
       "results": null,
       "showCommandTitle": false,
       "startTime": 0,
       "state": "input",
       "streamStates": {},
       "subcommandOptions": {
        "queryPlan": {
         "groups": [
          {
           "column": "CODE_GENDER",
           "type": "column"
          }
         ],
         "selects": [
          {
           "column": "CODE_GENDER",
           "type": "column"
          },
          {
           "alias": "column_a59a72cd6",
           "args": [
            {
             "column": "count",
             "type": "column"
            }
           ],
           "function": "SUM",
           "type": "function"
          }
         ]
        }
       },
       "submitTime": 0,
       "subtype": "tableResultSubCmd.visualization",
       "tableResultIndex": 0,
       "useConsistentColors": false,
       "version": "CommandV1",
       "width": "auto",
       "workflows": [],
       "xColumns": null,
       "yColumns": null
      }
     },
     "output_type": "display_data"
    }
   ],
   "source": [
    "from pyspark.sql.functions import when\n",
    "df = df.withColumn('CODE_GENDER',when(df['CODE_GENDER']=='XNA','F').otherwise(df['CODE_GENDER']))\n",
    "code_df = df.groupBy('CODE_GENDER').count()\n",
    "display(code_df)"
   ]
  },
  {
   "cell_type": "markdown",
   "metadata": {},
   "source": [
    "## How many male,female owned car"
   ]
  },
  {
   "cell_type": "code",
   "execution_count": null,
   "metadata": {
    "application/vnd.databricks.v1+cell": {
     "cellMetadata": {
      "byteLimit": 2048000,
      "rowLimit": 10000
     },
     "inputWidgets": {},
     "nuid": "565c3284-5a6a-4acb-b3bc-4a3c73385848",
     "showTitle": true,
     "title": "How many male,female owned car"
    }
   },
   "outputs": [
    {
     "name": "stdout",
     "output_type": "stream",
     "text": [
      "+-----------+------------+-----------------+\n",
      "|CODE_GENDER|FLAG_OWN_CAR|COUNT_OF_OWNEDCAR|\n",
      "+-----------+------------+-----------------+\n",
      "|          F|           N|           153084|\n",
      "|          F|           Y|            41767|\n",
      "|          M|           Y|            53823|\n",
      "|          M|           N|            43012|\n",
      "+-----------+------------+-----------------+\n",
      "\n"
     ]
    },
    {
     "data": {
      "text/html": [
       "<style scoped>\n",
       "  .table-result-container {\n",
       "    max-height: 300px;\n",
       "    overflow: auto;\n",
       "  }\n",
       "  table, th, td {\n",
       "    border: 1px solid black;\n",
       "    border-collapse: collapse;\n",
       "  }\n",
       "  th, td {\n",
       "    padding: 5px;\n",
       "  }\n",
       "  th {\n",
       "    text-align: left;\n",
       "  }\n",
       "</style><div class='table-result-container'><table class='table-result'><thead style='background-color: white'><tr><th>CODE_GENDER</th><th>FLAG_OWN_CAR</th><th>COUNT_OF_OWNEDCAR</th></tr></thead><tbody><tr><td>F</td><td>N</td><td>153084</td></tr><tr><td>F</td><td>Y</td><td>41767</td></tr><tr><td>M</td><td>Y</td><td>53823</td></tr><tr><td>M</td><td>N</td><td>43012</td></tr></tbody></table></div>"
      ]
     },
     "metadata": {
      "application/vnd.databricks.v1+output": {
       "addedWidgets": {},
       "aggData": [],
       "aggError": "",
       "aggOverflow": false,
       "aggSchema": [],
       "aggSeriesLimitReached": false,
       "aggType": "",
       "arguments": {},
       "columnCustomDisplayInfos": {},
       "data": [
        [
         "F",
         "N",
         153084
        ],
        [
         "F",
         "Y",
         41767
        ],
        [
         "M",
         "Y",
         53823
        ],
        [
         "M",
         "N",
         43012
        ]
       ],
       "datasetInfos": [],
       "dbfsResultPath": null,
       "isJsonSchema": true,
       "metadata": {},
       "overflow": false,
       "plotOptions": {
        "customPlotOptions": {},
        "displayType": "table",
        "pivotAggregation": null,
        "pivotColumns": null,
        "xColumns": null,
        "yColumns": null
       },
       "removedWidgets": [],
       "schema": [
        {
         "metadata": "{}",
         "name": "CODE_GENDER",
         "type": "\"string\""
        },
        {
         "metadata": "{}",
         "name": "FLAG_OWN_CAR",
         "type": "\"string\""
        },
        {
         "metadata": "{}",
         "name": "COUNT_OF_OWNEDCAR",
         "type": "\"long\""
        }
       ],
       "type": "table"
      }
     },
     "output_type": "display_data"
    },
    {
     "data": {
      "text/plain": [
       "Databricks visualization. Run in Databricks to view."
      ]
     },
     "metadata": {
      "application/vnd.databricks.v1.subcommand+json": {
       "bindings": {},
       "collapsed": false,
       "command": "%python\n__backend_agg_display_orig = display\n__backend_agg_dfs = []\ndef __backend_agg_display_new(df):\n    __backend_agg_df_modules = [\"pandas.core.frame\", \"databricks.koalas.frame\", \"pyspark.sql.dataframe\", \"pyspark.pandas.frame\", \"pyspark.sql.connect.dataframe\"]\n    if (type(df).__module__ in __backend_agg_df_modules and type(df).__name__ == 'DataFrame') or isinstance(df, list):\n        __backend_agg_dfs.append(df)\n\ndisplay = __backend_agg_display_new\n\ndef __backend_agg_user_code_fn():\n    import base64\n    exec(base64.standard_b64decode(\"bWZkZiA9IGRmLmdyb3VwQnkoJ0NPREVfR0VOREVSJywnRkxBR19PV05fQ0FSJykuYWdnKAogICAgZi5jb3VudCgnRkxBR19PV05fQ0FSJykuYWxpYXMoJ0NPVU5UX09GX09XTkVEQ0FSJykKKQptZmRmLnNob3coKQpkaXNwbGF5KG1mZGYp\").decode())\n\ntry:\n    # run user code\n    __backend_agg_user_code_fn()\n\n    #reset display function\n    display = __backend_agg_display_orig\n\n    if len(__backend_agg_dfs) > 0:\n        # create a temp view\n        if type(__backend_agg_dfs[0]).__module__ == \"databricks.koalas.frame\":\n            # koalas dataframe\n            __backend_agg_dfs[0].to_spark().createOrReplaceTempView(\"DatabricksViewe3d7c8b\")\n        elif type(__backend_agg_dfs[0]).__module__ == \"pandas.core.frame\" or isinstance(__backend_agg_dfs[0], list):\n            # pandas dataframe\n            spark.createDataFrame(__backend_agg_dfs[0]).createOrReplaceTempView(\"DatabricksViewe3d7c8b\")\n        else:\n            __backend_agg_dfs[0].createOrReplaceTempView(\"DatabricksViewe3d7c8b\")\n        #run backend agg\n        display(spark.sql(\"\"\"WITH q AS (select * from DatabricksViewe3d7c8b) SELECT `CODE_GENDER`,`FLAG_OWN_CAR`,SUM(`COUNT_OF_OWNEDCAR`) `column_a59a72cd11` FROM q GROUP BY `CODE_GENDER`,`FLAG_OWN_CAR`\"\"\"))\n    else:\n        displayHTML(\"dataframe no longer exists. If you're using dataframe.display(), use display(dataframe) instead.\")\n\n\nfinally:\n    spark.sql(\"drop view if exists DatabricksViewe3d7c8b\")\n    display = __backend_agg_display_orig\n    del __backend_agg_display_new\n    del __backend_agg_display_orig\n    del __backend_agg_dfs\n    del __backend_agg_user_code_fn\n\n",
       "commandTitle": "Visualization 1",
       "commandType": "auto",
       "commandVersion": 0,
       "commentThread": [],
       "commentsVisible": false,
       "contentSha256Hex": null,
       "customPlotOptions": {
        "redashChart": [
         {
          "key": "type",
          "value": "CHART"
         },
         {
          "key": "options",
          "value": {
           "alignYAxesAtZero": true,
           "coefficient": 1,
           "columnConfigurationMap": {
            "series": {
             "column": "FLAG_OWN_CAR",
             "id": "column_a59a72cd13"
            },
            "x": {
             "column": "CODE_GENDER",
             "id": "column_a59a72cd9"
            },
            "y": [
             {
              "column": "COUNT_OF_OWNEDCAR",
              "id": "column_a59a72cd11",
              "transform": "SUM"
             }
            ]
           },
           "dateTimeFormat": "DD/MM/YYYY HH:mm",
           "direction": {
            "type": "counterclockwise"
           },
           "error_y": {
            "type": "data",
            "visible": true
           },
           "globalSeriesType": "column",
           "isAggregationOn": true,
           "legend": {
            "traceorder": "normal"
           },
           "missingValuesAsZero": true,
           "numberFormat": "0,0.[00000]",
           "percentFormat": "0[.]00%",
           "series": {
            "error_y": {
             "type": "data",
             "visible": true
            },
            "stacking": ""
           },
           "seriesOptions": {
            "column_a59a72cd11": {
             "name": "COUNT_OF_OWNEDCAR",
             "yAxis": 0
            }
           },
           "showDataLabels": true,
           "sizemode": "diameter",
           "sortX": true,
           "sortY": true,
           "swappedAxes": false,
           "textFormat": "",
           "useAggregationsUi": true,
           "valuesOptions": {},
           "version": 2,
           "xAxis": {
            "labels": {
             "enabled": true
            },
            "type": "-"
           },
           "yAxis": [
            {
             "type": "-"
            },
            {
             "opposite": true,
             "type": "-"
            }
           ]
          }
         }
        ]
       },
       "datasetPreviewNameToCmdIdMap": {},
       "diffDeletes": [],
       "diffInserts": [],
       "displayType": "redashChart",
       "error": null,
       "errorDetails": null,
       "errorSummary": null,
       "errorTraceType": null,
       "finishTime": 0,
       "globalVars": {},
       "guid": "",
       "height": "auto",
       "hideCommandCode": false,
       "hideCommandResult": false,
       "iPythonMetadata": null,
       "inputWidgets": {},
       "isLockedInExamMode": false,
       "latestUser": "a user",
       "latestUserId": null,
       "listResultMetadata": null,
       "metadata": {
        "byteLimit": 2048000,
        "rowLimit": 10000
       },
       "nuid": "f62833ee-8fae-4982-84c3-f8e25171152e",
       "origId": 0,
       "parentHierarchy": [],
       "pivotAggregation": null,
       "pivotColumns": null,
       "position": 26,
       "resultDbfsErrorMessage": null,
       "resultDbfsStatus": "INLINED_IN_TREE",
       "results": null,
       "showCommandTitle": false,
       "startTime": 0,
       "state": "input",
       "streamStates": {},
       "subcommandOptions": {
        "queryPlan": {
         "groups": [
          {
           "column": "CODE_GENDER",
           "type": "column"
          },
          {
           "column": "FLAG_OWN_CAR",
           "type": "column"
          }
         ],
         "selects": [
          {
           "column": "CODE_GENDER",
           "type": "column"
          },
          {
           "column": "FLAG_OWN_CAR",
           "type": "column"
          },
          {
           "alias": "column_a59a72cd11",
           "args": [
            {
             "column": "COUNT_OF_OWNEDCAR",
             "type": "column"
            }
           ],
           "function": "SUM",
           "type": "function"
          }
         ]
        }
       },
       "submitTime": 0,
       "subtype": "tableResultSubCmd.visualization",
       "tableResultIndex": 0,
       "useConsistentColors": false,
       "version": "CommandV1",
       "width": "auto",
       "workflows": [],
       "xColumns": null,
       "yColumns": null
      }
     },
     "output_type": "display_data"
    }
   ],
   "source": [
    "mfdf = df.groupBy('CODE_GENDER','FLAG_OWN_CAR').agg(\n",
    "    f.count('FLAG_OWN_CAR').alias('COUNT_OF_OWNEDCAR')\n",
    ")\n",
    "mfdf.show()\n",
    "display(mfdf)"
   ]
  },
  {
   "cell_type": "markdown",
   "metadata": {},
   "source": [
    "## lets Categorize income column"
   ]
  },
  {
   "cell_type": "code",
   "execution_count": null,
   "metadata": {
    "application/vnd.databricks.v1+cell": {
     "cellMetadata": {
      "byteLimit": 2048000,
      "rowLimit": 10000
     },
     "inputWidgets": {},
     "nuid": "1b5efb4a-e8b6-4cc1-a012-f73c1c395aca",
     "showTitle": true,
     "title": "Categorize income column"
    }
   },
   "outputs": [
    {
     "name": "stdout",
     "output_type": "stream",
     "text": [
      "        SK_ID_CURR  TARGET NAME_CONTRACT_TYPE CODE_GENDER FLAG_OWN_CAR  \\\n",
      "0           100002       1         Cash loans           M            N   \n",
      "1           100003       0         Cash loans           F            N   \n",
      "2           100004       0    Revolving loans           M            Y   \n",
      "3           100006       0         Cash loans           F            N   \n",
      "4           100007       0         Cash loans           M            N   \n",
      "...            ...     ...                ...         ...          ...   \n",
      "291681      456251       0         Cash loans           M            N   \n",
      "291682      456252       0         Cash loans           F            N   \n",
      "291683      456253       0         Cash loans           F            N   \n",
      "291684      456254       1         Cash loans           F            N   \n",
      "291685      456255       0         Cash loans           F            N   \n",
      "\n",
      "       FLAG_OWN_REALTY  CNT_CHILDREN  AMT_INCOME_TOTAL  AMT_CREDIT  \\\n",
      "0                    Y             0          202500.0    406597.5   \n",
      "1                    N             0          270000.0   1293502.5   \n",
      "2                    Y             0           67500.0    135000.0   \n",
      "3                    Y             0          135000.0    312682.5   \n",
      "4                    Y             0          121500.0    513000.0   \n",
      "...                ...           ...               ...         ...   \n",
      "291681               N             0          157500.0    254700.0   \n",
      "291682               Y             0           72000.0    269550.0   \n",
      "291683               Y             0          153000.0    677664.0   \n",
      "291684               Y             0          171000.0    370107.0   \n",
      "291685               N             0          157500.0    675000.0   \n",
      "\n",
      "        AMT_ANNUITY  AMT_GOODS_PRICE NAME_TYPE_SUITE      NAME_INCOME_TYPE  \\\n",
      "0           24700.5         351000.0   Unaccompanied               Working   \n",
      "1           35698.5        1129500.0          Family         State servant   \n",
      "2            6750.0         135000.0   Unaccompanied               Working   \n",
      "3           29686.5         297000.0   Unaccompanied               Working   \n",
      "4           21865.5         513000.0   Unaccompanied               Working   \n",
      "...             ...              ...             ...                   ...   \n",
      "291681      27558.0         225000.0   Unaccompanied               Working   \n",
      "291682      12001.5         225000.0   Unaccompanied             Pensioner   \n",
      "291683      29979.0         585000.0   Unaccompanied               Working   \n",
      "291684      20205.0         319500.0   Unaccompanied  Commercial associate   \n",
      "291685      49117.5         675000.0   Unaccompanied  Commercial associate   \n",
      "\n",
      "                  NAME_EDUCATION_TYPE    NAME_FAMILY_STATUS  \\\n",
      "0       Secondary / secondary special  Single / not married   \n",
      "1                    Higher education               Married   \n",
      "2       Secondary / secondary special  Single / not married   \n",
      "3       Secondary / secondary special        Civil marriage   \n",
      "4       Secondary / secondary special  Single / not married   \n",
      "...                               ...                   ...   \n",
      "291681  Secondary / secondary special             Separated   \n",
      "291682  Secondary / secondary special                 Widow   \n",
      "291683               Higher education             Separated   \n",
      "291684  Secondary / secondary special               Married   \n",
      "291685               Higher education               Married   \n",
      "\n",
      "        NAME_HOUSING_TYPE OCCUPATION_TYPE       ORGANIZATION_TYPE  \n",
      "0       House / apartment        Laborers  Business Entity Type 3  \n",
      "1       House / apartment      Core staff                  School  \n",
      "2       House / apartment        Laborers              Government  \n",
      "3       House / apartment        Laborers  Business Entity Type 3  \n",
      "4       House / apartment      Core staff                Religion  \n",
      "...                   ...             ...                     ...  \n",
      "291681       With parents     Sales staff                Services  \n",
      "291682  House / apartment            None                     XNA  \n",
      "291683  House / apartment        Managers                  School  \n",
      "291684  House / apartment        Laborers  Business Entity Type 1  \n",
      "291685  House / apartment        Laborers  Business Entity Type 3  \n",
      "\n",
      "[291686 rows x 18 columns]\n"
     ]
    }
   ],
   "source": [
    "pdf = df.toPandas()\n",
    "print(pdf)"
   ]
  },
  {
   "cell_type": "code",
   "execution_count": null,
   "metadata": {
    "application/vnd.databricks.v1+cell": {
     "cellMetadata": {
      "byteLimit": 2048000,
      "rowLimit": 10000
     },
     "inputWidgets": {},
     "nuid": "539ee6b3-138c-4d96-986f-931bbdda181f",
     "showTitle": false,
     "title": ""
    }
   },
   "outputs": [
    {
     "name": "stdout",
     "output_type": "stream",
     "text": [
      "Out[46]: 'Above 3L'"
     ]
    }
   ],
   "source": [
    "def income_total(salary):\n",
    "    if (salary<=50000):\n",
    "        return '0-50K'\n",
    "    elif (salary<=100000):\n",
    "        return '50-1L'\n",
    "    elif (salary<=150000):\n",
    "        return '1L-1.5L'\n",
    "    elif (salary<=200000):\n",
    "        return '1.5l-2L'\n",
    "    elif (salary<=250000):\n",
    "        return '2L-2.5L'\n",
    "    else:\n",
    "        return 'Above 3L'\n",
    "    \n",
    "income_total(2340067)"
   ]
  },
  {
   "cell_type": "markdown",
   "metadata": {},
   "source": [
    "## Create new column Income range and Applying function"
   ]
  },
  {
   "cell_type": "code",
   "execution_count": null,
   "metadata": {
    "application/vnd.databricks.v1+cell": {
     "cellMetadata": {
      "byteLimit": 2048000,
      "rowLimit": 10000
     },
     "inputWidgets": {},
     "nuid": "d86e7da4-058e-4e71-9a0e-dd7a5131ef71",
     "showTitle": true,
     "title": "Create new column Income range and Applying function"
    }
   },
   "outputs": [
    {
     "name": "stdout",
     "output_type": "stream",
     "text": [
      "+----------+------+------------------+-----------+------------+---------------+------------+----------------+----------+-----------+---------------+---------------+--------------------+--------------------+--------------------+-----------------+---------------+--------------------+------------+\n",
      "|SK_ID_CURR|TARGET|NAME_CONTRACT_TYPE|CODE_GENDER|FLAG_OWN_CAR|FLAG_OWN_REALTY|CNT_CHILDREN|AMT_INCOME_TOTAL|AMT_CREDIT|AMT_ANNUITY|AMT_GOODS_PRICE|NAME_TYPE_SUITE|    NAME_INCOME_TYPE| NAME_EDUCATION_TYPE|  NAME_FAMILY_STATUS|NAME_HOUSING_TYPE|OCCUPATION_TYPE|   ORGANIZATION_TYPE|INCOME_RANGE|\n",
      "+----------+------+------------------+-----------+------------+---------------+------------+----------------+----------+-----------+---------------+---------------+--------------------+--------------------+--------------------+-----------------+---------------+--------------------+------------+\n",
      "|    100002|     1|        Cash loans|          M|           N|              Y|           0|        202500.0|  406597.5|    24700.5|       351000.0|  Unaccompanied|             Working|Secondary / secon...|Single / not married|House / apartment|       Laborers|Business Entity T...|     2L-2.5L|\n",
      "|    100003|     0|        Cash loans|          F|           N|              N|           0|        270000.0| 1293502.5|    35698.5|      1129500.0|         Family|       State servant|    Higher education|             Married|House / apartment|     Core staff|              School|    Above 3L|\n",
      "|    100004|     0|   Revolving loans|          M|           Y|              Y|           0|         67500.0|  135000.0|     6750.0|       135000.0|  Unaccompanied|             Working|Secondary / secon...|Single / not married|House / apartment|       Laborers|          Government|       50-1L|\n",
      "|    100006|     0|        Cash loans|          F|           N|              Y|           0|        135000.0|  312682.5|    29686.5|       297000.0|  Unaccompanied|             Working|Secondary / secon...|      Civil marriage|House / apartment|       Laborers|Business Entity T...|     1L-1.5L|\n",
      "|    100007|     0|        Cash loans|          M|           N|              Y|           0|        121500.0|  513000.0|    21865.5|       513000.0|  Unaccompanied|             Working|Secondary / secon...|Single / not married|House / apartment|     Core staff|            Religion|     1L-1.5L|\n",
      "|    100008|     0|        Cash loans|          M|           N|              Y|           0|         99000.0|  490495.5|    27517.5|       454500.0|Spouse, partner|       State servant|Secondary / secon...|             Married|House / apartment|       Laborers|               Other|       50-1L|\n",
      "|    100009|     0|        Cash loans|          F|           Y|              Y|           1|        171000.0| 1560726.0|    41301.0|      1395000.0|  Unaccompanied|Commercial associate|    Higher education|             Married|House / apartment|    Accountants|Business Entity T...|     1.5l-2L|\n",
      "|    100011|     0|        Cash loans|          F|           N|              Y|           0|        112500.0| 1019610.0|    33826.5|       913500.0|       Children|           Pensioner|Secondary / secon...|             Married|House / apartment|           null|                 XNA|     1L-1.5L|\n",
      "|    100012|     0|   Revolving loans|          M|           N|              Y|           0|        135000.0|  405000.0|    20250.0|       405000.0|  Unaccompanied|             Working|Secondary / secon...|Single / not married|House / apartment|       Laborers|         Electricity|     1L-1.5L|\n",
      "|    100014|     0|        Cash loans|          F|           N|              Y|           1|        112500.0|  652500.0|    21177.0|       652500.0|  Unaccompanied|             Working|    Higher education|             Married|House / apartment|     Core staff|            Medicine|     1L-1.5L|\n",
      "|    100015|     0|        Cash loans|          F|           N|              Y|           0|       38419.155|  148365.0|    10678.5|       135000.0|       Children|           Pensioner|Secondary / secon...|             Married|House / apartment|           null|                 XNA|       0-50K|\n",
      "|    100016|     0|        Cash loans|          F|           N|              Y|           0|         67500.0|   80865.0|     5881.5|        67500.0|  Unaccompanied|             Working|Secondary / secon...|             Married|House / apartment|       Laborers|Business Entity T...|       50-1L|\n",
      "|    100017|     0|        Cash loans|          M|           Y|              N|           1|        225000.0|  918468.0|    28966.5|       697500.0|  Unaccompanied|             Working|Secondary / secon...|             Married|House / apartment|        Drivers|       Self-employed|     2L-2.5L|\n",
      "|    100018|     0|        Cash loans|          F|           N|              Y|           0|        189000.0|  773680.5|    32778.0|       679500.0|  Unaccompanied|             Working|Secondary / secon...|             Married|House / apartment|       Laborers|   Transport: type 2|     1.5l-2L|\n",
      "|    100019|     0|        Cash loans|          M|           Y|              Y|           0|        157500.0|  299772.0|    20160.0|       247500.0|         Family|             Working|Secondary / secon...|Single / not married| Rented apartment|       Laborers|Business Entity T...|     1.5l-2L|\n",
      "|    100020|     0|        Cash loans|          M|           N|              N|           0|        108000.0|  509602.5|    26149.5|       387000.0|  Unaccompanied|             Working|Secondary / secon...|             Married|House / apartment|        Drivers|          Government|     1L-1.5L|\n",
      "|    100021|     0|   Revolving loans|          F|           N|              Y|           1|         81000.0|  270000.0|    13500.0|       270000.0|  Unaccompanied|             Working|Secondary / secon...|             Married|House / apartment|       Laborers|        Construction|       50-1L|\n",
      "|    100022|     0|   Revolving loans|          F|           N|              Y|           0|        112500.0|  157500.0|     7875.0|       157500.0|        Other_A|             Working|Secondary / secon...|               Widow|House / apartment|       Laborers|             Housing|     1L-1.5L|\n",
      "|    100023|     0|        Cash loans|          F|           N|              Y|           1|         90000.0|  544491.0|    17563.5|       454500.0|  Unaccompanied|       State servant|    Higher education|Single / not married|House / apartment|     Core staff|        Kindergarten|       50-1L|\n",
      "|    100024|     0|   Revolving loans|          M|           Y|              Y|           0|        135000.0|  427500.0|    21375.0|       427500.0|  Unaccompanied|             Working|Secondary / secon...|             Married|House / apartment|       Laborers|       Self-employed|     1L-1.5L|\n",
      "+----------+------+------------------+-----------+------------+---------------+------------+----------------+----------+-----------+---------------+---------------+--------------------+--------------------+--------------------+-----------------+---------------+--------------------+------------+\n",
      "only showing top 20 rows\n",
      "\n"
     ]
    }
   ],
   "source": [
    "from pyspark.sql import functions as f\n",
    "from pyspark.sql.types import StringType\n",
    "\n",
    "sparkfun = f.udf(income_total,StringType())\n",
    "\n",
    "df = df.withColumn('INCOME_RANGE',sparkfun(df['AMT_INCOME_TOTAL']))\n",
    "df.show()"
   ]
  },
  {
   "cell_type": "markdown",
   "metadata": {},
   "source": [
    "## Lets count 'INCOME_RANGE'"
   ]
  },
  {
   "cell_type": "code",
   "execution_count": null,
   "metadata": {
    "application/vnd.databricks.v1+cell": {
     "cellMetadata": {
      "byteLimit": 2048000,
      "rowLimit": 10000
     },
     "inputWidgets": {},
     "nuid": "0abfcf0a-efd6-4421-a879-5454a9c4e591",
     "showTitle": true,
     "title": "Lets count 'INCOME_RANGE'"
    }
   },
   "outputs": [
    {
     "name": "stdout",
     "output_type": "stream",
     "text": [
      "+------------+-----+\n",
      "|INCOME_RANGE|count|\n",
      "+------------+-----+\n",
      "|     1L-1.5L|91591|\n",
      "|     1.5l-2L|64307|\n",
      "|       50-1L|59181|\n",
      "|     2L-2.5L|48137|\n",
      "|    Above 3L|23953|\n",
      "|       0-50K| 4517|\n",
      "+------------+-----+\n",
      "\n"
     ]
    },
    {
     "data": {
      "text/html": [
       "<style scoped>\n",
       "  .table-result-container {\n",
       "    max-height: 300px;\n",
       "    overflow: auto;\n",
       "  }\n",
       "  table, th, td {\n",
       "    border: 1px solid black;\n",
       "    border-collapse: collapse;\n",
       "  }\n",
       "  th, td {\n",
       "    padding: 5px;\n",
       "  }\n",
       "  th {\n",
       "    text-align: left;\n",
       "  }\n",
       "</style><div class='table-result-container'><table class='table-result'><thead style='background-color: white'><tr><th>INCOME_RANGE</th><th>count</th></tr></thead><tbody><tr><td>1L-1.5L</td><td>91591</td></tr><tr><td>1.5l-2L</td><td>64307</td></tr><tr><td>50-1L</td><td>59181</td></tr><tr><td>2L-2.5L</td><td>48137</td></tr><tr><td>Above 3L</td><td>23953</td></tr><tr><td>0-50K</td><td>4517</td></tr></tbody></table></div>"
      ]
     },
     "metadata": {
      "application/vnd.databricks.v1+output": {
       "addedWidgets": {},
       "aggData": [],
       "aggError": "",
       "aggOverflow": false,
       "aggSchema": [],
       "aggSeriesLimitReached": false,
       "aggType": "",
       "arguments": {},
       "columnCustomDisplayInfos": {},
       "data": [
        [
         "1L-1.5L",
         91591
        ],
        [
         "1.5l-2L",
         64307
        ],
        [
         "50-1L",
         59181
        ],
        [
         "2L-2.5L",
         48137
        ],
        [
         "Above 3L",
         23953
        ],
        [
         "0-50K",
         4517
        ]
       ],
       "datasetInfos": [],
       "dbfsResultPath": null,
       "isJsonSchema": true,
       "metadata": {},
       "overflow": false,
       "plotOptions": {
        "customPlotOptions": {},
        "displayType": "table",
        "pivotAggregation": null,
        "pivotColumns": null,
        "xColumns": null,
        "yColumns": null
       },
       "removedWidgets": [],
       "schema": [
        {
         "metadata": "{}",
         "name": "INCOME_RANGE",
         "type": "\"string\""
        },
        {
         "metadata": "{}",
         "name": "count",
         "type": "\"long\""
        }
       ],
       "type": "table"
      }
     },
     "output_type": "display_data"
    },
    {
     "data": {
      "text/plain": [
       "Databricks visualization. Run in Databricks to view."
      ]
     },
     "metadata": {
      "application/vnd.databricks.v1.subcommand+json": {
       "bindings": {},
       "collapsed": false,
       "command": "%python\n__backend_agg_display_orig = display\n__backend_agg_dfs = []\ndef __backend_agg_display_new(df):\n    __backend_agg_df_modules = [\"pandas.core.frame\", \"databricks.koalas.frame\", \"pyspark.sql.dataframe\", \"pyspark.pandas.frame\", \"pyspark.sql.connect.dataframe\"]\n    if (type(df).__module__ in __backend_agg_df_modules and type(df).__name__ == 'DataFrame') or isinstance(df, list):\n        __backend_agg_dfs.append(df)\n\ndisplay = __backend_agg_display_new\n\ndef __backend_agg_user_code_fn():\n    import base64\n    exec(base64.standard_b64decode(\"aW5jb21lX2RmID0gZGYuZ3JvdXBCeSgnSU5DT01FX1JBTkdFJykuY291bnQoKS5vcmRlckJ5KCdjb3VudCcsYXNjZW5kaW5nPUZhbHNlKQppbmNvbWVfZGYuc2hvdygpCmRpc3BsYXkoaW5jb21lX2RmKQ==\").decode())\n\ntry:\n    # run user code\n    __backend_agg_user_code_fn()\n\n    #reset display function\n    display = __backend_agg_display_orig\n\n    if len(__backend_agg_dfs) > 0:\n        # create a temp view\n        if type(__backend_agg_dfs[0]).__module__ == \"databricks.koalas.frame\":\n            # koalas dataframe\n            __backend_agg_dfs[0].to_spark().createOrReplaceTempView(\"DatabricksView336d86e\")\n        elif type(__backend_agg_dfs[0]).__module__ == \"pandas.core.frame\" or isinstance(__backend_agg_dfs[0], list):\n            # pandas dataframe\n            spark.createDataFrame(__backend_agg_dfs[0]).createOrReplaceTempView(\"DatabricksView336d86e\")\n        else:\n            __backend_agg_dfs[0].createOrReplaceTempView(\"DatabricksView336d86e\")\n        #run backend agg\n        display(spark.sql(\"\"\"WITH q AS (select * from DatabricksView336d86e) SELECT `INCOME_RANGE`,SUM(`count`) `column_f58979f12` FROM q GROUP BY `INCOME_RANGE`\"\"\"))\n    else:\n        displayHTML(\"dataframe no longer exists. If you're using dataframe.display(), use display(dataframe) instead.\")\n\n\nfinally:\n    spark.sql(\"drop view if exists DatabricksView336d86e\")\n    display = __backend_agg_display_orig\n    del __backend_agg_display_new\n    del __backend_agg_display_orig\n    del __backend_agg_dfs\n    del __backend_agg_user_code_fn\n\n",
       "commandTitle": "Visualization 1",
       "commandType": "auto",
       "commandVersion": 0,
       "commentThread": [],
       "commentsVisible": false,
       "contentSha256Hex": null,
       "customPlotOptions": {
        "redashChart": [
         {
          "key": "type",
          "value": "CHART"
         },
         {
          "key": "options",
          "value": {
           "alignYAxesAtZero": true,
           "coefficient": 1,
           "columnConfigurationMap": {
            "x": {
             "column": "INCOME_RANGE",
             "id": "column_f58979f11"
            },
            "y": [
             {
              "column": "count",
              "id": "column_f58979f12",
              "transform": "SUM"
             }
            ]
           },
           "dateTimeFormat": "DD/MM/YYYY HH:mm",
           "direction": {
            "type": "counterclockwise"
           },
           "error_y": {
            "type": "data",
            "visible": true
           },
           "globalSeriesType": "column",
           "isAggregationOn": true,
           "legend": {
            "traceorder": "normal"
           },
           "missingValuesAsZero": true,
           "numberFormat": "0,0.[00000]",
           "percentFormat": "0[.]00%",
           "series": {
            "error_y": {
             "type": "data",
             "visible": true
            },
            "stacking": "stack"
           },
           "seriesOptions": {
            "column_f58979f12": {
             "color": "#17BF51",
             "name": "count",
             "yAxis": 0
            }
           },
           "showDataLabels": true,
           "sizemode": "diameter",
           "sortX": false,
           "sortY": true,
           "swappedAxes": false,
           "textFormat": "",
           "useAggregationsUi": true,
           "valuesOptions": {},
           "version": 2,
           "xAxis": {
            "labels": {
             "enabled": true
            },
            "type": "-"
           },
           "yAxis": [
            {
             "type": "-"
            },
            {
             "opposite": true,
             "type": "-"
            }
           ]
          }
         }
        ]
       },
       "datasetPreviewNameToCmdIdMap": {},
       "diffDeletes": [],
       "diffInserts": [],
       "displayType": "redashChart",
       "error": null,
       "errorDetails": null,
       "errorSummary": null,
       "errorTraceType": null,
       "finishTime": 0,
       "globalVars": {},
       "guid": "",
       "height": "auto",
       "hideCommandCode": false,
       "hideCommandResult": false,
       "iPythonMetadata": null,
       "inputWidgets": {},
       "isLockedInExamMode": false,
       "latestUser": "a user",
       "latestUserId": null,
       "listResultMetadata": null,
       "metadata": {
        "byteLimit": 2048000,
        "rowLimit": 10000
       },
       "nuid": "96847afd-7143-4453-93fe-281ba650fa11",
       "origId": 0,
       "parentHierarchy": [],
       "pivotAggregation": null,
       "pivotColumns": null,
       "position": 30,
       "resultDbfsErrorMessage": null,
       "resultDbfsStatus": "INLINED_IN_TREE",
       "results": null,
       "showCommandTitle": false,
       "startTime": 0,
       "state": "input",
       "streamStates": {},
       "subcommandOptions": {
        "queryPlan": {
         "groups": [
          {
           "column": "INCOME_RANGE",
           "type": "column"
          }
         ],
         "selects": [
          {
           "column": "INCOME_RANGE",
           "type": "column"
          },
          {
           "alias": "column_f58979f12",
           "args": [
            {
             "column": "count",
             "type": "column"
            }
           ],
           "function": "SUM",
           "type": "function"
          }
         ]
        }
       },
       "submitTime": 0,
       "subtype": "tableResultSubCmd.visualization",
       "tableResultIndex": 0,
       "useConsistentColors": false,
       "version": "CommandV1",
       "width": "auto",
       "workflows": [],
       "xColumns": null,
       "yColumns": null
      }
     },
     "output_type": "display_data"
    }
   ],
   "source": [
    "income_df = df.groupBy('INCOME_RANGE').count().orderBy('count',ascending=False)\n",
    "income_df.show()\n",
    "display(income_df)"
   ]
  },
  {
   "cell_type": "markdown",
   "metadata": {},
   "source": [
    "## Income range of AMT_CREDIT"
   ]
  },
  {
   "cell_type": "code",
   "execution_count": null,
   "metadata": {
    "application/vnd.databricks.v1+cell": {
     "cellMetadata": {
      "byteLimit": 2048000,
      "rowLimit": 10000
     },
     "inputWidgets": {},
     "nuid": "06117a29-71c8-4000-a54a-d61ecc4f1140",
     "showTitle": true,
     "title": "Income range of AMT_CREDIT"
    }
   },
   "outputs": [
    {
     "name": "stdout",
     "output_type": "stream",
     "text": [
      "Out[49]: '0-1L'"
     ]
    }
   ],
   "source": [
    "def credit_income_total(credit):\n",
    "    if (credit<=100000):\n",
    "        return '0-1L'\n",
    "    elif (credit<=500000):\n",
    "        return '1L-5L'\n",
    "    elif (credit<=1000000):\n",
    "        return '5L-10L'\n",
    "    elif (credit<=1500000):\n",
    "        return '10L-15L'\n",
    "    elif (credit<=2000000):\n",
    "        return '15L-20L'\n",
    "    elif (credit<=2500000):\n",
    "        return '20L-25L'\n",
    "    elif (credit<=3000000):\n",
    "        return '25L-30L'\n",
    "    else:\n",
    "        return 'Above 35L'\n",
    "\n",
    "credit_income_total(68628)"
   ]
  },
  {
   "cell_type": "markdown",
   "metadata": {},
   "source": [
    "## Applying function to dataframe"
   ]
  },
  {
   "cell_type": "code",
   "execution_count": null,
   "metadata": {
    "application/vnd.databricks.v1+cell": {
     "cellMetadata": {
      "byteLimit": 2048000,
      "rowLimit": 10000
     },
     "inputWidgets": {},
     "nuid": "e84aed31-e774-45c8-8cf2-0197c5bc467c",
     "showTitle": true,
     "title": "Applying function to dataframe"
    }
   },
   "outputs": [
    {
     "name": "stdout",
     "output_type": "stream",
     "text": [
      "+----------+------+------------------+-----------+------------+---------------+------------+----------------+----------+-----------+---------------+---------------+----------------+--------------------+--------------------+-----------------+---------------+--------------------+------------+-------------------+\n",
      "|SK_ID_CURR|TARGET|NAME_CONTRACT_TYPE|CODE_GENDER|FLAG_OWN_CAR|FLAG_OWN_REALTY|CNT_CHILDREN|AMT_INCOME_TOTAL|AMT_CREDIT|AMT_ANNUITY|AMT_GOODS_PRICE|NAME_TYPE_SUITE|NAME_INCOME_TYPE| NAME_EDUCATION_TYPE|  NAME_FAMILY_STATUS|NAME_HOUSING_TYPE|OCCUPATION_TYPE|   ORGANIZATION_TYPE|INCOME_RANGE|CREDIT_INCOME_RANGE|\n",
      "+----------+------+------------------+-----------+------------+---------------+------------+----------------+----------+-----------+---------------+---------------+----------------+--------------------+--------------------+-----------------+---------------+--------------------+------------+-------------------+\n",
      "|    100002|     1|        Cash loans|          M|           N|              Y|           0|        202500.0|  406597.5|    24700.5|       351000.0|  Unaccompanied|         Working|Secondary / secon...|Single / not married|House / apartment|       Laborers|Business Entity T...|     2L-2.5L|              1L-5L|\n",
      "|    100003|     0|        Cash loans|          F|           N|              N|           0|        270000.0| 1293502.5|    35698.5|      1129500.0|         Family|   State servant|    Higher education|             Married|House / apartment|     Core staff|              School|    Above 3L|            10L-15L|\n",
      "|    100004|     0|   Revolving loans|          M|           Y|              Y|           0|         67500.0|  135000.0|     6750.0|       135000.0|  Unaccompanied|         Working|Secondary / secon...|Single / not married|House / apartment|       Laborers|          Government|       50-1L|              1L-5L|\n",
      "|    100006|     0|        Cash loans|          F|           N|              Y|           0|        135000.0|  312682.5|    29686.5|       297000.0|  Unaccompanied|         Working|Secondary / secon...|      Civil marriage|House / apartment|       Laborers|Business Entity T...|     1L-1.5L|              1L-5L|\n",
      "|    100007|     0|        Cash loans|          M|           N|              Y|           0|        121500.0|  513000.0|    21865.5|       513000.0|  Unaccompanied|         Working|Secondary / secon...|Single / not married|House / apartment|     Core staff|            Religion|     1L-1.5L|             5L-10L|\n",
      "+----------+------+------------------+-----------+------------+---------------+------------+----------------+----------+-----------+---------------+---------------+----------------+--------------------+--------------------+-----------------+---------------+--------------------+------------+-------------------+\n",
      "only showing top 5 rows\n",
      "\n"
     ]
    }
   ],
   "source": [
    "sparkfun = f.udf(credit_income_total,StringType())\n",
    "df = df.withColumn('CREDIT_INCOME_RANGE',sparkfun(df['AMT_CREDIT']))\n",
    "df.show(5)\n"
   ]
  },
  {
   "cell_type": "code",
   "execution_count": null,
   "metadata": {
    "application/vnd.databricks.v1+cell": {
     "cellMetadata": {
      "byteLimit": 2048000,
      "rowLimit": 10000
     },
     "inputWidgets": {},
     "nuid": "73529e3b-889c-415e-b07e-169eefe3be04",
     "showTitle": false,
     "title": ""
    }
   },
   "outputs": [
    {
     "name": "stdout",
     "output_type": "stream",
     "text": [
      "+-------------------+------+\n",
      "|CREDIT_INCOME_RANGE| count|\n",
      "+-------------------+------+\n",
      "|              1L-5L|140420|\n",
      "|             5L-10L|102274|\n",
      "|            10L-15L| 34798|\n",
      "|            15L-20L|  7026|\n",
      "|               0-1L|  5983|\n",
      "|            20L-25L|  1004|\n",
      "|            25L-30L|   174|\n",
      "|          Above 35L|     7|\n",
      "+-------------------+------+\n",
      "\n"
     ]
    },
    {
     "data": {
      "text/html": [
       "<style scoped>\n",
       "  .table-result-container {\n",
       "    max-height: 300px;\n",
       "    overflow: auto;\n",
       "  }\n",
       "  table, th, td {\n",
       "    border: 1px solid black;\n",
       "    border-collapse: collapse;\n",
       "  }\n",
       "  th, td {\n",
       "    padding: 5px;\n",
       "  }\n",
       "  th {\n",
       "    text-align: left;\n",
       "  }\n",
       "</style><div class='table-result-container'><table class='table-result'><thead style='background-color: white'><tr><th>CREDIT_INCOME_RANGE</th><th>count</th></tr></thead><tbody><tr><td>1L-5L</td><td>140420</td></tr><tr><td>5L-10L</td><td>102274</td></tr><tr><td>10L-15L</td><td>34798</td></tr><tr><td>15L-20L</td><td>7026</td></tr><tr><td>0-1L</td><td>5983</td></tr><tr><td>20L-25L</td><td>1004</td></tr><tr><td>25L-30L</td><td>174</td></tr><tr><td>Above 35L</td><td>7</td></tr></tbody></table></div>"
      ]
     },
     "metadata": {
      "application/vnd.databricks.v1+output": {
       "addedWidgets": {},
       "aggData": [],
       "aggError": "",
       "aggOverflow": false,
       "aggSchema": [],
       "aggSeriesLimitReached": false,
       "aggType": "",
       "arguments": {},
       "columnCustomDisplayInfos": {},
       "data": [
        [
         "1L-5L",
         140420
        ],
        [
         "5L-10L",
         102274
        ],
        [
         "10L-15L",
         34798
        ],
        [
         "15L-20L",
         7026
        ],
        [
         "0-1L",
         5983
        ],
        [
         "20L-25L",
         1004
        ],
        [
         "25L-30L",
         174
        ],
        [
         "Above 35L",
         7
        ]
       ],
       "datasetInfos": [],
       "dbfsResultPath": null,
       "isJsonSchema": true,
       "metadata": {},
       "overflow": false,
       "plotOptions": {
        "customPlotOptions": {},
        "displayType": "table",
        "pivotAggregation": null,
        "pivotColumns": null,
        "xColumns": null,
        "yColumns": null
       },
       "removedWidgets": [],
       "schema": [
        {
         "metadata": "{}",
         "name": "CREDIT_INCOME_RANGE",
         "type": "\"string\""
        },
        {
         "metadata": "{}",
         "name": "count",
         "type": "\"long\""
        }
       ],
       "type": "table"
      }
     },
     "output_type": "display_data"
    },
    {
     "data": {
      "text/plain": [
       "Databricks visualization. Run in Databricks to view."
      ]
     },
     "metadata": {
      "application/vnd.databricks.v1.subcommand+json": {
       "bindings": {},
       "collapsed": false,
       "command": "%python\n__backend_agg_display_orig = display\n__backend_agg_dfs = []\ndef __backend_agg_display_new(df):\n    __backend_agg_df_modules = [\"pandas.core.frame\", \"databricks.koalas.frame\", \"pyspark.sql.dataframe\", \"pyspark.pandas.frame\", \"pyspark.sql.connect.dataframe\"]\n    if (type(df).__module__ in __backend_agg_df_modules and type(df).__name__ == 'DataFrame') or isinstance(df, list):\n        __backend_agg_dfs.append(df)\n\ndisplay = __backend_agg_display_new\n\ndef __backend_agg_user_code_fn():\n    import base64\n    exec(base64.standard_b64decode(\"Y3JlZGl0X2RmID0gZGYuZ3JvdXBCeSgnQ1JFRElUX0lOQ09NRV9SQU5HRScpLmNvdW50KCkub3JkZXJCeSgnY291bnQnLGFzY2VuZGluZz1GYWxzZSkKY3JlZGl0X2RmLnNob3coKQpkaXNwbGF5KGNyZWRpdF9kZik=\").decode())\n\ntry:\n    # run user code\n    __backend_agg_user_code_fn()\n\n    #reset display function\n    display = __backend_agg_display_orig\n\n    if len(__backend_agg_dfs) > 0:\n        # create a temp view\n        if type(__backend_agg_dfs[0]).__module__ == \"databricks.koalas.frame\":\n            # koalas dataframe\n            __backend_agg_dfs[0].to_spark().createOrReplaceTempView(\"DatabricksView940fbb4\")\n        elif type(__backend_agg_dfs[0]).__module__ == \"pandas.core.frame\" or isinstance(__backend_agg_dfs[0], list):\n            # pandas dataframe\n            spark.createDataFrame(__backend_agg_dfs[0]).createOrReplaceTempView(\"DatabricksView940fbb4\")\n        else:\n            __backend_agg_dfs[0].createOrReplaceTempView(\"DatabricksView940fbb4\")\n        #run backend agg\n        display(spark.sql(\"\"\"WITH q AS (select * from DatabricksView940fbb4) SELECT `CREDIT_INCOME_RANGE`,SUM(`count`) `column_e384dbcb4` FROM q GROUP BY `CREDIT_INCOME_RANGE`\"\"\"))\n    else:\n        displayHTML(\"dataframe no longer exists. If you're using dataframe.display(), use display(dataframe) instead.\")\n\n\nfinally:\n    spark.sql(\"drop view if exists DatabricksView940fbb4\")\n    display = __backend_agg_display_orig\n    del __backend_agg_display_new\n    del __backend_agg_display_orig\n    del __backend_agg_dfs\n    del __backend_agg_user_code_fn\n\n",
       "commandTitle": "Visualization 1",
       "commandType": "auto",
       "commandVersion": 0,
       "commentThread": [],
       "commentsVisible": false,
       "contentSha256Hex": null,
       "customPlotOptions": {
        "redashChart": [
         {
          "key": "type",
          "value": "CHART"
         },
         {
          "key": "options",
          "value": {
           "alignYAxesAtZero": true,
           "coefficient": 1,
           "columnConfigurationMap": {
            "x": {
             "column": "CREDIT_INCOME_RANGE",
             "id": "column_e384dbcb3"
            },
            "y": [
             {
              "column": "count",
              "id": "column_e384dbcb4",
              "transform": "SUM"
             }
            ]
           },
           "dateTimeFormat": "DD/MM/YYYY HH:mm",
           "direction": {
            "type": "counterclockwise"
           },
           "error_y": {
            "type": "data",
            "visible": true
           },
           "globalSeriesType": "column",
           "isAggregationOn": true,
           "legend": {
            "traceorder": "normal"
           },
           "missingValuesAsZero": true,
           "numberFormat": "0,0.[00000]",
           "percentFormat": "0[.]00%",
           "series": {
            "error_y": {
             "type": "data",
             "visible": true
            },
            "stacking": null
           },
           "seriesOptions": {
            "column_e384dbcb4": {
             "color": "#C63FA9",
             "name": "count",
             "yAxis": 0
            }
           },
           "showDataLabels": true,
           "sizemode": "diameter",
           "sortX": false,
           "sortY": true,
           "swappedAxes": false,
           "textFormat": "",
           "useAggregationsUi": true,
           "valuesOptions": {},
           "version": 2,
           "xAxis": {
            "labels": {
             "enabled": true
            },
            "type": "-"
           },
           "yAxis": [
            {
             "type": "-"
            },
            {
             "opposite": true,
             "type": "-"
            }
           ]
          }
         }
        ]
       },
       "datasetPreviewNameToCmdIdMap": {},
       "diffDeletes": [],
       "diffInserts": [],
       "displayType": "redashChart",
       "error": null,
       "errorDetails": null,
       "errorSummary": null,
       "errorTraceType": null,
       "finishTime": 0,
       "globalVars": {},
       "guid": "",
       "height": "auto",
       "hideCommandCode": false,
       "hideCommandResult": false,
       "iPythonMetadata": null,
       "inputWidgets": {},
       "isLockedInExamMode": false,
       "latestUser": "a user",
       "latestUserId": null,
       "listResultMetadata": null,
       "metadata": {
        "byteLimit": 2048000,
        "rowLimit": 10000
       },
       "nuid": "6acc8de9-ff4f-456c-a5f8-f0d2530f6a40",
       "origId": 0,
       "parentHierarchy": [],
       "pivotAggregation": null,
       "pivotColumns": null,
       "position": 33,
       "resultDbfsErrorMessage": null,
       "resultDbfsStatus": "INLINED_IN_TREE",
       "results": null,
       "showCommandTitle": false,
       "startTime": 0,
       "state": "input",
       "streamStates": {},
       "subcommandOptions": {
        "queryPlan": {
         "groups": [
          {
           "column": "CREDIT_INCOME_RANGE",
           "type": "column"
          }
         ],
         "selects": [
          {
           "column": "CREDIT_INCOME_RANGE",
           "type": "column"
          },
          {
           "alias": "column_e384dbcb4",
           "args": [
            {
             "column": "count",
             "type": "column"
            }
           ],
           "function": "SUM",
           "type": "function"
          }
         ]
        }
       },
       "submitTime": 0,
       "subtype": "tableResultSubCmd.visualization",
       "tableResultIndex": 0,
       "useConsistentColors": false,
       "version": "CommandV1",
       "width": "auto",
       "workflows": [],
       "xColumns": null,
       "yColumns": null
      }
     },
     "output_type": "display_data"
    }
   ],
   "source": [
    "credit_df = df.groupBy('CREDIT_INCOME_RANGE').count().orderBy('count',ascending=False)\n",
    "credit_df.show()\n",
    "display(credit_df)"
   ]
  },
  {
   "cell_type": "markdown",
   "metadata": {},
   "source": [
    "## Analysis on Occupation_Type and Income_range"
   ]
  },
  {
   "cell_type": "code",
   "execution_count": null,
   "metadata": {
    "application/vnd.databricks.v1+cell": {
     "cellMetadata": {
      "byteLimit": 2048000,
      "rowLimit": 10000
     },
     "inputWidgets": {},
     "nuid": "dd0c71a0-05a6-4fb8-8a7d-f39487655a2a",
     "showTitle": true,
     "title": "Analysis on Occupation_Type and Income_range"
    }
   },
   "outputs": [
    {
     "name": "stdout",
     "output_type": "stream",
     "text": [
      "+---------------+------------+-----+\n",
      "|OCCUPATION_TYPE|INCOME_RANGE|COUNT|\n",
      "+---------------+------------+-----+\n",
      "|           null|     1L-1.5L|28773|\n",
      "|           null|       50-1L|24282|\n",
      "|           null|     1.5l-2L|18090|\n",
      "|       Laborers|     1L-1.5L|17889|\n",
      "|       Laborers|     1.5l-2L|13109|\n",
      "|           null|     2L-2.5L|12655|\n",
      "|    Sales staff|     1L-1.5L|10832|\n",
      "|       Laborers|     2L-2.5L| 9315|\n",
      "|       Laborers|       50-1L| 8940|\n",
      "|     Core staff|     1L-1.5L| 8366|\n",
      "|    Sales staff|       50-1L| 7499|\n",
      "|    Sales staff|     1.5l-2L| 6581|\n",
      "|     Core staff|     1.5l-2L| 6043|\n",
      "|           null|    Above 3L| 5956|\n",
      "|        Drivers|     1L-1.5L| 5044|\n",
      "|        Drivers|     1.5l-2L| 4920|\n",
      "|       Managers|     2L-2.5L| 4756|\n",
      "|     Core staff|       50-1L| 4647|\n",
      "|     Core staff|     2L-2.5L| 4445|\n",
      "|    Sales staff|     2L-2.5L| 4252|\n",
      "+---------------+------------+-----+\n",
      "only showing top 20 rows\n",
      "\n"
     ]
    },
    {
     "data": {
      "text/html": [
       "<style scoped>\n",
       "  .table-result-container {\n",
       "    max-height: 300px;\n",
       "    overflow: auto;\n",
       "  }\n",
       "  table, th, td {\n",
       "    border: 1px solid black;\n",
       "    border-collapse: collapse;\n",
       "  }\n",
       "  th, td {\n",
       "    padding: 5px;\n",
       "  }\n",
       "  th {\n",
       "    text-align: left;\n",
       "  }\n",
       "</style><div class='table-result-container'><table class='table-result'><thead style='background-color: white'><tr><th>OCCUPATION_TYPE</th><th>INCOME_RANGE</th><th>COUNT</th></tr></thead><tbody><tr><td>null</td><td>1L-1.5L</td><td>28773</td></tr><tr><td>null</td><td>50-1L</td><td>24282</td></tr><tr><td>null</td><td>1.5l-2L</td><td>18090</td></tr><tr><td>Laborers</td><td>1L-1.5L</td><td>17889</td></tr><tr><td>Laborers</td><td>1.5l-2L</td><td>13109</td></tr><tr><td>null</td><td>2L-2.5L</td><td>12655</td></tr><tr><td>Sales staff</td><td>1L-1.5L</td><td>10832</td></tr><tr><td>Laborers</td><td>2L-2.5L</td><td>9315</td></tr><tr><td>Laborers</td><td>50-1L</td><td>8940</td></tr><tr><td>Core staff</td><td>1L-1.5L</td><td>8366</td></tr><tr><td>Sales staff</td><td>50-1L</td><td>7499</td></tr><tr><td>Sales staff</td><td>1.5l-2L</td><td>6581</td></tr><tr><td>Core staff</td><td>1.5l-2L</td><td>6043</td></tr><tr><td>null</td><td>Above 3L</td><td>5956</td></tr><tr><td>Drivers</td><td>1L-1.5L</td><td>5044</td></tr><tr><td>Drivers</td><td>1.5l-2L</td><td>4920</td></tr><tr><td>Managers</td><td>2L-2.5L</td><td>4756</td></tr><tr><td>Core staff</td><td>50-1L</td><td>4647</td></tr><tr><td>Core staff</td><td>2L-2.5L</td><td>4445</td></tr><tr><td>Sales staff</td><td>2L-2.5L</td><td>4252</td></tr><tr><td>Drivers</td><td>2L-2.5L</td><td>4040</td></tr><tr><td>Laborers</td><td>Above 3L</td><td>3949</td></tr><tr><td>Managers</td><td>1.5l-2L</td><td>3921</td></tr><tr><td>Managers</td><td>Above 3L</td><td>3837</td></tr><tr><td>Managers</td><td>1L-1.5L</td><td>3278</td></tr><tr><td>High skill tech staff</td><td>1L-1.5L</td><td>3130</td></tr><tr><td>null</td><td>0-50K</td><td>2929</td></tr><tr><td>Medicine staff</td><td>1L-1.5L</td><td>2761</td></tr><tr><td>Accountants</td><td>1L-1.5L</td><td>2643</td></tr><tr><td>High skill tech staff</td><td>1.5l-2L</td><td>2624</td></tr><tr><td>Security staff</td><td>1L-1.5L</td><td>2293</td></tr><tr><td>Core staff</td><td>Above 3L</td><td>2277</td></tr><tr><td>Accountants</td><td>1.5l-2L</td><td>2166</td></tr><tr><td>Medicine staff</td><td>50-1L</td><td>2113</td></tr><tr><td>Drivers</td><td>Above 3L</td><td>2073</td></tr><tr><td>High skill tech staff</td><td>2L-2.5L</td><td>2053</td></tr><tr><td>Cooking staff</td><td>1L-1.5L</td><td>2053</td></tr><tr><td>Accountants</td><td>2L-2.5L</td><td>1969</td></tr><tr><td>Sales staff</td><td>Above 3L</td><td>1721</td></tr><tr><td>Medicine staff</td><td>1.5l-2L</td><td>1700</td></tr><tr><td>Cooking staff</td><td>50-1L</td><td>1697</td></tr><tr><td>High skill tech staff</td><td>50-1L</td><td>1584</td></tr><tr><td>Cleaning staff</td><td>1L-1.5L</td><td>1561</td></tr><tr><td>Security staff</td><td>50-1L</td><td>1531</td></tr><tr><td>Drivers</td><td>50-1L</td><td>1526</td></tr><tr><td>Cleaning staff</td><td>50-1L</td><td>1520</td></tr><tr><td>Security staff</td><td>1.5l-2L</td><td>1363</td></tr><tr><td>High skill tech staff</td><td>Above 3L</td><td>1182</td></tr><tr><td>Medicine staff</td><td>2L-2.5L</td><td>1158</td></tr><tr><td>Accountants</td><td>Above 3L</td><td>1125</td></tr><tr><td>Cooking staff</td><td>1.5l-2L</td><td>1077</td></tr><tr><td>Accountants</td><td>50-1L</td><td>1060</td></tr><tr><td>Managers</td><td>50-1L</td><td>1046</td></tr><tr><td>Security staff</td><td>2L-2.5L</td><td>921</td></tr><tr><td>Low-skill Laborers</td><td>1L-1.5L</td><td>792</td></tr><tr><td>Private service staff</td><td>1L-1.5L</td><td>790</td></tr><tr><td>Cleaning staff</td><td>1.5l-2L</td><td>772</td></tr><tr><td>Cooking staff</td><td>2L-2.5L</td><td>692</td></tr><tr><td>Private service staff</td><td>1.5l-2L</td><td>601</td></tr><tr><td>Low-skill Laborers</td><td>50-1L</td><td>601</td></tr><tr><td>Private service staff</td><td>2L-2.5L</td><td>530</td></tr><tr><td>Waiters/barmen staff</td><td>1L-1.5L</td><td>469</td></tr><tr><td>Medicine staff</td><td>Above 3L</td><td>466</td></tr><tr><td>Secretaries</td><td>1L-1.5L</td><td>451</td></tr><tr><td>Cleaning staff</td><td>2L-2.5L</td><td>441</td></tr><tr><td>Low-skill Laborers</td><td>1.5l-2L</td><td>404</td></tr><tr><td>Waiters/barmen staff</td><td>50-1L</td><td>351</td></tr><tr><td>Security staff</td><td>Above 3L</td><td>337</td></tr><tr><td>Private service staff</td><td>50-1L</td><td>317</td></tr><tr><td>Laborers</td><td>0-50K</td><td>313</td></tr><tr><td>Secretaries</td><td>50-1L</td><td>296</td></tr><tr><td>Sales staff</td><td>0-50K</td><td>282</td></tr><tr><td>Waiters/barmen staff</td><td>1.5l-2L</td><td>254</td></tr><tr><td>Core staff</td><td>0-50K</td><td>247</td></tr><tr><td>Secretaries</td><td>1.5l-2L</td><td>237</td></tr><tr><td>Private service staff</td><td>Above 3L</td><td>236</td></tr><tr><td>Cooking staff</td><td>Above 3L</td><td>232</td></tr><tr><td>Low-skill Laborers</td><td>2L-2.5L</td><td>195</td></tr><tr><td>Realty agents</td><td>1L-1.5L</td><td>185</td></tr><tr><td>Realty agents</td><td>1.5l-2L</td><td>181</td></tr><tr><td>Realty agents</td><td>2L-2.5L</td><td>181</td></tr><tr><td>Waiters/barmen staff</td><td>2L-2.5L</td><td>169</td></tr><tr><td>Secretaries</td><td>2L-2.5L</td><td>166</td></tr><tr><td>HR staff</td><td>1L-1.5L</td><td>163</td></tr><tr><td>Cleaning staff</td><td>0-50K</td><td>159</td></tr><tr><td>Cleaning staff</td><td>Above 3L</td><td>143</td></tr><tr><td>HR staff</td><td>1.5l-2L</td><td>137</td></tr><tr><td>IT staff</td><td>1.5l-2L</td><td>127</td></tr><tr><td>Medicine staff</td><td>0-50K</td><td>125</td></tr><tr><td>IT staff</td><td>1L-1.5L</td><td>118</td></tr><tr><td>Cooking staff</td><td>0-50K</td><td>115</td></tr><tr><td>Security staff</td><td>0-50K</td><td>109</td></tr><tr><td>Realty agents</td><td>Above 3L</td><td>101</td></tr><tr><td>HR staff</td><td>2L-2.5L</td><td>101</td></tr><tr><td>IT staff</td><td>2L-2.5L</td><td>98</td></tr><tr><td>Secretaries</td><td>Above 3L</td><td>86</td></tr><tr><td>Low-skill Laborers</td><td>Above 3L</td><td>59</td></tr><tr><td>IT staff</td><td>Above 3L</td><td>59</td></tr><tr><td>Realty agents</td><td>50-1L</td><td>58</td></tr><tr><td>High skill tech staff</td><td>0-50K</td><td>58</td></tr><tr><td>Waiters/barmen staff</td><td>Above 3L</td><td>57</td></tr><tr><td>HR staff</td><td>50-1L</td><td>57</td></tr><tr><td>HR staff</td><td>Above 3L</td><td>57</td></tr><tr><td>IT staff</td><td>50-1L</td><td>56</td></tr><tr><td>Managers</td><td>0-50K</td><td>37</td></tr><tr><td>Drivers</td><td>0-50K</td><td>36</td></tr><tr><td>Accountants</td><td>0-50K</td><td>33</td></tr><tr><td>Low-skill Laborers</td><td>0-50K</td><td>32</td></tr><tr><td>Waiters/barmen staff</td><td>0-50K</td><td>17</td></tr><tr><td>Private service staff</td><td>0-50K</td><td>12</td></tr><tr><td>Secretaries</td><td>0-50K</td><td>11</td></tr><tr><td>HR staff</td><td>0-50K</td><td>1</td></tr><tr><td>IT staff</td><td>0-50K</td><td>1</td></tr></tbody></table></div>"
      ]
     },
     "metadata": {
      "application/vnd.databricks.v1+output": {
       "addedWidgets": {},
       "aggData": [],
       "aggError": "",
       "aggOverflow": false,
       "aggSchema": [],
       "aggSeriesLimitReached": false,
       "aggType": "",
       "arguments": {},
       "columnCustomDisplayInfos": {},
       "data": [
        [
         null,
         "1L-1.5L",
         28773
        ],
        [
         null,
         "50-1L",
         24282
        ],
        [
         null,
         "1.5l-2L",
         18090
        ],
        [
         "Laborers",
         "1L-1.5L",
         17889
        ],
        [
         "Laborers",
         "1.5l-2L",
         13109
        ],
        [
         null,
         "2L-2.5L",
         12655
        ],
        [
         "Sales staff",
         "1L-1.5L",
         10832
        ],
        [
         "Laborers",
         "2L-2.5L",
         9315
        ],
        [
         "Laborers",
         "50-1L",
         8940
        ],
        [
         "Core staff",
         "1L-1.5L",
         8366
        ],
        [
         "Sales staff",
         "50-1L",
         7499
        ],
        [
         "Sales staff",
         "1.5l-2L",
         6581
        ],
        [
         "Core staff",
         "1.5l-2L",
         6043
        ],
        [
         null,
         "Above 3L",
         5956
        ],
        [
         "Drivers",
         "1L-1.5L",
         5044
        ],
        [
         "Drivers",
         "1.5l-2L",
         4920
        ],
        [
         "Managers",
         "2L-2.5L",
         4756
        ],
        [
         "Core staff",
         "50-1L",
         4647
        ],
        [
         "Core staff",
         "2L-2.5L",
         4445
        ],
        [
         "Sales staff",
         "2L-2.5L",
         4252
        ],
        [
         "Drivers",
         "2L-2.5L",
         4040
        ],
        [
         "Laborers",
         "Above 3L",
         3949
        ],
        [
         "Managers",
         "1.5l-2L",
         3921
        ],
        [
         "Managers",
         "Above 3L",
         3837
        ],
        [
         "Managers",
         "1L-1.5L",
         3278
        ],
        [
         "High skill tech staff",
         "1L-1.5L",
         3130
        ],
        [
         null,
         "0-50K",
         2929
        ],
        [
         "Medicine staff",
         "1L-1.5L",
         2761
        ],
        [
         "Accountants",
         "1L-1.5L",
         2643
        ],
        [
         "High skill tech staff",
         "1.5l-2L",
         2624
        ],
        [
         "Security staff",
         "1L-1.5L",
         2293
        ],
        [
         "Core staff",
         "Above 3L",
         2277
        ],
        [
         "Accountants",
         "1.5l-2L",
         2166
        ],
        [
         "Medicine staff",
         "50-1L",
         2113
        ],
        [
         "Drivers",
         "Above 3L",
         2073
        ],
        [
         "High skill tech staff",
         "2L-2.5L",
         2053
        ],
        [
         "Cooking staff",
         "1L-1.5L",
         2053
        ],
        [
         "Accountants",
         "2L-2.5L",
         1969
        ],
        [
         "Sales staff",
         "Above 3L",
         1721
        ],
        [
         "Medicine staff",
         "1.5l-2L",
         1700
        ],
        [
         "Cooking staff",
         "50-1L",
         1697
        ],
        [
         "High skill tech staff",
         "50-1L",
         1584
        ],
        [
         "Cleaning staff",
         "1L-1.5L",
         1561
        ],
        [
         "Security staff",
         "50-1L",
         1531
        ],
        [
         "Drivers",
         "50-1L",
         1526
        ],
        [
         "Cleaning staff",
         "50-1L",
         1520
        ],
        [
         "Security staff",
         "1.5l-2L",
         1363
        ],
        [
         "High skill tech staff",
         "Above 3L",
         1182
        ],
        [
         "Medicine staff",
         "2L-2.5L",
         1158
        ],
        [
         "Accountants",
         "Above 3L",
         1125
        ],
        [
         "Cooking staff",
         "1.5l-2L",
         1077
        ],
        [
         "Accountants",
         "50-1L",
         1060
        ],
        [
         "Managers",
         "50-1L",
         1046
        ],
        [
         "Security staff",
         "2L-2.5L",
         921
        ],
        [
         "Low-skill Laborers",
         "1L-1.5L",
         792
        ],
        [
         "Private service staff",
         "1L-1.5L",
         790
        ],
        [
         "Cleaning staff",
         "1.5l-2L",
         772
        ],
        [
         "Cooking staff",
         "2L-2.5L",
         692
        ],
        [
         "Private service staff",
         "1.5l-2L",
         601
        ],
        [
         "Low-skill Laborers",
         "50-1L",
         601
        ],
        [
         "Private service staff",
         "2L-2.5L",
         530
        ],
        [
         "Waiters/barmen staff",
         "1L-1.5L",
         469
        ],
        [
         "Medicine staff",
         "Above 3L",
         466
        ],
        [
         "Secretaries",
         "1L-1.5L",
         451
        ],
        [
         "Cleaning staff",
         "2L-2.5L",
         441
        ],
        [
         "Low-skill Laborers",
         "1.5l-2L",
         404
        ],
        [
         "Waiters/barmen staff",
         "50-1L",
         351
        ],
        [
         "Security staff",
         "Above 3L",
         337
        ],
        [
         "Private service staff",
         "50-1L",
         317
        ],
        [
         "Laborers",
         "0-50K",
         313
        ],
        [
         "Secretaries",
         "50-1L",
         296
        ],
        [
         "Sales staff",
         "0-50K",
         282
        ],
        [
         "Waiters/barmen staff",
         "1.5l-2L",
         254
        ],
        [
         "Core staff",
         "0-50K",
         247
        ],
        [
         "Secretaries",
         "1.5l-2L",
         237
        ],
        [
         "Private service staff",
         "Above 3L",
         236
        ],
        [
         "Cooking staff",
         "Above 3L",
         232
        ],
        [
         "Low-skill Laborers",
         "2L-2.5L",
         195
        ],
        [
         "Realty agents",
         "1L-1.5L",
         185
        ],
        [
         "Realty agents",
         "1.5l-2L",
         181
        ],
        [
         "Realty agents",
         "2L-2.5L",
         181
        ],
        [
         "Waiters/barmen staff",
         "2L-2.5L",
         169
        ],
        [
         "Secretaries",
         "2L-2.5L",
         166
        ],
        [
         "HR staff",
         "1L-1.5L",
         163
        ],
        [
         "Cleaning staff",
         "0-50K",
         159
        ],
        [
         "Cleaning staff",
         "Above 3L",
         143
        ],
        [
         "HR staff",
         "1.5l-2L",
         137
        ],
        [
         "IT staff",
         "1.5l-2L",
         127
        ],
        [
         "Medicine staff",
         "0-50K",
         125
        ],
        [
         "IT staff",
         "1L-1.5L",
         118
        ],
        [
         "Cooking staff",
         "0-50K",
         115
        ],
        [
         "Security staff",
         "0-50K",
         109
        ],
        [
         "Realty agents",
         "Above 3L",
         101
        ],
        [
         "HR staff",
         "2L-2.5L",
         101
        ],
        [
         "IT staff",
         "2L-2.5L",
         98
        ],
        [
         "Secretaries",
         "Above 3L",
         86
        ],
        [
         "Low-skill Laborers",
         "Above 3L",
         59
        ],
        [
         "IT staff",
         "Above 3L",
         59
        ],
        [
         "Realty agents",
         "50-1L",
         58
        ],
        [
         "High skill tech staff",
         "0-50K",
         58
        ],
        [
         "Waiters/barmen staff",
         "Above 3L",
         57
        ],
        [
         "HR staff",
         "50-1L",
         57
        ],
        [
         "HR staff",
         "Above 3L",
         57
        ],
        [
         "IT staff",
         "50-1L",
         56
        ],
        [
         "Managers",
         "0-50K",
         37
        ],
        [
         "Drivers",
         "0-50K",
         36
        ],
        [
         "Accountants",
         "0-50K",
         33
        ],
        [
         "Low-skill Laborers",
         "0-50K",
         32
        ],
        [
         "Waiters/barmen staff",
         "0-50K",
         17
        ],
        [
         "Private service staff",
         "0-50K",
         12
        ],
        [
         "Secretaries",
         "0-50K",
         11
        ],
        [
         "HR staff",
         "0-50K",
         1
        ],
        [
         "IT staff",
         "0-50K",
         1
        ]
       ],
       "datasetInfos": [],
       "dbfsResultPath": null,
       "isJsonSchema": true,
       "metadata": {},
       "overflow": false,
       "plotOptions": {
        "customPlotOptions": {},
        "displayType": "table",
        "pivotAggregation": null,
        "pivotColumns": null,
        "xColumns": null,
        "yColumns": null
       },
       "removedWidgets": [],
       "schema": [
        {
         "metadata": "{}",
         "name": "OCCUPATION_TYPE",
         "type": "\"string\""
        },
        {
         "metadata": "{}",
         "name": "INCOME_RANGE",
         "type": "\"string\""
        },
        {
         "metadata": "{}",
         "name": "COUNT",
         "type": "\"long\""
        }
       ],
       "type": "table"
      }
     },
     "output_type": "display_data"
    },
    {
     "data": {
      "text/plain": [
       "Databricks visualization. Run in Databricks to view."
      ]
     },
     "metadata": {
      "application/vnd.databricks.v1.subcommand+json": {
       "bindings": {},
       "collapsed": false,
       "command": "%python\n__backend_agg_display_orig = display\n__backend_agg_dfs = []\ndef __backend_agg_display_new(df):\n    __backend_agg_df_modules = [\"pandas.core.frame\", \"databricks.koalas.frame\", \"pyspark.sql.dataframe\", \"pyspark.pandas.frame\", \"pyspark.sql.connect.dataframe\"]\n    if (type(df).__module__ in __backend_agg_df_modules and type(df).__name__ == 'DataFrame') or isinstance(df, list):\n        __backend_agg_dfs.append(df)\n\ndisplay = __backend_agg_display_new\n\ndef __backend_agg_user_code_fn():\n    import base64\n    exec(base64.standard_b64decode(\"aWRmID0gZGYuZ3JvdXBCeSgnT0NDVVBBVElPTl9UWVBFJywnSU5DT01FX1JBTkdFJykgXAogICAgLmFnZyhmLmNvdW50KCdJTkNPTUVfUkFOR0UnKS5hbGlhcygnQ09VTlQnKSkgXAogICAgLm9yZGVyQnkoJ0NPVU5UJyxhc2NlbmRpbmc9RmFsc2UpCgppZGYuc2hvdygpCmRpc3BsYXkoaWRmKQ==\").decode())\n\ntry:\n    # run user code\n    __backend_agg_user_code_fn()\n\n    #reset display function\n    display = __backend_agg_display_orig\n\n    if len(__backend_agg_dfs) > 0:\n        # create a temp view\n        if type(__backend_agg_dfs[0]).__module__ == \"databricks.koalas.frame\":\n            # koalas dataframe\n            __backend_agg_dfs[0].to_spark().createOrReplaceTempView(\"DatabricksView5e9373b\")\n        elif type(__backend_agg_dfs[0]).__module__ == \"pandas.core.frame\" or isinstance(__backend_agg_dfs[0], list):\n            # pandas dataframe\n            spark.createDataFrame(__backend_agg_dfs[0]).createOrReplaceTempView(\"DatabricksView5e9373b\")\n        else:\n            __backend_agg_dfs[0].createOrReplaceTempView(\"DatabricksView5e9373b\")\n        #run backend agg\n        display(spark.sql(\"\"\"WITH q AS (select * from DatabricksView5e9373b) SELECT `OCCUPATION_TYPE`,`INCOME_RANGE`,SUM(`COUNT`) `column_e384dbcb7` FROM q GROUP BY `INCOME_RANGE`,`OCCUPATION_TYPE`\"\"\"))\n    else:\n        displayHTML(\"dataframe no longer exists. If you're using dataframe.display(), use display(dataframe) instead.\")\n\n\nfinally:\n    spark.sql(\"drop view if exists DatabricksView5e9373b\")\n    display = __backend_agg_display_orig\n    del __backend_agg_display_new\n    del __backend_agg_display_orig\n    del __backend_agg_dfs\n    del __backend_agg_user_code_fn\n\n",
       "commandTitle": "Visualization 1",
       "commandType": "auto",
       "commandVersion": 0,
       "commentThread": [],
       "commentsVisible": false,
       "contentSha256Hex": null,
       "customPlotOptions": {
        "redashChart": [
         {
          "key": "type",
          "value": "CHART"
         },
         {
          "key": "options",
          "value": {
           "alignYAxesAtZero": true,
           "coefficient": 1,
           "columnConfigurationMap": {
            "series": {
             "column": "INCOME_RANGE",
             "id": "column_e384dbcb6"
            },
            "x": {
             "column": "OCCUPATION_TYPE",
             "id": "column_e384dbcb5"
            },
            "y": [
             {
              "column": "COUNT",
              "id": "column_e384dbcb7",
              "transform": "SUM"
             }
            ]
           },
           "dateTimeFormat": "DD/MM/YYYY HH:mm",
           "direction": {
            "type": "counterclockwise"
           },
           "error_y": {
            "type": "data",
            "visible": true
           },
           "globalSeriesType": "column",
           "isAggregationOn": true,
           "legend": {
            "traceorder": "normal"
           },
           "missingValuesAsZero": true,
           "numberFormat": "0,0.[00000]",
           "percentFormat": "0[.]00%",
           "series": {
            "error_y": {
             "type": "data",
             "visible": true
            },
            "stacking": "stack"
           },
           "seriesOptions": {
            "column_e384dbcb7": {
             "name": "COUNT",
             "yAxis": 0
            }
           },
           "showDataLabels": true,
           "sizemode": "diameter",
           "sortX": false,
           "sortY": true,
           "swappedAxes": false,
           "textFormat": "",
           "useAggregationsUi": true,
           "valuesOptions": {},
           "version": 2,
           "xAxis": {
            "labels": {
             "enabled": true
            },
            "type": "-"
           },
           "yAxis": [
            {
             "type": "-"
            },
            {
             "opposite": true,
             "type": "-"
            }
           ]
          }
         }
        ]
       },
       "datasetPreviewNameToCmdIdMap": {},
       "diffDeletes": [],
       "diffInserts": [],
       "displayType": "redashChart",
       "error": null,
       "errorDetails": null,
       "errorSummary": null,
       "errorTraceType": null,
       "finishTime": 0,
       "globalVars": {},
       "guid": "",
       "height": "auto",
       "hideCommandCode": false,
       "hideCommandResult": false,
       "iPythonMetadata": null,
       "inputWidgets": {},
       "isLockedInExamMode": false,
       "latestUser": "a user",
       "latestUserId": null,
       "listResultMetadata": null,
       "metadata": {
        "byteLimit": 2048000,
        "rowLimit": 10000
       },
       "nuid": "2171ddd7-9e20-4ae2-b2d6-121b24fae3cd",
       "origId": 0,
       "parentHierarchy": [],
       "pivotAggregation": null,
       "pivotColumns": null,
       "position": 34,
       "resultDbfsErrorMessage": null,
       "resultDbfsStatus": "INLINED_IN_TREE",
       "results": null,
       "showCommandTitle": false,
       "startTime": 0,
       "state": "input",
       "streamStates": {},
       "subcommandOptions": {
        "queryPlan": {
         "groups": [
          {
           "column": "OCCUPATION_TYPE",
           "type": "column"
          },
          {
           "column": "INCOME_RANGE",
           "type": "column"
          }
         ],
         "selects": [
          {
           "column": "OCCUPATION_TYPE",
           "type": "column"
          },
          {
           "column": "INCOME_RANGE",
           "type": "column"
          },
          {
           "alias": "column_e384dbcb7",
           "args": [
            {
             "column": "COUNT",
             "type": "column"
            }
           ],
           "function": "SUM",
           "type": "function"
          }
         ]
        }
       },
       "submitTime": 0,
       "subtype": "tableResultSubCmd.visualization",
       "tableResultIndex": 0,
       "useConsistentColors": false,
       "version": "CommandV1",
       "width": "auto",
       "workflows": [],
       "xColumns": null,
       "yColumns": null
      }
     },
     "output_type": "display_data"
    }
   ],
   "source": [
    "idf = df.groupBy('OCCUPATION_TYPE','INCOME_RANGE') \\\n",
    "    .agg(f.count('INCOME_RANGE').alias('COUNT')) \\\n",
    "    .orderBy('COUNT',ascending=False)\n",
    "\n",
    "idf.show()\n",
    "display(idf)"
   ]
  },
  {
   "cell_type": "code",
   "execution_count": null,
   "metadata": {
    "application/vnd.databricks.v1+cell": {
     "cellMetadata": {
      "byteLimit": 2048000,
      "rowLimit": 10000
     },
     "inputWidgets": {},
     "nuid": "432b5aa0-e36f-4366-99b6-63869e807a8e",
     "showTitle": false,
     "title": ""
    }
   },
   "outputs": [
    {
     "name": "stdout",
     "output_type": "stream",
     "text": [
      "+----------+------+------------------+-----------+------------+---------------+------------+----------------+----------+-----------+---------------+---------------+----------------+--------------------+--------------------+-----------------+---------------+--------------------+------------+-------------------+\n",
      "|SK_ID_CURR|TARGET|NAME_CONTRACT_TYPE|CODE_GENDER|FLAG_OWN_CAR|FLAG_OWN_REALTY|CNT_CHILDREN|AMT_INCOME_TOTAL|AMT_CREDIT|AMT_ANNUITY|AMT_GOODS_PRICE|NAME_TYPE_SUITE|NAME_INCOME_TYPE| NAME_EDUCATION_TYPE|  NAME_FAMILY_STATUS|NAME_HOUSING_TYPE|OCCUPATION_TYPE|   ORGANIZATION_TYPE|INCOME_RANGE|CREDIT_INCOME_RANGE|\n",
      "+----------+------+------------------+-----------+------------+---------------+------------+----------------+----------+-----------+---------------+---------------+----------------+--------------------+--------------------+-----------------+---------------+--------------------+------------+-------------------+\n",
      "|    100002|     1|        Cash loans|          M|           N|              Y|           0|        202500.0|  406597.5|    24700.5|       351000.0|  Unaccompanied|         Working|Secondary / secon...|Single / not married|House / apartment|       Laborers|Business Entity T...|     2L-2.5L|              1L-5L|\n",
      "|    100003|     0|        Cash loans|          F|           N|              N|           0|        270000.0| 1293502.5|    35698.5|      1129500.0|         Family|   State servant|    Higher education|             Married|House / apartment|     Core staff|              School|    Above 3L|            10L-15L|\n",
      "|    100004|     0|   Revolving loans|          M|           Y|              Y|           0|         67500.0|  135000.0|     6750.0|       135000.0|  Unaccompanied|         Working|Secondary / secon...|Single / not married|House / apartment|       Laborers|          Government|       50-1L|              1L-5L|\n",
      "|    100006|     0|        Cash loans|          F|           N|              Y|           0|        135000.0|  312682.5|    29686.5|       297000.0|  Unaccompanied|         Working|Secondary / secon...|      Civil marriage|House / apartment|       Laborers|Business Entity T...|     1L-1.5L|              1L-5L|\n",
      "|    100007|     0|        Cash loans|          M|           N|              Y|           0|        121500.0|  513000.0|    21865.5|       513000.0|  Unaccompanied|         Working|Secondary / secon...|Single / not married|House / apartment|     Core staff|            Religion|     1L-1.5L|             5L-10L|\n",
      "+----------+------+------------------+-----------+------------+---------------+------------+----------------+----------+-----------+---------------+---------------+----------------+--------------------+--------------------+-----------------+---------------+--------------------+------------+-------------------+\n",
      "only showing top 5 rows\n",
      "\n"
     ]
    }
   ],
   "source": [
    "df.show(5)"
   ]
  },
  {
   "cell_type": "markdown",
   "metadata": {},
   "source": [
    "## Finding Average Package of Occupation_Type"
   ]
  },
  {
   "cell_type": "code",
   "execution_count": null,
   "metadata": {
    "application/vnd.databricks.v1+cell": {
     "cellMetadata": {
      "byteLimit": 2048000,
      "rowLimit": 10000
     },
     "inputWidgets": {},
     "nuid": "258cd69c-0f2e-4b79-a91b-43cd9eb7afd9",
     "showTitle": true,
     "title": "Finding Average Package of Occupation_Type"
    }
   },
   "outputs": [
    {
     "name": "stdout",
     "output_type": "stream",
     "text": [
      "+--------------------+----------+\n",
      "|     OCCUPATION_TYPE|AVG_INCOME|\n",
      "+--------------------+----------+\n",
      "|                null|  141812.1|\n",
      "|            Managers|  197921.9|\n",
      "|            HR staff|  167959.2|\n",
      "|      Medicine staff|  142990.7|\n",
      "|         Accountants|  171726.6|\n",
      "|            Laborers|  156368.1|\n",
      "|      Cleaning staff|  127270.7|\n",
      "|Private service s...|  165719.8|\n",
      "|             Drivers|  174746.6|\n",
      "|         Sales staff|  144154.9|\n",
      "|       Realty agents|  181510.6|\n",
      "|            IT staff|  174700.0|\n",
      "|      Security staff|  143460.6|\n",
      "|         Secretaries|  145461.8|\n",
      "|  Low-skill Laborers|  132031.3|\n",
      "|          Core staff|  156890.6|\n",
      "|       Cooking staff|  135032.2|\n",
      "|High skill tech s...|  165585.7|\n",
      "|Waiters/barmen staff|  138593.4|\n",
      "+--------------------+----------+\n",
      "\n"
     ]
    },
    {
     "data": {
      "text/html": [
       "<style scoped>\n",
       "  .table-result-container {\n",
       "    max-height: 300px;\n",
       "    overflow: auto;\n",
       "  }\n",
       "  table, th, td {\n",
       "    border: 1px solid black;\n",
       "    border-collapse: collapse;\n",
       "  }\n",
       "  th, td {\n",
       "    padding: 5px;\n",
       "  }\n",
       "  th {\n",
       "    text-align: left;\n",
       "  }\n",
       "</style><div class='table-result-container'><table class='table-result'><thead style='background-color: white'><tr><th>OCCUPATION_TYPE</th><th>AVG_INCOME</th></tr></thead><tbody><tr><td>null</td><td>141812.1</td></tr><tr><td>Managers</td><td>197921.9</td></tr><tr><td>HR staff</td><td>167959.2</td></tr><tr><td>Medicine staff</td><td>142990.7</td></tr><tr><td>Accountants</td><td>171726.6</td></tr><tr><td>Laborers</td><td>156368.1</td></tr><tr><td>Cleaning staff</td><td>127270.7</td></tr><tr><td>Private service staff</td><td>165719.8</td></tr><tr><td>Drivers</td><td>174746.6</td></tr><tr><td>Sales staff</td><td>144154.9</td></tr><tr><td>Realty agents</td><td>181510.6</td></tr><tr><td>IT staff</td><td>174700.0</td></tr><tr><td>Security staff</td><td>143460.6</td></tr><tr><td>Secretaries</td><td>145461.8</td></tr><tr><td>Low-skill Laborers</td><td>132031.3</td></tr><tr><td>Core staff</td><td>156890.6</td></tr><tr><td>Cooking staff</td><td>135032.2</td></tr><tr><td>High skill tech staff</td><td>165585.7</td></tr><tr><td>Waiters/barmen staff</td><td>138593.4</td></tr></tbody></table></div>"
      ]
     },
     "metadata": {
      "application/vnd.databricks.v1+output": {
       "addedWidgets": {},
       "aggData": [],
       "aggError": "",
       "aggOverflow": false,
       "aggSchema": [],
       "aggSeriesLimitReached": false,
       "aggType": "",
       "arguments": {},
       "columnCustomDisplayInfos": {},
       "data": [
        [
         null,
         141812.1
        ],
        [
         "Managers",
         197921.9
        ],
        [
         "HR staff",
         167959.2
        ],
        [
         "Medicine staff",
         142990.7
        ],
        [
         "Accountants",
         171726.6
        ],
        [
         "Laborers",
         156368.1
        ],
        [
         "Cleaning staff",
         127270.7
        ],
        [
         "Private service staff",
         165719.8
        ],
        [
         "Drivers",
         174746.6
        ],
        [
         "Sales staff",
         144154.9
        ],
        [
         "Realty agents",
         181510.6
        ],
        [
         "IT staff",
         174700
        ],
        [
         "Security staff",
         143460.6
        ],
        [
         "Secretaries",
         145461.8
        ],
        [
         "Low-skill Laborers",
         132031.3
        ],
        [
         "Core staff",
         156890.6
        ],
        [
         "Cooking staff",
         135032.2
        ],
        [
         "High skill tech staff",
         165585.7
        ],
        [
         "Waiters/barmen staff",
         138593.4
        ]
       ],
       "datasetInfos": [],
       "dbfsResultPath": null,
       "isJsonSchema": true,
       "metadata": {},
       "overflow": false,
       "plotOptions": {
        "customPlotOptions": {},
        "displayType": "table",
        "pivotAggregation": null,
        "pivotColumns": null,
        "xColumns": null,
        "yColumns": null
       },
       "removedWidgets": [],
       "schema": [
        {
         "metadata": "{}",
         "name": "OCCUPATION_TYPE",
         "type": "\"string\""
        },
        {
         "metadata": "{}",
         "name": "AVG_INCOME",
         "type": "\"double\""
        }
       ],
       "type": "table"
      }
     },
     "output_type": "display_data"
    },
    {
     "data": {
      "text/plain": [
       "Databricks visualization. Run in Databricks to view."
      ]
     },
     "metadata": {
      "application/vnd.databricks.v1.subcommand+json": {
       "bindings": {},
       "collapsed": false,
       "command": "%python\n__backend_agg_display_orig = display\n__backend_agg_dfs = []\ndef __backend_agg_display_new(df):\n    __backend_agg_df_modules = [\"pandas.core.frame\", \"databricks.koalas.frame\", \"pyspark.sql.dataframe\", \"pyspark.pandas.frame\", \"pyspark.sql.connect.dataframe\"]\n    if (type(df).__module__ in __backend_agg_df_modules and type(df).__name__ == 'DataFrame') or isinstance(df, list):\n        __backend_agg_dfs.append(df)\n\ndisplay = __backend_agg_display_new\n\ndef __backend_agg_user_code_fn():\n    import base64\n    exec(base64.standard_b64decode(\"b2RmID0gZGYuZ3JvdXBCeSgnT0NDVVBBVElPTl9UWVBFJykuYWdnKGYubWVhbignQU1UX0lOQ09NRV9UT1RBTCcpKQpvZGYgPSBvZGYud2l0aENvbHVtbignYXZnKEFNVF9JTkNPTUVfVE9UQUwpJyxmLnJvdW5kKG9kZlsnYXZnKEFNVF9JTkNPTUVfVE9UQUwpJ10sMSkpCm9kZiA9IG9kZi53aXRoQ29sdW1uUmVuYW1lZCgnYXZnKEFNVF9JTkNPTUVfVE9UQUwpJywnQVZHX0lOQ09NRScpCiMgb2RmLnNob3coKQpkaXNwbGF5KG9kZik=\").decode())\n\ntry:\n    # run user code\n    __backend_agg_user_code_fn()\n\n    #reset display function\n    display = __backend_agg_display_orig\n\n    if len(__backend_agg_dfs) > 0:\n        # create a temp view\n        if type(__backend_agg_dfs[0]).__module__ == \"databricks.koalas.frame\":\n            # koalas dataframe\n            __backend_agg_dfs[0].to_spark().createOrReplaceTempView(\"DatabricksView97672af\")\n        elif type(__backend_agg_dfs[0]).__module__ == \"pandas.core.frame\" or isinstance(__backend_agg_dfs[0], list):\n            # pandas dataframe\n            spark.createDataFrame(__backend_agg_dfs[0]).createOrReplaceTempView(\"DatabricksView97672af\")\n        else:\n            __backend_agg_dfs[0].createOrReplaceTempView(\"DatabricksView97672af\")\n        #run backend agg\n        display(spark.sql(\"\"\"WITH q AS (select * from DatabricksView97672af) SELECT `OCCUPATION_TYPE`,SUM(`AVG_INCOME`) `column_e384dbcb11` FROM q GROUP BY `OCCUPATION_TYPE`\"\"\"))\n    else:\n        displayHTML(\"dataframe no longer exists. If you're using dataframe.display(), use display(dataframe) instead.\")\n\n\nfinally:\n    spark.sql(\"drop view if exists DatabricksView97672af\")\n    display = __backend_agg_display_orig\n    del __backend_agg_display_new\n    del __backend_agg_display_orig\n    del __backend_agg_dfs\n    del __backend_agg_user_code_fn\n\n",
       "commandTitle": "Visualization 1",
       "commandType": "auto",
       "commandVersion": 0,
       "commentThread": [],
       "commentsVisible": false,
       "contentSha256Hex": null,
       "customPlotOptions": {
        "redashChart": [
         {
          "key": "type",
          "value": "CHART"
         },
         {
          "key": "options",
          "value": {
           "alignYAxesAtZero": true,
           "coefficient": 1,
           "columnConfigurationMap": {
            "x": {
             "column": "OCCUPATION_TYPE",
             "id": "column_e384dbcb10"
            },
            "y": [
             {
              "column": "AVG_INCOME",
              "id": "column_e384dbcb11",
              "transform": "SUM"
             }
            ]
           },
           "dateTimeFormat": "DD/MM/YYYY HH:mm",
           "direction": {
            "type": "counterclockwise"
           },
           "error_y": {
            "type": "data",
            "visible": true
           },
           "globalSeriesType": "column",
           "isAggregationOn": true,
           "legend": {
            "traceorder": "normal"
           },
           "missingValuesAsZero": true,
           "numberFormat": "0,0.[00000]",
           "percentFormat": "0[.]00%",
           "series": {
            "error_y": {
             "type": "data",
             "visible": true
            },
            "stacking": null
           },
           "seriesOptions": {
            "column_e384dbcb11": {
             "color": "#FF00D0",
             "name": "AVG_INCOME",
             "yAxis": 0
            }
           },
           "showDataLabels": true,
           "sizemode": "diameter",
           "sortX": true,
           "sortY": true,
           "swappedAxes": false,
           "textFormat": "",
           "useAggregationsUi": true,
           "valuesOptions": {},
           "version": 2,
           "xAxis": {
            "labels": {
             "enabled": true
            },
            "type": "-"
           },
           "yAxis": [
            {
             "type": "-"
            },
            {
             "opposite": true,
             "type": "-"
            }
           ]
          }
         }
        ]
       },
       "datasetPreviewNameToCmdIdMap": {},
       "diffDeletes": [],
       "diffInserts": [],
       "displayType": "redashChart",
       "error": null,
       "errorDetails": null,
       "errorSummary": null,
       "errorTraceType": null,
       "finishTime": 0,
       "globalVars": {},
       "guid": "",
       "height": "auto",
       "hideCommandCode": false,
       "hideCommandResult": false,
       "iPythonMetadata": null,
       "inputWidgets": {},
       "isLockedInExamMode": false,
       "latestUser": "a user",
       "latestUserId": null,
       "listResultMetadata": null,
       "metadata": {
        "byteLimit": 2048000,
        "rowLimit": 10000
       },
       "nuid": "1eff334c-96d4-4a8c-b587-e32239bbfffd",
       "origId": 0,
       "parentHierarchy": [],
       "pivotAggregation": null,
       "pivotColumns": null,
       "position": 35,
       "resultDbfsErrorMessage": null,
       "resultDbfsStatus": "INLINED_IN_TREE",
       "results": null,
       "showCommandTitle": false,
       "startTime": 0,
       "state": "input",
       "streamStates": {},
       "subcommandOptions": {
        "queryPlan": {
         "groups": [
          {
           "column": "OCCUPATION_TYPE",
           "type": "column"
          }
         ],
         "selects": [
          {
           "column": "OCCUPATION_TYPE",
           "type": "column"
          },
          {
           "alias": "column_e384dbcb11",
           "args": [
            {
             "column": "AVG_INCOME",
             "type": "column"
            }
           ],
           "function": "SUM",
           "type": "function"
          }
         ]
        }
       },
       "submitTime": 0,
       "subtype": "tableResultSubCmd.visualization",
       "tableResultIndex": 0,
       "useConsistentColors": false,
       "version": "CommandV1",
       "width": "auto",
       "workflows": [],
       "xColumns": null,
       "yColumns": null
      }
     },
     "output_type": "display_data"
    }
   ],
   "source": [
    "odf = df.groupBy('OCCUPATION_TYPE').agg(f.mean('AMT_INCOME_TOTAL'))\n",
    "odf = odf.withColumn('avg(AMT_INCOME_TOTAL)',f.round(odf['avg(AMT_INCOME_TOTAL)'],1))\n",
    "odf = odf.withColumnRenamed('avg(AMT_INCOME_TOTAL)','AVG_INCOME')\n",
    "odf.show()\n",
    "display(odf)"
   ]
  },
  {
   "cell_type": "markdown",
   "metadata": {},
   "source": [
    "## Payment Difficulties"
   ]
  },
  {
   "cell_type": "code",
   "execution_count": null,
   "metadata": {
    "application/vnd.databricks.v1+cell": {
     "cellMetadata": {
      "byteLimit": 2048000,
      "rowLimit": 10000
     },
     "inputWidgets": {},
     "nuid": "fab20caf-38f3-4e27-9514-6e53973e796b",
     "showTitle": true,
     "title": "Payment Difficulties"
    }
   },
   "outputs": [
    {
     "name": "stdout",
     "output_type": "stream",
     "text": [
      "Out[57]: 'NO'"
     ]
    }
   ],
   "source": [
    "def payment_difficulty(TARGET):\n",
    "    if (TARGET==1):\n",
    "        return 'YES'\n",
    "    else:\n",
    "        return 'NO'\n",
    "    \n",
    "payment_difficulty(0)"
   ]
  },
  {
   "cell_type": "code",
   "execution_count": null,
   "metadata": {
    "application/vnd.databricks.v1+cell": {
     "cellMetadata": {
      "byteLimit": 2048000,
      "rowLimit": 10000
     },
     "inputWidgets": {},
     "nuid": "91921790-0305-4044-b85b-7dbd2d164321",
     "showTitle": false,
     "title": ""
    }
   },
   "outputs": [
    {
     "name": "stdout",
     "output_type": "stream",
     "text": [
      "+----------+------+------------------+-----------+------------+---------------+------------+----------------+----------+-----------+---------------+---------------+----------------+--------------------+--------------------+-----------------+---------------+--------------------+------------+-------------------+--------------+\n",
      "|SK_ID_CURR|TARGET|NAME_CONTRACT_TYPE|CODE_GENDER|FLAG_OWN_CAR|FLAG_OWN_REALTY|CNT_CHILDREN|AMT_INCOME_TOTAL|AMT_CREDIT|AMT_ANNUITY|AMT_GOODS_PRICE|NAME_TYPE_SUITE|NAME_INCOME_TYPE| NAME_EDUCATION_TYPE|  NAME_FAMILY_STATUS|NAME_HOUSING_TYPE|OCCUPATION_TYPE|   ORGANIZATION_TYPE|INCOME_RANGE|CREDIT_INCOME_RANGE|PAY_DIFFICULTY|\n",
      "+----------+------+------------------+-----------+------------+---------------+------------+----------------+----------+-----------+---------------+---------------+----------------+--------------------+--------------------+-----------------+---------------+--------------------+------------+-------------------+--------------+\n",
      "|    100002|     1|        Cash loans|          M|           N|              Y|           0|        202500.0|  406597.5|    24700.5|       351000.0|  Unaccompanied|         Working|Secondary / secon...|Single / not married|House / apartment|       Laborers|Business Entity T...|     2L-2.5L|              1L-5L|           YES|\n",
      "|    100003|     0|        Cash loans|          F|           N|              N|           0|        270000.0| 1293502.5|    35698.5|      1129500.0|         Family|   State servant|    Higher education|             Married|House / apartment|     Core staff|              School|    Above 3L|            10L-15L|            NO|\n",
      "|    100004|     0|   Revolving loans|          M|           Y|              Y|           0|         67500.0|  135000.0|     6750.0|       135000.0|  Unaccompanied|         Working|Secondary / secon...|Single / not married|House / apartment|       Laborers|          Government|       50-1L|              1L-5L|            NO|\n",
      "|    100006|     0|        Cash loans|          F|           N|              Y|           0|        135000.0|  312682.5|    29686.5|       297000.0|  Unaccompanied|         Working|Secondary / secon...|      Civil marriage|House / apartment|       Laborers|Business Entity T...|     1L-1.5L|              1L-5L|            NO|\n",
      "|    100007|     0|        Cash loans|          M|           N|              Y|           0|        121500.0|  513000.0|    21865.5|       513000.0|  Unaccompanied|         Working|Secondary / secon...|Single / not married|House / apartment|     Core staff|            Religion|     1L-1.5L|             5L-10L|            NO|\n",
      "+----------+------+------------------+-----------+------------+---------------+------------+----------------+----------+-----------+---------------+---------------+----------------+--------------------+--------------------+-----------------+---------------+--------------------+------------+-------------------+--------------+\n",
      "only showing top 5 rows\n",
      "\n"
     ]
    }
   ],
   "source": [
    "from pyspark.sql.types import StringType\n",
    "sparkfun = f.udf(payment_difficulty,StringType())\n",
    "df = df.withColumn('PAY_DIFFICULTY',sparkfun(df['TARGET']))\n",
    "df.show(5)"
   ]
  },
  {
   "cell_type": "markdown",
   "metadata": {},
   "source": [
    "## Filtering data with Column PAY_DIFFICULTY=YES"
   ]
  },
  {
   "cell_type": "code",
   "execution_count": null,
   "metadata": {
    "application/vnd.databricks.v1+cell": {
     "cellMetadata": {
      "byteLimit": 2048000,
      "rowLimit": 10000
     },
     "inputWidgets": {},
     "nuid": "6899caff-a0b0-4754-b90d-bcd054a9a907",
     "showTitle": true,
     "title": "Filtering data with Column PAY_DIFFICULTY=YES"
    }
   },
   "outputs": [
    {
     "name": "stdout",
     "output_type": "stream",
     "text": [
      "+----------+------+------------------+-----------+------------+---------------+------------+----------------+----------+-----------+---------------+---------------+--------------------+--------------------+--------------------+-----------------+---------------+--------------------+------------+-------------------+--------------+\n",
      "|SK_ID_CURR|TARGET|NAME_CONTRACT_TYPE|CODE_GENDER|FLAG_OWN_CAR|FLAG_OWN_REALTY|CNT_CHILDREN|AMT_INCOME_TOTAL|AMT_CREDIT|AMT_ANNUITY|AMT_GOODS_PRICE|NAME_TYPE_SUITE|    NAME_INCOME_TYPE| NAME_EDUCATION_TYPE|  NAME_FAMILY_STATUS|NAME_HOUSING_TYPE|OCCUPATION_TYPE|   ORGANIZATION_TYPE|INCOME_RANGE|CREDIT_INCOME_RANGE|PAY_DIFFICULTY|\n",
      "+----------+------+------------------+-----------+------------+---------------+------------+----------------+----------+-----------+---------------+---------------+--------------------+--------------------+--------------------+-----------------+---------------+--------------------+------------+-------------------+--------------+\n",
      "|    100002|     1|        Cash loans|          M|           N|              Y|           0|        202500.0|  406597.5|    24700.5|       351000.0|  Unaccompanied|             Working|Secondary / secon...|Single / not married|House / apartment|       Laborers|Business Entity T...|     2L-2.5L|              1L-5L|           YES|\n",
      "|    100031|     1|        Cash loans|          F|           N|              Y|           0|        112500.0|  979992.0|    27076.5|       702000.0|  Unaccompanied|             Working|Secondary / secon...|               Widow|House / apartment|  Cooking staff|Business Entity T...|     1L-1.5L|             5L-10L|           YES|\n",
      "|    100047|     1|        Cash loans|          M|           N|              Y|           0|        202500.0| 1193580.0|    35028.0|       855000.0|  Unaccompanied|Commercial associate|Secondary / secon...|             Married|House / apartment|       Laborers|Business Entity T...|     2L-2.5L|            10L-15L|           YES|\n",
      "|    100049|     1|        Cash loans|          F|           N|              N|           0|        135000.0|  288873.0|    16258.5|       238500.0|  Unaccompanied|             Working|Secondary / secon...|      Civil marriage|House / apartment|    Sales staff|       Self-employed|     1L-1.5L|              1L-5L|           YES|\n",
      "|    100096|     1|        Cash loans|          F|           N|              Y|           0|         81000.0|  252000.0|    14593.5|       252000.0|  Unaccompanied|           Pensioner|Secondary / secon...|             Married|House / apartment|           null|                 XNA|       50-1L|              1L-5L|           YES|\n",
      "+----------+------+------------------+-----------+------------+---------------+------------+----------------+----------+-----------+---------------+---------------+--------------------+--------------------+--------------------+-----------------+---------------+--------------------+------------+-------------------+--------------+\n",
      "only showing top 5 rows\n",
      "\n"
     ]
    }
   ],
   "source": [
    "pay_df = df.filter(f.col('PAY_DIFFICULTY')=='YES')\n",
    "pay_df.show(5)"
   ]
  },
  {
   "cell_type": "markdown",
   "metadata": {},
   "source": [
    "## Which Occupation faces most payment difficulty"
   ]
  },
  {
   "cell_type": "code",
   "execution_count": null,
   "metadata": {
    "application/vnd.databricks.v1+cell": {
     "cellMetadata": {
      "byteLimit": 2048000,
      "rowLimit": 10000
     },
     "inputWidgets": {},
     "nuid": "9131c3c6-644c-483b-9128-e40d679f144e",
     "showTitle": true,
     "title": "Which Occupation faces most payment difficulty"
    }
   },
   "outputs": [
    {
     "name": "stdout",
     "output_type": "stream",
     "text": [
      "+--------------------+---------------------------+\n",
      "|     OCCUPATION_TYPE|COUNT_OF_PAYMENT_DIFFICULTY|\n",
      "+--------------------+---------------------------+\n",
      "|                null|                      92685|\n",
      "|            Laborers|                      53515|\n",
      "|         Sales staff|                      31167|\n",
      "|          Core staff|                      26025|\n",
      "|             Drivers|                      17639|\n",
      "|            Managers|                      16875|\n",
      "|High skill tech s...|                      10631|\n",
      "|         Accountants|                       8996|\n",
      "|      Medicine staff|                       8323|\n",
      "|      Security staff|                       6554|\n",
      "|       Cooking staff|                       5866|\n",
      "|      Cleaning staff|                       4596|\n",
      "|Private service s...|                       2486|\n",
      "|  Low-skill Laborers|                       2083|\n",
      "|Waiters/barmen staff|                       1317|\n",
      "|         Secretaries|                       1247|\n",
      "|       Realty agents|                        706|\n",
      "|            HR staff|                        516|\n",
      "|            IT staff|                        459|\n",
      "+--------------------+---------------------------+\n",
      "\n"
     ]
    },
    {
     "data": {
      "text/html": [
       "<style scoped>\n",
       "  .table-result-container {\n",
       "    max-height: 300px;\n",
       "    overflow: auto;\n",
       "  }\n",
       "  table, th, td {\n",
       "    border: 1px solid black;\n",
       "    border-collapse: collapse;\n",
       "  }\n",
       "  th, td {\n",
       "    padding: 5px;\n",
       "  }\n",
       "  th {\n",
       "    text-align: left;\n",
       "  }\n",
       "</style><div class='table-result-container'><table class='table-result'><thead style='background-color: white'><tr><th>OCCUPATION_TYPE</th><th>COUNT_OF_PAYMENT_DIFFICULTY</th></tr></thead><tbody><tr><td>null</td><td>92685</td></tr><tr><td>Laborers</td><td>53515</td></tr><tr><td>Sales staff</td><td>31167</td></tr><tr><td>Core staff</td><td>26025</td></tr><tr><td>Drivers</td><td>17639</td></tr><tr><td>Managers</td><td>16875</td></tr><tr><td>High skill tech staff</td><td>10631</td></tr><tr><td>Accountants</td><td>8996</td></tr><tr><td>Medicine staff</td><td>8323</td></tr><tr><td>Security staff</td><td>6554</td></tr><tr><td>Cooking staff</td><td>5866</td></tr><tr><td>Cleaning staff</td><td>4596</td></tr><tr><td>Private service staff</td><td>2486</td></tr><tr><td>Low-skill Laborers</td><td>2083</td></tr><tr><td>Waiters/barmen staff</td><td>1317</td></tr><tr><td>Secretaries</td><td>1247</td></tr><tr><td>Realty agents</td><td>706</td></tr><tr><td>HR staff</td><td>516</td></tr><tr><td>IT staff</td><td>459</td></tr></tbody></table></div>"
      ]
     },
     "metadata": {
      "application/vnd.databricks.v1+output": {
       "addedWidgets": {},
       "aggData": [],
       "aggError": "",
       "aggOverflow": false,
       "aggSchema": [],
       "aggSeriesLimitReached": false,
       "aggType": "",
       "arguments": {},
       "columnCustomDisplayInfos": {},
       "data": [
        [
         null,
         92685
        ],
        [
         "Laborers",
         53515
        ],
        [
         "Sales staff",
         31167
        ],
        [
         "Core staff",
         26025
        ],
        [
         "Drivers",
         17639
        ],
        [
         "Managers",
         16875
        ],
        [
         "High skill tech staff",
         10631
        ],
        [
         "Accountants",
         8996
        ],
        [
         "Medicine staff",
         8323
        ],
        [
         "Security staff",
         6554
        ],
        [
         "Cooking staff",
         5866
        ],
        [
         "Cleaning staff",
         4596
        ],
        [
         "Private service staff",
         2486
        ],
        [
         "Low-skill Laborers",
         2083
        ],
        [
         "Waiters/barmen staff",
         1317
        ],
        [
         "Secretaries",
         1247
        ],
        [
         "Realty agents",
         706
        ],
        [
         "HR staff",
         516
        ],
        [
         "IT staff",
         459
        ]
       ],
       "datasetInfos": [],
       "dbfsResultPath": null,
       "isJsonSchema": true,
       "metadata": {},
       "overflow": false,
       "plotOptions": {
        "customPlotOptions": {},
        "displayType": "table",
        "pivotAggregation": null,
        "pivotColumns": null,
        "xColumns": null,
        "yColumns": null
       },
       "removedWidgets": [],
       "schema": [
        {
         "metadata": "{}",
         "name": "OCCUPATION_TYPE",
         "type": "\"string\""
        },
        {
         "metadata": "{}",
         "name": "COUNT_OF_PAYMENT_DIFFICULTY",
         "type": "\"long\""
        }
       ],
       "type": "table"
      }
     },
     "output_type": "display_data"
    },
    {
     "data": {
      "text/plain": [
       "Databricks visualization. Run in Databricks to view."
      ]
     },
     "metadata": {
      "application/vnd.databricks.v1.subcommand+json": {
       "bindings": {},
       "collapsed": false,
       "command": "%python\n__backend_agg_display_orig = display\n__backend_agg_dfs = []\ndef __backend_agg_display_new(df):\n    __backend_agg_df_modules = [\"pandas.core.frame\", \"databricks.koalas.frame\", \"pyspark.sql.dataframe\", \"pyspark.pandas.frame\", \"pyspark.sql.connect.dataframe\"]\n    if (type(df).__module__ in __backend_agg_df_modules and type(df).__name__ == 'DataFrame') or isinstance(df, list):\n        __backend_agg_dfs.append(df)\n\ndisplay = __backend_agg_display_new\n\ndef __backend_agg_user_code_fn():\n    import base64\n    exec(base64.standard_b64decode(\"b2NjX2RmID0gZGYuZ3JvdXBCeSgnT0NDVVBBVElPTl9UWVBFJykgXAogICAgLmFnZyhmLmNvdW50KCdQQVlfRElGRklDVUxUWScpLmFsaWFzKCdDT1VOVF9PRl9QQVlNRU5UX0RJRkZJQ1VMVFknKSkgXAogICAgLm9yZGVyQnkoJ0NPVU5UX09GX1BBWU1FTlRfRElGRklDVUxUWScsYXNjZW5kaW5nPUZhbHNlKQpvY2NfZGYuc2hvdygpCmRpc3BsYXkob2NjX2RmKQ==\").decode())\n\ntry:\n    # run user code\n    __backend_agg_user_code_fn()\n\n    #reset display function\n    display = __backend_agg_display_orig\n\n    if len(__backend_agg_dfs) > 0:\n        # create a temp view\n        if type(__backend_agg_dfs[0]).__module__ == \"databricks.koalas.frame\":\n            # koalas dataframe\n            __backend_agg_dfs[0].to_spark().createOrReplaceTempView(\"DatabricksViewdb3424a\")\n        elif type(__backend_agg_dfs[0]).__module__ == \"pandas.core.frame\" or isinstance(__backend_agg_dfs[0], list):\n            # pandas dataframe\n            spark.createDataFrame(__backend_agg_dfs[0]).createOrReplaceTempView(\"DatabricksViewdb3424a\")\n        else:\n            __backend_agg_dfs[0].createOrReplaceTempView(\"DatabricksViewdb3424a\")\n        #run backend agg\n        display(spark.sql(\"\"\"WITH q AS (select * from DatabricksViewdb3424a) SELECT `OCCUPATION_TYPE`,SUM(`COUNT_OF_PAYMENT_DIFFICULTY`) `column_e384dbcb13` FROM q GROUP BY `OCCUPATION_TYPE`\"\"\"))\n    else:\n        displayHTML(\"dataframe no longer exists. If you're using dataframe.display(), use display(dataframe) instead.\")\n\n\nfinally:\n    spark.sql(\"drop view if exists DatabricksViewdb3424a\")\n    display = __backend_agg_display_orig\n    del __backend_agg_display_new\n    del __backend_agg_display_orig\n    del __backend_agg_dfs\n    del __backend_agg_user_code_fn\n\n",
       "commandTitle": "Visualization 1",
       "commandType": "auto",
       "commandVersion": 0,
       "commentThread": [],
       "commentsVisible": false,
       "contentSha256Hex": null,
       "customPlotOptions": {
        "redashChart": [
         {
          "key": "type",
          "value": "CHART"
         },
         {
          "key": "options",
          "value": {
           "alignYAxesAtZero": true,
           "coefficient": 1,
           "columnConfigurationMap": {
            "x": {
             "column": "OCCUPATION_TYPE",
             "id": "column_e384dbcb12"
            },
            "y": [
             {
              "column": "COUNT_OF_PAYMENT_DIFFICULTY",
              "id": "column_e384dbcb13",
              "transform": "SUM"
             }
            ]
           },
           "dateTimeFormat": "DD/MM/YYYY HH:mm",
           "direction": {
            "type": "counterclockwise"
           },
           "error_y": {
            "type": "data",
            "visible": true
           },
           "globalSeriesType": "column",
           "isAggregationOn": true,
           "legend": {
            "traceorder": "normal"
           },
           "missingValuesAsZero": true,
           "numberFormat": "0,0.[00000]",
           "percentFormat": "0[.]00%",
           "series": {
            "error_y": {
             "type": "data",
             "visible": true
            },
            "stacking": null
           },
           "seriesOptions": {
            "column_e384dbcb13": {
             "color": "#00FAC7",
             "name": "COUNT_OF_PAYMENT_DIFFICULTY",
             "yAxis": 0
            }
           },
           "showDataLabels": true,
           "sizemode": "diameter",
           "sortX": false,
           "sortY": true,
           "swappedAxes": false,
           "textFormat": "",
           "useAggregationsUi": true,
           "valuesOptions": {},
           "version": 2,
           "xAxis": {
            "labels": {
             "enabled": true
            },
            "type": "-"
           },
           "yAxis": [
            {
             "type": "-"
            },
            {
             "opposite": true,
             "type": "-"
            }
           ]
          }
         }
        ]
       },
       "datasetPreviewNameToCmdIdMap": {},
       "diffDeletes": [],
       "diffInserts": [],
       "displayType": "redashChart",
       "error": null,
       "errorDetails": null,
       "errorSummary": null,
       "errorTraceType": null,
       "finishTime": 0,
       "globalVars": {},
       "guid": "",
       "height": "auto",
       "hideCommandCode": false,
       "hideCommandResult": false,
       "iPythonMetadata": null,
       "inputWidgets": {},
       "isLockedInExamMode": false,
       "latestUser": "a user",
       "latestUserId": null,
       "listResultMetadata": null,
       "metadata": {
        "byteLimit": 2048000,
        "rowLimit": 10000
       },
       "nuid": "98f69805-e087-4a6d-901a-5f845f8750fd",
       "origId": 0,
       "parentHierarchy": [],
       "pivotAggregation": null,
       "pivotColumns": null,
       "position": 39,
       "resultDbfsErrorMessage": null,
       "resultDbfsStatus": "INLINED_IN_TREE",
       "results": null,
       "showCommandTitle": false,
       "startTime": 0,
       "state": "input",
       "streamStates": {},
       "subcommandOptions": {
        "queryPlan": {
         "groups": [
          {
           "column": "OCCUPATION_TYPE",
           "type": "column"
          }
         ],
         "selects": [
          {
           "column": "OCCUPATION_TYPE",
           "type": "column"
          },
          {
           "alias": "column_e384dbcb13",
           "args": [
            {
             "column": "COUNT_OF_PAYMENT_DIFFICULTY",
             "type": "column"
            }
           ],
           "function": "SUM",
           "type": "function"
          }
         ]
        }
       },
       "submitTime": 0,
       "subtype": "tableResultSubCmd.visualization",
       "tableResultIndex": 0,
       "useConsistentColors": false,
       "version": "CommandV1",
       "width": "auto",
       "workflows": [],
       "xColumns": null,
       "yColumns": null
      }
     },
     "output_type": "display_data"
    }
   ],
   "source": [
    "occ_df = df.groupBy('OCCUPATION_TYPE') \\\n",
    "    .agg(f.count('PAY_DIFFICULTY').alias('COUNT_OF_PAYMENT_DIFFICULTY')) \\\n",
    "    .orderBy('COUNT_OF_PAYMENT_DIFFICULTY',ascending=False)\n",
    "occ_df.show()\n",
    "display(occ_df)"
   ]
  },
  {
   "cell_type": "markdown",
   "metadata": {},
   "source": [
    "## Loading Previous Application Data"
   ]
  },
  {
   "cell_type": "code",
   "execution_count": null,
   "metadata": {
    "application/vnd.databricks.v1+cell": {
     "cellMetadata": {
      "byteLimit": 2048000,
      "rowLimit": 10000
     },
     "inputWidgets": {},
     "nuid": "4e638c9c-befc-45e0-9fe4-4ece9c9e90a4",
     "showTitle": true,
     "title": "Loading Previous Application Data"
    }
   },
   "outputs": [
    {
     "name": "stdout",
     "output_type": "stream",
     "text": [
      "+----------+----------+------------------+-----------+---------------+----------+----------------+---------------+--------------------------+-----------------------+---------------------------+----------------------+-----------------+---------------------+------------------------+----------------------+--------------------+-------------+--------------------+------------------+---------------+----------------+-------------------+--------------+-----------------+--------------------+----------------+--------------------+-----------+----------------+--------------------+------------------+--------------+-------------------------+-------------+----------------+-------------------------+\n",
      "|SK_ID_PREV|SK_ID_CURR|NAME_CONTRACT_TYPE|AMT_ANNUITY|AMT_APPLICATION|AMT_CREDIT|AMT_DOWN_PAYMENT|AMT_GOODS_PRICE|WEEKDAY_APPR_PROCESS_START|HOUR_APPR_PROCESS_START|FLAG_LAST_APPL_PER_CONTRACT|NFLAG_LAST_APPL_IN_DAY|RATE_DOWN_PAYMENT|RATE_INTEREST_PRIMARY|RATE_INTEREST_PRIVILEGED|NAME_CASH_LOAN_PURPOSE|NAME_CONTRACT_STATUS|DAYS_DECISION|   NAME_PAYMENT_TYPE|CODE_REJECT_REASON|NAME_TYPE_SUITE|NAME_CLIENT_TYPE|NAME_GOODS_CATEGORY|NAME_PORTFOLIO|NAME_PRODUCT_TYPE|        CHANNEL_TYPE|SELLERPLACE_AREA|NAME_SELLER_INDUSTRY|CNT_PAYMENT|NAME_YIELD_GROUP| PRODUCT_COMBINATION|DAYS_FIRST_DRAWING|DAYS_FIRST_DUE|DAYS_LAST_DUE_1ST_VERSION|DAYS_LAST_DUE|DAYS_TERMINATION|NFLAG_INSURED_ON_APPROVAL|\n",
      "+----------+----------+------------------+-----------+---------------+----------+----------------+---------------+--------------------------+-----------------------+---------------------------+----------------------+-----------------+---------------------+------------------------+----------------------+--------------------+-------------+--------------------+------------------+---------------+----------------+-------------------+--------------+-----------------+--------------------+----------------+--------------------+-----------+----------------+--------------------+------------------+--------------+-------------------------+-------------+----------------+-------------------------+\n",
      "|   2030495|    271877|    Consumer loans|    1730.43|        17145.0|   17145.0|             0.0|        17145.0|                  SATURDAY|                     15|                          Y|                     1|              0.0|  0.18283180324152784|      0.8673361522198731|                   XAP|            Approved|          -73|Cash through the ...|               XAP|           null|        Repeater|             Mobile|           POS|              XNA|        Country-wide|              35|        Connectivity|       12.0|          middle|POS mobile with i...|          365243.0|         -42.0|                    300.0|        -42.0|           -37.0|                      0.0|\n",
      "|   2802425|    108129|        Cash loans|  25188.615|       607500.0|  679671.0|            null|       607500.0|                  THURSDAY|                     11|                          Y|                     1|             null|                 null|                    null|                   XNA|            Approved|         -164|                 XNA|               XAP|  Unaccompanied|        Repeater|                XNA|          Cash|           x-sell|      Contact center|              -1|                 XNA|       36.0|      low_action|    Cash X-Sell: low|          365243.0|        -134.0|                    916.0|     365243.0|        365243.0|                      1.0|\n",
      "|   2523466|    122040|        Cash loans|  15060.735|       112500.0|  136444.5|            null|       112500.0|                   TUESDAY|                     11|                          Y|                     1|             null|                 null|                    null|                   XNA|            Approved|         -301|Cash through the ...|               XAP|Spouse, partner|        Repeater|                XNA|          Cash|           x-sell|Credit and cash o...|              -1|                 XNA|       12.0|            high|   Cash X-Sell: high|          365243.0|        -271.0|                     59.0|     365243.0|        365243.0|                      1.0|\n",
      "|   2819243|    176158|        Cash loans|  47041.335|       450000.0|  470790.0|            null|       450000.0|                    MONDAY|                      7|                          Y|                     1|             null|                 null|                    null|                   XNA|            Approved|         -512|Cash through the ...|               XAP|           null|        Repeater|                XNA|          Cash|           x-sell|Credit and cash o...|              -1|                 XNA|       12.0|          middle| Cash X-Sell: middle|          365243.0|        -482.0|                   -152.0|       -182.0|          -177.0|                      1.0|\n",
      "|   1784265|    202054|        Cash loans|  31924.395|       337500.0|  404055.0|            null|       337500.0|                  THURSDAY|                      9|                          Y|                     1|             null|                 null|                    null|               Repairs|             Refused|         -781|Cash through the ...|                HC|           null|        Repeater|                XNA|          Cash|          walk-in|Credit and cash o...|              -1|                 XNA|       24.0|            high|   Cash Street: high|              null|          null|                     null|         null|            null|                     null|\n",
      "+----------+----------+------------------+-----------+---------------+----------+----------------+---------------+--------------------------+-----------------------+---------------------------+----------------------+-----------------+---------------------+------------------------+----------------------+--------------------+-------------+--------------------+------------------+---------------+----------------+-------------------+--------------+-----------------+--------------------+----------------+--------------------+-----------+----------------+--------------------+------------------+--------------+-------------------------+-------------+----------------+-------------------------+\n",
      "only showing top 5 rows\n",
      "\n"
     ]
    }
   ],
   "source": [
    "ndf = spark.read.csv('/FileStore/tables/previous_application.csv',header=True,inferSchema=True)\n",
    "ndf.show(5)"
   ]
  },
  {
   "cell_type": "markdown",
   "metadata": {},
   "source": [
    "## Getting columns that will be used in our analysis"
   ]
  },
  {
   "cell_type": "code",
   "execution_count": null,
   "metadata": {
    "application/vnd.databricks.v1+cell": {
     "cellMetadata": {
      "byteLimit": 2048000,
      "rowLimit": 10000
     },
     "inputWidgets": {},
     "nuid": "1351d1af-83d2-4665-938c-517c45048f52",
     "showTitle": true,
     "title": "Getting columns that will be used in our analysis"
    }
   },
   "outputs": [
    {
     "name": "stdout",
     "output_type": "stream",
     "text": [
      "+----------+------------------+--------------------+\n",
      "|SK_ID_CURR|NAME_CONTRACT_TYPE|NAME_CONTRACT_STATUS|\n",
      "+----------+------------------+--------------------+\n",
      "|    271877|    Consumer loans|            Approved|\n",
      "|    108129|        Cash loans|            Approved|\n",
      "|    122040|        Cash loans|            Approved|\n",
      "|    176158|        Cash loans|            Approved|\n",
      "|    202054|        Cash loans|             Refused|\n",
      "|    199383|        Cash loans|            Approved|\n",
      "|    175704|        Cash loans|            Canceled|\n",
      "|    296299|        Cash loans|            Canceled|\n",
      "|    342292|        Cash loans|            Canceled|\n",
      "|    334349|        Cash loans|            Canceled|\n",
      "|    447712|        Cash loans|            Approved|\n",
      "|    161140|        Cash loans|            Approved|\n",
      "|    258628|        Cash loans|            Approved|\n",
      "|    321676|    Consumer loans|            Approved|\n",
      "|    270658|    Consumer loans|            Approved|\n",
      "|    151612|    Consumer loans|            Approved|\n",
      "|    154602|    Consumer loans|            Approved|\n",
      "|    142748|   Revolving loans|            Approved|\n",
      "|    396305|        Cash loans|            Approved|\n",
      "|    199178|        Cash loans|             Refused|\n",
      "+----------+------------------+--------------------+\n",
      "only showing top 20 rows\n",
      "\n"
     ]
    }
   ],
   "source": [
    "l = ['SK_ID_CURR','NAME_CONTRACT_TYPE','NAME_CONTRACT_STATUS']\n",
    "n2df = ndf[l]\n",
    "n2df.show()"
   ]
  },
  {
   "cell_type": "markdown",
   "metadata": {},
   "source": [
    "## Joining two dataframes"
   ]
  },
  {
   "cell_type": "code",
   "execution_count": null,
   "metadata": {
    "application/vnd.databricks.v1+cell": {
     "cellMetadata": {
      "byteLimit": 2048000,
      "rowLimit": 10000
     },
     "inputWidgets": {},
     "nuid": "bb9f7d42-fae8-4a2e-bc36-93169884c13a",
     "showTitle": true,
     "title": "Joining two dataframes"
    }
   },
   "outputs": [
    {
     "name": "stdout",
     "output_type": "stream",
     "text": [
      "+----------+------+------------------+-----------+------------+---------------+------------+----------------+----------+-----------+---------------+---------------+----------------+--------------------+--------------------+-----------------+---------------+-----------------+------------+-------------------+--------------+------------------+--------------------+\n",
      "|SK_ID_CURR|TARGET|NAME_CONTRACT_TYPE|CODE_GENDER|FLAG_OWN_CAR|FLAG_OWN_REALTY|CNT_CHILDREN|AMT_INCOME_TOTAL|AMT_CREDIT|AMT_ANNUITY|AMT_GOODS_PRICE|NAME_TYPE_SUITE|NAME_INCOME_TYPE| NAME_EDUCATION_TYPE|  NAME_FAMILY_STATUS|NAME_HOUSING_TYPE|OCCUPATION_TYPE|ORGANIZATION_TYPE|INCOME_RANGE|CREDIT_INCOME_RANGE|PAY_DIFFICULTY|NAME_CONTRACT_TYPE|NAME_CONTRACT_STATUS|\n",
      "+----------+------+------------------+-----------+------------+---------------+------------+----------------+----------+-----------+---------------+---------------+----------------+--------------------+--------------------+-----------------+---------------+-----------------+------------+-------------------+--------------+------------------+--------------------+\n",
      "|    100003|     0|        Cash loans|          F|           N|              N|           0|        270000.0| 1293502.5|    35698.5|      1129500.0|         Family|   State servant|    Higher education|             Married|House / apartment|     Core staff|           School|    Above 3L|            10L-15L|            NO|        Cash loans|            Approved|\n",
      "|    100003|     0|        Cash loans|          F|           N|              N|           0|        270000.0| 1293502.5|    35698.5|      1129500.0|         Family|   State servant|    Higher education|             Married|House / apartment|     Core staff|           School|    Above 3L|            10L-15L|            NO|    Consumer loans|            Approved|\n",
      "|    100003|     0|        Cash loans|          F|           N|              N|           0|        270000.0| 1293502.5|    35698.5|      1129500.0|         Family|   State servant|    Higher education|             Married|House / apartment|     Core staff|           School|    Above 3L|            10L-15L|            NO|    Consumer loans|            Approved|\n",
      "|    100007|     0|        Cash loans|          M|           N|              Y|           0|        121500.0|  513000.0|    21865.5|       513000.0|  Unaccompanied|         Working|Secondary / secon...|Single / not married|House / apartment|     Core staff|         Religion|     1L-1.5L|             5L-10L|            NO|        Cash loans|            Approved|\n",
      "|    100007|     0|        Cash loans|          M|           N|              Y|           0|        121500.0|  513000.0|    21865.5|       513000.0|  Unaccompanied|         Working|Secondary / secon...|Single / not married|House / apartment|     Core staff|         Religion|     1L-1.5L|             5L-10L|            NO|        Cash loans|            Approved|\n",
      "+----------+------+------------------+-----------+------------+---------------+------------+----------------+----------+-----------+---------------+---------------+----------------+--------------------+--------------------+-----------------+---------------+-----------------+------------+-------------------+--------------+------------------+--------------------+\n",
      "only showing top 5 rows\n",
      "\n"
     ]
    }
   ],
   "source": [
    "joined_df = df.join(n2df,on=['SK_ID_CURR'])\n",
    "joined_df.show(5)"
   ]
  },
  {
   "cell_type": "markdown",
   "metadata": {},
   "source": [
    "## Counting which family status gets loan Approved or refused or canceled"
   ]
  },
  {
   "cell_type": "code",
   "execution_count": null,
   "metadata": {
    "application/vnd.databricks.v1+cell": {
     "cellMetadata": {
      "byteLimit": 2048000,
      "rowLimit": 10000
     },
     "inputWidgets": {},
     "nuid": "09e59792-08f4-4656-b751-8b2a8e68db96",
     "showTitle": true,
     "title": "Counting which family status gets loan Approved or refused or canceled"
    }
   },
   "outputs": [
    {
     "name": "stdout",
     "output_type": "stream",
     "text": [
      "+--------------------+--------------------+---------------------------+\n",
      "|  NAME_FAMILY_STATUS|NAME_CONTRACT_STATUS|count(NAME_CONTRACT_STATUS)|\n",
      "+--------------------+--------------------+---------------------------+\n",
      "|      Civil marriage|            Approved|                      82515|\n",
      "|      Civil marriage|             Refused|                      26561|\n",
      "|      Civil marriage|            Canceled|                      24665|\n",
      "|      Civil marriage|        Unused offer|                       1876|\n",
      "|             Married|            Approved|                     547135|\n",
      "|             Married|            Canceled|                     157660|\n",
      "|             Married|        Unused offer|                      13620|\n",
      "|             Married|             Refused|                     142730|\n",
      "|           Separated|        Unused offer|                       1538|\n",
      "|           Separated|            Approved|                      53674|\n",
      "|           Separated|             Refused|                      15334|\n",
      "|           Separated|            Canceled|                      15511|\n",
      "|Single / not married|             Refused|                      32255|\n",
      "|Single / not married|            Approved|                     109495|\n",
      "|Single / not married|            Canceled|                      31597|\n",
      "|Single / not married|        Unused offer|                       3945|\n",
      "|               Widow|            Canceled|                      15517|\n",
      "|               Widow|             Refused|                      13762|\n",
      "|               Widow|        Unused offer|                        733|\n",
      "|               Widow|            Approved|                      49163|\n",
      "+--------------------+--------------------+---------------------------+\n",
      "\n"
     ]
    },
    {
     "data": {
      "text/html": [
       "<style scoped>\n",
       "  .table-result-container {\n",
       "    max-height: 300px;\n",
       "    overflow: auto;\n",
       "  }\n",
       "  table, th, td {\n",
       "    border: 1px solid black;\n",
       "    border-collapse: collapse;\n",
       "  }\n",
       "  th, td {\n",
       "    padding: 5px;\n",
       "  }\n",
       "  th {\n",
       "    text-align: left;\n",
       "  }\n",
       "</style><div class='table-result-container'><table class='table-result'><thead style='background-color: white'><tr><th>NAME_FAMILY_STATUS</th><th>NAME_CONTRACT_STATUS</th><th>count(NAME_CONTRACT_STATUS)</th></tr></thead><tbody><tr><td>Civil marriage</td><td>Approved</td><td>82515</td></tr><tr><td>Civil marriage</td><td>Refused</td><td>26561</td></tr><tr><td>Civil marriage</td><td>Canceled</td><td>24665</td></tr><tr><td>Civil marriage</td><td>Unused offer</td><td>1876</td></tr><tr><td>Married</td><td>Approved</td><td>547135</td></tr><tr><td>Married</td><td>Canceled</td><td>157660</td></tr><tr><td>Married</td><td>Unused offer</td><td>13620</td></tr><tr><td>Married</td><td>Refused</td><td>142730</td></tr><tr><td>Separated</td><td>Unused offer</td><td>1538</td></tr><tr><td>Separated</td><td>Approved</td><td>53674</td></tr><tr><td>Separated</td><td>Refused</td><td>15334</td></tr><tr><td>Separated</td><td>Canceled</td><td>15511</td></tr><tr><td>Single / not married</td><td>Refused</td><td>32255</td></tr><tr><td>Single / not married</td><td>Approved</td><td>109495</td></tr><tr><td>Single / not married</td><td>Canceled</td><td>31597</td></tr><tr><td>Single / not married</td><td>Unused offer</td><td>3945</td></tr><tr><td>Widow</td><td>Canceled</td><td>15517</td></tr><tr><td>Widow</td><td>Refused</td><td>13762</td></tr><tr><td>Widow</td><td>Unused offer</td><td>733</td></tr><tr><td>Widow</td><td>Approved</td><td>49163</td></tr></tbody></table></div>"
      ]
     },
     "metadata": {
      "application/vnd.databricks.v1+output": {
       "addedWidgets": {},
       "aggData": [],
       "aggError": "",
       "aggOverflow": false,
       "aggSchema": [],
       "aggSeriesLimitReached": false,
       "aggType": "",
       "arguments": {},
       "columnCustomDisplayInfos": {},
       "data": [
        [
         "Civil marriage",
         "Approved",
         82515
        ],
        [
         "Civil marriage",
         "Refused",
         26561
        ],
        [
         "Civil marriage",
         "Canceled",
         24665
        ],
        [
         "Civil marriage",
         "Unused offer",
         1876
        ],
        [
         "Married",
         "Approved",
         547135
        ],
        [
         "Married",
         "Canceled",
         157660
        ],
        [
         "Married",
         "Unused offer",
         13620
        ],
        [
         "Married",
         "Refused",
         142730
        ],
        [
         "Separated",
         "Unused offer",
         1538
        ],
        [
         "Separated",
         "Approved",
         53674
        ],
        [
         "Separated",
         "Refused",
         15334
        ],
        [
         "Separated",
         "Canceled",
         15511
        ],
        [
         "Single / not married",
         "Refused",
         32255
        ],
        [
         "Single / not married",
         "Approved",
         109495
        ],
        [
         "Single / not married",
         "Canceled",
         31597
        ],
        [
         "Single / not married",
         "Unused offer",
         3945
        ],
        [
         "Widow",
         "Canceled",
         15517
        ],
        [
         "Widow",
         "Refused",
         13762
        ],
        [
         "Widow",
         "Unused offer",
         733
        ],
        [
         "Widow",
         "Approved",
         49163
        ]
       ],
       "datasetInfos": [],
       "dbfsResultPath": null,
       "isJsonSchema": true,
       "metadata": {},
       "overflow": false,
       "plotOptions": {
        "customPlotOptions": {},
        "displayType": "table",
        "pivotAggregation": null,
        "pivotColumns": null,
        "xColumns": null,
        "yColumns": null
       },
       "removedWidgets": [],
       "schema": [
        {
         "metadata": "{}",
         "name": "NAME_FAMILY_STATUS",
         "type": "\"string\""
        },
        {
         "metadata": "{}",
         "name": "NAME_CONTRACT_STATUS",
         "type": "\"string\""
        },
        {
         "metadata": "{}",
         "name": "count(NAME_CONTRACT_STATUS)",
         "type": "\"long\""
        }
       ],
       "type": "table"
      }
     },
     "output_type": "display_data"
    },
    {
     "data": {
      "text/plain": [
       "Databricks visualization. Run in Databricks to view."
      ]
     },
     "metadata": {
      "application/vnd.databricks.v1.subcommand+json": {
       "bindings": {},
       "collapsed": false,
       "command": "%python\n__backend_agg_display_orig = display\n__backend_agg_dfs = []\ndef __backend_agg_display_new(df):\n    __backend_agg_df_modules = [\"pandas.core.frame\", \"databricks.koalas.frame\", \"pyspark.sql.dataframe\", \"pyspark.pandas.frame\", \"pyspark.sql.connect.dataframe\"]\n    if (type(df).__module__ in __backend_agg_df_modules and type(df).__name__ == 'DataFrame') or isinstance(df, list):\n        __backend_agg_dfs.append(df)\n\ndisplay = __backend_agg_display_new\n\ndef __backend_agg_user_code_fn():\n    import base64\n    exec(base64.standard_b64decode(\"bjNkZiA9IGpvaW5lZF9kZi5ncm91cEJ5KCdOQU1FX0ZBTUlMWV9TVEFUVVMnLCdOQU1FX0NPTlRSQUNUX1NUQVRVUycpIFwKICAgIC5hZ2coZi5jb3VudCgnTkFNRV9DT05UUkFDVF9TVEFUVVMnKSkgXAogICAgLm9yZGVyQnkoJ05BTUVfRkFNSUxZX1NUQVRVUycpCm4zZGYuc2hvdygpCmRpc3BsYXkobjNkZik=\").decode())\n\ntry:\n    # run user code\n    __backend_agg_user_code_fn()\n\n    #reset display function\n    display = __backend_agg_display_orig\n\n    if len(__backend_agg_dfs) > 0:\n        # create a temp view\n        if type(__backend_agg_dfs[0]).__module__ == \"databricks.koalas.frame\":\n            # koalas dataframe\n            __backend_agg_dfs[0].to_spark().createOrReplaceTempView(\"DatabricksViewf6ba2cf\")\n        elif type(__backend_agg_dfs[0]).__module__ == \"pandas.core.frame\" or isinstance(__backend_agg_dfs[0], list):\n            # pandas dataframe\n            spark.createDataFrame(__backend_agg_dfs[0]).createOrReplaceTempView(\"DatabricksViewf6ba2cf\")\n        else:\n            __backend_agg_dfs[0].createOrReplaceTempView(\"DatabricksViewf6ba2cf\")\n        #run backend agg\n        display(spark.sql(\"\"\"WITH q AS (select * from DatabricksViewf6ba2cf) SELECT `NAME_FAMILY_STATUS`,`NAME_CONTRACT_STATUS`,SUM(`count(NAME_CONTRACT_STATUS)`) `column_e384dbcb24` FROM q GROUP BY `NAME_CONTRACT_STATUS`,`NAME_FAMILY_STATUS`\"\"\"))\n    else:\n        displayHTML(\"dataframe no longer exists. If you're using dataframe.display(), use display(dataframe) instead.\")\n\n\nfinally:\n    spark.sql(\"drop view if exists DatabricksViewf6ba2cf\")\n    display = __backend_agg_display_orig\n    del __backend_agg_display_new\n    del __backend_agg_display_orig\n    del __backend_agg_dfs\n    del __backend_agg_user_code_fn\n\n",
       "commandTitle": "Visualization 1",
       "commandType": "auto",
       "commandVersion": 0,
       "commentThread": [],
       "commentsVisible": false,
       "contentSha256Hex": null,
       "customPlotOptions": {
        "redashChart": [
         {
          "key": "type",
          "value": "CHART"
         },
         {
          "key": "options",
          "value": {
           "alignYAxesAtZero": true,
           "coefficient": 1,
           "columnConfigurationMap": {
            "series": {
             "column": "NAME_CONTRACT_STATUS",
             "id": "column_e384dbcb23"
            },
            "x": {
             "column": "NAME_FAMILY_STATUS",
             "id": "column_e384dbcb22"
            },
            "y": [
             {
              "column": "count(NAME_CONTRACT_STATUS)",
              "id": "column_e384dbcb24",
              "transform": "SUM"
             }
            ]
           },
           "dateTimeFormat": "DD/MM/YYYY HH:mm",
           "direction": {
            "type": "counterclockwise"
           },
           "error_y": {
            "type": "data",
            "visible": true
           },
           "globalSeriesType": "column",
           "isAggregationOn": true,
           "legend": {
            "traceorder": "normal"
           },
           "missingValuesAsZero": true,
           "numberFormat": "0,0.[00000]",
           "percentFormat": "0[.]00%",
           "reverseX": false,
           "series": {
            "error_y": {
             "type": "data",
             "visible": true
            },
            "stacking": ""
           },
           "seriesOptions": {
            "column_e384dbcb24": {
             "name": "count(NAME_CONTRACT_STATUS)",
             "type": "column",
             "yAxis": 0
            }
           },
           "showDataLabels": true,
           "sizemode": "diameter",
           "sortX": false,
           "sortY": true,
           "swappedAxes": false,
           "textFormat": "",
           "useAggregationsUi": true,
           "valuesOptions": {},
           "version": 2,
           "xAxis": {
            "labels": {
             "enabled": true
            },
            "type": "-"
           },
           "yAxis": [
            {
             "type": "-"
            },
            {
             "opposite": true,
             "type": "-"
            }
           ]
          }
         }
        ]
       },
       "datasetPreviewNameToCmdIdMap": {},
       "diffDeletes": [],
       "diffInserts": [],
       "displayType": "redashChart",
       "error": null,
       "errorDetails": null,
       "errorSummary": null,
       "errorTraceType": null,
       "finishTime": 0,
       "globalVars": {},
       "guid": "",
       "height": "auto",
       "hideCommandCode": false,
       "hideCommandResult": false,
       "iPythonMetadata": null,
       "inputWidgets": {},
       "isLockedInExamMode": false,
       "latestUser": "a user",
       "latestUserId": null,
       "listResultMetadata": null,
       "metadata": {
        "byteLimit": 2048000,
        "rowLimit": 10000
       },
       "nuid": "46e789c4-3d4d-4125-be29-e9cac53735af",
       "origId": 0,
       "parentHierarchy": [],
       "pivotAggregation": null,
       "pivotColumns": null,
       "position": 44,
       "resultDbfsErrorMessage": null,
       "resultDbfsStatus": "INLINED_IN_TREE",
       "results": null,
       "showCommandTitle": false,
       "startTime": 0,
       "state": "input",
       "streamStates": {},
       "subcommandOptions": {
        "queryPlan": {
         "groups": [
          {
           "column": "NAME_FAMILY_STATUS",
           "type": "column"
          },
          {
           "column": "NAME_CONTRACT_STATUS",
           "type": "column"
          }
         ],
         "selects": [
          {
           "column": "NAME_FAMILY_STATUS",
           "type": "column"
          },
          {
           "column": "NAME_CONTRACT_STATUS",
           "type": "column"
          },
          {
           "alias": "column_e384dbcb24",
           "args": [
            {
             "column": "count(NAME_CONTRACT_STATUS)",
             "type": "column"
            }
           ],
           "function": "SUM",
           "type": "function"
          }
         ]
        }
       },
       "submitTime": 0,
       "subtype": "tableResultSubCmd.visualization",
       "tableResultIndex": 0,
       "useConsistentColors": false,
       "version": "CommandV1",
       "width": "auto",
       "workflows": [],
       "xColumns": null,
       "yColumns": null
      }
     },
     "output_type": "display_data"
    }
   ],
   "source": [
    "n3df = joined_df.groupBy('NAME_FAMILY_STATUS','NAME_CONTRACT_STATUS') \\\n",
    "    .agg(f.count('NAME_CONTRACT_STATUS')) \\\n",
    "    .orderBy('NAME_FAMILY_STATUS')\n",
    "n3df.show()\n",
    "display(n3df)"
   ]
  },
  {
   "cell_type": "markdown",
   "metadata": {},
   "source": [
    "## Filtering data Family status=Married"
   ]
  },
  {
   "cell_type": "code",
   "execution_count": null,
   "metadata": {
    "application/vnd.databricks.v1+cell": {
     "cellMetadata": {
      "byteLimit": 2048000,
      "rowLimit": 10000
     },
     "inputWidgets": {},
     "nuid": "8dda8a7b-e553-4c1e-9ca2-d92f17a4e4be",
     "showTitle": true,
     "title": "Filtering data Family status=Married"
    }
   },
   "outputs": [
    {
     "data": {
      "text/html": [
       "<style scoped>\n",
       "  .table-result-container {\n",
       "    max-height: 300px;\n",
       "    overflow: auto;\n",
       "  }\n",
       "  table, th, td {\n",
       "    border: 1px solid black;\n",
       "    border-collapse: collapse;\n",
       "  }\n",
       "  th, td {\n",
       "    padding: 5px;\n",
       "  }\n",
       "  th {\n",
       "    text-align: left;\n",
       "  }\n",
       "</style><div class='table-result-container'><table class='table-result'><thead style='background-color: white'><tr><th>NAME_FAMILY_STATUS</th><th>NAME_CONTRACT_STATUS</th><th>count(NAME_CONTRACT_STATUS)</th></tr></thead><tbody><tr><td>Married</td><td>Approved</td><td>547135</td></tr><tr><td>Married</td><td>Canceled</td><td>157660</td></tr><tr><td>Married</td><td>Unused offer</td><td>13620</td></tr><tr><td>Married</td><td>Refused</td><td>142730</td></tr></tbody></table></div>"
      ]
     },
     "metadata": {
      "application/vnd.databricks.v1+output": {
       "addedWidgets": {},
       "aggData": [],
       "aggError": "",
       "aggOverflow": false,
       "aggSchema": [],
       "aggSeriesLimitReached": false,
       "aggType": "",
       "arguments": {},
       "columnCustomDisplayInfos": {},
       "data": [
        [
         "Married",
         "Approved",
         547135
        ],
        [
         "Married",
         "Canceled",
         157660
        ],
        [
         "Married",
         "Unused offer",
         13620
        ],
        [
         "Married",
         "Refused",
         142730
        ]
       ],
       "datasetInfos": [],
       "dbfsResultPath": null,
       "isJsonSchema": true,
       "metadata": {},
       "overflow": false,
       "plotOptions": {
        "customPlotOptions": {},
        "displayType": "table",
        "pivotAggregation": null,
        "pivotColumns": null,
        "xColumns": null,
        "yColumns": null
       },
       "removedWidgets": [],
       "schema": [
        {
         "metadata": "{}",
         "name": "NAME_FAMILY_STATUS",
         "type": "\"string\""
        },
        {
         "metadata": "{}",
         "name": "NAME_CONTRACT_STATUS",
         "type": "\"string\""
        },
        {
         "metadata": "{}",
         "name": "count(NAME_CONTRACT_STATUS)",
         "type": "\"long\""
        }
       ],
       "type": "table"
      }
     },
     "output_type": "display_data"
    },
    {
     "data": {
      "text/plain": [
       "Databricks visualization. Run in Databricks to view."
      ]
     },
     "metadata": {
      "application/vnd.databricks.v1.subcommand+json": {
       "bindings": {},
       "collapsed": false,
       "command": "%python\n__backend_agg_display_orig = display\n__backend_agg_dfs = []\ndef __backend_agg_display_new(df):\n    __backend_agg_df_modules = [\"pandas.core.frame\", \"databricks.koalas.frame\", \"pyspark.sql.dataframe\", \"pyspark.pandas.frame\", \"pyspark.sql.connect.dataframe\"]\n    if (type(df).__module__ in __backend_agg_df_modules and type(df).__name__ == 'DataFrame') or isinstance(df, list):\n        __backend_agg_dfs.append(df)\n\ndisplay = __backend_agg_display_new\n\ndef __backend_agg_user_code_fn():\n    import base64\n    exec(base64.standard_b64decode(\"ZmFtX2RmID0gbjNkZi5maWx0ZXIobjNkZlsnTkFNRV9GQU1JTFlfU1RBVFVTJ109PSdNYXJyaWVkJykKZGlzcGxheShmYW1fZGYp\").decode())\n\ntry:\n    # run user code\n    __backend_agg_user_code_fn()\n\n    #reset display function\n    display = __backend_agg_display_orig\n\n    if len(__backend_agg_dfs) > 0:\n        # create a temp view\n        if type(__backend_agg_dfs[0]).__module__ == \"databricks.koalas.frame\":\n            # koalas dataframe\n            __backend_agg_dfs[0].to_spark().createOrReplaceTempView(\"DatabricksViewd863db8\")\n        elif type(__backend_agg_dfs[0]).__module__ == \"pandas.core.frame\" or isinstance(__backend_agg_dfs[0], list):\n            # pandas dataframe\n            spark.createDataFrame(__backend_agg_dfs[0]).createOrReplaceTempView(\"DatabricksViewd863db8\")\n        else:\n            __backend_agg_dfs[0].createOrReplaceTempView(\"DatabricksViewd863db8\")\n        #run backend agg\n        display(spark.sql(\"\"\"WITH q AS (select * from DatabricksViewd863db8) SELECT `NAME_CONTRACT_STATUS`,`count(NAME_CONTRACT_STATUS)` FROM q\"\"\"))\n    else:\n        displayHTML(\"dataframe no longer exists. If you're using dataframe.display(), use display(dataframe) instead.\")\n\n\nfinally:\n    spark.sql(\"drop view if exists DatabricksViewd863db8\")\n    display = __backend_agg_display_orig\n    del __backend_agg_display_new\n    del __backend_agg_display_orig\n    del __backend_agg_dfs\n    del __backend_agg_user_code_fn\n\n",
       "commandTitle": "Visualization 1",
       "commandType": "auto",
       "commandVersion": 0,
       "commentThread": [],
       "commentsVisible": false,
       "contentSha256Hex": null,
       "customPlotOptions": {
        "redashChart": [
         {
          "key": "type",
          "value": "CHART"
         },
         {
          "key": "options",
          "value": {
           "alignYAxesAtZero": true,
           "coefficient": 1,
           "columnConfigurationMap": {
            "x": {
             "column": "NAME_CONTRACT_STATUS",
             "id": "column_e384dbcb40"
            },
            "y": [
             {
              "column": "count(NAME_CONTRACT_STATUS)",
              "id": "column_e384dbcb38"
             }
            ]
           },
           "dateTimeFormat": "DD/MM/YYYY HH:mm",
           "direction": {
            "type": "counterclockwise"
           },
           "error_y": {
            "type": "data",
            "visible": true
           },
           "globalSeriesType": "pie",
           "isAggregationOn": false,
           "legend": {
            "traceorder": "normal"
           },
           "missingValuesAsZero": true,
           "numberFormat": "0,0.[00000]",
           "percentFormat": "0[.]00%",
           "series": {
            "error_y": {
             "type": "data",
             "visible": true
            },
            "stacking": null
           },
           "seriesOptions": {
            "count(NAME_CONTRACT_STATUS)": {
             "name": "count(NAME_CONTRACT_STATUS)",
             "type": "pie",
             "yAxis": 0
            }
           },
           "showDataLabels": true,
           "sizemode": "diameter",
           "sortX": true,
           "sortY": true,
           "swappedAxes": false,
           "textFormat": "",
           "useAggregationsUi": true,
           "valuesOptions": {
            "Approved": {
             "color": "#D40000"
            },
            "Canceled": {
             "color": "#50F5ED"
            },
            "Unused offer": {
             "color": "#50F5ED"
            }
           },
           "version": 2,
           "xAxis": {
            "labels": {
             "enabled": true
            },
            "type": "-"
           },
           "yAxis": [
            {
             "type": "-"
            },
            {
             "opposite": true,
             "type": "-"
            }
           ]
          }
         }
        ]
       },
       "datasetPreviewNameToCmdIdMap": {},
       "diffDeletes": [],
       "diffInserts": [],
       "displayType": "redashChart",
       "error": null,
       "errorDetails": null,
       "errorSummary": null,
       "errorTraceType": null,
       "finishTime": 0,
       "globalVars": {},
       "guid": "",
       "height": "auto",
       "hideCommandCode": false,
       "hideCommandResult": false,
       "iPythonMetadata": null,
       "inputWidgets": {},
       "isLockedInExamMode": false,
       "latestUser": "a user",
       "latestUserId": null,
       "listResultMetadata": null,
       "metadata": {
        "byteLimit": 2048000,
        "rowLimit": 10000
       },
       "nuid": "275bfa1a-2e3c-4f2a-924b-04afc43a1f24",
       "origId": 0,
       "parentHierarchy": [],
       "pivotAggregation": null,
       "pivotColumns": null,
       "position": 45,
       "resultDbfsErrorMessage": null,
       "resultDbfsStatus": "INLINED_IN_TREE",
       "results": null,
       "showCommandTitle": false,
       "startTime": 0,
       "state": "input",
       "streamStates": {},
       "subcommandOptions": {
        "queryPlan": {
         "selects": [
          {
           "column": "NAME_CONTRACT_STATUS",
           "type": "column"
          },
          {
           "column": "count(NAME_CONTRACT_STATUS)",
           "type": "column"
          }
         ]
        }
       },
       "submitTime": 0,
       "subtype": "tableResultSubCmd.visualization",
       "tableResultIndex": 0,
       "useConsistentColors": false,
       "version": "CommandV1",
       "width": "auto",
       "workflows": [],
       "xColumns": null,
       "yColumns": null
      }
     },
     "output_type": "display_data"
    }
   ],
   "source": [
    "fam_df = n3df.filter(n3df['NAME_FAMILY_STATUS']=='Married')\n",
    "display(fam_df)"
   ]
  },
  {
   "cell_type": "markdown",
   "metadata": {},
   "source": [
    "## How many loans gets refused"
   ]
  },
  {
   "cell_type": "code",
   "execution_count": null,
   "metadata": {
    "application/vnd.databricks.v1+cell": {
     "cellMetadata": {
      "byteLimit": 2048000,
      "rowLimit": 10000
     },
     "inputWidgets": {},
     "nuid": "a365d0a4-2120-4ad9-8d74-447f336a9d01",
     "showTitle": true,
     "title": "How many loans gets refused"
    }
   },
   "outputs": [
    {
     "name": "stdout",
     "output_type": "stream",
     "text": [
      "+--------------------+--------------------+---------------------------+\n",
      "|  NAME_FAMILY_STATUS|NAME_CONTRACT_STATUS|count(NAME_CONTRACT_STATUS)|\n",
      "+--------------------+--------------------+---------------------------+\n",
      "|      Civil marriage|             Refused|                      26561|\n",
      "|             Married|             Refused|                     142730|\n",
      "|           Separated|             Refused|                      15334|\n",
      "|Single / not married|             Refused|                      32255|\n",
      "|               Widow|             Refused|                      13762|\n",
      "+--------------------+--------------------+---------------------------+\n",
      "\n"
     ]
    },
    {
     "data": {
      "text/html": [
       "<style scoped>\n",
       "  .table-result-container {\n",
       "    max-height: 300px;\n",
       "    overflow: auto;\n",
       "  }\n",
       "  table, th, td {\n",
       "    border: 1px solid black;\n",
       "    border-collapse: collapse;\n",
       "  }\n",
       "  th, td {\n",
       "    padding: 5px;\n",
       "  }\n",
       "  th {\n",
       "    text-align: left;\n",
       "  }\n",
       "</style><div class='table-result-container'><table class='table-result'><thead style='background-color: white'><tr><th>NAME_FAMILY_STATUS</th><th>NAME_CONTRACT_STATUS</th><th>count(NAME_CONTRACT_STATUS)</th></tr></thead><tbody><tr><td>Civil marriage</td><td>Refused</td><td>26561</td></tr><tr><td>Married</td><td>Refused</td><td>142730</td></tr><tr><td>Separated</td><td>Refused</td><td>15334</td></tr><tr><td>Single / not married</td><td>Refused</td><td>32255</td></tr><tr><td>Widow</td><td>Refused</td><td>13762</td></tr></tbody></table></div>"
      ]
     },
     "metadata": {
      "application/vnd.databricks.v1+output": {
       "addedWidgets": {},
       "aggData": [],
       "aggError": "",
       "aggOverflow": false,
       "aggSchema": [],
       "aggSeriesLimitReached": false,
       "aggType": "",
       "arguments": {},
       "columnCustomDisplayInfos": {},
       "data": [
        [
         "Civil marriage",
         "Refused",
         26561
        ],
        [
         "Married",
         "Refused",
         142730
        ],
        [
         "Separated",
         "Refused",
         15334
        ],
        [
         "Single / not married",
         "Refused",
         32255
        ],
        [
         "Widow",
         "Refused",
         13762
        ]
       ],
       "datasetInfos": [],
       "dbfsResultPath": null,
       "isJsonSchema": true,
       "metadata": {},
       "overflow": false,
       "plotOptions": {
        "customPlotOptions": {},
        "displayType": "table",
        "pivotAggregation": null,
        "pivotColumns": null,
        "xColumns": null,
        "yColumns": null
       },
       "removedWidgets": [],
       "schema": [
        {
         "metadata": "{}",
         "name": "NAME_FAMILY_STATUS",
         "type": "\"string\""
        },
        {
         "metadata": "{}",
         "name": "NAME_CONTRACT_STATUS",
         "type": "\"string\""
        },
        {
         "metadata": "{}",
         "name": "count(NAME_CONTRACT_STATUS)",
         "type": "\"long\""
        }
       ],
       "type": "table"
      }
     },
     "output_type": "display_data"
    },
    {
     "data": {
      "text/plain": [
       "Databricks visualization. Run in Databricks to view."
      ]
     },
     "metadata": {
      "application/vnd.databricks.v1.subcommand+json": {
       "bindings": {},
       "collapsed": false,
       "command": "%python\n__backend_agg_display_orig = display\n__backend_agg_dfs = []\ndef __backend_agg_display_new(df):\n    __backend_agg_df_modules = [\"pandas.core.frame\", \"databricks.koalas.frame\", \"pyspark.sql.dataframe\", \"pyspark.pandas.frame\", \"pyspark.sql.connect.dataframe\"]\n    if (type(df).__module__ in __backend_agg_df_modules and type(df).__name__ == 'DataFrame') or isinstance(df, list):\n        __backend_agg_dfs.append(df)\n\ndisplay = __backend_agg_display_new\n\ndef __backend_agg_user_code_fn():\n    import base64\n    exec(base64.standard_b64decode(\"cmVmX2RmID0gbjNkZi5maWx0ZXIobjNkZlsnTkFNRV9DT05UUkFDVF9TVEFUVVMnXT09ICdSZWZ1c2VkJykKcmVmX2RmLnNob3coKQpkaXNwbGF5KHJlZl9kZik=\").decode())\n\ntry:\n    # run user code\n    __backend_agg_user_code_fn()\n\n    #reset display function\n    display = __backend_agg_display_orig\n\n    if len(__backend_agg_dfs) > 0:\n        # create a temp view\n        if type(__backend_agg_dfs[0]).__module__ == \"databricks.koalas.frame\":\n            # koalas dataframe\n            __backend_agg_dfs[0].to_spark().createOrReplaceTempView(\"DatabricksView0448c8c\")\n        elif type(__backend_agg_dfs[0]).__module__ == \"pandas.core.frame\" or isinstance(__backend_agg_dfs[0], list):\n            # pandas dataframe\n            spark.createDataFrame(__backend_agg_dfs[0]).createOrReplaceTempView(\"DatabricksView0448c8c\")\n        else:\n            __backend_agg_dfs[0].createOrReplaceTempView(\"DatabricksView0448c8c\")\n        #run backend agg\n        display(spark.sql(\"\"\"WITH q AS (select * from DatabricksView0448c8c) SELECT `NAME_FAMILY_STATUS`,`NAME_CONTRACT_STATUS`,SUM(`count(NAME_CONTRACT_STATUS)`) `column_e384dbcb43` FROM q GROUP BY `NAME_CONTRACT_STATUS`,`NAME_FAMILY_STATUS`\"\"\"))\n    else:\n        displayHTML(\"dataframe no longer exists. If you're using dataframe.display(), use display(dataframe) instead.\")\n\n\nfinally:\n    spark.sql(\"drop view if exists DatabricksView0448c8c\")\n    display = __backend_agg_display_orig\n    del __backend_agg_display_new\n    del __backend_agg_display_orig\n    del __backend_agg_dfs\n    del __backend_agg_user_code_fn\n\n",
       "commandTitle": "Refused",
       "commandType": "auto",
       "commandVersion": 0,
       "commentThread": [],
       "commentsVisible": false,
       "contentSha256Hex": null,
       "customPlotOptions": {
        "redashChart": [
         {
          "key": "type",
          "value": "CHART"
         },
         {
          "key": "options",
          "value": {
           "alignYAxesAtZero": true,
           "coefficient": 1,
           "columnConfigurationMap": {
            "series": {
             "column": "NAME_CONTRACT_STATUS",
             "id": "column_e384dbcb42"
            },
            "x": {
             "column": "NAME_FAMILY_STATUS",
             "id": "column_e384dbcb41"
            },
            "y": [
             {
              "column": "count(NAME_CONTRACT_STATUS)",
              "id": "column_e384dbcb43",
              "transform": "SUM"
             }
            ]
           },
           "dateTimeFormat": "DD/MM/YYYY HH:mm",
           "direction": {
            "type": "counterclockwise"
           },
           "error_y": {
            "type": "data",
            "visible": true
           },
           "globalSeriesType": "pie",
           "isAggregationOn": true,
           "legend": {
            "traceorder": "normal"
           },
           "missingValuesAsZero": true,
           "numberFormat": "0,0.[00000]",
           "percentFormat": "0[.]00%",
           "series": {
            "error_y": {
             "type": "data",
             "visible": true
            },
            "stacking": null
           },
           "seriesOptions": {
            "column_e384dbcb43": {
             "name": "count(NAME_CONTRACT_STATUS)",
             "type": "pie",
             "yAxis": 0
            }
           },
           "showDataLabels": true,
           "sizemode": "diameter",
           "sortX": true,
           "sortY": true,
           "swappedAxes": false,
           "textFormat": "",
           "useAggregationsUi": true,
           "valuesOptions": {},
           "version": 2,
           "xAxis": {
            "labels": {
             "enabled": true
            },
            "type": "-"
           },
           "yAxis": [
            {
             "type": "-"
            },
            {
             "opposite": true,
             "type": "-"
            }
           ]
          }
         }
        ]
       },
       "datasetPreviewNameToCmdIdMap": {},
       "diffDeletes": [],
       "diffInserts": [],
       "displayType": "redashChart",
       "error": null,
       "errorDetails": null,
       "errorSummary": null,
       "errorTraceType": null,
       "finishTime": 0,
       "globalVars": {},
       "guid": "",
       "height": "auto",
       "hideCommandCode": false,
       "hideCommandResult": false,
       "iPythonMetadata": null,
       "inputWidgets": {},
       "isLockedInExamMode": false,
       "latestUser": "a user",
       "latestUserId": null,
       "listResultMetadata": null,
       "metadata": {
        "byteLimit": 2048000,
        "rowLimit": 10000
       },
       "nuid": "3a961a1e-7a99-442e-becb-e7cc54329b35",
       "origId": 0,
       "parentHierarchy": [],
       "pivotAggregation": null,
       "pivotColumns": null,
       "position": 46,
       "resultDbfsErrorMessage": null,
       "resultDbfsStatus": "INLINED_IN_TREE",
       "results": null,
       "showCommandTitle": false,
       "startTime": 0,
       "state": "input",
       "streamStates": {},
       "subcommandOptions": {
        "queryPlan": {
         "groups": [
          {
           "column": "NAME_FAMILY_STATUS",
           "type": "column"
          },
          {
           "column": "NAME_CONTRACT_STATUS",
           "type": "column"
          }
         ],
         "selects": [
          {
           "column": "NAME_FAMILY_STATUS",
           "type": "column"
          },
          {
           "column": "NAME_CONTRACT_STATUS",
           "type": "column"
          },
          {
           "alias": "column_e384dbcb43",
           "args": [
            {
             "column": "count(NAME_CONTRACT_STATUS)",
             "type": "column"
            }
           ],
           "function": "SUM",
           "type": "function"
          }
         ]
        }
       },
       "submitTime": 0,
       "subtype": "tableResultSubCmd.visualization",
       "tableResultIndex": 0,
       "useConsistentColors": false,
       "version": "CommandV1",
       "width": "auto",
       "workflows": [],
       "xColumns": null,
       "yColumns": null
      }
     },
     "output_type": "display_data"
    }
   ],
   "source": [
    "ref_df = n3df.filter(n3df['NAME_CONTRACT_STATUS']== 'Refused')\n",
    "ref_df.show()\n",
    "display(ref_df)"
   ]
  },
  {
   "cell_type": "markdown",
   "metadata": {},
   "source": [
    "## Different professionals have different income range"
   ]
  },
  {
   "cell_type": "code",
   "execution_count": null,
   "metadata": {
    "application/vnd.databricks.v1+cell": {
     "cellMetadata": {
      "byteLimit": 2048000,
      "rowLimit": 10000
     },
     "inputWidgets": {},
     "nuid": "8dae3c86-41fc-4dea-8618-e2296b59c6ad",
     "showTitle": true,
     "title": "Different professionals have different income range"
    }
   },
   "outputs": [
    {
     "name": "stdout",
     "output_type": "stream",
     "text": [
      "+----------+------+------------------+-----------+------------+---------------+------------+----------------+----------+-----------+---------------+---------------+----------------+--------------------+--------------------+-----------------+---------------+-----------------+------------+-------------------+--------------+------------------+--------------------+\n",
      "|SK_ID_CURR|TARGET|NAME_CONTRACT_TYPE|CODE_GENDER|FLAG_OWN_CAR|FLAG_OWN_REALTY|CNT_CHILDREN|AMT_INCOME_TOTAL|AMT_CREDIT|AMT_ANNUITY|AMT_GOODS_PRICE|NAME_TYPE_SUITE|NAME_INCOME_TYPE| NAME_EDUCATION_TYPE|  NAME_FAMILY_STATUS|NAME_HOUSING_TYPE|OCCUPATION_TYPE|ORGANIZATION_TYPE|INCOME_RANGE|CREDIT_INCOME_RANGE|PAY_DIFFICULTY|NAME_CONTRACT_TYPE|NAME_CONTRACT_STATUS|\n",
      "+----------+------+------------------+-----------+------------+---------------+------------+----------------+----------+-----------+---------------+---------------+----------------+--------------------+--------------------+-----------------+---------------+-----------------+------------+-------------------+--------------+------------------+--------------------+\n",
      "|    100003|     0|        Cash loans|          F|           N|              N|           0|        270000.0| 1293502.5|    35698.5|      1129500.0|         Family|   State servant|    Higher education|             Married|House / apartment|     Core staff|           School|    Above 3L|            10L-15L|            NO|        Cash loans|            Approved|\n",
      "|    100003|     0|        Cash loans|          F|           N|              N|           0|        270000.0| 1293502.5|    35698.5|      1129500.0|         Family|   State servant|    Higher education|             Married|House / apartment|     Core staff|           School|    Above 3L|            10L-15L|            NO|    Consumer loans|            Approved|\n",
      "|    100003|     0|        Cash loans|          F|           N|              N|           0|        270000.0| 1293502.5|    35698.5|      1129500.0|         Family|   State servant|    Higher education|             Married|House / apartment|     Core staff|           School|    Above 3L|            10L-15L|            NO|    Consumer loans|            Approved|\n",
      "|    100007|     0|        Cash loans|          M|           N|              Y|           0|        121500.0|  513000.0|    21865.5|       513000.0|  Unaccompanied|         Working|Secondary / secon...|Single / not married|House / apartment|     Core staff|         Religion|     1L-1.5L|             5L-10L|            NO|        Cash loans|            Approved|\n",
      "|    100007|     0|        Cash loans|          M|           N|              Y|           0|        121500.0|  513000.0|    21865.5|       513000.0|  Unaccompanied|         Working|Secondary / secon...|Single / not married|House / apartment|     Core staff|         Religion|     1L-1.5L|             5L-10L|            NO|        Cash loans|            Approved|\n",
      "+----------+------+------------------+-----------+------------+---------------+------------+----------------+----------+-----------+---------------+---------------+----------------+--------------------+--------------------+-----------------+---------------+-----------------+------------+-------------------+--------------+------------------+--------------------+\n",
      "only showing top 5 rows\n",
      "\n"
     ]
    }
   ],
   "source": [
    "joined_df.show(5)"
   ]
  },
  {
   "cell_type": "code",
   "execution_count": null,
   "metadata": {
    "application/vnd.databricks.v1+cell": {
     "cellMetadata": {
      "byteLimit": 2048000,
      "rowLimit": 10000
     },
     "inputWidgets": {},
     "nuid": "84b56e51-05c9-440b-981f-609b6efb7f82",
     "showTitle": false,
     "title": ""
    }
   },
   "outputs": [
    {
     "name": "stdout",
     "output_type": "stream",
     "text": [
      "+--------------------+-----------------------+\n",
      "|    NAME_INCOME_TYPE|count(AMT_INCOME_TOTAL)|\n",
      "+--------------------+-----------------------+\n",
      "|             Working|                 694409|\n",
      "|Commercial associate|                 290341|\n",
      "|           Pensioner|                 266286|\n",
      "|       State servant|                  88087|\n",
      "|          Unemployed|                    123|\n",
      "|             Student|                     24|\n",
      "|     Maternity leave|                     16|\n",
      "+--------------------+-----------------------+\n",
      "\n"
     ]
    },
    {
     "data": {
      "text/html": [
       "<style scoped>\n",
       "  .table-result-container {\n",
       "    max-height: 300px;\n",
       "    overflow: auto;\n",
       "  }\n",
       "  table, th, td {\n",
       "    border: 1px solid black;\n",
       "    border-collapse: collapse;\n",
       "  }\n",
       "  th, td {\n",
       "    padding: 5px;\n",
       "  }\n",
       "  th {\n",
       "    text-align: left;\n",
       "  }\n",
       "</style><div class='table-result-container'><table class='table-result'><thead style='background-color: white'><tr><th>NAME_INCOME_TYPE</th><th>count(AMT_INCOME_TOTAL)</th></tr></thead><tbody><tr><td>Working</td><td>694409</td></tr><tr><td>Commercial associate</td><td>290341</td></tr><tr><td>Pensioner</td><td>266286</td></tr><tr><td>State servant</td><td>88087</td></tr><tr><td>Unemployed</td><td>123</td></tr><tr><td>Student</td><td>24</td></tr><tr><td>Maternity leave</td><td>16</td></tr></tbody></table></div>"
      ]
     },
     "metadata": {
      "application/vnd.databricks.v1+output": {
       "addedWidgets": {},
       "aggData": [],
       "aggError": "",
       "aggOverflow": false,
       "aggSchema": [],
       "aggSeriesLimitReached": false,
       "aggType": "",
       "arguments": {},
       "columnCustomDisplayInfos": {},
       "data": [
        [
         "Working",
         694409
        ],
        [
         "Commercial associate",
         290341
        ],
        [
         "Pensioner",
         266286
        ],
        [
         "State servant",
         88087
        ],
        [
         "Unemployed",
         123
        ],
        [
         "Student",
         24
        ],
        [
         "Maternity leave",
         16
        ]
       ],
       "datasetInfos": [],
       "dbfsResultPath": null,
       "isJsonSchema": true,
       "metadata": {},
       "overflow": false,
       "plotOptions": {
        "customPlotOptions": {},
        "displayType": "table",
        "pivotAggregation": null,
        "pivotColumns": null,
        "xColumns": null,
        "yColumns": null
       },
       "removedWidgets": [],
       "schema": [
        {
         "metadata": "{}",
         "name": "NAME_INCOME_TYPE",
         "type": "\"string\""
        },
        {
         "metadata": "{}",
         "name": "count(AMT_INCOME_TOTAL)",
         "type": "\"long\""
        }
       ],
       "type": "table"
      }
     },
     "output_type": "display_data"
    },
    {
     "data": {
      "text/plain": [
       "Databricks visualization. Run in Databricks to view."
      ]
     },
     "metadata": {
      "application/vnd.databricks.v1.subcommand+json": {
       "bindings": {},
       "collapsed": false,
       "command": "%python\n__backend_agg_display_orig = display\n__backend_agg_dfs = []\ndef __backend_agg_display_new(df):\n    __backend_agg_df_modules = [\"pandas.core.frame\", \"databricks.koalas.frame\", \"pyspark.sql.dataframe\", \"pyspark.pandas.frame\", \"pyspark.sql.connect.dataframe\"]\n    if (type(df).__module__ in __backend_agg_df_modules and type(df).__name__ == 'DataFrame') or isinstance(df, list):\n        __backend_agg_dfs.append(df)\n\ndisplay = __backend_agg_display_new\n\ndef __backend_agg_user_code_fn():\n    import base64\n    exec(base64.standard_b64decode(\"YzFkZiA9IGpvaW5lZF9kZi5ncm91cEJ5KCdOQU1FX0lOQ09NRV9UWVBFJykgXAogICAgLmFnZyhmLmNvdW50KCdBTVRfSU5DT01FX1RPVEFMJykpIFwKICAgIC5vcmRlckJ5KCdjb3VudChBTVRfSU5DT01FX1RPVEFMKScsYXNjZW5kaW5nPUZhbHNlKQpjMWRmLnNob3coKQpkaXNwbGF5KGMxZGYp\").decode())\n\ntry:\n    # run user code\n    __backend_agg_user_code_fn()\n\n    #reset display function\n    display = __backend_agg_display_orig\n\n    if len(__backend_agg_dfs) > 0:\n        # create a temp view\n        if type(__backend_agg_dfs[0]).__module__ == \"databricks.koalas.frame\":\n            # koalas dataframe\n            __backend_agg_dfs[0].to_spark().createOrReplaceTempView(\"DatabricksView1b38f02\")\n        elif type(__backend_agg_dfs[0]).__module__ == \"pandas.core.frame\" or isinstance(__backend_agg_dfs[0], list):\n            # pandas dataframe\n            spark.createDataFrame(__backend_agg_dfs[0]).createOrReplaceTempView(\"DatabricksView1b38f02\")\n        else:\n            __backend_agg_dfs[0].createOrReplaceTempView(\"DatabricksView1b38f02\")\n        #run backend agg\n        display(spark.sql(\"\"\"WITH q AS (select * from DatabricksView1b38f02) SELECT `NAME_INCOME_TYPE`,SUM(`count(AMT_INCOME_TOTAL)`) `column_e384dbcb45` FROM q GROUP BY `NAME_INCOME_TYPE`\"\"\"))\n    else:\n        displayHTML(\"dataframe no longer exists. If you're using dataframe.display(), use display(dataframe) instead.\")\n\n\nfinally:\n    spark.sql(\"drop view if exists DatabricksView1b38f02\")\n    display = __backend_agg_display_orig\n    del __backend_agg_display_new\n    del __backend_agg_display_orig\n    del __backend_agg_dfs\n    del __backend_agg_user_code_fn\n\n",
       "commandTitle": "Visualization 1",
       "commandType": "auto",
       "commandVersion": 0,
       "commentThread": [],
       "commentsVisible": false,
       "contentSha256Hex": null,
       "customPlotOptions": {
        "redashChart": [
         {
          "key": "type",
          "value": "CHART"
         },
         {
          "key": "options",
          "value": {
           "alignYAxesAtZero": true,
           "coefficient": 1,
           "columnConfigurationMap": {
            "x": {
             "column": "NAME_INCOME_TYPE",
             "id": "column_e384dbcb44"
            },
            "y": [
             {
              "column": "count(AMT_INCOME_TOTAL)",
              "id": "column_e384dbcb45",
              "transform": "SUM"
             }
            ]
           },
           "dateTimeFormat": "DD/MM/YYYY HH:mm",
           "direction": {
            "type": "counterclockwise"
           },
           "error_y": {
            "type": "data",
            "visible": true
           },
           "globalSeriesType": "column",
           "isAggregationOn": true,
           "legend": {
            "traceorder": "normal"
           },
           "missingValuesAsZero": true,
           "numberFormat": "0,0.[00000]",
           "percentFormat": "0[.]00%",
           "series": {
            "error_y": {
             "type": "data",
             "visible": true
            },
            "stacking": null
           },
           "seriesOptions": {
            "column_e384dbcb45": {
             "color": "#3BD973",
             "name": "count(AMT_INCOME_TOTAL)",
             "yAxis": 0
            }
           },
           "showDataLabels": true,
           "sizemode": "diameter",
           "sortX": false,
           "sortY": true,
           "swappedAxes": false,
           "textFormat": "",
           "useAggregationsUi": true,
           "valuesOptions": {},
           "version": 2,
           "xAxis": {
            "labels": {
             "enabled": true
            },
            "type": "-"
           },
           "yAxis": [
            {
             "type": "-"
            },
            {
             "opposite": true,
             "type": "-"
            }
           ]
          }
         }
        ]
       },
       "datasetPreviewNameToCmdIdMap": {},
       "diffDeletes": [],
       "diffInserts": [],
       "displayType": "redashChart",
       "error": null,
       "errorDetails": null,
       "errorSummary": null,
       "errorTraceType": null,
       "finishTime": 0,
       "globalVars": {},
       "guid": "",
       "height": "auto",
       "hideCommandCode": false,
       "hideCommandResult": false,
       "iPythonMetadata": null,
       "inputWidgets": {},
       "isLockedInExamMode": false,
       "latestUser": "a user",
       "latestUserId": null,
       "listResultMetadata": null,
       "metadata": {
        "byteLimit": 2048000,
        "rowLimit": 10000
       },
       "nuid": "263798f7-2148-41b3-876e-3e55dcc632ff",
       "origId": 0,
       "parentHierarchy": [],
       "pivotAggregation": null,
       "pivotColumns": null,
       "position": 48,
       "resultDbfsErrorMessage": null,
       "resultDbfsStatus": "INLINED_IN_TREE",
       "results": null,
       "showCommandTitle": false,
       "startTime": 0,
       "state": "input",
       "streamStates": {},
       "subcommandOptions": {
        "queryPlan": {
         "groups": [
          {
           "column": "NAME_INCOME_TYPE",
           "type": "column"
          }
         ],
         "selects": [
          {
           "column": "NAME_INCOME_TYPE",
           "type": "column"
          },
          {
           "alias": "column_e384dbcb45",
           "args": [
            {
             "column": "count(AMT_INCOME_TOTAL)",
             "type": "column"
            }
           ],
           "function": "SUM",
           "type": "function"
          }
         ]
        }
       },
       "submitTime": 0,
       "subtype": "tableResultSubCmd.visualization",
       "tableResultIndex": 0,
       "useConsistentColors": false,
       "version": "CommandV1",
       "width": "auto",
       "workflows": [],
       "xColumns": null,
       "yColumns": null
      }
     },
     "output_type": "display_data"
    }
   ],
   "source": [
    "c1df = joined_df.groupBy('NAME_INCOME_TYPE') \\\n",
    "    .agg(f.count('AMT_INCOME_TOTAL')) \\\n",
    "    .orderBy('count(AMT_INCOME_TOTAL)',ascending=False)\n",
    "c1df.show()\n",
    "display(c1df)"
   ]
  },
  {
   "cell_type": "markdown",
   "metadata": {},
   "source": [
    "## Different working professionals gets loan approved or refused or canceled"
   ]
  },
  {
   "cell_type": "code",
   "execution_count": null,
   "metadata": {
    "application/vnd.databricks.v1+cell": {
     "cellMetadata": {
      "byteLimit": 2048000,
      "rowLimit": 10000
     },
     "inputWidgets": {},
     "nuid": "a5d5cf45-630a-4f0e-8a9b-119232c76032",
     "showTitle": true,
     "title": "Different working professionals gets loan approved or refused or canceled"
    }
   },
   "outputs": [
    {
     "name": "stdout",
     "output_type": "stream",
     "text": [
      "+--------------------+--------------------+---------------------------+\n",
      "|    NAME_INCOME_TYPE|NAME_CONTRACT_STATUS|count(NAME_CONTRACT_STATUS)|\n",
      "+--------------------+--------------------+---------------------------+\n",
      "|Commercial associate|             Refused|                      51769|\n",
      "|Commercial associate|            Approved|                     180068|\n",
      "|Commercial associate|            Canceled|                      53840|\n",
      "|Commercial associate|        Unused offer|                       4664|\n",
      "|     Maternity leave|            Approved|                         10|\n",
      "|     Maternity leave|             Refused|                          3|\n",
      "|     Maternity leave|            Canceled|                          2|\n",
      "|     Maternity leave|        Unused offer|                          1|\n",
      "|           Pensioner|            Canceled|                      55898|\n",
      "|           Pensioner|             Refused|                      42320|\n",
      "|           Pensioner|            Approved|                     166182|\n",
      "|           Pensioner|        Unused offer|                       1886|\n",
      "|       State servant|            Canceled|                      14522|\n",
      "|       State servant|             Refused|                      14509|\n",
      "|       State servant|            Approved|                      57606|\n",
      "|       State servant|        Unused offer|                       1450|\n",
      "|             Student|            Approved|                         20|\n",
      "|             Student|            Canceled|                          3|\n",
      "|             Student|             Refused|                          1|\n",
      "|          Unemployed|             Refused|                         38|\n",
      "+--------------------+--------------------+---------------------------+\n",
      "only showing top 20 rows\n",
      "\n"
     ]
    },
    {
     "data": {
      "text/html": [
       "<style scoped>\n",
       "  .table-result-container {\n",
       "    max-height: 300px;\n",
       "    overflow: auto;\n",
       "  }\n",
       "  table, th, td {\n",
       "    border: 1px solid black;\n",
       "    border-collapse: collapse;\n",
       "  }\n",
       "  th, td {\n",
       "    padding: 5px;\n",
       "  }\n",
       "  th {\n",
       "    text-align: left;\n",
       "  }\n",
       "</style><div class='table-result-container'><table class='table-result'><thead style='background-color: white'><tr><th>NAME_INCOME_TYPE</th><th>NAME_CONTRACT_STATUS</th><th>count(NAME_CONTRACT_STATUS)</th></tr></thead><tbody><tr><td>Commercial associate</td><td>Refused</td><td>51769</td></tr><tr><td>Commercial associate</td><td>Approved</td><td>180068</td></tr><tr><td>Commercial associate</td><td>Canceled</td><td>53840</td></tr><tr><td>Commercial associate</td><td>Unused offer</td><td>4664</td></tr><tr><td>Maternity leave</td><td>Approved</td><td>10</td></tr><tr><td>Maternity leave</td><td>Refused</td><td>3</td></tr><tr><td>Maternity leave</td><td>Canceled</td><td>2</td></tr><tr><td>Maternity leave</td><td>Unused offer</td><td>1</td></tr><tr><td>Pensioner</td><td>Canceled</td><td>55898</td></tr><tr><td>Pensioner</td><td>Refused</td><td>42320</td></tr><tr><td>Pensioner</td><td>Approved</td><td>166182</td></tr><tr><td>Pensioner</td><td>Unused offer</td><td>1886</td></tr><tr><td>State servant</td><td>Canceled</td><td>14522</td></tr><tr><td>State servant</td><td>Refused</td><td>14509</td></tr><tr><td>State servant</td><td>Approved</td><td>57606</td></tr><tr><td>State servant</td><td>Unused offer</td><td>1450</td></tr><tr><td>Student</td><td>Approved</td><td>20</td></tr><tr><td>Student</td><td>Canceled</td><td>3</td></tr><tr><td>Student</td><td>Refused</td><td>1</td></tr><tr><td>Unemployed</td><td>Refused</td><td>38</td></tr><tr><td>Unemployed</td><td>Approved</td><td>68</td></tr><tr><td>Unemployed</td><td>Canceled</td><td>16</td></tr><tr><td>Unemployed</td><td>Unused offer</td><td>1</td></tr><tr><td>Working</td><td>Refused</td><td>122002</td></tr><tr><td>Working</td><td>Canceled</td><td>120669</td></tr><tr><td>Working</td><td>Approved</td><td>438028</td></tr><tr><td>Working</td><td>Unused offer</td><td>13710</td></tr></tbody></table></div>"
      ]
     },
     "metadata": {
      "application/vnd.databricks.v1+output": {
       "addedWidgets": {},
       "aggData": [],
       "aggError": "",
       "aggOverflow": false,
       "aggSchema": [],
       "aggSeriesLimitReached": false,
       "aggType": "",
       "arguments": {},
       "columnCustomDisplayInfos": {},
       "data": [
        [
         "Commercial associate",
         "Refused",
         51769
        ],
        [
         "Commercial associate",
         "Approved",
         180068
        ],
        [
         "Commercial associate",
         "Canceled",
         53840
        ],
        [
         "Commercial associate",
         "Unused offer",
         4664
        ],
        [
         "Maternity leave",
         "Approved",
         10
        ],
        [
         "Maternity leave",
         "Refused",
         3
        ],
        [
         "Maternity leave",
         "Canceled",
         2
        ],
        [
         "Maternity leave",
         "Unused offer",
         1
        ],
        [
         "Pensioner",
         "Canceled",
         55898
        ],
        [
         "Pensioner",
         "Refused",
         42320
        ],
        [
         "Pensioner",
         "Approved",
         166182
        ],
        [
         "Pensioner",
         "Unused offer",
         1886
        ],
        [
         "State servant",
         "Canceled",
         14522
        ],
        [
         "State servant",
         "Refused",
         14509
        ],
        [
         "State servant",
         "Approved",
         57606
        ],
        [
         "State servant",
         "Unused offer",
         1450
        ],
        [
         "Student",
         "Approved",
         20
        ],
        [
         "Student",
         "Canceled",
         3
        ],
        [
         "Student",
         "Refused",
         1
        ],
        [
         "Unemployed",
         "Refused",
         38
        ],
        [
         "Unemployed",
         "Approved",
         68
        ],
        [
         "Unemployed",
         "Canceled",
         16
        ],
        [
         "Unemployed",
         "Unused offer",
         1
        ],
        [
         "Working",
         "Refused",
         122002
        ],
        [
         "Working",
         "Canceled",
         120669
        ],
        [
         "Working",
         "Approved",
         438028
        ],
        [
         "Working",
         "Unused offer",
         13710
        ]
       ],
       "datasetInfos": [],
       "dbfsResultPath": null,
       "isJsonSchema": true,
       "metadata": {},
       "overflow": false,
       "plotOptions": {
        "customPlotOptions": {},
        "displayType": "table",
        "pivotAggregation": null,
        "pivotColumns": null,
        "xColumns": null,
        "yColumns": null
       },
       "removedWidgets": [],
       "schema": [
        {
         "metadata": "{}",
         "name": "NAME_INCOME_TYPE",
         "type": "\"string\""
        },
        {
         "metadata": "{}",
         "name": "NAME_CONTRACT_STATUS",
         "type": "\"string\""
        },
        {
         "metadata": "{}",
         "name": "count(NAME_CONTRACT_STATUS)",
         "type": "\"long\""
        }
       ],
       "type": "table"
      }
     },
     "output_type": "display_data"
    },
    {
     "data": {
      "text/plain": [
       "Databricks visualization. Run in Databricks to view."
      ]
     },
     "metadata": {
      "application/vnd.databricks.v1.subcommand+json": {
       "bindings": {},
       "collapsed": false,
       "command": "%python\n__backend_agg_display_orig = display\n__backend_agg_dfs = []\ndef __backend_agg_display_new(df):\n    __backend_agg_df_modules = [\"pandas.core.frame\", \"databricks.koalas.frame\", \"pyspark.sql.dataframe\", \"pyspark.pandas.frame\", \"pyspark.sql.connect.dataframe\"]\n    if (type(df).__module__ in __backend_agg_df_modules and type(df).__name__ == 'DataFrame') or isinstance(df, list):\n        __backend_agg_dfs.append(df)\n\ndisplay = __backend_agg_display_new\n\ndef __backend_agg_user_code_fn():\n    import base64\n    exec(base64.standard_b64decode(\"d2RmID0gam9pbmVkX2RmLmdyb3VwQnkoJ05BTUVfSU5DT01FX1RZUEUnLCdOQU1FX0NPTlRSQUNUX1NUQVRVUycpIFwKICAgIC5hZ2coZi5jb3VudCgnTkFNRV9DT05UUkFDVF9TVEFUVVMnKSkgXAogICAgLm9yZGVyQnkoJ05BTUVfSU5DT01FX1RZUEUnKQp3ZGYuc2hvdygpCmRpc3BsYXkod2RmKQ==\").decode())\n\ntry:\n    # run user code\n    __backend_agg_user_code_fn()\n\n    #reset display function\n    display = __backend_agg_display_orig\n\n    if len(__backend_agg_dfs) > 0:\n        # create a temp view\n        if type(__backend_agg_dfs[0]).__module__ == \"databricks.koalas.frame\":\n            # koalas dataframe\n            __backend_agg_dfs[0].to_spark().createOrReplaceTempView(\"DatabricksViewc835889\")\n        elif type(__backend_agg_dfs[0]).__module__ == \"pandas.core.frame\" or isinstance(__backend_agg_dfs[0], list):\n            # pandas dataframe\n            spark.createDataFrame(__backend_agg_dfs[0]).createOrReplaceTempView(\"DatabricksViewc835889\")\n        else:\n            __backend_agg_dfs[0].createOrReplaceTempView(\"DatabricksViewc835889\")\n        #run backend agg\n        display(spark.sql(\"\"\"WITH q AS (select * from DatabricksViewc835889) SELECT `NAME_INCOME_TYPE`,`NAME_CONTRACT_STATUS`,SUM(`count(NAME_CONTRACT_STATUS)`) `column_e384dbcb48` FROM q GROUP BY `NAME_CONTRACT_STATUS`,`NAME_INCOME_TYPE`\"\"\"))\n    else:\n        displayHTML(\"dataframe no longer exists. If you're using dataframe.display(), use display(dataframe) instead.\")\n\n\nfinally:\n    spark.sql(\"drop view if exists DatabricksViewc835889\")\n    display = __backend_agg_display_orig\n    del __backend_agg_display_new\n    del __backend_agg_display_orig\n    del __backend_agg_dfs\n    del __backend_agg_user_code_fn\n\n",
       "commandTitle": "Visualization 1",
       "commandType": "auto",
       "commandVersion": 0,
       "commentThread": [],
       "commentsVisible": false,
       "contentSha256Hex": null,
       "customPlotOptions": {
        "redashChart": [
         {
          "key": "type",
          "value": "CHART"
         },
         {
          "key": "options",
          "value": {
           "alignYAxesAtZero": true,
           "coefficient": 1,
           "columnConfigurationMap": {
            "series": {
             "column": "NAME_CONTRACT_STATUS",
             "id": "column_e384dbcb47"
            },
            "x": {
             "column": "NAME_INCOME_TYPE",
             "id": "column_e384dbcb46"
            },
            "y": [
             {
              "column": "count(NAME_CONTRACT_STATUS)",
              "id": "column_e384dbcb48",
              "transform": "SUM"
             }
            ]
           },
           "dateTimeFormat": "DD/MM/YYYY HH:mm",
           "direction": {
            "type": "counterclockwise"
           },
           "error_y": {
            "type": "data",
            "visible": true
           },
           "globalSeriesType": "column",
           "isAggregationOn": true,
           "legend": {
            "traceorder": "normal"
           },
           "missingValuesAsZero": true,
           "numberFormat": "0,0.[00000]",
           "percentFormat": "0[.]00%",
           "series": {
            "error_y": {
             "type": "data",
             "visible": true
            },
            "stacking": ""
           },
           "seriesOptions": {
            "column_e384dbcb48": {
             "name": "count(NAME_CONTRACT_STATUS)",
             "yAxis": 0
            }
           },
           "showDataLabels": true,
           "sizemode": "diameter",
           "sortX": true,
           "sortY": true,
           "swappedAxes": false,
           "textFormat": "",
           "useAggregationsUi": true,
           "valuesOptions": {},
           "version": 2,
           "xAxis": {
            "labels": {
             "enabled": true
            },
            "type": "-"
           },
           "yAxis": [
            {
             "type": "-"
            },
            {
             "opposite": true,
             "type": "-"
            }
           ]
          }
         }
        ]
       },
       "datasetPreviewNameToCmdIdMap": {},
       "diffDeletes": [],
       "diffInserts": [],
       "displayType": "redashChart",
       "error": null,
       "errorDetails": null,
       "errorSummary": null,
       "errorTraceType": null,
       "finishTime": 0,
       "globalVars": {},
       "guid": "",
       "height": "auto",
       "hideCommandCode": false,
       "hideCommandResult": false,
       "iPythonMetadata": null,
       "inputWidgets": {},
       "isLockedInExamMode": false,
       "latestUser": "a user",
       "latestUserId": null,
       "listResultMetadata": null,
       "metadata": {
        "byteLimit": 2048000,
        "rowLimit": 10000
       },
       "nuid": "abe3ca7e-b6e1-4e69-abd9-e0cd4e543c47",
       "origId": 0,
       "parentHierarchy": [],
       "pivotAggregation": null,
       "pivotColumns": null,
       "position": 49,
       "resultDbfsErrorMessage": null,
       "resultDbfsStatus": "INLINED_IN_TREE",
       "results": null,
       "showCommandTitle": false,
       "startTime": 0,
       "state": "input",
       "streamStates": {},
       "subcommandOptions": {
        "queryPlan": {
         "groups": [
          {
           "column": "NAME_INCOME_TYPE",
           "type": "column"
          },
          {
           "column": "NAME_CONTRACT_STATUS",
           "type": "column"
          }
         ],
         "selects": [
          {
           "column": "NAME_INCOME_TYPE",
           "type": "column"
          },
          {
           "column": "NAME_CONTRACT_STATUS",
           "type": "column"
          },
          {
           "alias": "column_e384dbcb48",
           "args": [
            {
             "column": "count(NAME_CONTRACT_STATUS)",
             "type": "column"
            }
           ],
           "function": "SUM",
           "type": "function"
          }
         ]
        }
       },
       "submitTime": 0,
       "subtype": "tableResultSubCmd.visualization",
       "tableResultIndex": 0,
       "useConsistentColors": false,
       "version": "CommandV1",
       "width": "auto",
       "workflows": [],
       "xColumns": null,
       "yColumns": null
      }
     },
     "output_type": "display_data"
    }
   ],
   "source": [
    "wdf = joined_df.groupBy('NAME_INCOME_TYPE','NAME_CONTRACT_STATUS') \\\n",
    "    .agg(f.count('NAME_CONTRACT_STATUS')) \\\n",
    "    .orderBy('NAME_INCOME_TYPE')\n",
    "wdf.show()\n",
    "display(wdf)"
   ]
  },
  {
   "cell_type": "code",
   "execution_count": null,
   "metadata": {
    "application/vnd.databricks.v1+cell": {
     "cellMetadata": {
      "byteLimit": 2048000,
      "rowLimit": 10000
     },
     "inputWidgets": {},
     "nuid": "1ca1834e-5b87-410d-8365-52ebbe9121e6",
     "showTitle": false,
     "title": ""
    }
   },
   "outputs": [],
   "source": []
  }
 ],
 "metadata": {
  "application/vnd.databricks.v1+notebook": {
   "dashboards": [],
   "language": "python",
   "notebookMetadata": {
    "pythonIndentUnit": 4
   },
   "notebookName": "Pyspark CreditEDA Analysis",
   "widgets": {
    "contract": {
     "currentValue": "Cash loans",
     "nuid": "88d6f257-660e-4065-9325-82f25f5352f6",
     "widgetInfo": {
      "defaultValue": "",
      "label": "Choose loan_Type",
      "name": "contract",
      "options": {
       "autoCreated": null,
       "choices": [
        "Cash loans",
        "Revolving loans"
       ],
       "widgetType": "dropdown"
      },
      "widgetType": "combobox"
     }
    },
    "family": {
     "currentValue": "Married",
     "nuid": "728d3f61-48de-4726-a369-1ed9d88bd50a",
     "widgetInfo": {
      "defaultValue": "",
      "label": "Choose Family_status",
      "name": "family",
      "options": {
       "autoCreated": null,
       "choices": [
        "Civil marriage",
        "Married",
        "Separated",
        "Single / not married",
        "Widow"
       ],
       "widgetType": "dropdown"
      },
      "widgetType": "combobox"
     }
    },
    "max": {
     "currentValue": "325000",
     "nuid": "49fe272f-08dc-49d4-85a0-a4317e08bb9f",
     "widgetInfo": {
      "defaultValue": "",
      "label": null,
      "name": "max",
      "options": {
       "autoCreated": null,
       "validationRegex": null,
       "widgetType": "text"
      },
      "widgetType": "text"
     }
    },
    "min": {
     "currentValue": "100000",
     "nuid": "91d735e4-79a7-43f6-b523-c66561ee7c6f",
     "widgetInfo": {
      "defaultValue": "",
      "label": null,
      "name": "min",
      "options": {
       "autoCreated": null,
       "validationRegex": null,
       "widgetType": "text"
      },
      "widgetType": "text"
     }
    }
   }
  },
  "language_info": {
   "name": "python"
  }
 },
 "nbformat": 4,
 "nbformat_minor": 0
}
